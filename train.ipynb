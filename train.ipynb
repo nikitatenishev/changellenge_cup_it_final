{
 "cells": [
  {
   "cell_type": "markdown",
   "id": "5057e22c",
   "metadata": {},
   "source": [
    "Загрузим необходимый функционал"
   ]
  },
  {
   "cell_type": "code",
   "execution_count": 1,
   "id": "b7344383",
   "metadata": {},
   "outputs": [],
   "source": [
    "import os\n",
    "import gc\n",
    "import json\n",
    "import joblib\n",
    "import warnings\n",
    "from enum import Enum\n",
    "\n",
    "import scipy\n",
    "import optuna\n",
    "import implicit\n",
    "import numpy as np\n",
    "import pandas as pd\n",
    "from src import utils\n",
    "import seaborn as sns\n",
    "from tqdm import notebook\n",
    "import matplotlib.pyplot as plt\n",
    "from xgboost import XGBClassifier\n",
    "from lightgbm import LGBMClassifier\n",
    "from catboost import CatBoostClassifier\n",
    "from imblearn.over_sampling import SMOTE\n",
    "from sklearn.tree import DecisionTreeClassifier\n",
    "from sklearn.linear_model import LogisticRegression\n",
    "from sklearn.ensemble import RandomForestClassifier\n",
    "from sklearn.model_selection import train_test_split, StratifiedKFold\n",
    "from sklearn.metrics import f1_score, precision_score, roc_auc_score, recall_score\n",
    "\n",
    "warnings.filterwarnings(\"ignore\")"
   ]
  },
  {
   "cell_type": "markdown",
   "id": "09f04bae",
   "metadata": {},
   "source": [
    "Определим пути до файлов"
   ]
  },
  {
   "cell_type": "code",
   "execution_count": 2,
   "id": "199dbe1b",
   "metadata": {},
   "outputs": [],
   "source": [
    "class Paths(Enum):\n",
    "    account_cols = \"auxiliary/account_cols.txt\"\n",
    "    credit_cols = \"auxiliary/credit_cols.txt\"\n",
    "    income_cols = \"auxiliary/income_cols.txt\"\n",
    "    info_cols = \"auxiliary/info_cols.txt\"\n",
    "    transactions_cols = \"auxiliary/transactions_cols.txt\"\n",
    "    train_last = \"data/train_last_v3.csv\""
   ]
  },
  {
   "cell_type": "markdown",
   "id": "ba17f27b",
   "metadata": {},
   "source": [
    "Загрузим данные тренировочного набора, в которых уже имеется таргет, логика сбора которого описана в EDA"
   ]
  },
  {
   "cell_type": "code",
   "execution_count": 3,
   "id": "08cc84e2",
   "metadata": {},
   "outputs": [],
   "source": [
    "train = pd.read_csv(Paths.train_last.value)"
   ]
  },
  {
   "cell_type": "markdown",
   "id": "67477484",
   "metadata": {},
   "source": [
    "Проверим, а не ли часом пропусков по таргету"
   ]
  },
  {
   "cell_type": "code",
   "execution_count": 4,
   "id": "58dd7ade",
   "metadata": {},
   "outputs": [
    {
     "data": {
      "text/plain": [
       "3132"
      ]
     },
     "execution_count": 4,
     "metadata": {},
     "output_type": "execute_result"
    }
   ],
   "source": [
    "train[\"target\"].isna().sum()"
   ]
  },
  {
   "cell_type": "markdown",
   "id": "732698b9",
   "metadata": {},
   "source": [
    "Пропуски есть; удалим их и реиндексируем датасет"
   ]
  },
  {
   "cell_type": "code",
   "execution_count": 5,
   "id": "2397ae6f",
   "metadata": {},
   "outputs": [
    {
     "data": {
      "text/plain": [
       "(288747, 295)"
      ]
     },
     "execution_count": 5,
     "metadata": {},
     "output_type": "execute_result"
    }
   ],
   "source": [
    "train.drop(\n",
    "    train.loc[train[\"target\"].isna()].index,\n",
    "    axis=0,\n",
    "    inplace=True\n",
    ")\n",
    "train.reset_index(drop=True, inplace=True)\n",
    "\n",
    "gc.collect();\n",
    "\n",
    "train.shape"
   ]
  },
  {
   "cell_type": "markdown",
   "id": "9a08e0ad",
   "metadata": {},
   "source": [
    "Выполним приведение типов, чтобы сократить потребеление памяти"
   ]
  },
  {
   "cell_type": "code",
   "execution_count": 6,
   "id": "a28deabc",
   "metadata": {},
   "outputs": [
    {
     "name": "stdout",
     "output_type": "stream",
     "text": [
      "[было]: 649.875 Мб\n",
      "[стало]: 260.978 Мб\n",
      "[оптимизировано]: 59.842 %\n"
     ]
    }
   ],
   "source": [
    "train = utils.reduce_mem_usage(train)"
   ]
  },
  {
   "cell_type": "markdown",
   "id": "ce2ed4d7",
   "metadata": {},
   "source": [
    "В данных содержится отчётная дата сбора данных и дата выдачи карты, чтобы не \"таскать\" с собой эти признаки, удалим их, т.к. в контексте данного набора данных они не нужен. В общем и целом, дату можно было распарсить и вытащить оттуда следующие фичи:\n",
    " - день недели;\n",
    " - номер месяца;\n",
    " - номер недели;\n",
    " - год;\n",
    " - определить, является ли день недели выходным;\n",
    " - определить, является ли дата праздничным днём\n",
    " \n",
    "Также удалим и айди клиента, т.к. этот признак не будет участвовать в обучении модели\n",
    " \n",
    "Дополнительно удаляем признак \"clientoutflowstatus\", т.к. эта фича является в нашем решении вторым таргетом - для моделирования оттока клиентов"
   ]
  },
  {
   "cell_type": "code",
   "execution_count": 7,
   "id": "972f70f4",
   "metadata": {},
   "outputs": [],
   "source": [
    "train.drop(\n",
    "    [\"dt\", \"cardapp_date\", \"client_id\", \"clientoutflowstatus\"],\n",
    "    axis=1,\n",
    "    inplace=True\n",
    ")\n",
    "gc.collect();"
   ]
  },
  {
   "cell_type": "markdown",
   "id": "9b1998f9",
   "metadata": {},
   "source": [
    "Для работы с сырыми данными необходимо обработать номинативные переменные.  \n",
    "В качестве исходного кодирования возьмём onehot encoding. Ранги ставить будет неправильно, т.к. на множестве номинативных переменных не заданы операции сравнения  \n",
    "Определим для начала все такие фичи"
   ]
  },
  {
   "cell_type": "code",
   "execution_count": 8,
   "id": "cca1fe20",
   "metadata": {},
   "outputs": [
    {
     "name": "stdout",
     "output_type": "stream",
     "text": [
      "7\n",
      "country stratsegfactor srvpackage clientsegment gender addrref hdb_relend_client_credits_count_grade\n"
     ]
    }
   ],
   "source": [
    "cat_features = [\n",
    "    col\n",
    "    for col in list(train)\n",
    "    if not str(train[col].dtype).startswith(\"float\")\n",
    "]\n",
    "print(len(cat_features))\n",
    "print(*cat_features)"
   ]
  },
  {
   "cell_type": "markdown",
   "id": "e686ff61",
   "metadata": {},
   "source": [
    "Проверим, имеются ли пропуски в данных по эти признакам"
   ]
  },
  {
   "cell_type": "code",
   "execution_count": 9,
   "id": "2f8ada57",
   "metadata": {},
   "outputs": [
    {
     "data": {
      "text/plain": [
       "country                                       0\n",
       "stratsegfactor                            87210\n",
       "srvpackage                                70120\n",
       "clientsegment                             76358\n",
       "gender                                    70076\n",
       "addrref                                   78567\n",
       "hdb_relend_client_credits_count_grade    174566\n",
       "dtype: int64"
      ]
     },
     "execution_count": 9,
     "metadata": {},
     "output_type": "execute_result"
    }
   ],
   "source": [
    "train[cat_features].isna().sum()"
   ]
  },
  {
   "cell_type": "markdown",
   "id": "a609fc35",
   "metadata": {},
   "source": [
    "Пропусков очень много.  \n",
    "Исходной стратегией работы с пропусками для номинативных переменных будет заполнение пропусков модой по столбцу, а для количественных переменных - заполнение нулями"
   ]
  },
  {
   "cell_type": "code",
   "execution_count": 10,
   "id": "053772e7",
   "metadata": {},
   "outputs": [
    {
     "data": {
      "text/plain": [
       "0"
      ]
     },
     "execution_count": 10,
     "metadata": {},
     "output_type": "execute_result"
    }
   ],
   "source": [
    "for col in cat_features:\n",
    "    train[col].fillna(train[col].mode()[0], inplace=True)\n",
    "    \n",
    "train[cat_features].isna().sum().sum()"
   ]
  },
  {
   "cell_type": "markdown",
   "id": "8aa10c22",
   "metadata": {},
   "source": [
    "Теперь перейдём к onehot, но отдельно сохраним признак - \"пакет услуг клиента\"; он нам позже понадобится"
   ]
  },
  {
   "cell_type": "code",
   "execution_count": 11,
   "id": "d00b72bd",
   "metadata": {},
   "outputs": [
    {
     "data": {
      "text/plain": [
       "(288747, 355)"
      ]
     },
     "execution_count": 11,
     "metadata": {},
     "output_type": "execute_result"
    }
   ],
   "source": [
    "srvpackage_vals = train[\"srvpackage\"]\n",
    "train = pd.get_dummies(data=train, columns=cat_features, drop_first=True, dtype=np.uint8)\n",
    "train.shape"
   ]
  },
  {
   "cell_type": "markdown",
   "id": "a849d40d",
   "metadata": {},
   "source": [
    "Выделим количественные признаки и заполним пропуски"
   ]
  },
  {
   "cell_type": "code",
   "execution_count": 12,
   "id": "249fd931",
   "metadata": {},
   "outputs": [
    {
     "data": {
      "text/plain": [
       "283"
      ]
     },
     "execution_count": 12,
     "metadata": {},
     "output_type": "execute_result"
    }
   ],
   "source": [
    "quant_features = [\n",
    "    col\n",
    "    for col in list(train)\n",
    "    if str(train[col].dtype).startswith(\"float\")\n",
    "]\n",
    "quant_features.remove(\"target\")\n",
    "len(quant_features)"
   ]
  },
  {
   "cell_type": "code",
   "execution_count": 13,
   "id": "68b82344",
   "metadata": {},
   "outputs": [
    {
     "data": {
      "application/vnd.jupyter.widget-view+json": {
       "model_id": "05d1ae348d95401894581445e3ba27b4",
       "version_major": 2,
       "version_minor": 0
      },
      "text/plain": [
       "  0%|          | 0/283 [00:00<?, ?it/s]"
      ]
     },
     "metadata": {},
     "output_type": "display_data"
    }
   ],
   "source": [
    "for col in notebook.tqdm(quant_features):\n",
    "    train[col].fillna(0.0, inplace=True)"
   ]
  },
  {
   "cell_type": "markdown",
   "id": "2b1aaf39",
   "metadata": {},
   "source": [
    "Сделаем чекап пропусков в данных"
   ]
  },
  {
   "cell_type": "code",
   "execution_count": 14,
   "id": "32e4db12",
   "metadata": {},
   "outputs": [
    {
     "data": {
      "text/plain": [
       "0"
      ]
     },
     "execution_count": 14,
     "metadata": {},
     "output_type": "execute_result"
    }
   ],
   "source": [
    "train[quant_features].isna().sum().sum()"
   ]
  },
  {
   "cell_type": "markdown",
   "id": "9c5146fe",
   "metadata": {},
   "source": [
    "Отлично; теперь пропусков в данных нет.  \n",
    "Проверим, какие типы данных присутствуют в датасете"
   ]
  },
  {
   "cell_type": "code",
   "execution_count": 15,
   "id": "11580063",
   "metadata": {},
   "outputs": [
    {
     "data": {
      "text/plain": [
       "float32    164\n",
       "float16    120\n",
       "uint8       71\n",
       "dtype: int64"
      ]
     },
     "execution_count": 15,
     "metadata": {},
     "output_type": "execute_result"
    }
   ],
   "source": [
    "train.dtypes.value_counts()"
   ]
  },
  {
   "cell_type": "markdown",
   "id": "caf1049c",
   "metadata": {},
   "source": [
    "Прекрасно. Категориальных переменных в датасете не осталось"
   ]
  },
  {
   "cell_type": "markdown",
   "id": "abb486c9",
   "metadata": {},
   "source": [
    "Датасет несбалансированный, поэтому необходимы подходы для работы:\n",
    "1) использовать алгоритмы upsampling данных, например, SMOTE;\n",
    "2) использовать алгоритмы downsampling данных: из исходных данных тянуть выборки с одинаковым соотношением целевых меток"
   ]
  },
  {
   "cell_type": "markdown",
   "id": "58819f39",
   "metadata": {},
   "source": [
    "Используем второй подход в качестве исходного и сэмплируем 10 выборок с негативным классом, объёмом равным объёму датасета с положительным классом"
   ]
  },
  {
   "cell_type": "code",
   "execution_count": 16,
   "id": "978fb6b3",
   "metadata": {},
   "outputs": [
    {
     "data": {
      "application/vnd.jupyter.widget-view+json": {
       "model_id": "f6f06f14ff5047c4bb5ff969c4f39435",
       "version_major": 2,
       "version_minor": 0
      },
      "text/plain": [
       "  0%|          | 0/10 [00:00<?, ?it/s]"
      ]
     },
     "metadata": {},
     "output_type": "display_data"
    },
    {
     "name": "stdout",
     "output_type": "stream",
     "text": [
      "объём одного датасета равен 97434\n"
     ]
    }
   ],
   "source": [
    "np.random.seed(11)\n",
    "\n",
    "amout_of_pos = train[\"target\"].value_counts().loc[1]\n",
    "\n",
    "dfs = [\n",
    "    pd.concat([\n",
    "        train[train[\"target\"] == 0].sample(amout_of_pos),\n",
    "        train[train[\"target\"] == 1]\n",
    "    ]).reset_index(drop=True)\n",
    "    for _ in notebook.tqdm(range(10))\n",
    "]\n",
    "\n",
    "del amout_of_pos\n",
    "gc.collect();\n",
    "\n",
    "print(f\"объём одного датасета равен {dfs[0].shape[0]}\")"
   ]
  },
  {
   "cell_type": "markdown",
   "id": "9cc4ab85",
   "metadata": {},
   "source": [
    "Перейдём к выбору модели. В качестве рассматриваемых моделей возьмём алгоритмы линейного, \"деревянного\" и бустинговых семейств:\n",
    " - логистическая регрессия;\n",
    " - дерево решений;\n",
    " - случайный лес;\n",
    " - градиентный бустинг реализаций от Яндекса, Microsoft и XGBoost.\n",
    "\n",
    "Для LGBMClassifier добавим параметр force_col_wise, чтобы ускорить процесс обучения модели за счёт уменьшения кол-ва используемой памяти.\n",
    "\n",
    "На начале все алгоритмы будут представлены с дефолтными параметрами.  \n",
    "Перформанс модели будем оценивать по совокупности метрик:\n",
    "- f1;\n",
    "- roc-auc;\n",
    "- recall;\n",
    "- precision\n",
    "\n",
    "Для валидации будем использовать 10 фолдовую валидацию со стратификацией"
   ]
  },
  {
   "cell_type": "markdown",
   "id": "b5e81367",
   "metadata": {},
   "source": [
    "Определим модели и настроим валидацию"
   ]
  },
  {
   "cell_type": "code",
   "execution_count": 17,
   "id": "e3192ac2",
   "metadata": {},
   "outputs": [],
   "source": [
    "clfs = [\n",
    "    (\"lr\", LogisticRegression(random_state=11, n_jobs=-1)),\n",
    "    (\"dt\", DecisionTreeClassifier(random_state=11)),\n",
    "    (\"rf\", RandomForestClassifier(random_state=11)),\n",
    "    (\"cb\", CatBoostClassifier(random_seed=11, verbose=0, task_type=\"GPU\")),\n",
    "    (\"xgb\", XGBClassifier(random_state=11)),\n",
    "    (\"lgbm\", LGBMClassifier(random_state=11, force_col_wise=True, verbose=-1))\n",
    "]\n",
    "\n",
    "kfold = StratifiedKFold(n_splits=10, shuffle=True, random_state=11)"
   ]
  },
  {
   "cell_type": "markdown",
   "id": "2f8a4a56",
   "metadata": {},
   "source": [
    "Селект модели будем производить по ф-мере, т.к. если учитывать всю совокупность метрик, то получим довольно-таки тяжёлое по времени решение ($O(m*c*n^2)$ - цикл, который проходится по совокупность метрик (m = 4), цикл, который проходится по классификаторам (c = 6), цикл, который проходится по сэмплированным датасетам (n = 10), и цикл, который проходится по фолдам (n = 10))\n",
    "\n",
    "Перейдём к обучению классификаторов"
   ]
  },
  {
   "cell_type": "code",
   "execution_count": 18,
   "id": "28861ca6",
   "metadata": {
    "scrolled": true
   },
   "outputs": [
    {
     "data": {
      "application/vnd.jupyter.widget-view+json": {
       "model_id": "8a7a5c0efd6c481bb1e993f46ff9f3b5",
       "version_major": 2,
       "version_minor": 0
      },
      "text/plain": [
       "  0%|          | 0/6 [00:00<?, ?it/s]"
      ]
     },
     "metadata": {},
     "output_type": "display_data"
    },
    {
     "data": {
      "application/vnd.jupyter.widget-view+json": {
       "model_id": "400e7102a76641baa860c2ff3566eb04",
       "version_major": 2,
       "version_minor": 0
      },
      "text/plain": [
       "  0%|          | 0/10 [00:00<?, ?it/s]"
      ]
     },
     "metadata": {},
     "output_type": "display_data"
    },
    {
     "data": {
      "application/vnd.jupyter.widget-view+json": {
       "model_id": "93c86d936d52436bb85918f8787c2395",
       "version_major": 2,
       "version_minor": 0
      },
      "text/plain": [
       "  0%|          | 0/10 [00:00<?, ?it/s]"
      ]
     },
     "metadata": {},
     "output_type": "display_data"
    },
    {
     "data": {
      "application/vnd.jupyter.widget-view+json": {
       "model_id": "64bfaec97a93402f8fc33e1478d4d442",
       "version_major": 2,
       "version_minor": 0
      },
      "text/plain": [
       "  0%|          | 0/10 [00:00<?, ?it/s]"
      ]
     },
     "metadata": {},
     "output_type": "display_data"
    },
    {
     "data": {
      "application/vnd.jupyter.widget-view+json": {
       "model_id": "eb79d36af5b14ebdaae033d8f4d6cb05",
       "version_major": 2,
       "version_minor": 0
      },
      "text/plain": [
       "  0%|          | 0/10 [00:00<?, ?it/s]"
      ]
     },
     "metadata": {},
     "output_type": "display_data"
    },
    {
     "data": {
      "application/vnd.jupyter.widget-view+json": {
       "model_id": "a7e0d1e05fcb4cd5a95b70f0c8b72b6f",
       "version_major": 2,
       "version_minor": 0
      },
      "text/plain": [
       "  0%|          | 0/10 [00:00<?, ?it/s]"
      ]
     },
     "metadata": {},
     "output_type": "display_data"
    },
    {
     "data": {
      "application/vnd.jupyter.widget-view+json": {
       "model_id": "f7bd339444274f33ad0f3759008ee8af",
       "version_major": 2,
       "version_minor": 0
      },
      "text/plain": [
       "  0%|          | 0/10 [00:00<?, ?it/s]"
      ]
     },
     "metadata": {},
     "output_type": "display_data"
    }
   ],
   "source": [
    "np.random.seed(11)\n",
    "\n",
    "cols = list(train)\n",
    "cols.remove(\"target\")\n",
    "\n",
    "res = dict()\n",
    "for val in notebook.tqdm(clfs):\n",
    "    clf = val[1]\n",
    "    scores = []\n",
    "    \n",
    "    for df in notebook.tqdm(dfs):\n",
    "        y, x = df[\"target\"], df[cols]\n",
    "        tmp_scores = []\n",
    "        \n",
    "        for train_idx, val_idx in kfold.split(x, y):\n",
    "            x_train, x_val = x.loc[train_idx], x.loc[val_idx]\n",
    "            y_train, y_val = y[train_idx], y[val_idx]\n",
    "            \n",
    "            clf.fit(x_train, y_train)\n",
    "            tmp_scores.append(\n",
    "                round(f1_score(y_val, clf.predict(x_val), average=\"binary\"), 7)\n",
    "            )\n",
    "            \n",
    "        scores += [\n",
    "            min(tmp_scores),\n",
    "            max(tmp_scores),\n",
    "            np.mean(tmp_scores)\n",
    "        ]\n",
    "        \n",
    "    res[val[0]] = scores\n",
    "    joblib.dump(clf, f\"models/{val[0]}_downsampled.pkl\")"
   ]
  },
  {
   "cell_type": "markdown",
   "id": "a6de4ffc",
   "metadata": {},
   "source": [
    "Т.к. на обучение всех моделей потребовалось немало времени, то сохраним результаты (значения метрик и время обучения) и визуализируем их (разумеется, кроме времени)"
   ]
  },
  {
   "cell_type": "code",
   "execution_count": 19,
   "id": "e1634d30",
   "metadata": {},
   "outputs": [],
   "source": [
    "with open(\"res_json.json\", 'w') as file:\n",
    "    json.dump(res, file)\n",
    "    \n",
    "time_res = {\n",
    "    \"lr\": 12 * 60 + 19,\n",
    "    \"dt\": 33 * 60 + 11,\n",
    "    \"rf\": 96 * 60 + 2,\n",
    "    \"cb\": 26 * 60 + 46,\n",
    "    \"xgb\": 50 * 60 + 30,\n",
    "    \"lgbm\": 6 * 60 + 44,\n",
    "}\n",
    "\n",
    "with open(\"time_res_json.json\", 'w') as file:\n",
    "    json.dump(time_res, file)"
   ]
  },
  {
   "cell_type": "code",
   "execution_count": 20,
   "id": "a61b1e85",
   "metadata": {},
   "outputs": [
    {
     "data": {
      "image/png": "[encoded data removed]",
      "text/plain": [
       "<Figure size 640x480 with 1 Axes>"
      ]
     },
     "metadata": {},
     "output_type": "display_data"
    },
    {
     "data": {
      "image/png": "[encoded data removed]",
      "text/plain": [
       "<Figure size 640x480 with 1 Axes>"
      ]
     },
     "metadata": {},
     "output_type": "display_data"
    },
    {
     "data": {
      "image/png": "[encoded data removed]",
      "text/plain": [
       "<Figure size 640x480 with 1 Axes>"
      ]
     },
     "metadata": {},
     "output_type": "display_data"
    }
   ],
   "source": [
    "utils.plot_values(0, res)\n",
    "utils.plot_values(1, res)\n",
    "utils.plot_values(2, res)"
   ]
  },
  {
   "cell_type": "markdown",
   "id": "d8517da1",
   "metadata": {},
   "source": [
    "Получается, что логистическая регрессия, дерево решений, случайный лес, а также градиентный бустинг реализации XGBoost показали плохие результаты по значениям ф-меры. На градиентные бустинги от Яндекса и Microsoft глянем поближе"
   ]
  },
  {
   "cell_type": "code",
   "execution_count": 21,
   "id": "82ba03e5",
   "metadata": {},
   "outputs": [
    {
     "data": {
      "image/png": "[encoded data removed]",
      "text/plain": [
       "<Figure size 1400x1000 with 3 Axes>"
      ]
     },
     "metadata": {},
     "output_type": "display_data"
    }
   ],
   "source": [
    "utils.compare_plot(\"cb\", \"lgbm\", res)"
   ]
  },
  {
   "cell_type": "markdown",
   "id": "f46cb62e",
   "metadata": {},
   "source": [
    "Значения ф-меры для catboost не намного выше, чем для lightgbm. Глянем, какой порядок создаёт разницу. Для этого посчитаем разницу между всеми (минимальными, максимальными и средними) скорами моделей и возьмём среднее значение"
   ]
  },
  {
   "cell_type": "code",
   "execution_count": 22,
   "id": "e552154d",
   "metadata": {},
   "outputs": [
    {
     "name": "stdout",
     "output_type": "stream",
     "text": [
      "[разница для минимума] 0.0031446\n",
      "[разница для максимума] 0.0020286\n",
      "[разница для среднего] 0.0019484\n"
     ]
    }
   ],
   "source": [
    "print(f\"[разница для минимума] {round((np.asarray(res['cb'][::3]) - np.asarray(res['lgbm'][::3])).mean(), 7)}\")\n",
    "print(f\"[разница для максимума] {round((np.asarray(res['cb'][1::3]) - np.asarray(res['lgbm'][1::3])).mean(), 7)}\")\n",
    "print(f\"[разница для среднего] {round((np.asarray(res['cb'][2::3]) - np.asarray(res['lgbm'][2::3])).mean(), 7)}\")"
   ]
  },
  {
   "cell_type": "markdown",
   "id": "2ba507b8",
   "metadata": {},
   "source": [
    "Разницу в скорах задаём тысячный порядок ф-меры. "
   ]
  },
  {
   "cell_type": "markdown",
   "id": "64dbaed8",
   "metadata": {},
   "source": [
    "А какая разница в скоростях обучения для этих моделей?"
   ]
  },
  {
   "cell_type": "code",
   "execution_count": 26,
   "id": "9b453c68",
   "metadata": {},
   "outputs": [
    {
     "name": "stdout",
     "output_type": "stream",
     "text": [
      "4.0\n"
     ]
    }
   ],
   "source": [
    "print(round(time_res[\"cb\"] / time_res[\"lgbm\"], 1))\n",
    "\n",
    "del time_res\n",
    "gc.collect();"
   ]
  },
  {
   "cell_type": "markdown",
   "id": "c9e551b8",
   "metadata": {},
   "source": [
    "Таким образом, основываясь на представленных выше результатах, мы выбираем <strong>LGBMClassifier</strong>, потому что:\n",
    "1) CatBoostClassifier и LGBMClassifier показывают одинаковые скоры в точности до второго знака после запятой; разница начинает появляться лишь в третьем знаке после запятой;\n",
    "2) скорость обучения LGBMClassifier в 4 быстрее, чем CatBoostClassifier (хотя данный классификатор обучался на ГПУ)"
   ]
  },
  {
   "cell_type": "markdown",
   "id": "7f2ddd37",
   "metadata": {},
   "source": [
    "Результаты средних оценок обучения моделей сохраним в отдельный файл (вдруг нам эти результаты понадобятся ещё)"
   ]
  },
  {
   "cell_type": "code",
   "execution_count": 27,
   "id": "dfe75c11",
   "metadata": {},
   "outputs": [],
   "source": [
    "min_, max_, mean_ = [], [], []\n",
    "for key in res.keys():\n",
    "    min_.append(np.mean(res[key][::3]))\n",
    "    max_.append(np.mean(res[key][1::3]))\n",
    "    mean_.append(np.mean(res[key][2::3]))\n",
    "\n",
    "pd.DataFrame(columns=res.keys(), index=[\"min\", \"mean\", \"mean\"], data=[min_, mean_, max_]).to_csv(\"select_model.csv\")\n",
    "\n",
    "del min_, max_, mean_\n",
    "gc.collect();"
   ]
  },
  {
   "cell_type": "markdown",
   "id": "00eb49bd",
   "metadata": {},
   "source": [
    "Выбор модели проводили, используя downsampling мажорного (доминатного) класса. Теперь посмотрим, как будет вести себя дефолтный классификатор - LGBMClassifier - если сэмплируем минорный класс. Для сэмплирования будем использовать:\n",
    "1) алгоритм SMOTE модуля imblearn, который под капотом имплементирует метод ближайших соседей, для генерирования синтетических сэмплов;\n",
    "2) собственноручно написанный алгоритм upsample, который реализует стратегию дублирования сэмплов минорного класса\n",
    "\n",
    "Для начала узнаем перформанс модели на дефолтном соотношении таргета"
   ]
  },
  {
   "cell_type": "code",
   "execution_count": 28,
   "id": "94c45c32",
   "metadata": {},
   "outputs": [
    {
     "data": {
      "application/vnd.jupyter.widget-view+json": {
       "model_id": "ae97eb2b9c1b40fbb9fd9777625d780e",
       "version_major": 2,
       "version_minor": 0
      },
      "text/plain": [
       "0it [00:00, ?it/s]"
      ]
     },
     "metadata": {},
     "output_type": "display_data"
    },
    {
     "name": "stdout",
     "output_type": "stream",
     "text": [
      "[среднее значение]: 0.5698729\n"
     ]
    }
   ],
   "source": [
    "default_res = utils.validate(\n",
    "    train[cols],\n",
    "    train[\"target\"],\n",
    "    params={\"random_state\": 11, \"verbose\": -1, \"force_col_wise\": True}\n",
    ")\n",
    "print(f\"[среднее значение]: {round(np.mean(default_res), 7)}\")\n",
    "\n",
    "del default_res\n",
    "gc.collect();"
   ]
  },
  {
   "cell_type": "markdown",
   "id": "a68281c4",
   "metadata": {},
   "source": [
    "Дисбаланс очень сильно сказывается. Значит, или downsampling, или upsampling будем использовать, чтобы нивелировать импакт дисбаланса на перформанс модели"
   ]
  },
  {
   "cell_type": "markdown",
   "id": "eb24faf0",
   "metadata": {},
   "source": [
    "Теперь перейдём к тестированию подходов upsampling. Используем реализацию upsampling модуля imblearn"
   ]
  },
  {
   "cell_type": "code",
   "execution_count": 29,
   "id": "a9424476",
   "metadata": {},
   "outputs": [
    {
     "data": {
      "text/plain": [
       "1.0    240030\n",
       "0.0    240030\n",
       "Name: target, dtype: int64"
      ]
     },
     "execution_count": 29,
     "metadata": {},
     "output_type": "execute_result"
    }
   ],
   "source": [
    "np.random.seed(11)\n",
    "    \n",
    "smote = SMOTE(sampling_strategy=\"minority\", k_neighbors=10,  random_state=11)\n",
    "train_res, target_res = smote.fit_resample(train[cols], train[\"target\"])\n",
    "\n",
    "train_res[\"target\"] = target_res\n",
    "\n",
    "del target_res\n",
    "gc.collect();\n",
    "\n",
    "train_res[\"target\"].value_counts()"
   ]
  },
  {
   "cell_type": "markdown",
   "id": "03b03ab7",
   "metadata": {},
   "source": [
    "Провалидируем наш дефолтный классификатор"
   ]
  },
  {
   "cell_type": "code",
   "execution_count": 30,
   "id": "e28f427a",
   "metadata": {},
   "outputs": [
    {
     "data": {
      "application/vnd.jupyter.widget-view+json": {
       "model_id": "f13aa96af18944d1aa280d3ee8ebc854",
       "version_major": 2,
       "version_minor": 0
      },
      "text/plain": [
       "0it [00:00, ?it/s]"
      ]
     },
     "metadata": {},
     "output_type": "display_data"
    },
    {
     "name": "stdout",
     "output_type": "stream",
     "text": [
      "[среднее значение]: 0.8960519\n"
     ]
    }
   ],
   "source": [
    "smote_res = utils.validate(\n",
    "    train_res[cols],\n",
    "    train_res[\"target\"],\n",
    "    params={\"random_state\": 11, \"verbose\": -1, \"force_col_wise\": True}\n",
    ")\n",
    "print(f\"[среднее значение]: {round(np.mean(smote_res), 7)}\")\n",
    "\n",
    "del smote_res\n",
    "gc.collect();"
   ]
  },
  {
   "cell_type": "markdown",
   "id": "e8f3d2e9",
   "metadata": {},
   "source": [
    "Итак, LGBMClassifier + SMOTE дали прирост в ф-мере на 9%, что довольно-таки сильно (исходный скор: 0.8084649)"
   ]
  },
  {
   "cell_type": "markdown",
   "id": "691623b2",
   "metadata": {},
   "source": [
    "Используем наш алгоритм upsampling и посмотрим, изменится ли картина с переобучением"
   ]
  },
  {
   "cell_type": "code",
   "execution_count": 32,
   "id": "ae100083",
   "metadata": {},
   "outputs": [],
   "source": [
    "x_train_upsampled, y_train_upsampled = utils.upsample(\n",
    "    train[cols],\n",
    "    train[\"target\"],\n",
    "    train[train[\"target\"] == 0].shape[0] // train[train[\"target\"] == 1].shape[0]\n",
    ")\n",
    "\n",
    "x_train_upsampled[\"target\"] = y_train_upsampled\n",
    "x_train_upsampled.reset_index(drop=True, inplace=True)\n",
    "\n",
    "del y_train_upsampled\n",
    "gc.collect();"
   ]
  },
  {
   "cell_type": "code",
   "execution_count": 33,
   "id": "15e115da",
   "metadata": {},
   "outputs": [
    {
     "data": {
      "application/vnd.jupyter.widget-view+json": {
       "model_id": "1df7dd2d52254443b59c3b5b829c153c",
       "version_major": 2,
       "version_minor": 0
      },
      "text/plain": [
       "0it [00:00, ?it/s]"
      ]
     },
     "metadata": {},
     "output_type": "display_data"
    },
    {
     "name": "stdout",
     "output_type": "stream",
     "text": [
      "[среднее значение]: 0.7950085\n"
     ]
    }
   ],
   "source": [
    "upsample_res = utils.validate(\n",
    "    x_train_upsampled[cols],\n",
    "    x_train_upsampled[\"target\"],\n",
    "    params={\"random_state\": 11, \"verbose\": -1, \"force_col_wise\": True}\n",
    ")\n",
    "print(f\"[среднее значение]: {round(np.mean(upsample_res), 7)}\")\n",
    "\n",
    "del x_train_upsampled, upsample_res\n",
    "gc.collect();"
   ]
  },
  {
   "cell_type": "markdown",
   "id": "8e6e42cf",
   "metadata": {},
   "source": [
    "Функция upsample показала результаты хуже, чем SMOTE, но это и понятно, почему. Дублирование сэмплов минорного класса - это далеко не лучшая стратегия upsampling"
   ]
  },
  {
   "cell_type": "markdown",
   "id": "1edf37fc",
   "metadata": {},
   "source": [
    "Необходимо также учитывать, что дефолтный классификатор мог переобучиться. Всё дело в том, что дефолтный классификатор не имеет:\n",
    "1) ограничений по глубине деревьев;\n",
    "2) максимальное значение листьев для каждого дерева равно 31;\n",
    "3) коэффициенты регуляризации ($l_1$, $l_2$) занулены.\n",
    "\n",
    "Однако, для дальнейшей работы возьмём комбинацию LGBMClassifier + SMOTE.  \n",
    "Выбор модели, валидация LGBMClassifier производились можно сказать, что на сырых данных. Однако, мы имеем профили пользователей.  \n",
    "<strong>Гипотеза 1: обучение на профилях пользователя позволит получить лучший скор</strong>  \n",
    "<strong>Гипотеза 2: обучение на эмбеддингах профилей позволит получить лучший скор</strong>\n",
    "Давайте это проверим\n",
    "\n",
    "Итеративно будем тестировать профили и начнём с самого большого - транзакционного.  \n",
    "Последовательность будет такой: для начала обучим классификатор + smote на сырых данных, а затем аналогичную операцию проведём с эмбеддингами"
   ]
  },
  {
   "cell_type": "code",
   "execution_count": 34,
   "id": "5197f015",
   "metadata": {},
   "outputs": [
    {
     "name": "stdout",
     "output_type": "stream",
     "text": [
      "профиль содержит [199] признака(-ов)\n"
     ]
    },
    {
     "data": {
      "application/vnd.jupyter.widget-view+json": {
       "model_id": "cb1d5d1e047e440fb895691ccd8c96ab",
       "version_major": 2,
       "version_minor": 0
      },
      "text/plain": [
       "0it [00:00, ?it/s]"
      ]
     },
     "metadata": {},
     "output_type": "display_data"
    },
    {
     "name": "stdout",
     "output_type": "stream",
     "text": [
      "[среднее значение]: 0.4995297\n"
     ]
    }
   ],
   "source": [
    "transactions_cols = utils.load_profile(Paths.transactions_cols.value)\n",
    "\n",
    "_ = utils.check_profile_without_smote(\n",
    "    transactions_cols,\n",
    "    train\n",
    ")"
   ]
  },
  {
   "cell_type": "code",
   "execution_count": 35,
   "id": "85c0eb50",
   "metadata": {},
   "outputs": [
    {
     "data": {
      "application/vnd.jupyter.widget-view+json": {
       "model_id": "972d1a950f7d4851848330fc7f5c7ca3",
       "version_major": 2,
       "version_minor": 0
      },
      "text/plain": [
       "0it [00:00, ?it/s]"
      ]
     },
     "metadata": {},
     "output_type": "display_data"
    },
    {
     "name": "stdout",
     "output_type": "stream",
     "text": [
      "[среднее значение]: 0.8565582\n"
     ]
    }
   ],
   "source": [
    "_ = utils.check_profile(\n",
    "    transactions_cols,\n",
    "    train\n",
    ")"
   ]
  },
  {
   "cell_type": "markdown",
   "id": "73cce7a9",
   "metadata": {},
   "source": [
    "Транзакционный профиль показал значение ф-меры меньше относительно сырых данных"
   ]
  },
  {
   "cell_type": "markdown",
   "id": "7032bda8",
   "metadata": {},
   "source": [
    "Для получения эмбеддингов будем использовать матричную факторизацию - ALS (подход взят из области рекомендательных систем).  \n",
    "Кол-во факторов будем брать меньше, чем кол-во исходных признаков в профиле. Если кол-во факторов будет больше, то мы спокойно переобучимся"
   ]
  },
  {
   "cell_type": "code",
   "execution_count": 36,
   "id": "16311863",
   "metadata": {},
   "outputs": [
    {
     "data": {
      "application/vnd.jupyter.widget-view+json": {
       "model_id": "756dba0225db4272bfd0426d37f91006",
       "version_major": 2,
       "version_minor": 0
      },
      "text/plain": [
       "  0%|          | 0/30 [00:00<?, ?it/s]"
      ]
     },
     "metadata": {},
     "output_type": "display_data"
    },
    {
     "data": {
      "application/vnd.jupyter.widget-view+json": {
       "model_id": "5e4b2be5ea8848b6a71fd082be0d79ac",
       "version_major": 2,
       "version_minor": 0
      },
      "text/plain": [
       "0it [00:00, ?it/s]"
      ]
     },
     "metadata": {},
     "output_type": "display_data"
    },
    {
     "name": "stdout",
     "output_type": "stream",
     "text": [
      "[среднее значение]: 0.4818215\n"
     ]
    }
   ],
   "source": [
    "transactions_embeds = utils.get_embdes(\n",
    "    train[transactions_cols],\n",
    "    train[\"target\"],\n",
    "    128\n",
    ")\n",
    "\n",
    "transactions_profile_embeds_res = utils.validate(\n",
    "    transactions_embeds.iloc[:, :128],\n",
    "    transactions_embeds[\"target\"],\n",
    "    params={\"random_state\": 11, \"verbose\": -1, \"force_col_wise\": True}\n",
    ")\n",
    "print(f\"[среднее значение]: {round(np.mean(transactions_profile_embeds_res), 7)}\")"
   ]
  },
  {
   "cell_type": "markdown",
   "id": "073cb83e",
   "metadata": {},
   "source": [
    "Провалидируем классификатор + smote для эмбеддингов"
   ]
  },
  {
   "cell_type": "code",
   "execution_count": 37,
   "id": "e40a9aaa",
   "metadata": {},
   "outputs": [
    {
     "data": {
      "application/vnd.jupyter.widget-view+json": {
       "model_id": "bb20e12b645c4dd6a926d46db0404134",
       "version_major": 2,
       "version_minor": 0
      },
      "text/plain": [
       "0it [00:00, ?it/s]"
      ]
     },
     "metadata": {},
     "output_type": "display_data"
    },
    {
     "name": "stdout",
     "output_type": "stream",
     "text": [
      "[среднее значение]: 0.7724128\n"
     ]
    }
   ],
   "source": [
    "_ = utils.check_profile(\n",
    "    list(transactions_embeds)[:128],\n",
    "    transactions_embeds\n",
    ")\n",
    "\n",
    "del transactions_cols, transactions_embeds, transactions_profile_embeds_res\n",
    "gc.collect();"
   ]
  },
  {
   "cell_type": "markdown",
   "id": "2bac4886",
   "metadata": {},
   "source": [
    "Вывод сделаем после того, как проверим все профили, а пока перейдём к счётному профилю:\n",
    "1) чекап на сырых признаках профиля;\n",
    "2) чекап на сырых + smote;\n",
    "3) чекап на эмбеддингах профиля;\n",
    "4) чекап на эмбеддингах профиля + smote\n",
    "\n",
    "Такой алгоритм верен для всех профилей пользователя"
   ]
  },
  {
   "cell_type": "code",
   "execution_count": 38,
   "id": "858aaa51",
   "metadata": {},
   "outputs": [
    {
     "name": "stdout",
     "output_type": "stream",
     "text": [
      "профиль содержит [30] признака(-ов)\n"
     ]
    },
    {
     "data": {
      "application/vnd.jupyter.widget-view+json": {
       "model_id": "f64d840d0fc841ca9fef2117e76d0df3",
       "version_major": 2,
       "version_minor": 0
      },
      "text/plain": [
       "0it [00:00, ?it/s]"
      ]
     },
     "metadata": {},
     "output_type": "display_data"
    },
    {
     "name": "stdout",
     "output_type": "stream",
     "text": [
      "[среднее значение]: 0.4602122\n"
     ]
    }
   ],
   "source": [
    "account_cols = utils.load_profile(Paths.account_cols.value)\n",
    "\n",
    "_ = utils.check_profile_without_smote(\n",
    "    account_cols,\n",
    "    train\n",
    ")"
   ]
  },
  {
   "cell_type": "code",
   "execution_count": 39,
   "id": "7ea02bd6",
   "metadata": {},
   "outputs": [
    {
     "data": {
      "application/vnd.jupyter.widget-view+json": {
       "model_id": "e9d43da7c0964c8889cf531d1070f67f",
       "version_major": 2,
       "version_minor": 0
      },
      "text/plain": [
       "0it [00:00, ?it/s]"
      ]
     },
     "metadata": {},
     "output_type": "display_data"
    },
    {
     "name": "stdout",
     "output_type": "stream",
     "text": [
      "[среднее значение]: 0.8136339\n"
     ]
    }
   ],
   "source": [
    "_ = utils.check_profile(\n",
    "    account_cols,\n",
    "    train\n",
    ")"
   ]
  },
  {
   "cell_type": "code",
   "execution_count": 40,
   "id": "6841a6f6",
   "metadata": {},
   "outputs": [
    {
     "data": {
      "application/vnd.jupyter.widget-view+json": {
       "model_id": "a50cd2bd15314238aef5626ad6c30161",
       "version_major": 2,
       "version_minor": 0
      },
      "text/plain": [
       "  0%|          | 0/30 [00:00<?, ?it/s]"
      ]
     },
     "metadata": {},
     "output_type": "display_data"
    },
    {
     "data": {
      "application/vnd.jupyter.widget-view+json": {
       "model_id": "f0759c8b201844939c4191cd1a3f7a5b",
       "version_major": 2,
       "version_minor": 0
      },
      "text/plain": [
       "0it [00:00, ?it/s]"
      ]
     },
     "metadata": {},
     "output_type": "display_data"
    },
    {
     "name": "stdout",
     "output_type": "stream",
     "text": [
      "[среднее значение]: 0.3359583\n"
     ]
    }
   ],
   "source": [
    "account_embeds = utils.get_embdes(\n",
    "    train[account_cols],\n",
    "    train[\"target\"],\n",
    "    16\n",
    ")\n",
    "\n",
    "account_profile_embeds_res = utils.validate(\n",
    "    account_embeds.iloc[:, :16],\n",
    "    account_embeds[\"target\"],\n",
    "    params={\"random_state\": 11, \"verbose\": -1, \"force_col_wise\": True}\n",
    ")\n",
    "print(f\"[среднее значение]: {round(np.mean(account_profile_embeds_res), 7)}\")"
   ]
  },
  {
   "cell_type": "code",
   "execution_count": 41,
   "id": "e5b1fce0",
   "metadata": {},
   "outputs": [
    {
     "data": {
      "application/vnd.jupyter.widget-view+json": {
       "model_id": "9f2d9ecac3b94b858606b6a3bdb45b82",
       "version_major": 2,
       "version_minor": 0
      },
      "text/plain": [
       "0it [00:00, ?it/s]"
      ]
     },
     "metadata": {},
     "output_type": "display_data"
    },
    {
     "name": "stdout",
     "output_type": "stream",
     "text": [
      "[среднее значение]: 0.7758593\n"
     ]
    }
   ],
   "source": [
    "_ = utils.check_profile(\n",
    "    list(account_embeds)[:16],\n",
    "    account_embeds\n",
    ")\n",
    "\n",
    "del account_cols, account_embeds, account_profile_embeds_res\n",
    "gc.collect();"
   ]
  },
  {
   "cell_type": "markdown",
   "id": "a0c9006f",
   "metadata": {},
   "source": [
    "Теперь посмотрим на импакт кредитного профиля. Предварительно заменив категориальную фичу в профиле на её onehot вектора"
   ]
  },
  {
   "cell_type": "code",
   "execution_count": 42,
   "id": "5502da7d",
   "metadata": {},
   "outputs": [
    {
     "name": "stdout",
     "output_type": "stream",
     "text": [
      "профиль содержит [44] признака(-ов)\n",
      "46\n"
     ]
    }
   ],
   "source": [
    "credit_cols = utils.load_profile(Paths.credit_cols.value)\n",
    "\n",
    "credit_cols.remove(\"hdb_relend_client_credits_count_grade\")\n",
    "credit_cols += list(filter(\n",
    "    lambda x: x.startswith(\"hdb_relend_client_credits_count_grade\"),\n",
    "    list(train)\n",
    "))\n",
    "print(len(credit_cols))"
   ]
  },
  {
   "cell_type": "code",
   "execution_count": 43,
   "id": "45cd83ba",
   "metadata": {},
   "outputs": [
    {
     "data": {
      "application/vnd.jupyter.widget-view+json": {
       "model_id": "0e277b257a11470e89db5e304f0910cf",
       "version_major": 2,
       "version_minor": 0
      },
      "text/plain": [
       "0it [00:00, ?it/s]"
      ]
     },
     "metadata": {},
     "output_type": "display_data"
    },
    {
     "name": "stdout",
     "output_type": "stream",
     "text": [
      "[среднее значение]: 0.3466724\n"
     ]
    }
   ],
   "source": [
    "_ = utils.check_profile_without_smote(\n",
    "    credit_cols,\n",
    "    train\n",
    ")"
   ]
  },
  {
   "cell_type": "code",
   "execution_count": 44,
   "id": "ffc60ac1",
   "metadata": {},
   "outputs": [
    {
     "data": {
      "application/vnd.jupyter.widget-view+json": {
       "model_id": "aada1c88f35d484db27ba633e5e64cce",
       "version_major": 2,
       "version_minor": 0
      },
      "text/plain": [
       "0it [00:00, ?it/s]"
      ]
     },
     "metadata": {},
     "output_type": "display_data"
    },
    {
     "name": "stdout",
     "output_type": "stream",
     "text": [
      "[среднее значение]: 0.8382856\n"
     ]
    }
   ],
   "source": [
    "_ = utils.check_profile(\n",
    "    credit_cols,\n",
    "    train\n",
    ")"
   ]
  },
  {
   "cell_type": "code",
   "execution_count": 45,
   "id": "8f1f963d",
   "metadata": {},
   "outputs": [
    {
     "data": {
      "application/vnd.jupyter.widget-view+json": {
       "model_id": "5dea6175ff5144ebac32191625555a35",
       "version_major": 2,
       "version_minor": 0
      },
      "text/plain": [
       "  0%|          | 0/30 [00:00<?, ?it/s]"
      ]
     },
     "metadata": {},
     "output_type": "display_data"
    },
    {
     "data": {
      "application/vnd.jupyter.widget-view+json": {
       "model_id": "3bb4dfef2d424e50814302817ccb0967",
       "version_major": 2,
       "version_minor": 0
      },
      "text/plain": [
       "0it [00:00, ?it/s]"
      ]
     },
     "metadata": {},
     "output_type": "display_data"
    },
    {
     "name": "stdout",
     "output_type": "stream",
     "text": [
      "[среднее значение]: 0.1384465\n"
     ]
    }
   ],
   "source": [
    "credit_embeds = utils.get_embdes(\n",
    "    train[credit_cols],\n",
    "    train[\"target\"],\n",
    "    32\n",
    ")\n",
    "\n",
    "credit_profile_embeds_res = utils.validate(\n",
    "    credit_embeds.iloc[:, :32],\n",
    "    credit_embeds[\"target\"],\n",
    "    params={\"random_state\": 11, \"verbose\": -1, \"force_col_wise\": True}\n",
    ")\n",
    "print(f\"[среднее значение]: {round(np.mean(credit_profile_embeds_res), 7)}\")"
   ]
  },
  {
   "cell_type": "code",
   "execution_count": 46,
   "id": "17820576",
   "metadata": {},
   "outputs": [
    {
     "data": {
      "application/vnd.jupyter.widget-view+json": {
       "model_id": "478bd5aac8c84120ba3b3ce5f5d25c8f",
       "version_major": 2,
       "version_minor": 0
      },
      "text/plain": [
       "0it [00:00, ?it/s]"
      ]
     },
     "metadata": {},
     "output_type": "display_data"
    },
    {
     "name": "stdout",
     "output_type": "stream",
     "text": [
      "[среднее значение]: 0.7092487\n"
     ]
    }
   ],
   "source": [
    "_ = utils.check_profile(\n",
    "    list(credit_embeds)[:32],\n",
    "    credit_embeds\n",
    ")\n",
    "\n",
    "del credit_cols, credit_embeds, credit_profile_embeds_res\n",
    "gc.collect();"
   ]
  },
  {
   "cell_type": "markdown",
   "id": "f0df0630",
   "metadata": {},
   "source": [
    "Рассмотрим доходный профиль"
   ]
  },
  {
   "cell_type": "code",
   "execution_count": 47,
   "id": "3f2cf784",
   "metadata": {},
   "outputs": [
    {
     "name": "stdout",
     "output_type": "stream",
     "text": [
      "профиль содержит [8] признака(-ов)\n"
     ]
    },
    {
     "data": {
      "application/vnd.jupyter.widget-view+json": {
       "model_id": "aa82510062c84829892098485f8e2757",
       "version_major": 2,
       "version_minor": 0
      },
      "text/plain": [
       "0it [00:00, ?it/s]"
      ]
     },
     "metadata": {},
     "output_type": "display_data"
    },
    {
     "name": "stdout",
     "output_type": "stream",
     "text": [
      "[среднее значение]: 0.4252299\n"
     ]
    }
   ],
   "source": [
    "income_cols = utils.load_profile(Paths.income_cols.value)\n",
    "\n",
    "_ = utils.check_profile_without_smote(\n",
    "    income_cols,\n",
    "    train\n",
    ")"
   ]
  },
  {
   "cell_type": "code",
   "execution_count": 48,
   "id": "d8e0d428",
   "metadata": {},
   "outputs": [
    {
     "data": {
      "application/vnd.jupyter.widget-view+json": {
       "model_id": "ff43c2b7b4e547bcbac9e99fdb9afdb9",
       "version_major": 2,
       "version_minor": 0
      },
      "text/plain": [
       "0it [00:00, ?it/s]"
      ]
     },
     "metadata": {},
     "output_type": "display_data"
    },
    {
     "name": "stdout",
     "output_type": "stream",
     "text": [
      "[среднее значение]: 0.7353472\n"
     ]
    }
   ],
   "source": [
    "_ = utils.check_profile(\n",
    "    income_cols,\n",
    "    train\n",
    ")"
   ]
  },
  {
   "cell_type": "code",
   "execution_count": 49,
   "id": "66110444",
   "metadata": {},
   "outputs": [
    {
     "data": {
      "application/vnd.jupyter.widget-view+json": {
       "model_id": "94ab3acda4a248b496d473caf54cc1e8",
       "version_major": 2,
       "version_minor": 0
      },
      "text/plain": [
       "  0%|          | 0/30 [00:00<?, ?it/s]"
      ]
     },
     "metadata": {},
     "output_type": "display_data"
    },
    {
     "data": {
      "application/vnd.jupyter.widget-view+json": {
       "model_id": "cade989912d040b68212495e75f9f14f",
       "version_major": 2,
       "version_minor": 0
      },
      "text/plain": [
       "0it [00:00, ?it/s]"
      ]
     },
     "metadata": {},
     "output_type": "display_data"
    },
    {
     "name": "stdout",
     "output_type": "stream",
     "text": [
      "[среднее значение]: 0.3699728\n"
     ]
    }
   ],
   "source": [
    "income_embeds = utils.get_embdes(\n",
    "    train[income_cols],\n",
    "    train[\"target\"],\n",
    "    4\n",
    ")\n",
    "\n",
    "income_profile_embeds_res = utils.validate(\n",
    "    income_embeds.iloc[:, :4],\n",
    "    income_embeds[\"target\"],\n",
    "    params={\"random_state\": 11, \"verbose\": -1, \"force_col_wise\": True}\n",
    ")\n",
    "print(f\"[среднее значение]: {round(np.mean(income_profile_embeds_res), 7)}\")"
   ]
  },
  {
   "cell_type": "code",
   "execution_count": 50,
   "id": "87bbeefd",
   "metadata": {},
   "outputs": [
    {
     "data": {
      "application/vnd.jupyter.widget-view+json": {
       "model_id": "986a6e3cce444572935edc444ed22d53",
       "version_major": 2,
       "version_minor": 0
      },
      "text/plain": [
       "0it [00:00, ?it/s]"
      ]
     },
     "metadata": {},
     "output_type": "display_data"
    },
    {
     "name": "stdout",
     "output_type": "stream",
     "text": [
      "[среднее значение]: 0.7185149\n"
     ]
    }
   ],
   "source": [
    "_ = utils.check_profile(\n",
    "    list(income_embeds)[:4],\n",
    "    income_embeds\n",
    ")\n",
    "\n",
    "del income_cols, income_embeds, income_profile_embeds_res\n",
    "gc.collect();"
   ]
  },
  {
   "cell_type": "markdown",
   "id": "0809c554",
   "metadata": {},
   "source": [
    "Теперь посмотрим на последний профиль информационный, предварительно заменив исходные номинативные переменные профиля на их onehot представления"
   ]
  },
  {
   "cell_type": "code",
   "execution_count": 53,
   "id": "0184082a",
   "metadata": {},
   "outputs": [
    {
     "name": "stdout",
     "output_type": "stream",
     "text": [
      "профиль содержит [9] признака(-ов)\n",
      "26\n"
     ]
    }
   ],
   "source": [
    "info_cols = utils.load_profile(Paths.info_cols.value)\n",
    "info_cols.remove(\"clientoutflowstatus\")\n",
    "\n",
    "add_to_income_cols = []\n",
    "for col in [\n",
    "    \"country\", \"stratsegfactor\", \"srvpackage\",\n",
    "    \"clientsegment\", \"gender\"\n",
    "]:\n",
    "    add_to_income_cols += list(filter(\n",
    "        lambda x: x.startswith(col),\n",
    "        list(train)\n",
    "    ))\n",
    "    info_cols.remove(col)\n",
    "\n",
    "info_cols += add_to_income_cols\n",
    "print(len(info_cols))\n",
    "\n",
    "del add_to_income_cols\n",
    "gc.collect();"
   ]
  },
  {
   "cell_type": "code",
   "execution_count": 54,
   "id": "15aecfd8",
   "metadata": {},
   "outputs": [
    {
     "data": {
      "application/vnd.jupyter.widget-view+json": {
       "model_id": "4414cebd39a8405d9d8385a5a33fc4f6",
       "version_major": 2,
       "version_minor": 0
      },
      "text/plain": [
       "0it [00:00, ?it/s]"
      ]
     },
     "metadata": {},
     "output_type": "display_data"
    },
    {
     "name": "stdout",
     "output_type": "stream",
     "text": [
      "[LightGBM] [Warning] Find whitespaces in feature_names, replace with underlines\n",
      "[LightGBM] [Warning] Find whitespaces in feature_names, replace with underlines\n",
      "[LightGBM] [Warning] Find whitespaces in feature_names, replace with underlines\n",
      "[LightGBM] [Warning] Find whitespaces in feature_names, replace with underlines\n",
      "[LightGBM] [Warning] Find whitespaces in feature_names, replace with underlines\n",
      "[LightGBM] [Warning] Find whitespaces in feature_names, replace with underlines\n",
      "[LightGBM] [Warning] Find whitespaces in feature_names, replace with underlines\n",
      "[LightGBM] [Warning] Find whitespaces in feature_names, replace with underlines\n",
      "[LightGBM] [Warning] Find whitespaces in feature_names, replace with underlines\n",
      "[LightGBM] [Warning] Find whitespaces in feature_names, replace with underlines\n",
      "[среднее значение]: 0.4690335\n"
     ]
    }
   ],
   "source": [
    "_ = utils.check_profile_without_smote(\n",
    "    info_cols,\n",
    "    train\n",
    ")"
   ]
  },
  {
   "cell_type": "code",
   "execution_count": 55,
   "id": "673b821f",
   "metadata": {},
   "outputs": [
    {
     "data": {
      "application/vnd.jupyter.widget-view+json": {
       "model_id": "061e7dcec0fe4e8388d3b3a9a0d5c93b",
       "version_major": 2,
       "version_minor": 0
      },
      "text/plain": [
       "0it [00:00, ?it/s]"
      ]
     },
     "metadata": {},
     "output_type": "display_data"
    },
    {
     "name": "stdout",
     "output_type": "stream",
     "text": [
      "[LightGBM] [Warning] Find whitespaces in feature_names, replace with underlines\n",
      "[LightGBM] [Warning] Find whitespaces in feature_names, replace with underlines\n",
      "[LightGBM] [Warning] Find whitespaces in feature_names, replace with underlines\n",
      "[LightGBM] [Warning] Find whitespaces in feature_names, replace with underlines\n",
      "[LightGBM] [Warning] Find whitespaces in feature_names, replace with underlines\n",
      "[LightGBM] [Warning] Find whitespaces in feature_names, replace with underlines\n",
      "[LightGBM] [Warning] Find whitespaces in feature_names, replace with underlines\n",
      "[LightGBM] [Warning] Find whitespaces in feature_names, replace with underlines\n",
      "[LightGBM] [Warning] Find whitespaces in feature_names, replace with underlines\n",
      "[LightGBM] [Warning] Find whitespaces in feature_names, replace with underlines\n",
      "[среднее значение]: 0.8726796\n"
     ]
    }
   ],
   "source": [
    "_ = utils.check_profile(\n",
    "    info_cols,\n",
    "    train\n",
    ")"
   ]
  },
  {
   "cell_type": "code",
   "execution_count": 57,
   "id": "cb42c6d4",
   "metadata": {},
   "outputs": [
    {
     "data": {
      "application/vnd.jupyter.widget-view+json": {
       "model_id": "38b6f19798fd4c199ddcbd8e3eae3201",
       "version_major": 2,
       "version_minor": 0
      },
      "text/plain": [
       "  0%|          | 0/30 [00:00<?, ?it/s]"
      ]
     },
     "metadata": {},
     "output_type": "display_data"
    },
    {
     "data": {
      "application/vnd.jupyter.widget-view+json": {
       "model_id": "e4a4f76a070e4d52bc330b6fdc4725e0",
       "version_major": 2,
       "version_minor": 0
      },
      "text/plain": [
       "0it [00:00, ?it/s]"
      ]
     },
     "metadata": {},
     "output_type": "display_data"
    },
    {
     "name": "stdout",
     "output_type": "stream",
     "text": [
      "[среднее значение]: 0.4619603\n"
     ]
    }
   ],
   "source": [
    "info_embeds = utils.get_embdes(\n",
    "    train[info_cols],\n",
    "    train[\"target\"],\n",
    "    16\n",
    ")\n",
    "\n",
    "info_profile_embeds_res = utils.validate(\n",
    "    info_embeds.iloc[:, :16],\n",
    "    info_embeds[\"target\"],\n",
    "    params={\"random_state\": 11, \"verbose\": -1, \"force_col_wise\": True}\n",
    ")\n",
    "print(f\"[среднее значение]: {round(np.mean(info_profile_embeds_res), 7)}\")"
   ]
  },
  {
   "cell_type": "code",
   "execution_count": 59,
   "id": "55c6e630",
   "metadata": {},
   "outputs": [
    {
     "data": {
      "application/vnd.jupyter.widget-view+json": {
       "model_id": "ca20a21bca08429a973ff8136eeb74f3",
       "version_major": 2,
       "version_minor": 0
      },
      "text/plain": [
       "0it [00:00, ?it/s]"
      ]
     },
     "metadata": {},
     "output_type": "display_data"
    },
    {
     "name": "stdout",
     "output_type": "stream",
     "text": [
      "[среднее значение]: 0.7620142\n"
     ]
    }
   ],
   "source": [
    "_ = utils.check_profile(\n",
    "    list(info_embeds)[:16],\n",
    "    info_embeds\n",
    ")\n",
    "\n",
    "del info_cols, info_embeds, info_profile_embeds_res\n",
    "gc.collect();"
   ]
  },
  {
   "cell_type": "markdown",
   "id": "32585430",
   "metadata": {},
   "source": [
    "В завершении тестировании этих гипотез оценим перформанс модели на эмбеддингах всех данных"
   ]
  },
  {
   "cell_type": "code",
   "execution_count": 61,
   "id": "30535770",
   "metadata": {},
   "outputs": [
    {
     "data": {
      "application/vnd.jupyter.widget-view+json": {
       "model_id": "ecdcd968e56e4b55a08119566ce1d21f",
       "version_major": 2,
       "version_minor": 0
      },
      "text/plain": [
       "  0%|          | 0/30 [00:00<?, ?it/s]"
      ]
     },
     "metadata": {},
     "output_type": "display_data"
    },
    {
     "data": {
      "application/vnd.jupyter.widget-view+json": {
       "model_id": "cef1fa455b87491e88137ae60aa4b767",
       "version_major": 2,
       "version_minor": 0
      },
      "text/plain": [
       "0it [00:00, ?it/s]"
      ]
     },
     "metadata": {},
     "output_type": "display_data"
    },
    {
     "name": "stdout",
     "output_type": "stream",
     "text": [
      "[среднее значение]: 0.441572\n"
     ]
    }
   ],
   "source": [
    "all_embeds = utils.get_embdes(\n",
    "    train[cols],\n",
    "    train[\"target\"],\n",
    "    256\n",
    ")\n",
    "\n",
    "all_profile_embeds_res = utils.validate(\n",
    "    all_embeds.iloc[:, :256],\n",
    "    all_embeds[\"target\"],\n",
    "    params={\"random_state\": 11, \"verbose\": -1, \"force_col_wise\": True}\n",
    ")\n",
    "print(f\"[среднее значение]: {round(np.mean(all_profile_embeds_res), 7)}\")"
   ]
  },
  {
   "cell_type": "code",
   "execution_count": 62,
   "id": "047ef52a",
   "metadata": {},
   "outputs": [
    {
     "data": {
      "application/vnd.jupyter.widget-view+json": {
       "model_id": "1447a2f61fd94b198573e80d72bb8a1a",
       "version_major": 2,
       "version_minor": 0
      },
      "text/plain": [
       "0it [00:00, ?it/s]"
      ]
     },
     "metadata": {},
     "output_type": "display_data"
    },
    {
     "name": "stdout",
     "output_type": "stream",
     "text": [
      "[среднее значение]: 0.798497\n"
     ]
    }
   ],
   "source": [
    "_ = utils.check_profile(\n",
    "    list(all_embeds)[:256],\n",
    "    all_embeds\n",
    ")\n",
    "\n",
    "del all_embeds, all_profile_embeds_res\n",
    "gc.collect();"
   ]
  },
  {
   "attachments": {},
   "cell_type": "markdown",
   "id": "68bea159",
   "metadata": {},
   "source": [
    "Перейдём к выводу. Для начала посмотрим на результаты применения подходов для работы с несбалансированным датасетом:\n",
    "1) использовали downsampling (сэмплировали 10 выборок, в которых одинаковое соотношение классов);\n",
    "2) smote реализации imblearn;\n",
    "3) собственноручно написанная функция upsample, которая использует стратегию дублирования сэмплов\n",
    "\n",
    "В итоге получили вот такие результаты\n",
    "\n",
    "<table>\n",
    "    <tr>\n",
    "        <td></td>\n",
    "        <td>downsampling</td>\n",
    "        <td>SMOTE</td>\n",
    "        <td>upsample</td>\n",
    "        <td>default</td>\n",
    "    </tr>\n",
    "        <td>lgbm</td>\n",
    "        <td>0.8084648</td>\n",
    "        <td>0.8960519</td>\n",
    "        <td>0.7950085</td>\n",
    "        <td>0.5698729</td>\n",
    "    </tr>\n",
    "</table>\n",
    "\n",
    "Как видно из этой таблицы лучшим подходом оказался <strong>SMOTE</strong>. Причём он значительно выигрывает у \"сырых\" данных и даёт прирост на 10% ф-меры относительно стратегии downsampling\n",
    "\n",
    "Теперь что касается подходом. Результаты по всем подходам представлены в таблице ниже.\n",
    "<table>\n",
    "    <tr>\n",
    "        <td>подход/профиль</td>\n",
    "        <td>транзакционный</td>\n",
    "        <td>счётный</td>\n",
    "        <td>кредитный</td>\n",
    "        <td>доходный</td>\n",
    "        <td>информационный</td>\n",
    "        <td>все данные</td>\n",
    "    </tr>\n",
    "    <tr>\n",
    "        <td>lgbm</td>\n",
    "        <td>0.4995297</td>\n",
    "        <td>0.4602122</td>\n",
    "        <td>0.3466724</td>\n",
    "        <td>0.4252299</td>\n",
    "        <td>0.4690335</td>\n",
    "        <td>0.5698729</td>\n",
    "    </tr>\n",
    "    <tr>\n",
    "        <td>lgbm + smote</td>\n",
    "        <td>0.8565582</td>\n",
    "        <td>0.8136339</td>\n",
    "        <td>0.8382856</td>\n",
    "        <td>0.7353472</td>\n",
    "        <td>0.8726796</td>\n",
    "        <td>0.8960519</td>\n",
    "    </tr>\n",
    "    <tr>\n",
    "        <td>lgbm embeds</td>\n",
    "        <td>0.4818215</td>\n",
    "        <td>0.3359583</td>\n",
    "        <td>0.1384465</td>\n",
    "        <td>0.3699728</td>\n",
    "        <td>0.4619603</td>\n",
    "        <td>0.4415720</td>\n",
    "    </tr>\n",
    "    <tr>\n",
    "        <td>lgbm embeds + smote</td>\n",
    "        <td>0.7724128</td>\n",
    "        <td>0.7758593</td>\n",
    "        <td>0.7092487</td>\n",
    "        <td>0.7185149</td>\n",
    "        <td>0.7620142</td>\n",
    "        <td>0.7984970</td>\n",
    "    </tr>\n",
    "</table>\n",
    "\n",
    "Как видно из таблицы на всех данных, а также на всех профилях пользователей самым лучшим подходом оказался <strong>lgbm + smote</strong>, а самым плохим - lgbm embeds, т.е. классификатор, который обучался на эмбеддингах, полученных при помощи матричной факторизации.\n",
    "\n",
    "Значит, из всех подходов мы оставляем классификатора от Microsoft, который будет обучаться на данных, в которых посредством метода ближайших ссоседей сэмплируется минорный класс, чтобы нивелироваться ассиметрию в распределении меток целевого класса"
   ]
  },
  {
   "cell_type": "markdown",
   "id": "f387efde",
   "metadata": {},
   "source": [
    "В данных присутствует такая фича как \"Пакет услуг клиента на отчетную дату\", посмотрим на уникальные значения этой переменной"
   ]
  },
  {
   "cell_type": "code",
   "execution_count": 63,
   "id": "97a7927d",
   "metadata": {},
   "outputs": [
    {
     "data": {
      "text/plain": [
       "['Технический',\n",
       " 'Премиум',\n",
       " 'Эконом',\n",
       " 'Максимум+',\n",
       " 'Комфорт',\n",
       " 'Корпоративный',\n",
       " 'длякредитовидепозитов',\n",
       " 'Оптимум',\n",
       " 'Класс',\n",
       " 'Другое ',\n",
       " 'МаксимумUltrafree',\n",
       " 'ОптимумUltra',\n",
       " 'А-Клуб',\n",
       " 'ЭкономUltra']"
      ]
     },
     "execution_count": 63,
     "metadata": {},
     "output_type": "execute_result"
    }
   ],
   "source": [
    "srvpackage_vals.unique().tolist()"
   ]
  },
  {
   "cell_type": "markdown",
   "id": "c020608d",
   "metadata": {},
   "source": [
    "С сайта альфа-банка мы спарсили описание этих услуг и с помощью <strong>ruBert</strong> построили их эмбеддинги"
   ]
  },
  {
   "cell_type": "code",
   "execution_count": 64,
   "id": "471d357d",
   "metadata": {},
   "outputs": [],
   "source": [
    "srvpackage_embeds = pd.read_csv(\"data/embed_package.csv\")"
   ]
  },
  {
   "cell_type": "markdown",
   "id": "9468d825",
   "metadata": {},
   "source": [
    "Удалим onehot вектора по признаку \"srvpackage\" и восстановим её исходное номинативное представление"
   ]
  },
  {
   "cell_type": "code",
   "execution_count": 65,
   "id": "e18ab860",
   "metadata": {},
   "outputs": [],
   "source": [
    "cols_to_drop = list(filter(\n",
    "    lambda x: x.startswith(\"srvpackage\"),\n",
    "    list(train)\n",
    "))\n",
    "\n",
    "train.drop(cols_to_drop, axis=1, inplace=True)\n",
    "train[\"srvpackage\"] = srvpackage_vals\n",
    "\n",
    "del cols_to_drop, srvpackage_vals\n",
    "gc.collect();"
   ]
  },
  {
   "cell_type": "markdown",
   "id": "fc7441b6",
   "metadata": {},
   "source": [
    "Теперь присоединим эмбеддинги фичи \"srvpackage\" и удалим её номинативное представление"
   ]
  },
  {
   "cell_type": "code",
   "execution_count": 66,
   "id": "f4524179",
   "metadata": {},
   "outputs": [],
   "source": [
    "train_new = train.merge(srvpackage_embeds, on=\"srvpackage\", how=\"left\")\n",
    "train_new.drop(\"srvpackage\", axis=1, inplace=True)\n",
    "\n",
    "del srvpackage_embeds\n",
    "gc.collect();"
   ]
  },
  {
   "cell_type": "markdown",
   "id": "3e6093bf",
   "metadata": {},
   "source": [
    "Проверим, имеются ли пропуски в данных"
   ]
  },
  {
   "cell_type": "code",
   "execution_count": 67,
   "id": "5feac457",
   "metadata": {},
   "outputs": [
    {
     "data": {
      "text/plain": [
       "149769984"
      ]
     },
     "execution_count": 67,
     "metadata": {},
     "output_type": "execute_result"
    }
   ],
   "source": [
    "train_new.isna().sum().sum()"
   ]
  },
  {
   "cell_type": "markdown",
   "id": "6a9e8988",
   "metadata": {},
   "source": [
    "Заполним эти пропуски, которые образовались на месте новых эмбеддингах, нулями"
   ]
  },
  {
   "cell_type": "code",
   "execution_count": 68,
   "id": "4dddabbc",
   "metadata": {},
   "outputs": [],
   "source": [
    "train_new.fillna(0.0, inplace=True)"
   ]
  },
  {
   "cell_type": "markdown",
   "id": "958b5016",
   "metadata": {},
   "source": [
    "Отлично, пропусков теперь нет. Провалидируем модель на новых данных"
   ]
  },
  {
   "cell_type": "code",
   "execution_count": 69,
   "id": "5bed4b96",
   "metadata": {},
   "outputs": [
    {
     "data": {
      "application/vnd.jupyter.widget-view+json": {
       "model_id": "33be9be90acf438387a9860af56b0940",
       "version_major": 2,
       "version_minor": 0
      },
      "text/plain": [
       "0it [00:00, ?it/s]"
      ]
     },
     "metadata": {},
     "output_type": "display_data"
    },
    {
     "name": "stdout",
     "output_type": "stream",
     "text": [
      "[среднее значение]: 0.5694315\n"
     ]
    }
   ],
   "source": [
    "new_cols = list(train_new) \n",
    "new_cols.remove(\"target\")\n",
    "\n",
    "new_embeds_score = utils.validate(\n",
    "    train_new[new_cols],\n",
    "    train_new[\"target\"],\n",
    "    params={\"random_state\": 11, \"verbose\": -1, \"force_col_wise\": True}\n",
    ")\n",
    "print(f\"[среднее значение]: {round(np.mean(new_embeds_score), 7)}\")\n",
    "\n",
    "del new_embeds_score\n",
    "gc.collect();"
   ]
  },
  {
   "cell_type": "markdown",
   "id": "1eaa78c9",
   "metadata": {},
   "source": [
    "Получили ф-меру, близкую к значению скора на \"сырых\" данных\n",
    "\n",
    "Добавим сюда SMOTE и посмотрим, что получим"
   ]
  },
  {
   "cell_type": "code",
   "execution_count": 70,
   "id": "8cd7f596",
   "metadata": {},
   "outputs": [
    {
     "data": {
      "application/vnd.jupyter.widget-view+json": {
       "model_id": "06c6509cc1e24037bce0ca72fa0bce8f",
       "version_major": 2,
       "version_minor": 0
      },
      "text/plain": [
       "0it [00:00, ?it/s]"
      ]
     },
     "metadata": {},
     "output_type": "display_data"
    },
    {
     "name": "stdout",
     "output_type": "stream",
     "text": [
      "[LightGBM] [Warning] Find whitespaces in feature_names, replace with underlines\n",
      "[LightGBM] [Warning] Find whitespaces in feature_names, replace with underlines\n",
      "[LightGBM] [Warning] Find whitespaces in feature_names, replace with underlines\n",
      "[LightGBM] [Warning] Find whitespaces in feature_names, replace with underlines\n",
      "[LightGBM] [Warning] Find whitespaces in feature_names, replace with underlines\n",
      "[LightGBM] [Warning] Find whitespaces in feature_names, replace with underlines\n",
      "[LightGBM] [Warning] Find whitespaces in feature_names, replace with underlines\n",
      "[LightGBM] [Warning] Find whitespaces in feature_names, replace with underlines\n",
      "[LightGBM] [Warning] Find whitespaces in feature_names, replace with underlines\n",
      "[LightGBM] [Warning] Find whitespaces in feature_names, replace with underlines\n",
      "[среднее значение]: 0.8960119\n"
     ]
    },
    {
     "data": {
      "text/plain": [
       "55"
      ]
     },
     "execution_count": 70,
     "metadata": {},
     "output_type": "execute_result"
    }
   ],
   "source": [
    "_ = utils.check_profile(\n",
    "    new_cols,\n",
    "    train_new\n",
    ")\n",
    "\n",
    "del train_new, new_cols\n",
    "gc.collect()"
   ]
  },
  {
   "cell_type": "markdown",
   "id": "9220b15e",
   "metadata": {},
   "source": [
    "Получается так, что эмбеддинги не вносят абсолютно никакого вклада, т.к. скор получился равным как на \"сырых\" данных"
   ]
  },
  {
   "cell_type": "markdown",
   "id": "34914a46",
   "metadata": {},
   "source": [
    "Прогнав много разных подходов, фиксируем следующее:\n",
    " - будем использовать <strong>LGBMClassifier + SMOTE</strong>, т.к. этот подход показывает самые лучшие результаты относительно остальных;\n",
    " - будем использовать \"сырые\" данные, т.к. ни эмбеддинги, полученные с помощью матричной факторизации, ни добавление новых эмбеддингов признака \"пакет услуг клиента\" не то, что не добавляют в ф-мере, они, хуже того, уменьшают её значение\n",
    " \n",
    "Ранее зафиксировали совокупность метрик, на основании которой будем проводить комплексную оценку перформанса модели. Поэтому используя выбранный нами подход и совокупность метрик, посмотрим на прирост по каждому показателю, сравнивая между собой следующие два пайплайна:\n",
    "1) LGBMClassifier + downsampling (это наш базовый подход, на основании которого производили селект модели);\n",
    "2) LGBMClassifier + SMOTE  (это выбранный нами подход, который показывает лучше всего себя относительно других подходов)"
   ]
  },
  {
   "cell_type": "markdown",
   "id": "ef1aa5da",
   "metadata": {},
   "source": [
    "Оценим сперва наш базовый подход - LGBMClassifier + downsampling"
   ]
  },
  {
   "cell_type": "code",
   "execution_count": 71,
   "id": "be9d847c",
   "metadata": {},
   "outputs": [
    {
     "data": {
      "application/vnd.jupyter.widget-view+json": {
       "model_id": "0d785f45462f4b6088b5787408e91148",
       "version_major": 2,
       "version_minor": 0
      },
      "text/plain": [
       "  0%|          | 0/10 [00:00<?, ?it/s]"
      ]
     },
     "metadata": {},
     "output_type": "display_data"
    }
   ],
   "source": [
    "down_metrics = utils.downsampling_validate(\n",
    "    dfs,\n",
    "    cols,\n",
    "    params={\"random_state\": 11, \"verbose\": -1, \"force_col_wise\": True}\n",
    ")"
   ]
  },
  {
   "cell_type": "markdown",
   "id": "fb0abe03",
   "metadata": {},
   "source": [
    "Теперь оценим выбранный нами подход - LGBMClassifier + SMOTE, а затем сравним результаты"
   ]
  },
  {
   "cell_type": "code",
   "execution_count": 75,
   "id": "a2a47d13",
   "metadata": {},
   "outputs": [
    {
     "data": {
      "application/vnd.jupyter.widget-view+json": {
       "model_id": "960c955271654f729be3dffa95dd6a55",
       "version_major": 2,
       "version_minor": 0
      },
      "text/plain": [
       "0it [00:00, ?it/s]"
      ]
     },
     "metadata": {},
     "output_type": "display_data"
    }
   ],
   "source": [
    "train = pd.get_dummies(data=train, columns=[\"srvpackage\"], drop_first=True)\n",
    "up_metrics = utils.smote_validate(\n",
    "    train[cols],\n",
    "    train[\"target\"],\n",
    "    params={\"random_state\": 11, \"verbose\": -1, \"force_col_wise\": True}\n",
    ")"
   ]
  },
  {
   "cell_type": "markdown",
   "id": "86e47fe9",
   "metadata": {},
   "source": [
    "Посмотрим на совокупности метрик при различный подходах"
   ]
  },
  {
   "cell_type": "code",
   "execution_count": 76,
   "id": "b0d110dd",
   "metadata": {},
   "outputs": [
    {
     "name": "stdout",
     "output_type": "stream",
     "text": [
      "0.8084649 0.8086224 0.8091212 0.8078372\n",
      "0.8960519 0.9012957 0.9463223 0.8508561\n"
     ]
    }
   ],
   "source": [
    "print(*down_metrics)\n",
    "print(*up_metrics)"
   ]
  },
  {
   "cell_type": "markdown",
   "id": "4b7df9e8",
   "metadata": {},
   "source": [
    "Итак, таблица сравнения этих двух подходов выглядит так:\n",
    "\n",
    "<table>\n",
    "    <tr>\n",
    "        <td></td>\n",
    "        <td>lgbm + downsampling</td>\n",
    "        <td>lgbm + upsampling</td>\n",
    "        <td>diff</td>\n",
    "    </tr>  \n",
    "    <tr>\n",
    "        <td>f1</td>\n",
    "        <td>0.8084649</td>\n",
    "        <td>0.8960519</td>\n",
    "        <td>+8.8%</td>\n",
    "    </tr> \n",
    "    <tr>\n",
    "        <td>roc-auc</td>\n",
    "        <td>0.8086224</td>\n",
    "        <td>0.9012957</td>\n",
    "        <td>+9.3%</td>\n",
    "    </tr>  \n",
    "    <tr>\n",
    "        <td>precision</td>\n",
    "        <td>0.8091212</td>\n",
    "        <td>0.9463223</td>\n",
    "        <td>+13.7%</td>\n",
    "    </tr>  \n",
    "    <tr>\n",
    "        <td>recall</td>\n",
    "        <td>0.8078372</td>\n",
    "        <td>0.8508561</td>\n",
    "        <td>+4.3%</td>\n",
    "    </tr>   \n",
    "</table>\n",
    "\n",
    "Из таблицы видно, что выбранный нами подход даёт прирост по каждой метрике. Минимум +4%, а для precision - аж почти +14%.  \n",
    "Осталось подобрать гиперпараметры модели, ведь до текущего момента мы всё ещё использовали дефолтный классификатор. Подбор параметров будем делать с помощью модуля optuna, а в качестве гиперпараметров модели выберем следующее:\n",
    " - num_leaves - кол-во листьев в каждом дереве;\n",
    " - max_depth - максимальная глубина дерева;\n",
    " - n_estimators - кол-во дерерьев;\n",
    " - learning_rate - скорость обучения;\n",
    " - reg_alpha - коэффициент для $l_1$ регуляризации;\n",
    " - reg_lambda - коэффициент для $l_2$ регуляризации;\n",
    " - min_data_in_leaf - кол-во точек, попавших в лист\n",
    " \n",
    "Параметры n_estimators и learning_rate подбираем, чтобы получить скор выше, а совокупность параметров num_leaves, max_depth, reg_alpha, reg_lambda и min_data_in_leaf нужна для того, чтобы сформировать ограничения на веса модели и получить более состоятельные весовые коэффициенты.\n",
    "\n",
    "Т.к. наш классификатор учится довольно быстро, установим кол-во прогонов подбора параметров в 50.\n",
    "Подбор параметров будем осуществлять, используя стратифицированную холдаут стратегию на ресэмплированных данных SMOTE\n",
    "\n",
    "Проведём сперва upsampling данных"
   ]
  },
  {
   "cell_type": "code",
   "execution_count": 78,
   "id": "bbdf05b8",
   "metadata": {},
   "outputs": [],
   "source": [
    "np.random.seed(11)\n",
    "\n",
    "smote = SMOTE(\n",
    "    sampling_strategy=\"minority\",\n",
    "    k_neighbors=10,\n",
    "    random_state=11\n",
    ")\n",
    "\n",
    "train_res, y_res = smote.fit_resample(train[cols], train[\"target\"])"
   ]
  },
  {
   "cell_type": "markdown",
   "id": "ab7af48a",
   "metadata": {},
   "source": [
    "Разобьём на наши данные на две части, используя стратифицированную холдаут стратегию"
   ]
  },
  {
   "cell_type": "code",
   "execution_count": 79,
   "id": "1e5d49ac",
   "metadata": {},
   "outputs": [],
   "source": [
    "np.random.seed(11)\n",
    "\n",
    "x_train, x_val, y_train, y_val = train_test_split(\n",
    "    train_res,\n",
    "    y_res,\n",
    "    test_size=0.2,\n",
    "    shuffle=True,\n",
    "    stratify=y_res,\n",
    "    random_state=11\n",
    ")"
   ]
  },
  {
   "cell_type": "markdown",
   "id": "7dbdfe9d",
   "metadata": {},
   "source": [
    "Напишем целевую функцию для подбора параметров"
   ]
  },
  {
   "cell_type": "code",
   "execution_count": 80,
   "id": "f3cfbe5d",
   "metadata": {},
   "outputs": [],
   "source": [
    "def objective(trial):\n",
    "\n",
    "    params = {\n",
    "        \"num_leaves \": trial.suggest_int(\"num_leaves\", 5, 50),\n",
    "        \"max_depth \": trial.suggest_int(\"max_depth\", 2, 30),\n",
    "        'n_estimators': trial.suggest_int('n_estimators', 100, 1000, log=True),\n",
    "        \"learning_rate\": trial.suggest_float('learning_rate', 0.001, 0.5, log=True),\n",
    "        \"reg_alpha\": trial.suggest_float(\"reg_alpha\", 0.001, 1.0),\n",
    "        \"reg_lambda\": trial.suggest_float(\"reg_lambda\", 0.001, 1.0),\n",
    "        \"min_data_in_leaf\": trial.suggest_int(\"min_data_in_leaf\", 10, 50)\n",
    "    }\n",
    "\n",
    "    clf = LGBMClassifier(**params, random_state=11, verbose=-1, force_col_wise=True)\n",
    "    clf.fit(x_train, y_train)\n",
    "\n",
    "    return round(f1_score(y_val, clf.predict(x_val), average=\"binary\"), 7)"
   ]
  },
  {
   "cell_type": "markdown",
   "id": "248b8ac8",
   "metadata": {},
   "source": [
    "Проведём подбор гиперпараметров нашего классификатора"
   ]
  },
  {
   "cell_type": "code",
   "execution_count": 81,
   "id": "49f3e8e4",
   "metadata": {
    "scrolled": true
   },
   "outputs": [
    {
     "name": "stderr",
     "output_type": "stream",
     "text": [
      "\u001b[32m[I 2023-04-02 21:53:13,406]\u001b[0m A new study created in memory with name: no-name-7c6eff17-d8c5-4cc7-9be8-6525f6a5988f\u001b[0m\n"
     ]
    },
    {
     "data": {
      "application/vnd.jupyter.widget-view+json": {
       "model_id": "c8da328a48174f9cbbd5585ecbc8f9f7",
       "version_major": 2,
       "version_minor": 0
      },
      "text/plain": [
       "  0%|          | 0/50 [00:00<?, ?it/s]"
      ]
     },
     "metadata": {},
     "output_type": "display_data"
    },
    {
     "name": "stdout",
     "output_type": "stream",
     "text": [
      "\u001b[32m[I 2023-04-02 21:56:30,191]\u001b[0m Trial 6 finished with value: 0.8508735 and parameters: {'num_leaves': 39, 'max_depth': 21, 'n_estimators': 101, 'learning_rate': 0.0034979161742324594, 'reg_alpha': 0.0052057752724387505, 'reg_lambda': 0.9206831997105676, 'min_data_in_leaf': 47}. Best is trial 6 with value: 0.8508735.\u001b[0m\n",
      "\u001b[32m[I 2023-04-02 21:56:32,996]\u001b[0m Trial 11 finished with value: 0.846734 and parameters: {'num_leaves': 21, 'max_depth': 3, 'n_estimators': 101, 'learning_rate': 0.0025425694662649483, 'reg_alpha': 0.10237569837602563, 'reg_lambda': 0.8959750069665092, 'min_data_in_leaf': 45}. Best is trial 6 with value: 0.8508735.\u001b[0m\n",
      "\u001b[32m[I 2023-04-02 21:56:46,641]\u001b[0m Trial 0 finished with value: 0.8982377 and parameters: {'num_leaves': 46, 'max_depth': 18, 'n_estimators': 125, 'learning_rate': 0.32739369249774336, 'reg_alpha': 0.17255780263226744, 'reg_lambda': 0.9258873055388199, 'min_data_in_leaf': 28}. Best is trial 0 with value: 0.8982377.\u001b[0m\n",
      "\u001b[32m[I 2023-04-02 21:57:17,988]\u001b[0m Trial 9 finished with value: 0.8990168 and parameters: {'num_leaves': 20, 'max_depth': 24, 'n_estimators': 153, 'learning_rate': 0.2429501066154262, 'reg_alpha': 0.10757986541166722, 'reg_lambda': 0.9764279706063959, 'min_data_in_leaf': 15}. Best is trial 9 with value: 0.8990168.\u001b[0m\n",
      "\u001b[32m[I 2023-04-02 21:57:21,581]\u001b[0m Trial 7 finished with value: 0.8993698 and parameters: {'num_leaves': 26, 'max_depth': 13, 'n_estimators': 143, 'learning_rate': 0.11685903284393524, 'reg_alpha': 0.9223759374226519, 'reg_lambda': 0.9594914722502481, 'min_data_in_leaf': 15}. Best is trial 7 with value: 0.8993698.\u001b[0m\n",
      "\u001b[32m[I 2023-04-02 21:59:44,150]\u001b[0m Trial 14 finished with value: 0.853544 and parameters: {'num_leaves': 5, 'max_depth': 25, 'n_estimators': 125, 'learning_rate': 0.0035853837526071885, 'reg_alpha': 0.15119506713718525, 'reg_lambda': 0.7373690259868021, 'min_data_in_leaf': 46}. Best is trial 7 with value: 0.8993698.\u001b[0m\n",
      "\u001b[32m[I 2023-04-02 21:59:51,720]\u001b[0m Trial 4 finished with value: 0.8860183 and parameters: {'num_leaves': 28, 'max_depth': 25, 'n_estimators': 241, 'learning_rate': 0.012796979768969884, 'reg_alpha': 0.8564282919494626, 'reg_lambda': 0.07869379314156018, 'min_data_in_leaf': 45}. Best is trial 7 with value: 0.8993698.\u001b[0m\n",
      "\u001b[32m[I 2023-04-02 21:59:54,100]\u001b[0m Trial 16 finished with value: 0.8981239 and parameters: {'num_leaves': 6, 'max_depth': 28, 'n_estimators': 105, 'learning_rate': 0.11269983447213254, 'reg_alpha': 0.6666410903748422, 'reg_lambda': 0.4897716799961279, 'min_data_in_leaf': 43}. Best is trial 7 with value: 0.8993698.\u001b[0m\n",
      "\u001b[32m[I 2023-04-02 22:01:04,218]\u001b[0m Trial 10 finished with value: 0.8853231 and parameters: {'num_leaves': 36, 'max_depth': 10, 'n_estimators': 291, 'learning_rate': 0.01018783657402573, 'reg_alpha': 0.4285003365957216, 'reg_lambda': 0.05124586098077821, 'min_data_in_leaf': 16}. Best is trial 7 with value: 0.8993698.\u001b[0m\n",
      "\u001b[32m[I 2023-04-02 22:01:48,677]\u001b[0m Trial 1 finished with value: 0.878451 and parameters: {'num_leaves': 42, 'max_depth': 3, 'n_estimators': 333, 'learning_rate': 0.0064197801158107585, 'reg_alpha': 0.10693293390042115, 'reg_lambda': 0.6563127255616842, 'min_data_in_leaf': 18}. Best is trial 7 with value: 0.8993698.\u001b[0m\n",
      "\u001b[32m[I 2023-04-02 22:02:04,513]\u001b[0m Trial 3 finished with value: 0.9006771 and parameters: {'num_leaves': 41, 'max_depth': 11, 'n_estimators': 377, 'learning_rate': 0.12176532251187273, 'reg_alpha': 0.32422768139646735, 'reg_lambda': 0.4833109794400452, 'min_data_in_leaf': 45}. Best is trial 3 with value: 0.9006771.\u001b[0m\n",
      "\u001b[32m[I 2023-04-02 22:02:19,589]\u001b[0m Trial 5 finished with value: 0.9002965 and parameters: {'num_leaves': 35, 'max_depth': 8, 'n_estimators': 365, 'learning_rate': 0.07871354209928529, 'reg_alpha': 0.34894033715035605, 'reg_lambda': 0.22796094112216986, 'min_data_in_leaf': 30}. Best is trial 3 with value: 0.9006771.\u001b[0m\n",
      "\u001b[32m[I 2023-04-02 22:03:55,681]\u001b[0m Trial 20 finished with value: 0.8934164 and parameters: {'num_leaves': 9, 'max_depth': 29, 'n_estimators': 104, 'learning_rate': 0.05288648483939888, 'reg_alpha': 0.5115958513003683, 'reg_lambda': 0.07005320559146107, 'min_data_in_leaf': 29}. Best is trial 3 with value: 0.9006771.\u001b[0m\n",
      "\u001b[32m[I 2023-04-02 22:05:23,945]\u001b[0m Trial 2 finished with value: 0.8973662 and parameters: {'num_leaves': 26, 'max_depth': 13, 'n_estimators': 483, 'learning_rate': 0.018334330847974454, 'reg_alpha': 0.1620910685523658, 'reg_lambda': 0.6697013377191215, 'min_data_in_leaf': 24}. Best is trial 3 with value: 0.9006771.\u001b[0m\n",
      "\u001b[32m[I 2023-04-02 22:07:33,166]\u001b[0m Trial 18 finished with value: 0.8992485 and parameters: {'num_leaves': 28, 'max_depth': 14, 'n_estimators': 301, 'learning_rate': 0.049910173289781874, 'reg_alpha': 0.3890010344066767, 'reg_lambda': 0.4808719565776181, 'min_data_in_leaf': 25}. Best is trial 3 with value: 0.9006771.\u001b[0m\n",
      "\u001b[32m[I 2023-04-02 22:08:35,466]\u001b[0m Trial 8 finished with value: 0.8977673 and parameters: {'num_leaves': 36, 'max_depth': 18, 'n_estimators': 603, 'learning_rate': 0.015792316334805906, 'reg_alpha': 0.9308883713909571, 'reg_lambda': 0.16030480838896494, 'min_data_in_leaf': 49}. Best is trial 3 with value: 0.9006771.\u001b[0m\n",
      "\u001b[32m[I 2023-04-02 22:09:08,532]\u001b[0m Trial 12 finished with value: 0.8916003 and parameters: {'num_leaves': 5, 'max_depth': 28, 'n_estimators': 516, 'learning_rate': 0.008484929657690515, 'reg_alpha': 0.43452225866069344, 'reg_lambda': 0.18905271210797192, 'min_data_in_leaf': 46}. Best is trial 3 with value: 0.9006771.\u001b[0m\n",
      "\u001b[32m[I 2023-04-02 22:12:23,039]\u001b[0m Trial 17 finished with value: 0.872906 and parameters: {'num_leaves': 49, 'max_depth': 9, 'n_estimators': 527, 'learning_rate': 0.0031160372285640972, 'reg_alpha': 0.3745946701573355, 'reg_lambda': 0.9516631993069716, 'min_data_in_leaf': 29}. Best is trial 3 with value: 0.9006771.\u001b[0m\n",
      "\u001b[32m[I 2023-04-02 22:12:37,184]\u001b[0m Trial 15 finished with value: 0.887366 and parameters: {'num_leaves': 17, 'max_depth': 28, 'n_estimators': 637, 'learning_rate': 0.005115263401558292, 'reg_alpha': 0.7010250378222387, 'reg_lambda': 0.4394840303662835, 'min_data_in_leaf': 19}. Best is trial 3 with value: 0.9006771.\u001b[0m\n",
      "\u001b[32m[I 2023-04-02 22:14:05,521]\u001b[0m Trial 19 finished with value: 0.8967965 and parameters: {'num_leaves': 6, 'max_depth': 7, 'n_estimators': 596, 'learning_rate': 0.01417683054149752, 'reg_alpha': 0.7520650697610243, 'reg_lambda': 0.5048912530267962, 'min_data_in_leaf': 26}. Best is trial 3 with value: 0.9006771.\u001b[0m\n",
      "\u001b[32m[I 2023-04-02 22:14:28,065]\u001b[0m Trial 13 finished with value: 0.8967148 and parameters: {'num_leaves': 5, 'max_depth': 24, 'n_estimators': 735, 'learning_rate': 0.01050247055137491, 'reg_alpha': 0.7620356738333863, 'reg_lambda': 0.07349131532385646, 'min_data_in_leaf': 48}. Best is trial 3 with value: 0.9006771.\u001b[0m\n",
      "\u001b[32m[I 2023-04-02 22:16:04,337]\u001b[0m Trial 22 finished with value: 0.9004227 and parameters: {'num_leaves': 31, 'max_depth': 12, 'n_estimators': 673, 'learning_rate': 0.05314065260080508, 'reg_alpha': 0.42747097888179836, 'reg_lambda': 0.37700131963363254, 'min_data_in_leaf': 33}. Best is trial 3 with value: 0.9006771.\u001b[0m\n",
      "\u001b[32m[I 2023-04-02 22:16:04,389]\u001b[0m Trial 23 finished with value: 0.9002108 and parameters: {'num_leaves': 33, 'max_depth': 9, 'n_estimators': 647, 'learning_rate': 0.05128380902574288, 'reg_alpha': 0.3870535121272797, 'reg_lambda': 0.30149736334691724, 'min_data_in_leaf': 33}. Best is trial 3 with value: 0.9006771.\u001b[0m\n",
      "\u001b[32m[I 2023-04-02 22:17:34,922]\u001b[0m Trial 21 finished with value: 0.900527 and parameters: {'num_leaves': 29, 'max_depth': 12, 'n_estimators': 793, 'learning_rate': 0.046673800189925306, 'reg_alpha': 0.9910522470378005, 'reg_lambda': 0.31580608983488034, 'min_data_in_leaf': 26}. Best is trial 3 with value: 0.9006771.\u001b[0m\n",
      "\u001b[32m[I 2023-04-02 22:17:44,007]\u001b[0m Trial 32 finished with value: 0.8993087 and parameters: {'num_leaves': 34, 'max_depth': 7, 'n_estimators': 205, 'learning_rate': 0.14124745336141187, 'reg_alpha': 0.2980779040820317, 'reg_lambda': 0.252448717661657, 'min_data_in_leaf': 37}. Best is trial 3 with value: 0.9006771.\u001b[0m\n",
      "\u001b[32m[I 2023-04-02 22:18:24,094]\u001b[0m Trial 24 finished with value: 0.8998979 and parameters: {'num_leaves': 49, 'max_depth': 8, 'n_estimators': 719, 'learning_rate': 0.03254247220869922, 'reg_alpha': 0.3572106942639397, 'reg_lambda': 0.3035112294363973, 'min_data_in_leaf': 34}. Best is trial 3 with value: 0.9006771.\u001b[0m\n"
     ]
    },
    {
     "name": "stdout",
     "output_type": "stream",
     "text": [
      "\u001b[32m[I 2023-04-02 22:20:38,377]\u001b[0m Trial 25 finished with value: 0.9002668 and parameters: {'num_leaves': 50, 'max_depth': 8, 'n_estimators': 859, 'learning_rate': 0.03990265819392292, 'reg_alpha': 0.3603775539563236, 'reg_lambda': 0.3115686139073775, 'min_data_in_leaf': 36}. Best is trial 3 with value: 0.9006771.\u001b[0m\n",
      "\u001b[32m[I 2023-04-02 22:22:37,831]\u001b[0m Trial 27 finished with value: 0.9004148 and parameters: {'num_leaves': 50, 'max_depth': 9, 'n_estimators': 846, 'learning_rate': 0.0492762360453839, 'reg_alpha': 0.3161822002096809, 'reg_lambda': 0.2893565224424318, 'min_data_in_leaf': 37}. Best is trial 3 with value: 0.9006771.\u001b[0m\n",
      "\u001b[32m[I 2023-04-02 22:23:45,862]\u001b[0m Trial 26 finished with value: 0.9008774 and parameters: {'num_leaves': 34, 'max_depth': 7, 'n_estimators': 930, 'learning_rate': 0.04254121076855816, 'reg_alpha': 0.30442303662138076, 'reg_lambda': 0.26580810429710855, 'min_data_in_leaf': 36}. Best is trial 26 with value: 0.9008774.\u001b[0m\n",
      "\u001b[32m[I 2023-04-02 22:25:38,741]\u001b[0m Trial 30 finished with value: 0.900586 and parameters: {'num_leaves': 33, 'max_depth': 7, 'n_estimators': 826, 'learning_rate': 0.05542369875211472, 'reg_alpha': 0.5862761886540069, 'reg_lambda': 0.331204214794315, 'min_data_in_leaf': 36}. Best is trial 26 with value: 0.9008774.\u001b[0m\n",
      "\u001b[32m[I 2023-04-02 22:26:57,426]\u001b[0m Trial 28 finished with value: 0.8663473 and parameters: {'num_leaves': 50, 'max_depth': 8, 'n_estimators': 985, 'learning_rate': 0.0011298452542794985, 'reg_alpha': 0.3026938947201895, 'reg_lambda': 0.34368754195516216, 'min_data_in_leaf': 37}. Best is trial 26 with value: 0.9008774.\u001b[0m\n",
      "\u001b[32m[I 2023-04-02 22:27:53,532]\u001b[0m Trial 29 finished with value: 0.8657181 and parameters: {'num_leaves': 33, 'max_depth': 6, 'n_estimators': 912, 'learning_rate': 0.0011711997066947584, 'reg_alpha': 0.26942514781700416, 'reg_lambda': 0.3553244431288004, 'min_data_in_leaf': 37}. Best is trial 26 with value: 0.9008774.\u001b[0m\n",
      "\u001b[32m[I 2023-04-02 22:28:02,690]\u001b[0m Trial 31 finished with value: 0.9005917 and parameters: {'num_leaves': 32, 'max_depth': 6, 'n_estimators': 933, 'learning_rate': 0.03683760821630095, 'reg_alpha': 0.27296667257776597, 'reg_lambda': 0.3390911263788886, 'min_data_in_leaf': 36}. Best is trial 26 with value: 0.9008774.\u001b[0m\n",
      "\u001b[32m[I 2023-04-02 22:28:49,297]\u001b[0m Trial 39 finished with value: 0.8983971 and parameters: {'num_leaves': 41, 'max_depth': 16, 'n_estimators': 414, 'learning_rate': 0.027570998382309198, 'reg_alpha': 0.5536207737677066, 'reg_lambda': 0.4204038744290701, 'min_data_in_leaf': 11}. Best is trial 26 with value: 0.9008774.\u001b[0m\n",
      "\u001b[32m[I 2023-04-02 22:28:49,767]\u001b[0m Trial 34 finished with value: 0.9014976 and parameters: {'num_leaves': 43, 'max_depth': 6, 'n_estimators': 939, 'learning_rate': 0.1325993494491041, 'reg_alpha': 0.28560942825211894, 'reg_lambda': 0.3218016758032404, 'min_data_in_leaf': 36}. Best is trial 34 with value: 0.9014976.\u001b[0m\n",
      "\u001b[32m[I 2023-04-02 22:29:10,669]\u001b[0m Trial 33 finished with value: 0.9002525 and parameters: {'num_leaves': 33, 'max_depth': 6, 'n_estimators': 975, 'learning_rate': 0.04039551781468007, 'reg_alpha': 0.2876546247485036, 'reg_lambda': 0.28846218722325817, 'min_data_in_leaf': 36}. Best is trial 34 with value: 0.9014976.\u001b[0m\n",
      "\u001b[32m[I 2023-04-02 22:29:23,120]\u001b[0m Trial 36 finished with value: 0.9002141 and parameters: {'num_leaves': 42, 'max_depth': 16, 'n_estimators': 844, 'learning_rate': 0.03123701179662461, 'reg_alpha': 0.6115550621619937, 'reg_lambda': 0.3817143485186356, 'min_data_in_leaf': 39}. Best is trial 34 with value: 0.9014976.\u001b[0m\n",
      "\u001b[32m[I 2023-04-02 22:29:41,903]\u001b[0m Trial 35 finished with value: 0.9001746 and parameters: {'num_leaves': 32, 'max_depth': 16, 'n_estimators': 983, 'learning_rate': 0.027963470463221552, 'reg_alpha': 0.552404858422943, 'reg_lambda': 0.353643271221886, 'min_data_in_leaf': 36}. Best is trial 34 with value: 0.9014976.\u001b[0m\n",
      "\u001b[32m[I 2023-04-02 22:29:46,442]\u001b[0m Trial 37 finished with value: 0.9003361 and parameters: {'num_leaves': 42, 'max_depth': 16, 'n_estimators': 923, 'learning_rate': 0.02751088435648813, 'reg_alpha': 0.5320207058754914, 'reg_lambda': 0.40454407447797563, 'min_data_in_leaf': 10}. Best is trial 34 with value: 0.9014976.\u001b[0m\n",
      "\u001b[32m[I 2023-04-02 22:29:55,001]\u001b[0m Trial 38 finished with value: 0.9001032 and parameters: {'num_leaves': 44, 'max_depth': 16, 'n_estimators': 885, 'learning_rate': 0.025868785967283238, 'reg_alpha': 0.5413312681314995, 'reg_lambda': 0.4103489299041446, 'min_data_in_leaf': 40}. Best is trial 34 with value: 0.9014976.\u001b[0m\n"
     ]
    }
   ],
   "source": [
    "study = optuna.create_study(direction=\"maximize\")\n",
    "study.optimize(objective, n_trials=50, timeout=1800, n_jobs=-1, show_progress_bar=True)"
   ]
  },
  {
   "cell_type": "markdown",
   "id": "8b6445a1",
   "metadata": {},
   "source": [
    "Посмотрим, какой скор удалось получить, и какие при этом параметры"
   ]
  },
  {
   "cell_type": "code",
   "execution_count": 82,
   "id": "866c2181",
   "metadata": {},
   "outputs": [
    {
     "data": {
      "text/plain": [
       "0.9014976"
      ]
     },
     "execution_count": 82,
     "metadata": {},
     "output_type": "execute_result"
    }
   ],
   "source": [
    "study.best_value"
   ]
  },
  {
   "cell_type": "code",
   "execution_count": 83,
   "id": "e806cfa7",
   "metadata": {},
   "outputs": [
    {
     "data": {
      "text/plain": [
       "{'num_leaves': 43,\n",
       " 'max_depth': 6,\n",
       " 'n_estimators': 939,\n",
       " 'learning_rate': 0.1325993494491041,\n",
       " 'reg_alpha': 0.28560942825211894,\n",
       " 'reg_lambda': 0.3218016758032404,\n",
       " 'min_data_in_leaf': 36}"
      ]
     },
     "execution_count": 83,
     "metadata": {},
     "output_type": "execute_result"
    }
   ],
   "source": [
    "best_params = study.best_params\n",
    "best_params[\"random_state\"] = 11\n",
    "best_params[\"verbose\"] = -1\n",
    "best_params[\"force_col_wise\"] = True\n",
    "\n",
    "study.best_params"
   ]
  },
  {
   "cell_type": "markdown",
   "id": "3c4d02a2",
   "metadata": {},
   "source": [
    "Провалидируем наш классификатор на лучшем сете параметров"
   ]
  },
  {
   "cell_type": "code",
   "execution_count": 84,
   "id": "1fce090a",
   "metadata": {},
   "outputs": [
    {
     "data": {
      "application/vnd.jupyter.widget-view+json": {
       "model_id": "341f9c5e75fe4a1cb38d082627480040",
       "version_major": 2,
       "version_minor": 0
      },
      "text/plain": [
       "0it [00:00, ?it/s]"
      ]
     },
     "metadata": {},
     "output_type": "display_data"
    },
    {
     "name": "stdout",
     "output_type": "stream",
     "text": [
      "[LightGBM] [Warning] min_data_in_leaf is set=36, min_child_samples=20 will be ignored. Current value: min_data_in_leaf=36\n",
      "[LightGBM] [Warning] min_data_in_leaf is set=36, min_child_samples=20 will be ignored. Current value: min_data_in_leaf=36\n",
      "[LightGBM] [Warning] min_data_in_leaf is set=36, min_child_samples=20 will be ignored. Current value: min_data_in_leaf=36\n",
      "[LightGBM] [Warning] min_data_in_leaf is set=36, min_child_samples=20 will be ignored. Current value: min_data_in_leaf=36\n",
      "[LightGBM] [Warning] min_data_in_leaf is set=36, min_child_samples=20 will be ignored. Current value: min_data_in_leaf=36\n",
      "[LightGBM] [Warning] min_data_in_leaf is set=36, min_child_samples=20 will be ignored. Current value: min_data_in_leaf=36\n",
      "[LightGBM] [Warning] min_data_in_leaf is set=36, min_child_samples=20 will be ignored. Current value: min_data_in_leaf=36\n",
      "[LightGBM] [Warning] min_data_in_leaf is set=36, min_child_samples=20 will be ignored. Current value: min_data_in_leaf=36\n",
      "[LightGBM] [Warning] min_data_in_leaf is set=36, min_child_samples=20 will be ignored. Current value: min_data_in_leaf=36\n",
      "[LightGBM] [Warning] min_data_in_leaf is set=36, min_child_samples=20 will be ignored. Current value: min_data_in_leaf=36\n"
     ]
    },
    {
     "data": {
      "text/plain": [
       "(0.900548, 0.9055243, 0.9506214, 0.8554889)"
      ]
     },
     "execution_count": 84,
     "metadata": {},
     "output_type": "execute_result"
    }
   ],
   "source": [
    "best_metrics = utils.smote_validate(\n",
    "    train[cols],\n",
    "    train[\"target\"],\n",
    "    params=best_params\n",
    ")\n",
    "best_metrics"
   ]
  },
  {
   "cell_type": "markdown",
   "id": "24e5f6b2",
   "metadata": {},
   "source": [
    "Сведём все данные в таблицу и получим:\n",
    "<table>\n",
    "    <tr>\n",
    "        <td></td>\n",
    "        <td>lgbm + downsampling</td>\n",
    "        <td>lgbm + upsampling</td>\n",
    "        <td>optuna(lgbm + upsampling)</td>\n",
    "        <td>diff</td>\n",
    "    </tr>  \n",
    "    <tr>\n",
    "        <td>f1</td>\n",
    "        <td>0.8084649</td>\n",
    "        <td>0.8960519</td>\n",
    "        <td>0.900548</td>\n",
    "        <td>+0.45%</td>\n",
    "    </tr> \n",
    "    <tr>\n",
    "        <td>roc-auc</td>\n",
    "        <td>0.8086224</td>\n",
    "        <td>0.9012957</td>\n",
    "        <td>0.9055243</td>\n",
    "        <td>+0.43%</td>\n",
    "    </tr>  \n",
    "    <tr>\n",
    "        <td>precision</td>\n",
    "        <td>0.8091212</td>\n",
    "        <td>0.9463223</td>\n",
    "        <td>0.9506214</td>\n",
    "        <td>+0.43%</td>\n",
    "    </tr>  \n",
    "    <tr>\n",
    "        <td>recall</td>\n",
    "        <td>0.8078372</td>\n",
    "        <td>0.8508561</td>\n",
    "        <td>0.8554889</td>\n",
    "        <td>+0.46%</td>\n",
    "    </tr>   \n",
    "</table>\n",
    "\n",
    "В среднем благодаря поиску гиперпараметров модели удалось поднять совокупность метрик на 0.43%, а также ввести ограничения на веса модели путём ввода регуляризации (коэффициентов $l_1$, $l_2$) и ограничений на кол-во листьев в одном дереве, максимальную глубину дерева,а также на кол-во сэмплов в каждом листе"
   ]
  },
  {
   "cell_type": "markdown",
   "id": "6f58e25f",
   "metadata": {},
   "source": [
    "Обучим наш классификатор ресэмплированных данных и сохраним полученные веса модели"
   ]
  },
  {
   "cell_type": "code",
   "execution_count": 85,
   "id": "9779fb42",
   "metadata": {},
   "outputs": [
    {
     "name": "stdout",
     "output_type": "stream",
     "text": [
      "[LightGBM] [Warning] min_data_in_leaf is set=36, min_child_samples=20 will be ignored. Current value: min_data_in_leaf=36\n"
     ]
    },
    {
     "data": {
      "text/html": [
       "<style>#sk-container-id-1 {color: black;background-color: white;}#sk-container-id-1 pre{padding: 0;}#sk-container-id-1 div.sk-toggleable {background-color: white;}#sk-container-id-1 label.sk-toggleable__label {cursor: pointer;display: block;width: 100%;margin-bottom: 0;padding: 0.3em;box-sizing: border-box;text-align: center;}#sk-container-id-1 label.sk-toggleable__label-arrow:before {content: \"▸\";float: left;margin-right: 0.25em;color: #696969;}#sk-container-id-1 label.sk-toggleable__label-arrow:hover:before {color: black;}#sk-container-id-1 div.sk-estimator:hover label.sk-toggleable__label-arrow:before {color: black;}#sk-container-id-1 div.sk-toggleable__content {max-height: 0;max-width: 0;overflow: hidden;text-align: left;background-color: #f0f8ff;}#sk-container-id-1 div.sk-toggleable__content pre {margin: 0.2em;color: black;border-radius: 0.25em;background-color: #f0f8ff;}#sk-container-id-1 input.sk-toggleable__control:checked~div.sk-toggleable__content {max-height: 200px;max-width: 100%;overflow: auto;}#sk-container-id-1 input.sk-toggleable__control:checked~label.sk-toggleable__label-arrow:before {content: \"▾\";}#sk-container-id-1 div.sk-estimator input.sk-toggleable__control:checked~label.sk-toggleable__label {background-color: #d4ebff;}#sk-container-id-1 div.sk-label input.sk-toggleable__control:checked~label.sk-toggleable__label {background-color: #d4ebff;}#sk-container-id-1 input.sk-hidden--visually {border: 0;clip: rect(1px 1px 1px 1px);clip: rect(1px, 1px, 1px, 1px);height: 1px;margin: -1px;overflow: hidden;padding: 0;position: absolute;width: 1px;}#sk-container-id-1 div.sk-estimator {font-family: monospace;background-color: #f0f8ff;border: 1px dotted black;border-radius: 0.25em;box-sizing: border-box;margin-bottom: 0.5em;}#sk-container-id-1 div.sk-estimator:hover {background-color: #d4ebff;}#sk-container-id-1 div.sk-parallel-item::after {content: \"\";width: 100%;border-bottom: 1px solid gray;flex-grow: 1;}#sk-container-id-1 div.sk-label:hover label.sk-toggleable__label {background-color: #d4ebff;}#sk-container-id-1 div.sk-serial::before {content: \"\";position: absolute;border-left: 1px solid gray;box-sizing: border-box;top: 0;bottom: 0;left: 50%;z-index: 0;}#sk-container-id-1 div.sk-serial {display: flex;flex-direction: column;align-items: center;background-color: white;padding-right: 0.2em;padding-left: 0.2em;position: relative;}#sk-container-id-1 div.sk-item {position: relative;z-index: 1;}#sk-container-id-1 div.sk-parallel {display: flex;align-items: stretch;justify-content: center;background-color: white;position: relative;}#sk-container-id-1 div.sk-item::before, #sk-container-id-1 div.sk-parallel-item::before {content: \"\";position: absolute;border-left: 1px solid gray;box-sizing: border-box;top: 0;bottom: 0;left: 50%;z-index: -1;}#sk-container-id-1 div.sk-parallel-item {display: flex;flex-direction: column;z-index: 1;position: relative;background-color: white;}#sk-container-id-1 div.sk-parallel-item:first-child::after {align-self: flex-end;width: 50%;}#sk-container-id-1 div.sk-parallel-item:last-child::after {align-self: flex-start;width: 50%;}#sk-container-id-1 div.sk-parallel-item:only-child::after {width: 0;}#sk-container-id-1 div.sk-dashed-wrapped {border: 1px dashed gray;margin: 0 0.4em 0.5em 0.4em;box-sizing: border-box;padding-bottom: 0.4em;background-color: white;}#sk-container-id-1 div.sk-label label {font-family: monospace;font-weight: bold;display: inline-block;line-height: 1.2em;}#sk-container-id-1 div.sk-label-container {text-align: center;}#sk-container-id-1 div.sk-container {/* jupyter's `normalize.less` sets `[hidden] { display: none; }` but bootstrap.min.css set `[hidden] { display: none !important; }` so we also need the `!important` here to be able to override the default hidden behavior on the sphinx rendered scikit-learn.org. See: https://github.com/scikit-learn/scikit-learn/issues/21755 */display: inline-block !important;position: relative;}#sk-container-id-1 div.sk-text-repr-fallback {display: none;}</style><div id=\"sk-container-id-1\" class=\"sk-top-container\"><div class=\"sk-text-repr-fallback\"><pre>LGBMClassifier(force_col_wise=True, learning_rate=0.1325993494491041,\n",
       "               max_depth=6, min_data_in_leaf=36, n_estimators=939,\n",
       "               num_leaves=43, random_state=11, reg_alpha=0.28560942825211894,\n",
       "               reg_lambda=0.3218016758032404, verbose=-1)</pre><b>In a Jupyter environment, please rerun this cell to show the HTML representation or trust the notebook. <br />On GitHub, the HTML representation is unable to render, please try loading this page with nbviewer.org.</b></div><div class=\"sk-container\" hidden><div class=\"sk-item\"><div class=\"sk-estimator sk-toggleable\"><input class=\"sk-toggleable__control sk-hidden--visually\" id=\"sk-estimator-id-1\" type=\"checkbox\" checked><label for=\"sk-estimator-id-1\" class=\"sk-toggleable__label sk-toggleable__label-arrow\">LGBMClassifier</label><div class=\"sk-toggleable__content\"><pre>LGBMClassifier(force_col_wise=True, learning_rate=0.1325993494491041,\n",
       "               max_depth=6, min_data_in_leaf=36, n_estimators=939,\n",
       "               num_leaves=43, random_state=11, reg_alpha=0.28560942825211894,\n",
       "               reg_lambda=0.3218016758032404, verbose=-1)</pre></div></div></div></div></div>"
      ],
      "text/plain": [
       "LGBMClassifier(force_col_wise=True, learning_rate=0.1325993494491041,\n",
       "               max_depth=6, min_data_in_leaf=36, n_estimators=939,\n",
       "               num_leaves=43, random_state=11, reg_alpha=0.28560942825211894,\n",
       "               reg_lambda=0.3218016758032404, verbose=-1)"
      ]
     },
     "execution_count": 85,
     "metadata": {},
     "output_type": "execute_result"
    }
   ],
   "source": [
    "np.random.seed(11)\n",
    "\n",
    "fin_clf = LGBMClassifier(**best_params)\n",
    "fin_clf.fit(train_res, y_res)"
   ]
  },
  {
   "cell_type": "code",
   "execution_count": 86,
   "id": "9b9f8d84",
   "metadata": {},
   "outputs": [
    {
     "data": {
      "text/plain": [
       "['models/fin_lgb.pkl']"
      ]
     },
     "execution_count": 86,
     "metadata": {},
     "output_type": "execute_result"
    }
   ],
   "source": [
    "joblib.dump(fin_clf, \"models/fin_lgb.pkl\")"
   ]
  },
  {
   "cell_type": "markdown",
   "id": "857db388",
   "metadata": {},
   "source": []
  }
 ],
 "metadata": {
  "kernelspec": {
   "display_name": "Python 3 (ipykernel)",
   "language": "python",
   "name": "python3"
  },
  "language_info": {
   "codemirror_mode": {
    "name": "ipython",
    "version": 3
   },
   "file_extension": ".py",
   "mimetype": "text/x-python",
   "name": "python",
   "nbconvert_exporter": "python",
   "pygments_lexer": "ipython3",
   "version": "3.9.13"
  },
  "varInspector": {
   "cols": {
    "lenName": 16,
    "lenType": 16,
    "lenVar": 40
   },
   "kernels_config": {
    "python": {
     "delete_cmd_postfix": "",
     "delete_cmd_prefix": "del ",
     "library": "var_list.py",
     "varRefreshCmd": "print(var_dic_list())"
    },
    "r": {
     "delete_cmd_postfix": ") ",
     "delete_cmd_prefix": "rm(",
     "library": "var_list.r",
     "varRefreshCmd": "cat(var_dic_list()) "
    }
   },
   "types_to_exclude": [
    "module",
    "function",
    "builtin_function_or_method",
    "instance",
    "_Feature"
   ],
   "window_display": false
  }
 },
 "nbformat": 4,
 "nbformat_minor": 5
}
