{
 "cells": [
  {
   "cell_type": "markdown",
   "id": "f7cb8dd8",
   "metadata": {},
   "source": [
    "Загрузим необходимый функционал"
   ]
  },
  {
   "cell_type": "code",
   "execution_count": 149,
   "id": "8571e838",
   "metadata": {},
   "outputs": [],
   "source": [
    "import gc\n",
    "import joblib\n",
    "import warnings\n",
    "\n",
    "import scipy\n",
    "import numpy as np\n",
    "import pandas as pd\n",
    "import seaborn as sns\n",
    "from src import utils\n",
    "from collections import Counter\n",
    "from tqdm import (notebook, tqdm)\n",
    "from matplotlib import pyplot as plt\n",
    "\n",
    "tqdm.pandas()\n",
    "warnings.filterwarnings(\"ignore\")"
   ]
  },
  {
   "cell_type": "markdown",
   "id": "eeff52b2",
   "metadata": {},
   "source": [
    "<h1 align=\"center\">Анализ данных о картодержателях и генерация таргета</h1>"
   ]
  },
  {
   "cell_type": "markdown",
   "id": "76ebbe18",
   "metadata": {},
   "source": [
    "Загрузим данные, посмотрим на размерность и потребление памяти"
   ]
  },
  {
   "cell_type": "code",
   "execution_count": 2,
   "id": "f10d5a70",
   "metadata": {},
   "outputs": [
    {
     "name": "stdout",
     "output_type": "stream",
     "text": [
      "[Размерность]: (618366, 4)\n",
      "[Потребление памяти]: 18.871 Мб\n"
     ]
    }
   ],
   "source": [
    "card_info = pd.read_csv(\"data/objects_cup.csv\")\n",
    "print(f\"[Размерность]: {card_info.shape}\")\n",
    "print(f\"[Потребление памяти]: {round(card_info.memory_usage().sum() / 1024 ** 2, 3)} Мб\")"
   ]
  },
  {
   "cell_type": "markdown",
   "id": "00667f99",
   "metadata": {},
   "source": [
    "По памяти довольно терпимо\n",
    "\n",
    "Посмотрим на 5 случайно отобранных строк"
   ]
  },
  {
   "cell_type": "code",
   "execution_count": 3,
   "id": "db6a0446",
   "metadata": {},
   "outputs": [
    {
     "data": {
      "text/html": [
       "<div>\n",
       "<style scoped>\n",
       "    .dataframe tbody tr th:only-of-type {\n",
       "        vertical-align: middle;\n",
       "    }\n",
       "\n",
       "    .dataframe tbody tr th {\n",
       "        vertical-align: top;\n",
       "    }\n",
       "\n",
       "    .dataframe thead th {\n",
       "        text-align: right;\n",
       "    }\n",
       "</style>\n",
       "<table border=\"1\" class=\"dataframe\">\n",
       "  <thead>\n",
       "    <tr style=\"text-align: right;\">\n",
       "      <th></th>\n",
       "      <th>card_uk</th>\n",
       "      <th>cardapp_date</th>\n",
       "      <th>owner_id</th>\n",
       "      <th>holder_id</th>\n",
       "    </tr>\n",
       "  </thead>\n",
       "  <tbody>\n",
       "    <tr>\n",
       "      <th>418389</th>\n",
       "      <td>2.199436e+11</td>\n",
       "      <td>2022-02-18</td>\n",
       "      <td>732303e54409d857b59f0b984eea045a30031c1b88c5f3...</td>\n",
       "      <td>732303e54409d857b59f0b984eea045a30031c1b88c5f3...</td>\n",
       "    </tr>\n",
       "    <tr>\n",
       "      <th>196233</th>\n",
       "      <td>2.164175e+11</td>\n",
       "      <td>2021-11-01</td>\n",
       "      <td>7ef90ab9d29c006fbf3dff8d34551bcc900c9bf99c2d21...</td>\n",
       "      <td>7ef90ab9d29c006fbf3dff8d34551bcc900c9bf99c2d21...</td>\n",
       "    </tr>\n",
       "    <tr>\n",
       "      <th>553638</th>\n",
       "      <td>1.102632e+11</td>\n",
       "      <td>2020-11-03</td>\n",
       "      <td>b5c43bcfb547de8f604d36be7c8fe062e6ccb00cbf0c22...</td>\n",
       "      <td>b5c43bcfb547de8f604d36be7c8fe062e6ccb00cbf0c22...</td>\n",
       "    </tr>\n",
       "    <tr>\n",
       "      <th>102383</th>\n",
       "      <td>1.919450e+11</td>\n",
       "      <td>2021-08-10</td>\n",
       "      <td>aee99f920469f89d26c2cefc1c05eea20082dc3371f58f...</td>\n",
       "      <td>aee99f920469f89d26c2cefc1c05eea20082dc3371f58f...</td>\n",
       "    </tr>\n",
       "    <tr>\n",
       "      <th>76291</th>\n",
       "      <td>1.929897e+11</td>\n",
       "      <td>1900-01-01</td>\n",
       "      <td>fd2baff1d6f42c7dcd2efcbcec398fd8887718af28be71...</td>\n",
       "      <td>fd2baff1d6f42c7dcd2efcbcec398fd8887718af28be71...</td>\n",
       "    </tr>\n",
       "  </tbody>\n",
       "</table>\n",
       "</div>"
      ],
      "text/plain": [
       "             card_uk cardapp_date  \\\n",
       "418389  2.199436e+11   2022-02-18   \n",
       "196233  2.164175e+11   2021-11-01   \n",
       "553638  1.102632e+11   2020-11-03   \n",
       "102383  1.919450e+11   2021-08-10   \n",
       "76291   1.929897e+11   1900-01-01   \n",
       "\n",
       "                                                 owner_id  \\\n",
       "418389  732303e54409d857b59f0b984eea045a30031c1b88c5f3...   \n",
       "196233  7ef90ab9d29c006fbf3dff8d34551bcc900c9bf99c2d21...   \n",
       "553638  b5c43bcfb547de8f604d36be7c8fe062e6ccb00cbf0c22...   \n",
       "102383  aee99f920469f89d26c2cefc1c05eea20082dc3371f58f...   \n",
       "76291   fd2baff1d6f42c7dcd2efcbcec398fd8887718af28be71...   \n",
       "\n",
       "                                                holder_id  \n",
       "418389  732303e54409d857b59f0b984eea045a30031c1b88c5f3...  \n",
       "196233  7ef90ab9d29c006fbf3dff8d34551bcc900c9bf99c2d21...  \n",
       "553638  b5c43bcfb547de8f604d36be7c8fe062e6ccb00cbf0c22...  \n",
       "102383  aee99f920469f89d26c2cefc1c05eea20082dc3371f58f...  \n",
       "76291   fd2baff1d6f42c7dcd2efcbcec398fd8887718af28be71...  "
      ]
     },
     "execution_count": 3,
     "metadata": {},
     "output_type": "execute_result"
    }
   ],
   "source": [
    "card_info.sample(5)"
   ]
  },
  {
   "cell_type": "markdown",
   "id": "a859bb17",
   "metadata": {},
   "source": [
    "Значит, имеем дело со следующей структурой таблички:\n",
    " - card_uk - идентификатор карты;\n",
    " - cardapp_date - дата выдачи карты;\n",
    " - owner_id - идентификатор владельца карты;\n",
    " - holder_id - идентификатор держателя карты\n",
    "    \n",
    "Посмотрим на количество уникальных значений по каждому столбцу"
   ]
  },
  {
   "cell_type": "code",
   "execution_count": 4,
   "id": "e0e48b32",
   "metadata": {},
   "outputs": [
    {
     "name": "stdout",
     "output_type": "stream",
     "text": [
      "[card_uk]: 618366\n",
      "[cardapp_date]: 3211\n",
      "[owner_id]: 489932\n",
      "[holder_id]: 509235\n"
     ]
    }
   ],
   "source": [
    "for col in tuple(card_info):\n",
    "    print(f\"[{col}]: {card_info[col].nunique()}\")"
   ]
  },
  {
   "cell_type": "markdown",
   "id": "301e870b",
   "metadata": {},
   "source": [
    "Значит:\n",
    " - на одного владельца может приходиться несколько держателей карт;\n",
    " - один держатель может иметь несколько карт\n",
    " - возможно присутствуют данные, которые могут говорить о том, что срок действия карты истёк и её пришлось перевыпускать"
   ]
  },
  {
   "cell_type": "markdown",
   "id": "3e1badd0",
   "metadata": {},
   "source": [
    "Возьмём самое большое и самое маленькое значение card_uk и оценим кол-во цифр (card_uk вполне может быть номером карты)"
   ]
  },
  {
   "cell_type": "code",
   "execution_count": 5,
   "id": "beb09a14",
   "metadata": {},
   "outputs": [
    {
     "data": {
      "text/plain": [
       "(14, 12)"
      ]
     },
     "execution_count": 5,
     "metadata": {},
     "output_type": "execute_result"
    }
   ],
   "source": [
    "len(str(card_info[\"card_uk\"].max())), len(str(card_info[\"card_uk\"].min()))"
   ]
  },
  {
   "cell_type": "markdown",
   "id": "601817ff",
   "metadata": {},
   "source": [
    "Значит, card_uk - это всего лишь индекс, взятый из определённой базы данных, поэтому для дальнейшего анализа он не нужен"
   ]
  },
  {
   "cell_type": "code",
   "execution_count": 6,
   "id": "c697267b",
   "metadata": {},
   "outputs": [],
   "source": [
    "card_info.drop([\"card_uk\"], axis=1, inplace=True)\n",
    "gc.collect();"
   ]
  },
  {
   "cell_type": "markdown",
   "id": "2e80be71",
   "metadata": {},
   "source": [
    "Посмотрим, имеются ли дубликаты в данных"
   ]
  },
  {
   "cell_type": "code",
   "execution_count": 7,
   "id": "083992a5",
   "metadata": {},
   "outputs": [
    {
     "data": {
      "text/plain": [
       "13831"
      ]
     },
     "execution_count": 7,
     "metadata": {},
     "output_type": "execute_result"
    }
   ],
   "source": [
    "card_info.duplicated().sum()"
   ]
  },
  {
   "cell_type": "markdown",
   "id": "cb61e9d5",
   "metadata": {},
   "source": [
    "Дубликаты в данных присутствуют, посмотрим на них"
   ]
  },
  {
   "cell_type": "code",
   "execution_count": 8,
   "id": "2fd27997",
   "metadata": {},
   "outputs": [
    {
     "data": {
      "text/html": [
       "<div>\n",
       "<style scoped>\n",
       "    .dataframe tbody tr th:only-of-type {\n",
       "        vertical-align: middle;\n",
       "    }\n",
       "\n",
       "    .dataframe tbody tr th {\n",
       "        vertical-align: top;\n",
       "    }\n",
       "\n",
       "    .dataframe thead th {\n",
       "        text-align: right;\n",
       "    }\n",
       "</style>\n",
       "<table border=\"1\" class=\"dataframe\">\n",
       "  <thead>\n",
       "    <tr style=\"text-align: right;\">\n",
       "      <th></th>\n",
       "      <th>cardapp_date</th>\n",
       "      <th>owner_id</th>\n",
       "      <th>holder_id</th>\n",
       "    </tr>\n",
       "  </thead>\n",
       "  <tbody>\n",
       "    <tr>\n",
       "      <th>609</th>\n",
       "      <td>2023-02-21</td>\n",
       "      <td>750f3a1774e0bca6ceb8c49356af8dd79f94e0e1fd054e...</td>\n",
       "      <td>2d539a4c8b322285979f67ead95bc7adfc97c9909a523e...</td>\n",
       "    </tr>\n",
       "    <tr>\n",
       "      <th>624</th>\n",
       "      <td>2023-02-21</td>\n",
       "      <td>750f3a1774e0bca6ceb8c49356af8dd79f94e0e1fd054e...</td>\n",
       "      <td>2d539a4c8b322285979f67ead95bc7adfc97c9909a523e...</td>\n",
       "    </tr>\n",
       "    <tr>\n",
       "      <th>890</th>\n",
       "      <td>2019-09-11</td>\n",
       "      <td>96920398f3a14cf6e0d6df98ab422e299ac50585c225b7...</td>\n",
       "      <td>96920398f3a14cf6e0d6df98ab422e299ac50585c225b7...</td>\n",
       "    </tr>\n",
       "    <tr>\n",
       "      <th>2270</th>\n",
       "      <td>2023-02-21</td>\n",
       "      <td>750f3a1774e0bca6ceb8c49356af8dd79f94e0e1fd054e...</td>\n",
       "      <td>2d539a4c8b322285979f67ead95bc7adfc97c9909a523e...</td>\n",
       "    </tr>\n",
       "    <tr>\n",
       "      <th>2832</th>\n",
       "      <td>2023-02-21</td>\n",
       "      <td>750f3a1774e0bca6ceb8c49356af8dd79f94e0e1fd054e...</td>\n",
       "      <td>2d539a4c8b322285979f67ead95bc7adfc97c9909a523e...</td>\n",
       "    </tr>\n",
       "    <tr>\n",
       "      <th>...</th>\n",
       "      <td>...</td>\n",
       "      <td>...</td>\n",
       "      <td>...</td>\n",
       "    </tr>\n",
       "    <tr>\n",
       "      <th>618299</th>\n",
       "      <td>2022-07-01</td>\n",
       "      <td>cf6d44daf5b60df9a27491de719f3af8049377def18f73...</td>\n",
       "      <td>cf6d44daf5b60df9a27491de719f3af8049377def18f73...</td>\n",
       "    </tr>\n",
       "    <tr>\n",
       "      <th>618315</th>\n",
       "      <td>2021-11-26</td>\n",
       "      <td>070320b8219bc884e1bf311aa63dad176a790de391da02...</td>\n",
       "      <td>070320b8219bc884e1bf311aa63dad176a790de391da02...</td>\n",
       "    </tr>\n",
       "    <tr>\n",
       "      <th>618316</th>\n",
       "      <td>2019-03-22</td>\n",
       "      <td>78da10c3eb916f2ad8e2bdd9bd81c18299b45bba60efcd...</td>\n",
       "      <td>78da10c3eb916f2ad8e2bdd9bd81c18299b45bba60efcd...</td>\n",
       "    </tr>\n",
       "    <tr>\n",
       "      <th>618351</th>\n",
       "      <td>2019-06-06</td>\n",
       "      <td>eecd9b7ebdfdbfe33ddd3a9c7243ce3ec9cf48ebed0a8d...</td>\n",
       "      <td>eecd9b7ebdfdbfe33ddd3a9c7243ce3ec9cf48ebed0a8d...</td>\n",
       "    </tr>\n",
       "    <tr>\n",
       "      <th>618364</th>\n",
       "      <td>2022-05-24</td>\n",
       "      <td>ff61bfef912a6c82359f6ed698dd0a58dc8fa7e3fab3b0...</td>\n",
       "      <td>ff61bfef912a6c82359f6ed698dd0a58dc8fa7e3fab3b0...</td>\n",
       "    </tr>\n",
       "  </tbody>\n",
       "</table>\n",
       "<p>13831 rows × 3 columns</p>\n",
       "</div>"
      ],
      "text/plain": [
       "       cardapp_date                                           owner_id  \\\n",
       "609      2023-02-21  750f3a1774e0bca6ceb8c49356af8dd79f94e0e1fd054e...   \n",
       "624      2023-02-21  750f3a1774e0bca6ceb8c49356af8dd79f94e0e1fd054e...   \n",
       "890      2019-09-11  96920398f3a14cf6e0d6df98ab422e299ac50585c225b7...   \n",
       "2270     2023-02-21  750f3a1774e0bca6ceb8c49356af8dd79f94e0e1fd054e...   \n",
       "2832     2023-02-21  750f3a1774e0bca6ceb8c49356af8dd79f94e0e1fd054e...   \n",
       "...             ...                                                ...   \n",
       "618299   2022-07-01  cf6d44daf5b60df9a27491de719f3af8049377def18f73...   \n",
       "618315   2021-11-26  070320b8219bc884e1bf311aa63dad176a790de391da02...   \n",
       "618316   2019-03-22  78da10c3eb916f2ad8e2bdd9bd81c18299b45bba60efcd...   \n",
       "618351   2019-06-06  eecd9b7ebdfdbfe33ddd3a9c7243ce3ec9cf48ebed0a8d...   \n",
       "618364   2022-05-24  ff61bfef912a6c82359f6ed698dd0a58dc8fa7e3fab3b0...   \n",
       "\n",
       "                                                holder_id  \n",
       "609     2d539a4c8b322285979f67ead95bc7adfc97c9909a523e...  \n",
       "624     2d539a4c8b322285979f67ead95bc7adfc97c9909a523e...  \n",
       "890     96920398f3a14cf6e0d6df98ab422e299ac50585c225b7...  \n",
       "2270    2d539a4c8b322285979f67ead95bc7adfc97c9909a523e...  \n",
       "2832    2d539a4c8b322285979f67ead95bc7adfc97c9909a523e...  \n",
       "...                                                   ...  \n",
       "618299  cf6d44daf5b60df9a27491de719f3af8049377def18f73...  \n",
       "618315  070320b8219bc884e1bf311aa63dad176a790de391da02...  \n",
       "618316  78da10c3eb916f2ad8e2bdd9bd81c18299b45bba60efcd...  \n",
       "618351  eecd9b7ebdfdbfe33ddd3a9c7243ce3ec9cf48ebed0a8d...  \n",
       "618364  ff61bfef912a6c82359f6ed698dd0a58dc8fa7e3fab3b0...  \n",
       "\n",
       "[13831 rows x 3 columns]"
      ]
     },
     "execution_count": 8,
     "metadata": {},
     "output_type": "execute_result"
    }
   ],
   "source": [
    "card_info.loc[card_info.duplicated()]"
   ]
  },
  {
   "cell_type": "markdown",
   "id": "9b1f1036",
   "metadata": {},
   "source": [
    "Из этой таблицы отлично видно, что некоторые строки полностью идентичны друг другу\n",
    "\n",
    "Новой дополнительной информации эти строки не несут, однако увеличивают расход памяти, поэтому удалим их"
   ]
  },
  {
   "cell_type": "code",
   "execution_count": 9,
   "id": "8ac6b35b",
   "metadata": {},
   "outputs": [],
   "source": [
    "card_info.drop_duplicates(inplace=True)\n",
    "gc.collect();"
   ]
  },
  {
   "cell_type": "markdown",
   "id": "f7dab6ca",
   "metadata": {},
   "source": [
    "Посмотрим, какие даты присутствуют в данных"
   ]
  },
  {
   "cell_type": "code",
   "execution_count": 10,
   "id": "e384e2ff",
   "metadata": {},
   "outputs": [
    {
     "data": {
      "text/html": [
       "<div>\n",
       "<style scoped>\n",
       "    .dataframe tbody tr th:only-of-type {\n",
       "        vertical-align: middle;\n",
       "    }\n",
       "\n",
       "    .dataframe tbody tr th {\n",
       "        vertical-align: top;\n",
       "    }\n",
       "\n",
       "    .dataframe thead th {\n",
       "        text-align: right;\n",
       "    }\n",
       "</style>\n",
       "<table border=\"1\" class=\"dataframe\">\n",
       "  <thead>\n",
       "    <tr style=\"text-align: right;\">\n",
       "      <th></th>\n",
       "      <th>index</th>\n",
       "      <th>cardapp_date</th>\n",
       "    </tr>\n",
       "  </thead>\n",
       "  <tbody>\n",
       "    <tr>\n",
       "      <th>0</th>\n",
       "      <td>1900-01-01</td>\n",
       "      <td>3593</td>\n",
       "    </tr>\n",
       "    <tr>\n",
       "      <th>3097</th>\n",
       "      <td>2011-08-25</td>\n",
       "      <td>1</td>\n",
       "    </tr>\n",
       "    <tr>\n",
       "      <th>3128</th>\n",
       "      <td>2011-09-03</td>\n",
       "      <td>1</td>\n",
       "    </tr>\n",
       "    <tr>\n",
       "      <th>3096</th>\n",
       "      <td>2011-09-21</td>\n",
       "      <td>1</td>\n",
       "    </tr>\n",
       "    <tr>\n",
       "      <th>3159</th>\n",
       "      <td>2011-09-27</td>\n",
       "      <td>1</td>\n",
       "    </tr>\n",
       "    <tr>\n",
       "      <th>...</th>\n",
       "      <td>...</td>\n",
       "      <td>...</td>\n",
       "    </tr>\n",
       "    <tr>\n",
       "      <th>1879</th>\n",
       "      <td>2023-03-11</td>\n",
       "      <td>52</td>\n",
       "    </tr>\n",
       "    <tr>\n",
       "      <th>2043</th>\n",
       "      <td>2023-03-12</td>\n",
       "      <td>26</td>\n",
       "    </tr>\n",
       "    <tr>\n",
       "      <th>1927</th>\n",
       "      <td>2023-03-13</td>\n",
       "      <td>44</td>\n",
       "    </tr>\n",
       "    <tr>\n",
       "      <th>2082</th>\n",
       "      <td>2023-03-14</td>\n",
       "      <td>21</td>\n",
       "    </tr>\n",
       "    <tr>\n",
       "      <th>2094</th>\n",
       "      <td>2023-03-15</td>\n",
       "      <td>19</td>\n",
       "    </tr>\n",
       "  </tbody>\n",
       "</table>\n",
       "<p>3211 rows × 2 columns</p>\n",
       "</div>"
      ],
      "text/plain": [
       "           index  cardapp_date\n",
       "0     1900-01-01          3593\n",
       "3097  2011-08-25             1\n",
       "3128  2011-09-03             1\n",
       "3096  2011-09-21             1\n",
       "3159  2011-09-27             1\n",
       "...          ...           ...\n",
       "1879  2023-03-11            52\n",
       "2043  2023-03-12            26\n",
       "1927  2023-03-13            44\n",
       "2082  2023-03-14            21\n",
       "2094  2023-03-15            19\n",
       "\n",
       "[3211 rows x 2 columns]"
      ]
     },
     "execution_count": 10,
     "metadata": {},
     "output_type": "execute_result"
    }
   ],
   "source": [
    "card_info[\"cardapp_date\"].value_counts().to_frame().reset_index().sort_values(by=\"index\")"
   ]
  },
  {
   "cell_type": "markdown",
   "id": "1f316249",
   "metadata": {},
   "source": [
    "Присутствует очень странная дата - 01.01.1900, хотя дата учреждения Альфа банка 20.12.1990.\n",
    "01.01.1900 - может быть значение по умолчанию для даты в некоторых базах данных, например, в MS SQL Server, поэтому удалим строки, связанные с этой датой и приведём индексацию таблицы в порядок"
   ]
  },
  {
   "cell_type": "code",
   "execution_count": 11,
   "id": "19220595",
   "metadata": {},
   "outputs": [],
   "source": [
    "card_info = card_info[card_info[\"cardapp_date\"] != \"1900-01-01\"]\n",
    "card_info.reset_index(drop=True, inplace=True)\n",
    "gc.collect();"
   ]
  },
  {
   "cell_type": "markdown",
   "id": "5588dd53",
   "metadata": {},
   "source": [
    "Посмотрим, имеются ли пропуски в данных"
   ]
  },
  {
   "cell_type": "code",
   "execution_count": 12,
   "id": "f9adea04",
   "metadata": {},
   "outputs": [
    {
     "data": {
      "text/plain": [
       "cardapp_date    1590\n",
       "owner_id           0\n",
       "holder_id          0\n",
       "dtype: int64"
      ]
     },
     "execution_count": 12,
     "metadata": {},
     "output_type": "execute_result"
    }
   ],
   "source": [
    "card_info.isna().sum()"
   ]
  },
  {
   "cell_type": "markdown",
   "id": "2780acd1",
   "metadata": {},
   "source": [
    "Пропуски есть лишь по признаку \"дата выдачи карты\", посмотрим, что это за строки"
   ]
  },
  {
   "cell_type": "code",
   "execution_count": 13,
   "id": "27fa3dc0",
   "metadata": {},
   "outputs": [
    {
     "data": {
      "text/html": [
       "<div>\n",
       "<style scoped>\n",
       "    .dataframe tbody tr th:only-of-type {\n",
       "        vertical-align: middle;\n",
       "    }\n",
       "\n",
       "    .dataframe tbody tr th {\n",
       "        vertical-align: top;\n",
       "    }\n",
       "\n",
       "    .dataframe thead th {\n",
       "        text-align: right;\n",
       "    }\n",
       "</style>\n",
       "<table border=\"1\" class=\"dataframe\">\n",
       "  <thead>\n",
       "    <tr style=\"text-align: right;\">\n",
       "      <th></th>\n",
       "      <th>cardapp_date</th>\n",
       "      <th>owner_id</th>\n",
       "      <th>holder_id</th>\n",
       "    </tr>\n",
       "  </thead>\n",
       "  <tbody>\n",
       "    <tr>\n",
       "      <th>434</th>\n",
       "      <td>NaN</td>\n",
       "      <td>a47b921a8563ebb5a469baac084878dc5ded9860f347ff...</td>\n",
       "      <td>a47b921a8563ebb5a469baac084878dc5ded9860f347ff...</td>\n",
       "    </tr>\n",
       "    <tr>\n",
       "      <th>1031</th>\n",
       "      <td>NaN</td>\n",
       "      <td>62a5d8cf48400cfc330fbd2d18fa7429a3c4033f88864e...</td>\n",
       "      <td>cb5e56ffb8d947f12a0527a024f378d9dbbcec4ef36ca8...</td>\n",
       "    </tr>\n",
       "    <tr>\n",
       "      <th>1058</th>\n",
       "      <td>NaN</td>\n",
       "      <td>476c44ba96f2f2cf9edecd0cefc056a6e75cd06a450241...</td>\n",
       "      <td>476c44ba96f2f2cf9edecd0cefc056a6e75cd06a450241...</td>\n",
       "    </tr>\n",
       "    <tr>\n",
       "      <th>1174</th>\n",
       "      <td>NaN</td>\n",
       "      <td>873bfccee7acc2dbfebb5d9ba176065022f21b20d0cd51...</td>\n",
       "      <td>873bfccee7acc2dbfebb5d9ba176065022f21b20d0cd51...</td>\n",
       "    </tr>\n",
       "    <tr>\n",
       "      <th>1992</th>\n",
       "      <td>NaN</td>\n",
       "      <td>73f02d19156af3c629494f1a754d6fc1ed1e2f600d2e22...</td>\n",
       "      <td>eb0e444382ea1604851669584c9035c4bf7ff6d96c4f2d...</td>\n",
       "    </tr>\n",
       "    <tr>\n",
       "      <th>...</th>\n",
       "      <td>...</td>\n",
       "      <td>...</td>\n",
       "      <td>...</td>\n",
       "    </tr>\n",
       "    <tr>\n",
       "      <th>598540</th>\n",
       "      <td>NaN</td>\n",
       "      <td>be8735b1d841e17b50ad3512ed338efb5a81f572510124...</td>\n",
       "      <td>be8735b1d841e17b50ad3512ed338efb5a81f572510124...</td>\n",
       "    </tr>\n",
       "    <tr>\n",
       "      <th>598919</th>\n",
       "      <td>NaN</td>\n",
       "      <td>b5a940115a4fbf4e61f00fb780c63e04435f126e4f6bcf...</td>\n",
       "      <td>b5a940115a4fbf4e61f00fb780c63e04435f126e4f6bcf...</td>\n",
       "    </tr>\n",
       "    <tr>\n",
       "      <th>599337</th>\n",
       "      <td>NaN</td>\n",
       "      <td>e7616eff9e67e7a5af65945421707a7aa1d6c6baa071a3...</td>\n",
       "      <td>e7616eff9e67e7a5af65945421707a7aa1d6c6baa071a3...</td>\n",
       "    </tr>\n",
       "    <tr>\n",
       "      <th>599396</th>\n",
       "      <td>NaN</td>\n",
       "      <td>2a8aa4546776c2caa1b6d0c72c89fa74cd825721187e98...</td>\n",
       "      <td>2a8aa4546776c2caa1b6d0c72c89fa74cd825721187e98...</td>\n",
       "    </tr>\n",
       "    <tr>\n",
       "      <th>600695</th>\n",
       "      <td>NaN</td>\n",
       "      <td>12694149e28d133f3f8769da192ac9b7ba23008723f8c2...</td>\n",
       "      <td>802e76ebb6e19676638284f7993e7e109a399bdd4a0d32...</td>\n",
       "    </tr>\n",
       "  </tbody>\n",
       "</table>\n",
       "<p>1590 rows × 3 columns</p>\n",
       "</div>"
      ],
      "text/plain": [
       "       cardapp_date                                           owner_id  \\\n",
       "434             NaN  a47b921a8563ebb5a469baac084878dc5ded9860f347ff...   \n",
       "1031            NaN  62a5d8cf48400cfc330fbd2d18fa7429a3c4033f88864e...   \n",
       "1058            NaN  476c44ba96f2f2cf9edecd0cefc056a6e75cd06a450241...   \n",
       "1174            NaN  873bfccee7acc2dbfebb5d9ba176065022f21b20d0cd51...   \n",
       "1992            NaN  73f02d19156af3c629494f1a754d6fc1ed1e2f600d2e22...   \n",
       "...             ...                                                ...   \n",
       "598540          NaN  be8735b1d841e17b50ad3512ed338efb5a81f572510124...   \n",
       "598919          NaN  b5a940115a4fbf4e61f00fb780c63e04435f126e4f6bcf...   \n",
       "599337          NaN  e7616eff9e67e7a5af65945421707a7aa1d6c6baa071a3...   \n",
       "599396          NaN  2a8aa4546776c2caa1b6d0c72c89fa74cd825721187e98...   \n",
       "600695          NaN  12694149e28d133f3f8769da192ac9b7ba23008723f8c2...   \n",
       "\n",
       "                                                holder_id  \n",
       "434     a47b921a8563ebb5a469baac084878dc5ded9860f347ff...  \n",
       "1031    cb5e56ffb8d947f12a0527a024f378d9dbbcec4ef36ca8...  \n",
       "1058    476c44ba96f2f2cf9edecd0cefc056a6e75cd06a450241...  \n",
       "1174    873bfccee7acc2dbfebb5d9ba176065022f21b20d0cd51...  \n",
       "1992    eb0e444382ea1604851669584c9035c4bf7ff6d96c4f2d...  \n",
       "...                                                   ...  \n",
       "598540  be8735b1d841e17b50ad3512ed338efb5a81f572510124...  \n",
       "598919  b5a940115a4fbf4e61f00fb780c63e04435f126e4f6bcf...  \n",
       "599337  e7616eff9e67e7a5af65945421707a7aa1d6c6baa071a3...  \n",
       "599396  2a8aa4546776c2caa1b6d0c72c89fa74cd825721187e98...  \n",
       "600695  802e76ebb6e19676638284f7993e7e109a399bdd4a0d32...  \n",
       "\n",
       "[1590 rows x 3 columns]"
      ]
     },
     "execution_count": 13,
     "metadata": {},
     "output_type": "execute_result"
    }
   ],
   "source": [
    "card_info.loc[card_info[\"cardapp_date\"].isna()]"
   ]
  },
  {
   "cell_type": "markdown",
   "id": "ef78f55d",
   "metadata": {},
   "source": [
    "Пропуски в датах нам не нужны, т.к. в таком случае мы не сможем проверить корректность даты выдачи карты и отчётной даты сбора информации по пользователю."
   ]
  },
  {
   "cell_type": "markdown",
   "id": "4e40b5bf",
   "metadata": {},
   "source": [
    "Оценим, сколько держателей карт может приходится на одного владельца"
   ]
  },
  {
   "cell_type": "code",
   "execution_count": 14,
   "id": "9eb9a061",
   "metadata": {},
   "outputs": [
    {
     "data": {
      "image/png": "[encoded data removed]",
      "text/plain": [
       "<Figure size 432x288 with 1 Axes>"
      ]
     },
     "metadata": {
      "needs_background": "light"
     },
     "output_type": "display_data"
    }
   ],
   "source": [
    "vals = card_info.groupby(\"owner_id\").agg(\n",
    "    count = (\"holder_id\", \"count\"))[\"count\"]\n",
    "\n",
    "sns.histplot(vals)\n",
    "plt.xlim([vals.min(), vals.max()])\n",
    "plt.xlabel(\"Кол-во карт\")\n",
    "plt.ylabel(\"Кол-во\")\n",
    "plt.title(\"Распределение кол-ва карт относительно владельца\")\n",
    "plt.show()"
   ]
  },
  {
   "cell_type": "markdown",
   "id": "a8928d95",
   "metadata": {},
   "source": [
    "Вид распределения очень похож на экспоненциальное с $\\lambda$ больше 1, однако это чисто опциональная информация\n",
    "\n",
    "Значительная доля приходится на случай, когда на одного владельца приходится один держатель. Это может быть как сам владелец, который одновременно выступает в роли и держателя карты (<i>назовём это внутренней связью</i>), так и другой человек, т.е. имеем два разных физических лица (<i>назовём это внешней связью один к одному</i>).\n",
    "Случай, когда на одного владельца приходится больше одного держателя может означать, что сам владелец имеет несколько карт (<i>назовём это внутренней связью псевдо один ко многим</i>), так и связь владельца с разными физическими лицами - держателями карт (<i>назовём это внешней связью один к многим</i>).\n",
    "\n",
    "Также можно отметить, что вероятность того, что на одного владельца будет приходиться более трёх открытых держателей карт, крайне мала."
   ]
  },
  {
   "cell_type": "markdown",
   "id": "a64f527e",
   "metadata": {},
   "source": [
    "Используя эти данные, соберём целевую переменную для задачи бинарной классификации.\n",
    "Для этого:\n",
    "1) соберём айди держателей карт по каждому владельцу в список;\n",
    "2) в цикле для каждого владельца карты пройдёмся по айди держателей карты и посчитаем кол-во невключений айди владельца в список айди держателей;\n",
    "3) все положительные значения нового столбца - это положительный класс, иначе - отрицательный"
   ]
  },
  {
   "cell_type": "code",
   "execution_count": 15,
   "id": "cde1268e",
   "metadata": {},
   "outputs": [],
   "source": [
    "target_df = card_info.groupby(\"owner_id\").agg(\n",
    "    lst = (\"holder_id\", list)\n",
    ").reset_index()"
   ]
  },
  {
   "cell_type": "code",
   "execution_count": 16,
   "id": "1e20048b",
   "metadata": {},
   "outputs": [
    {
     "data": {
      "application/vnd.jupyter.widget-view+json": {
       "model_id": "22587da85612441c90ba159648af2700",
       "version_major": 2,
       "version_minor": 0
      },
      "text/plain": [
       "0it [00:00, ?it/s]"
      ]
     },
     "metadata": {},
     "output_type": "display_data"
    }
   ],
   "source": [
    "res = []\n",
    "for owner in notebook.tqdm(target_df.iterrows()):\n",
    "    tmp= owner[1][\"lst\"]\n",
    "    res.append(\n",
    "        len(\n",
    "            tuple(filter(lambda x: x != owner[1][\"owner_id\"], tmp))\n",
    "        )\n",
    "    )\n",
    "target_df[\"tmp\"] = res\n",
    "\n",
    "del res\n",
    "gc.collect();"
   ]
  },
  {
   "cell_type": "code",
   "execution_count": 17,
   "id": "44bc6a95",
   "metadata": {},
   "outputs": [
    {
     "name": "stderr",
     "output_type": "stream",
     "text": [
      "100%|██████████| 487247/487247 [00:00<00:00, 1368366.39it/s]\n"
     ]
    }
   ],
   "source": [
    "target_df[\"target\"] = target_df.tmp.progress_apply(lambda x: 1 if x > 0 else 0)"
   ]
  },
  {
   "cell_type": "markdown",
   "id": "9a78eb4e",
   "metadata": {},
   "source": [
    "Удалим уже ненужные столбцы"
   ]
  },
  {
   "cell_type": "code",
   "execution_count": 18,
   "id": "be0b06e4",
   "metadata": {},
   "outputs": [],
   "source": [
    "target_df.drop([\"lst\", \"tmp\"], axis=1, inplace=True)\n",
    "gc.collect();"
   ]
  },
  {
   "cell_type": "markdown",
   "id": "c2d52d42",
   "metadata": {},
   "source": [
    "Посмотрим на пять случайных строк с таргетом"
   ]
  },
  {
   "cell_type": "code",
   "execution_count": 19,
   "id": "d3cf254c",
   "metadata": {
    "scrolled": true
   },
   "outputs": [
    {
     "data": {
      "text/html": [
       "<div>\n",
       "<style scoped>\n",
       "    .dataframe tbody tr th:only-of-type {\n",
       "        vertical-align: middle;\n",
       "    }\n",
       "\n",
       "    .dataframe tbody tr th {\n",
       "        vertical-align: top;\n",
       "    }\n",
       "\n",
       "    .dataframe thead th {\n",
       "        text-align: right;\n",
       "    }\n",
       "</style>\n",
       "<table border=\"1\" class=\"dataframe\">\n",
       "  <thead>\n",
       "    <tr style=\"text-align: right;\">\n",
       "      <th></th>\n",
       "      <th>owner_id</th>\n",
       "      <th>target</th>\n",
       "    </tr>\n",
       "  </thead>\n",
       "  <tbody>\n",
       "    <tr>\n",
       "      <th>51992</th>\n",
       "      <td>1b903e82b8095822adabc42c981130fb03aba06c4ba86d...</td>\n",
       "      <td>0</td>\n",
       "    </tr>\n",
       "    <tr>\n",
       "      <th>308230</th>\n",
       "      <td>a22f32099f742facb45cb9bb27b08d4d4bf829f2eff10d...</td>\n",
       "      <td>0</td>\n",
       "    </tr>\n",
       "    <tr>\n",
       "      <th>435439</th>\n",
       "      <td>e4d2a31d9de4e3bd424181663df98d5728d26c6672f46c...</td>\n",
       "      <td>0</td>\n",
       "    </tr>\n",
       "    <tr>\n",
       "      <th>121838</th>\n",
       "      <td>403b091563d39627eefae5a754d54651e321442a200f60...</td>\n",
       "      <td>0</td>\n",
       "    </tr>\n",
       "    <tr>\n",
       "      <th>390449</th>\n",
       "      <td>cd342e3f8021c7be821706c5ab2252e314d9c80a945ee9...</td>\n",
       "      <td>0</td>\n",
       "    </tr>\n",
       "  </tbody>\n",
       "</table>\n",
       "</div>"
      ],
      "text/plain": [
       "                                                 owner_id  target\n",
       "51992   1b903e82b8095822adabc42c981130fb03aba06c4ba86d...       0\n",
       "308230  a22f32099f742facb45cb9bb27b08d4d4bf829f2eff10d...       0\n",
       "435439  e4d2a31d9de4e3bd424181663df98d5728d26c6672f46c...       0\n",
       "121838  403b091563d39627eefae5a754d54651e321442a200f60...       0\n",
       "390449  cd342e3f8021c7be821706c5ab2252e314d9c80a945ee9...       0"
      ]
     },
     "execution_count": 19,
     "metadata": {},
     "output_type": "execute_result"
    }
   ],
   "source": [
    "target_df.sample(5)"
   ]
  },
  {
   "cell_type": "code",
   "execution_count": 20,
   "id": "6eeb13f3",
   "metadata": {},
   "outputs": [],
   "source": [
    "target_df.to_csv(\"target_last.csv\", index=False)"
   ]
  },
  {
   "cell_type": "markdown",
   "id": "034edf74",
   "metadata": {},
   "source": [
    "Проверим корректность полученного таргета"
   ]
  },
  {
   "cell_type": "code",
   "execution_count": 21,
   "id": "c029c566",
   "metadata": {},
   "outputs": [],
   "source": [
    "all_df = card_info.merge(target_df, on=\"owner_id\", how=\"left\")\n",
    "del card_info\n",
    "gc.collect();"
   ]
  },
  {
   "cell_type": "code",
   "execution_count": 22,
   "id": "fe3e95c0",
   "metadata": {},
   "outputs": [
    {
     "data": {
      "text/plain": [
       "b34fcb85141b96fff782b47d004588725301d5cadbd93da7f1fadc733e7e2aa8    19\n",
       "31a01a1c7e213b69f7cb6da49480d1c185170a365b7fd756def682a5a9f64d3c    18\n",
       "c3bf65fe0251d3cd4d1c0cb6fc506c34b0dc799eef59d00535f5e52c14988c42    15\n",
       "b31e1f4ec5e03ea2bcee5c6a31ee7501ebfd01acd5c5875cfbad6ca1986e34a6    15\n",
       "15886874c9ccc2e178856bc8a23581664b29922bf5f745930adc04634607094f    13\n",
       "                                                                    ..\n",
       "62bcc9893eac077d0671c0aaa8d562a311dbdee435a9ad03561742f4a5b26b5b     1\n",
       "281091bbae7d17313eb2c2a58fd4f766880e0a80a80955e8139ecd52b30c85bf     1\n",
       "f36b9fde95db02d430c72f9d0de5fc3b2210ffcddf5733abcbc2d69b8bcc50fe     1\n",
       "192a84465be6257bc6340ff3bec75572322e3bdb652a50ba543d0ce3c303f5b7     1\n",
       "e9ff7f69d0592151a4cb317dafe3751556e7665a780cc9e36103d097ee43e931     1\n",
       "Name: owner_id, Length: 100789, dtype: int64"
      ]
     },
     "execution_count": 22,
     "metadata": {},
     "output_type": "execute_result"
    }
   ],
   "source": [
    "all_df[\n",
    "    all_df[\"target\"] == 1\n",
    "][\"owner_id\"].value_counts()"
   ]
  },
  {
   "cell_type": "code",
   "execution_count": 23,
   "id": "b0d02f10",
   "metadata": {},
   "outputs": [
    {
     "data": {
      "text/html": [
       "<div>\n",
       "<style scoped>\n",
       "    .dataframe tbody tr th:only-of-type {\n",
       "        vertical-align: middle;\n",
       "    }\n",
       "\n",
       "    .dataframe tbody tr th {\n",
       "        vertical-align: top;\n",
       "    }\n",
       "\n",
       "    .dataframe thead th {\n",
       "        text-align: right;\n",
       "    }\n",
       "</style>\n",
       "<table border=\"1\" class=\"dataframe\">\n",
       "  <thead>\n",
       "    <tr style=\"text-align: right;\">\n",
       "      <th></th>\n",
       "      <th>cardapp_date</th>\n",
       "      <th>owner_id</th>\n",
       "      <th>holder_id</th>\n",
       "      <th>target</th>\n",
       "    </tr>\n",
       "  </thead>\n",
       "  <tbody>\n",
       "    <tr>\n",
       "      <th>343726</th>\n",
       "      <td>2021-10-26</td>\n",
       "      <td>e6e9ab15782ad1a1cd63cad2626b90b58b4a241989eb1c...</td>\n",
       "      <td>4905b5b5d125d74019137db2050fe064847c6b8826c404...</td>\n",
       "      <td>1</td>\n",
       "    </tr>\n",
       "  </tbody>\n",
       "</table>\n",
       "</div>"
      ],
      "text/plain": [
       "       cardapp_date                                           owner_id  \\\n",
       "343726   2021-10-26  e6e9ab15782ad1a1cd63cad2626b90b58b4a241989eb1c...   \n",
       "\n",
       "                                                holder_id  target  \n",
       "343726  4905b5b5d125d74019137db2050fe064847c6b8826c404...       1  "
      ]
     },
     "execution_count": 23,
     "metadata": {},
     "output_type": "execute_result"
    }
   ],
   "source": [
    "all_df[\n",
    "    all_df[\"owner_id\"] == \"e6e9ab15782ad1a1cd63cad2626b90b58b4a241989eb1c5c3b118fe94135731c\"\n",
    "]"
   ]
  },
  {
   "cell_type": "markdown",
   "id": "24ed98e9",
   "metadata": {},
   "source": [
    "В строчках, где владельца карты 1 держатель, держателем является другой человек."
   ]
  },
  {
   "cell_type": "code",
   "execution_count": 24,
   "id": "61f7c77a",
   "metadata": {},
   "outputs": [
    {
     "data": {
      "text/html": [
       "<div>\n",
       "<style scoped>\n",
       "    .dataframe tbody tr th:only-of-type {\n",
       "        vertical-align: middle;\n",
       "    }\n",
       "\n",
       "    .dataframe tbody tr th {\n",
       "        vertical-align: top;\n",
       "    }\n",
       "\n",
       "    .dataframe thead th {\n",
       "        text-align: right;\n",
       "    }\n",
       "</style>\n",
       "<table border=\"1\" class=\"dataframe\">\n",
       "  <thead>\n",
       "    <tr style=\"text-align: right;\">\n",
       "      <th></th>\n",
       "      <th>cardapp_date</th>\n",
       "      <th>owner_id</th>\n",
       "      <th>holder_id</th>\n",
       "      <th>target</th>\n",
       "    </tr>\n",
       "  </thead>\n",
       "  <tbody>\n",
       "    <tr>\n",
       "      <th>20881</th>\n",
       "      <td>2021-11-17</td>\n",
       "      <td>31a01a1c7e213b69f7cb6da49480d1c185170a365b7fd7...</td>\n",
       "      <td>3272384fcca6fd52b26220f5c282d7fc2f9a02c7e12100...</td>\n",
       "      <td>1</td>\n",
       "    </tr>\n",
       "    <tr>\n",
       "      <th>109767</th>\n",
       "      <td>2021-03-01</td>\n",
       "      <td>31a01a1c7e213b69f7cb6da49480d1c185170a365b7fd7...</td>\n",
       "      <td>d74cebd3aa3f766ab3e42f47c69680c9cab5abb47edab2...</td>\n",
       "      <td>1</td>\n",
       "    </tr>\n",
       "    <tr>\n",
       "      <th>205565</th>\n",
       "      <td>2022-02-18</td>\n",
       "      <td>31a01a1c7e213b69f7cb6da49480d1c185170a365b7fd7...</td>\n",
       "      <td>358356a7d79a69616230da154b108ab39e16bf1c90a5b4...</td>\n",
       "      <td>1</td>\n",
       "    </tr>\n",
       "    <tr>\n",
       "      <th>208481</th>\n",
       "      <td>2022-01-17</td>\n",
       "      <td>31a01a1c7e213b69f7cb6da49480d1c185170a365b7fd7...</td>\n",
       "      <td>6597b4af54ca1d1f450a625bd8b68dd455f34371b4c806...</td>\n",
       "      <td>1</td>\n",
       "    </tr>\n",
       "    <tr>\n",
       "      <th>222578</th>\n",
       "      <td>2021-07-27</td>\n",
       "      <td>31a01a1c7e213b69f7cb6da49480d1c185170a365b7fd7...</td>\n",
       "      <td>3272384fcca6fd52b26220f5c282d7fc2f9a02c7e12100...</td>\n",
       "      <td>1</td>\n",
       "    </tr>\n",
       "    <tr>\n",
       "      <th>258821</th>\n",
       "      <td>2017-10-30</td>\n",
       "      <td>31a01a1c7e213b69f7cb6da49480d1c185170a365b7fd7...</td>\n",
       "      <td>615d53bb74d40db8ddf6babc158ec6034f299865b23c14...</td>\n",
       "      <td>1</td>\n",
       "    </tr>\n",
       "    <tr>\n",
       "      <th>310495</th>\n",
       "      <td>2022-03-10</td>\n",
       "      <td>31a01a1c7e213b69f7cb6da49480d1c185170a365b7fd7...</td>\n",
       "      <td>3272384fcca6fd52b26220f5c282d7fc2f9a02c7e12100...</td>\n",
       "      <td>1</td>\n",
       "    </tr>\n",
       "    <tr>\n",
       "      <th>313995</th>\n",
       "      <td>2020-10-27</td>\n",
       "      <td>31a01a1c7e213b69f7cb6da49480d1c185170a365b7fd7...</td>\n",
       "      <td>3272384fcca6fd52b26220f5c282d7fc2f9a02c7e12100...</td>\n",
       "      <td>1</td>\n",
       "    </tr>\n",
       "    <tr>\n",
       "      <th>326970</th>\n",
       "      <td>2022-08-17</td>\n",
       "      <td>31a01a1c7e213b69f7cb6da49480d1c185170a365b7fd7...</td>\n",
       "      <td>3272384fcca6fd52b26220f5c282d7fc2f9a02c7e12100...</td>\n",
       "      <td>1</td>\n",
       "    </tr>\n",
       "    <tr>\n",
       "      <th>331644</th>\n",
       "      <td>2020-05-06</td>\n",
       "      <td>31a01a1c7e213b69f7cb6da49480d1c185170a365b7fd7...</td>\n",
       "      <td>9a30d180279eb7fa31214a9d4dbb50d05d0a6ab6e16120...</td>\n",
       "      <td>1</td>\n",
       "    </tr>\n",
       "    <tr>\n",
       "      <th>342834</th>\n",
       "      <td>2017-02-04</td>\n",
       "      <td>31a01a1c7e213b69f7cb6da49480d1c185170a365b7fd7...</td>\n",
       "      <td>9a30d180279eb7fa31214a9d4dbb50d05d0a6ab6e16120...</td>\n",
       "      <td>1</td>\n",
       "    </tr>\n",
       "    <tr>\n",
       "      <th>366173</th>\n",
       "      <td>2018-12-13</td>\n",
       "      <td>31a01a1c7e213b69f7cb6da49480d1c185170a365b7fd7...</td>\n",
       "      <td>ce5ea1a99da264c3121b60c82f1150baa36543ef594e53...</td>\n",
       "      <td>1</td>\n",
       "    </tr>\n",
       "    <tr>\n",
       "      <th>424601</th>\n",
       "      <td>2022-11-29</td>\n",
       "      <td>31a01a1c7e213b69f7cb6da49480d1c185170a365b7fd7...</td>\n",
       "      <td>f80caf8711603fef375c00cc56ee26c90f1d887cc15ea1...</td>\n",
       "      <td>1</td>\n",
       "    </tr>\n",
       "    <tr>\n",
       "      <th>426110</th>\n",
       "      <td>2020-03-11</td>\n",
       "      <td>31a01a1c7e213b69f7cb6da49480d1c185170a365b7fd7...</td>\n",
       "      <td>3272384fcca6fd52b26220f5c282d7fc2f9a02c7e12100...</td>\n",
       "      <td>1</td>\n",
       "    </tr>\n",
       "    <tr>\n",
       "      <th>453236</th>\n",
       "      <td>2018-12-06</td>\n",
       "      <td>31a01a1c7e213b69f7cb6da49480d1c185170a365b7fd7...</td>\n",
       "      <td>690d9a4552009b294207e1ce4e36746c44802416bfa1c8...</td>\n",
       "      <td>1</td>\n",
       "    </tr>\n",
       "    <tr>\n",
       "      <th>498282</th>\n",
       "      <td>2022-09-27</td>\n",
       "      <td>31a01a1c7e213b69f7cb6da49480d1c185170a365b7fd7...</td>\n",
       "      <td>615d53bb74d40db8ddf6babc158ec6034f299865b23c14...</td>\n",
       "      <td>1</td>\n",
       "    </tr>\n",
       "    <tr>\n",
       "      <th>507831</th>\n",
       "      <td>2022-02-01</td>\n",
       "      <td>31a01a1c7e213b69f7cb6da49480d1c185170a365b7fd7...</td>\n",
       "      <td>9a30d180279eb7fa31214a9d4dbb50d05d0a6ab6e16120...</td>\n",
       "      <td>1</td>\n",
       "    </tr>\n",
       "    <tr>\n",
       "      <th>600245</th>\n",
       "      <td>2020-07-06</td>\n",
       "      <td>31a01a1c7e213b69f7cb6da49480d1c185170a365b7fd7...</td>\n",
       "      <td>cb3d7cec26622c1fe56e4a7606fd8862ce835fa6d13af9...</td>\n",
       "      <td>1</td>\n",
       "    </tr>\n",
       "  </tbody>\n",
       "</table>\n",
       "</div>"
      ],
      "text/plain": [
       "       cardapp_date                                           owner_id  \\\n",
       "20881    2021-11-17  31a01a1c7e213b69f7cb6da49480d1c185170a365b7fd7...   \n",
       "109767   2021-03-01  31a01a1c7e213b69f7cb6da49480d1c185170a365b7fd7...   \n",
       "205565   2022-02-18  31a01a1c7e213b69f7cb6da49480d1c185170a365b7fd7...   \n",
       "208481   2022-01-17  31a01a1c7e213b69f7cb6da49480d1c185170a365b7fd7...   \n",
       "222578   2021-07-27  31a01a1c7e213b69f7cb6da49480d1c185170a365b7fd7...   \n",
       "258821   2017-10-30  31a01a1c7e213b69f7cb6da49480d1c185170a365b7fd7...   \n",
       "310495   2022-03-10  31a01a1c7e213b69f7cb6da49480d1c185170a365b7fd7...   \n",
       "313995   2020-10-27  31a01a1c7e213b69f7cb6da49480d1c185170a365b7fd7...   \n",
       "326970   2022-08-17  31a01a1c7e213b69f7cb6da49480d1c185170a365b7fd7...   \n",
       "331644   2020-05-06  31a01a1c7e213b69f7cb6da49480d1c185170a365b7fd7...   \n",
       "342834   2017-02-04  31a01a1c7e213b69f7cb6da49480d1c185170a365b7fd7...   \n",
       "366173   2018-12-13  31a01a1c7e213b69f7cb6da49480d1c185170a365b7fd7...   \n",
       "424601   2022-11-29  31a01a1c7e213b69f7cb6da49480d1c185170a365b7fd7...   \n",
       "426110   2020-03-11  31a01a1c7e213b69f7cb6da49480d1c185170a365b7fd7...   \n",
       "453236   2018-12-06  31a01a1c7e213b69f7cb6da49480d1c185170a365b7fd7...   \n",
       "498282   2022-09-27  31a01a1c7e213b69f7cb6da49480d1c185170a365b7fd7...   \n",
       "507831   2022-02-01  31a01a1c7e213b69f7cb6da49480d1c185170a365b7fd7...   \n",
       "600245   2020-07-06  31a01a1c7e213b69f7cb6da49480d1c185170a365b7fd7...   \n",
       "\n",
       "                                                holder_id  target  \n",
       "20881   3272384fcca6fd52b26220f5c282d7fc2f9a02c7e12100...       1  \n",
       "109767  d74cebd3aa3f766ab3e42f47c69680c9cab5abb47edab2...       1  \n",
       "205565  358356a7d79a69616230da154b108ab39e16bf1c90a5b4...       1  \n",
       "208481  6597b4af54ca1d1f450a625bd8b68dd455f34371b4c806...       1  \n",
       "222578  3272384fcca6fd52b26220f5c282d7fc2f9a02c7e12100...       1  \n",
       "258821  615d53bb74d40db8ddf6babc158ec6034f299865b23c14...       1  \n",
       "310495  3272384fcca6fd52b26220f5c282d7fc2f9a02c7e12100...       1  \n",
       "313995  3272384fcca6fd52b26220f5c282d7fc2f9a02c7e12100...       1  \n",
       "326970  3272384fcca6fd52b26220f5c282d7fc2f9a02c7e12100...       1  \n",
       "331644  9a30d180279eb7fa31214a9d4dbb50d05d0a6ab6e16120...       1  \n",
       "342834  9a30d180279eb7fa31214a9d4dbb50d05d0a6ab6e16120...       1  \n",
       "366173  ce5ea1a99da264c3121b60c82f1150baa36543ef594e53...       1  \n",
       "424601  f80caf8711603fef375c00cc56ee26c90f1d887cc15ea1...       1  \n",
       "426110  3272384fcca6fd52b26220f5c282d7fc2f9a02c7e12100...       1  \n",
       "453236  690d9a4552009b294207e1ce4e36746c44802416bfa1c8...       1  \n",
       "498282  615d53bb74d40db8ddf6babc158ec6034f299865b23c14...       1  \n",
       "507831  9a30d180279eb7fa31214a9d4dbb50d05d0a6ab6e16120...       1  \n",
       "600245  cb3d7cec26622c1fe56e4a7606fd8862ce835fa6d13af9...       1  "
      ]
     },
     "execution_count": 24,
     "metadata": {},
     "output_type": "execute_result"
    }
   ],
   "source": [
    "all_df[\n",
    "    all_df[\"owner_id\"] == \"31a01a1c7e213b69f7cb6da49480d1c185170a365b7fd756def682a5a9f64d3c\"\n",
    "]"
   ]
  },
  {
   "cell_type": "markdown",
   "id": "c6957270",
   "metadata": {},
   "source": [
    "Конкретно для это владельца карты видим, что имеется 18 уникальных держателей карт, т.е. данный айди владельца является группирующим"
   ]
  },
  {
   "cell_type": "code",
   "execution_count": 25,
   "id": "9a38768e",
   "metadata": {},
   "outputs": [
    {
     "data": {
      "text/plain": [
       "fb87393a13e055485cd0b5eb90bdc5f8c4f602bb2799c2a39e3cd661ac51d5cc    11\n",
       "1477c39acb2b251cb23a8b5aeae5f12a6bb8dfefddf121b3676575a9cd81f52f    10\n",
       "563ccde6c43c58f258c31528dab6e304904b3000473fa23d3aa21883de775bd3     9\n",
       "35dc5014769e821402020d03d7f65610009c244a9f9e77f635c827ec26846565     7\n",
       "9f6fe3188284311eb2401d839e2d1b159a4bd5f11f2c9c8999efb71bd129b333     7\n",
       "                                                                    ..\n",
       "956ee6653abc39d223fb178efe4f0fcb447b426a4242fff7c87e1097bd62d888     1\n",
       "270254f6609e32954d4dcc5f286d61028c0a2530a8f83f0b35e20196eacdb6d6     1\n",
       "985b5dcafd8e3f26e23bc4d9766a2f131d22010f1c8aaacbe92f83a1a5c9e9be     1\n",
       "a93c3522f68404a0ca57da6fdd3ab51f90a0ac0f85c56db150a6143971f4e852     1\n",
       "d9999d97de050057999e64fdf4ce147e122e6cfec9da548482907b40a0e19b2f     1\n",
       "Name: owner_id, Length: 386458, dtype: int64"
      ]
     },
     "execution_count": 25,
     "metadata": {},
     "output_type": "execute_result"
    }
   ],
   "source": [
    "all_df[\n",
    "    all_df[\"target\"] == 0\n",
    "][\"owner_id\"].value_counts()"
   ]
  },
  {
   "cell_type": "code",
   "execution_count": 26,
   "id": "07fb79c5",
   "metadata": {},
   "outputs": [
    {
     "data": {
      "text/html": [
       "<div>\n",
       "<style scoped>\n",
       "    .dataframe tbody tr th:only-of-type {\n",
       "        vertical-align: middle;\n",
       "    }\n",
       "\n",
       "    .dataframe tbody tr th {\n",
       "        vertical-align: top;\n",
       "    }\n",
       "\n",
       "    .dataframe thead th {\n",
       "        text-align: right;\n",
       "    }\n",
       "</style>\n",
       "<table border=\"1\" class=\"dataframe\">\n",
       "  <thead>\n",
       "    <tr style=\"text-align: right;\">\n",
       "      <th></th>\n",
       "      <th>cardapp_date</th>\n",
       "      <th>owner_id</th>\n",
       "      <th>holder_id</th>\n",
       "      <th>target</th>\n",
       "    </tr>\n",
       "  </thead>\n",
       "  <tbody>\n",
       "    <tr>\n",
       "      <th>3135</th>\n",
       "      <td>2021-07-19</td>\n",
       "      <td>fb87393a13e055485cd0b5eb90bdc5f8c4f602bb2799c2...</td>\n",
       "      <td>fb87393a13e055485cd0b5eb90bdc5f8c4f602bb2799c2...</td>\n",
       "      <td>0</td>\n",
       "    </tr>\n",
       "    <tr>\n",
       "      <th>6666</th>\n",
       "      <td>2021-03-18</td>\n",
       "      <td>fb87393a13e055485cd0b5eb90bdc5f8c4f602bb2799c2...</td>\n",
       "      <td>fb87393a13e055485cd0b5eb90bdc5f8c4f602bb2799c2...</td>\n",
       "      <td>0</td>\n",
       "    </tr>\n",
       "    <tr>\n",
       "      <th>15530</th>\n",
       "      <td>2021-03-16</td>\n",
       "      <td>fb87393a13e055485cd0b5eb90bdc5f8c4f602bb2799c2...</td>\n",
       "      <td>fb87393a13e055485cd0b5eb90bdc5f8c4f602bb2799c2...</td>\n",
       "      <td>0</td>\n",
       "    </tr>\n",
       "    <tr>\n",
       "      <th>16328</th>\n",
       "      <td>2021-07-13</td>\n",
       "      <td>fb87393a13e055485cd0b5eb90bdc5f8c4f602bb2799c2...</td>\n",
       "      <td>fb87393a13e055485cd0b5eb90bdc5f8c4f602bb2799c2...</td>\n",
       "      <td>0</td>\n",
       "    </tr>\n",
       "    <tr>\n",
       "      <th>17278</th>\n",
       "      <td>2021-03-23</td>\n",
       "      <td>fb87393a13e055485cd0b5eb90bdc5f8c4f602bb2799c2...</td>\n",
       "      <td>fb87393a13e055485cd0b5eb90bdc5f8c4f602bb2799c2...</td>\n",
       "      <td>0</td>\n",
       "    </tr>\n",
       "    <tr>\n",
       "      <th>18457</th>\n",
       "      <td>2021-03-15</td>\n",
       "      <td>fb87393a13e055485cd0b5eb90bdc5f8c4f602bb2799c2...</td>\n",
       "      <td>fb87393a13e055485cd0b5eb90bdc5f8c4f602bb2799c2...</td>\n",
       "      <td>0</td>\n",
       "    </tr>\n",
       "    <tr>\n",
       "      <th>23896</th>\n",
       "      <td>2021-06-01</td>\n",
       "      <td>fb87393a13e055485cd0b5eb90bdc5f8c4f602bb2799c2...</td>\n",
       "      <td>fb87393a13e055485cd0b5eb90bdc5f8c4f602bb2799c2...</td>\n",
       "      <td>0</td>\n",
       "    </tr>\n",
       "    <tr>\n",
       "      <th>35164</th>\n",
       "      <td>2021-03-20</td>\n",
       "      <td>fb87393a13e055485cd0b5eb90bdc5f8c4f602bb2799c2...</td>\n",
       "      <td>fb87393a13e055485cd0b5eb90bdc5f8c4f602bb2799c2...</td>\n",
       "      <td>0</td>\n",
       "    </tr>\n",
       "    <tr>\n",
       "      <th>48331</th>\n",
       "      <td>2021-07-14</td>\n",
       "      <td>fb87393a13e055485cd0b5eb90bdc5f8c4f602bb2799c2...</td>\n",
       "      <td>fb87393a13e055485cd0b5eb90bdc5f8c4f602bb2799c2...</td>\n",
       "      <td>0</td>\n",
       "    </tr>\n",
       "    <tr>\n",
       "      <th>58958</th>\n",
       "      <td>2021-03-14</td>\n",
       "      <td>fb87393a13e055485cd0b5eb90bdc5f8c4f602bb2799c2...</td>\n",
       "      <td>fb87393a13e055485cd0b5eb90bdc5f8c4f602bb2799c2...</td>\n",
       "      <td>0</td>\n",
       "    </tr>\n",
       "    <tr>\n",
       "      <th>177864</th>\n",
       "      <td>2020-08-19</td>\n",
       "      <td>fb87393a13e055485cd0b5eb90bdc5f8c4f602bb2799c2...</td>\n",
       "      <td>fb87393a13e055485cd0b5eb90bdc5f8c4f602bb2799c2...</td>\n",
       "      <td>0</td>\n",
       "    </tr>\n",
       "  </tbody>\n",
       "</table>\n",
       "</div>"
      ],
      "text/plain": [
       "       cardapp_date                                           owner_id  \\\n",
       "3135     2021-07-19  fb87393a13e055485cd0b5eb90bdc5f8c4f602bb2799c2...   \n",
       "6666     2021-03-18  fb87393a13e055485cd0b5eb90bdc5f8c4f602bb2799c2...   \n",
       "15530    2021-03-16  fb87393a13e055485cd0b5eb90bdc5f8c4f602bb2799c2...   \n",
       "16328    2021-07-13  fb87393a13e055485cd0b5eb90bdc5f8c4f602bb2799c2...   \n",
       "17278    2021-03-23  fb87393a13e055485cd0b5eb90bdc5f8c4f602bb2799c2...   \n",
       "18457    2021-03-15  fb87393a13e055485cd0b5eb90bdc5f8c4f602bb2799c2...   \n",
       "23896    2021-06-01  fb87393a13e055485cd0b5eb90bdc5f8c4f602bb2799c2...   \n",
       "35164    2021-03-20  fb87393a13e055485cd0b5eb90bdc5f8c4f602bb2799c2...   \n",
       "48331    2021-07-14  fb87393a13e055485cd0b5eb90bdc5f8c4f602bb2799c2...   \n",
       "58958    2021-03-14  fb87393a13e055485cd0b5eb90bdc5f8c4f602bb2799c2...   \n",
       "177864   2020-08-19  fb87393a13e055485cd0b5eb90bdc5f8c4f602bb2799c2...   \n",
       "\n",
       "                                                holder_id  target  \n",
       "3135    fb87393a13e055485cd0b5eb90bdc5f8c4f602bb2799c2...       0  \n",
       "6666    fb87393a13e055485cd0b5eb90bdc5f8c4f602bb2799c2...       0  \n",
       "15530   fb87393a13e055485cd0b5eb90bdc5f8c4f602bb2799c2...       0  \n",
       "16328   fb87393a13e055485cd0b5eb90bdc5f8c4f602bb2799c2...       0  \n",
       "17278   fb87393a13e055485cd0b5eb90bdc5f8c4f602bb2799c2...       0  \n",
       "18457   fb87393a13e055485cd0b5eb90bdc5f8c4f602bb2799c2...       0  \n",
       "23896   fb87393a13e055485cd0b5eb90bdc5f8c4f602bb2799c2...       0  \n",
       "35164   fb87393a13e055485cd0b5eb90bdc5f8c4f602bb2799c2...       0  \n",
       "48331   fb87393a13e055485cd0b5eb90bdc5f8c4f602bb2799c2...       0  \n",
       "58958   fb87393a13e055485cd0b5eb90bdc5f8c4f602bb2799c2...       0  \n",
       "177864  fb87393a13e055485cd0b5eb90bdc5f8c4f602bb2799c2...       0  "
      ]
     },
     "execution_count": 26,
     "metadata": {},
     "output_type": "execute_result"
    }
   ],
   "source": [
    "all_df[\n",
    "    all_df[\"owner_id\"] == \"fb87393a13e055485cd0b5eb90bdc5f8c4f602bb2799c2a39e3cd661ac51d5cc\"\n",
    "]"
   ]
  },
  {
   "cell_type": "markdown",
   "id": "def72c8f",
   "metadata": {},
   "source": [
    "В этой табличке видно, что присутствует всего один уникальный владец, он - же и держатель карты. Значит, айди данного владельца не является группирующим, что верно"
   ]
  },
  {
   "cell_type": "markdown",
   "id": "4fc8c709",
   "metadata": {},
   "source": [
    "<h1 align=\"center\">Анализ тренировочного набора данных</h1>"
   ]
  },
  {
   "cell_type": "markdown",
   "id": "10e86df0",
   "metadata": {},
   "source": [
    "Загрузим файл feat_cup"
   ]
  },
  {
   "cell_type": "code",
   "execution_count": 27,
   "id": "13078439",
   "metadata": {},
   "outputs": [],
   "source": [
    "data = pd.read_csv(\"feat_cup.csv\")"
   ]
  },
  {
   "cell_type": "markdown",
   "id": "66511464",
   "metadata": {},
   "source": [
    "Посмотрим на размерность данных и на текущий расход по памяти"
   ]
  },
  {
   "cell_type": "code",
   "execution_count": 28,
   "id": "41b4a9e3",
   "metadata": {},
   "outputs": [
    {
     "name": "stdout",
     "output_type": "stream",
     "text": [
      "[Размерность]: (291882, 293)\n",
      "[Потребление памяти]: 652.477 Мб\n"
     ]
    }
   ],
   "source": [
    "print(f\"[Размерность]: {data.shape}\")\n",
    "print(f\"[Потребление памяти]: {round(data.memory_usage().sum() / 1024 ** 2, 3)} Мб\")"
   ]
  },
  {
   "cell_type": "markdown",
   "id": "539d58b9",
   "metadata": {},
   "source": [
    "Ранжируем по группам каждую строчку"
   ]
  },
  {
   "cell_type": "code",
   "execution_count": 30,
   "id": "cc1e0b40",
   "metadata": {},
   "outputs": [],
   "source": [
    "all_df[\"cardapp_date\"] = pd.to_datetime(all_df[\"cardapp_date\"])\n",
    "all_df = all_df.sort_values(\"cardapp_date\").reset_index(drop=True)\n",
    "all_df[\"rank\"] = all_df.groupby(\"owner_id\")[\"cardapp_date\"].transform(lambda x: x.rank())"
   ]
  },
  {
   "cell_type": "markdown",
   "id": "4e0348e9",
   "metadata": {},
   "source": [
    "Имеются данные, где отчетная дата начинается раньше, чем человек вообще оформил карту. Есть гипотеза, что такие моменты могут быть из-за того, что человек не оформлял карту, но у него может быть накопительный/дебетовый/кредитный счет, т.е. человек, допустим, взял кредит в банке, платил его, после чего его всё устроило, и он получил карту. \n"
   ]
  },
  {
   "cell_type": "code",
   "execution_count": 31,
   "id": "3de4de42",
   "metadata": {},
   "outputs": [],
   "source": [
    "first_card = all_df[all_df[\"rank\"] == 1][[\"owner_id\", \"cardapp_date\"]]\n",
    "first_card.rename(columns={\"owner_id\": \"client_id\"}, inplace=True)"
   ]
  },
  {
   "cell_type": "code",
   "execution_count": 32,
   "id": "fd6fbb97",
   "metadata": {},
   "outputs": [],
   "source": [
    "first_card = first_card.merge(\n",
    "    target_df.rename(\n",
    "        columns={\"owner_id\": \"client_id\"}\n",
    "    ), on=\"client_id\", how=\"left\"\n",
    ")"
   ]
  },
  {
   "cell_type": "markdown",
   "id": "e10449f0",
   "metadata": {},
   "source": [
    "feat_cup уже был загружен, соеденим с целевой переменной"
   ]
  },
  {
   "cell_type": "code",
   "execution_count": 33,
   "id": "ee3b7dca",
   "metadata": {},
   "outputs": [],
   "source": [
    "data = data.merge(first_card, on=\"client_id\", how=\"left\")"
   ]
  },
  {
   "cell_type": "code",
   "execution_count": 34,
   "id": "9e98a5c0",
   "metadata": {},
   "outputs": [
    {
     "data": {
      "text/plain": [
       "3132"
      ]
     },
     "execution_count": 34,
     "metadata": {},
     "output_type": "execute_result"
    }
   ],
   "source": [
    "data.target.isna().sum()"
   ]
  },
  {
   "cell_type": "code",
   "execution_count": 35,
   "id": "771c04e0",
   "metadata": {},
   "outputs": [],
   "source": [
    "data[\"dt\"] = pd.to_datetime(data[\"dt\"])\n",
    "data[\"cardapp_date\"] = pd.to_datetime(data[\"cardapp_date\"])"
   ]
  },
  {
   "cell_type": "code",
   "execution_count": 36,
   "id": "e5ef5c26",
   "metadata": {
    "scrolled": true
   },
   "outputs": [
    {
     "data": {
      "text/html": [
       "<div>\n",
       "<style scoped>\n",
       "    .dataframe tbody tr th:only-of-type {\n",
       "        vertical-align: middle;\n",
       "    }\n",
       "\n",
       "    .dataframe tbody tr th {\n",
       "        vertical-align: top;\n",
       "    }\n",
       "\n",
       "    .dataframe thead th {\n",
       "        text-align: right;\n",
       "    }\n",
       "</style>\n",
       "<table border=\"1\" class=\"dataframe\">\n",
       "  <thead>\n",
       "    <tr style=\"text-align: right;\">\n",
       "      <th></th>\n",
       "      <th>client_id</th>\n",
       "      <th>dt</th>\n",
       "      <th>accountsalary_flag</th>\n",
       "      <th>country</th>\n",
       "      <th>profit_income_out_rur_amt_6m</th>\n",
       "      <th>clientoutflowstatus</th>\n",
       "      <th>curbal_usd_amt_cm_avg</th>\n",
       "      <th>stratsegfactor</th>\n",
       "      <th>srvpackage</th>\n",
       "      <th>clientsegment</th>\n",
       "      <th>...</th>\n",
       "      <th>transaction_category_sporting_goods_inc_amt_2m</th>\n",
       "      <th>transaction_category_airplane_tickets_percent_amt_2m</th>\n",
       "      <th>transaction_category_transport_percent_amt_2m</th>\n",
       "      <th>transaction_category_restaurants_percent_amt_2m</th>\n",
       "      <th>transaction_category_auto_services_percent_amt_2m</th>\n",
       "      <th>transaction_category_supermarket_sum_cnt_m2</th>\n",
       "      <th>transaction_category_auto_services_sum_cnt_m2</th>\n",
       "      <th>cardapp_date</th>\n",
       "      <th>target</th>\n",
       "      <th>mask</th>\n",
       "    </tr>\n",
       "  </thead>\n",
       "  <tbody>\n",
       "    <tr>\n",
       "      <th>195746</th>\n",
       "      <td>bbbd5b7d32f770094330dbd61f5d3fefdb15552e317145...</td>\n",
       "      <td>2022-03-31</td>\n",
       "      <td>1.0</td>\n",
       "      <td>RUS</td>\n",
       "      <td>802.500000</td>\n",
       "      <td>ACTIVE</td>\n",
       "      <td>7.0</td>\n",
       "      <td>Остатки на счетах</td>\n",
       "      <td>Технический</td>\n",
       "      <td>MASS</td>\n",
       "      <td>...</td>\n",
       "      <td>NaN</td>\n",
       "      <td>NaN</td>\n",
       "      <td>NaN</td>\n",
       "      <td>0.030135</td>\n",
       "      <td>NaN</td>\n",
       "      <td>37.0</td>\n",
       "      <td>NaN</td>\n",
       "      <td>2022-04-07</td>\n",
       "      <td>0.0</td>\n",
       "      <td>1</td>\n",
       "    </tr>\n",
       "    <tr>\n",
       "      <th>184237</th>\n",
       "      <td>215eeee375724c45ad9ef3c08702badff4b60f7eb24026...</td>\n",
       "      <td>2021-11-30</td>\n",
       "      <td>1.0</td>\n",
       "      <td>RUS</td>\n",
       "      <td>11483.000000</td>\n",
       "      <td>ACTIVE</td>\n",
       "      <td>4855.0</td>\n",
       "      <td>Пакет услуг</td>\n",
       "      <td>Максимум+</td>\n",
       "      <td>AFFLUENT</td>\n",
       "      <td>...</td>\n",
       "      <td>NaN</td>\n",
       "      <td>NaN</td>\n",
       "      <td>0.001462</td>\n",
       "      <td>0.009217</td>\n",
       "      <td>0.008131</td>\n",
       "      <td>3.0</td>\n",
       "      <td>4.0</td>\n",
       "      <td>2021-12-13</td>\n",
       "      <td>1.0</td>\n",
       "      <td>1</td>\n",
       "    </tr>\n",
       "    <tr>\n",
       "      <th>51430</th>\n",
       "      <td>ed65e8c71ab59cce8aa537efd7f1aba89638b913858c96...</td>\n",
       "      <td>2021-02-28</td>\n",
       "      <td>1.0</td>\n",
       "      <td>RUS</td>\n",
       "      <td>450.666667</td>\n",
       "      <td>ACTIVE</td>\n",
       "      <td>525.0</td>\n",
       "      <td>Предиктивный доход</td>\n",
       "      <td>Технический</td>\n",
       "      <td>MAFFLUENT</td>\n",
       "      <td>...</td>\n",
       "      <td>NaN</td>\n",
       "      <td>NaN</td>\n",
       "      <td>0.051657</td>\n",
       "      <td>NaN</td>\n",
       "      <td>0.047599</td>\n",
       "      <td>56.0</td>\n",
       "      <td>10.0</td>\n",
       "      <td>2021-03-11</td>\n",
       "      <td>1.0</td>\n",
       "      <td>1</td>\n",
       "    </tr>\n",
       "    <tr>\n",
       "      <th>55870</th>\n",
       "      <td>6b56198e3e451620ceadae1f6fbaa977506b873eb0c7ea...</td>\n",
       "      <td>2022-07-31</td>\n",
       "      <td>1.0</td>\n",
       "      <td>RUS</td>\n",
       "      <td>15910.000000</td>\n",
       "      <td>ACTIVE</td>\n",
       "      <td>0.0</td>\n",
       "      <td>Пакет услуг</td>\n",
       "      <td>Премиум</td>\n",
       "      <td>AFFLUENT</td>\n",
       "      <td>...</td>\n",
       "      <td>NaN</td>\n",
       "      <td>NaN</td>\n",
       "      <td>NaN</td>\n",
       "      <td>NaN</td>\n",
       "      <td>NaN</td>\n",
       "      <td>NaN</td>\n",
       "      <td>NaN</td>\n",
       "      <td>2022-08-09</td>\n",
       "      <td>0.0</td>\n",
       "      <td>1</td>\n",
       "    </tr>\n",
       "    <tr>\n",
       "      <th>175713</th>\n",
       "      <td>527f4d93c69f2e0ce41a4e0381bc7dbb00c7bc7bf0647e...</td>\n",
       "      <td>2021-09-30</td>\n",
       "      <td>NaN</td>\n",
       "      <td>NaN</td>\n",
       "      <td>NaN</td>\n",
       "      <td>NaN</td>\n",
       "      <td>NaN</td>\n",
       "      <td>NaN</td>\n",
       "      <td>NaN</td>\n",
       "      <td>NaN</td>\n",
       "      <td>...</td>\n",
       "      <td>NaN</td>\n",
       "      <td>NaN</td>\n",
       "      <td>NaN</td>\n",
       "      <td>NaN</td>\n",
       "      <td>NaN</td>\n",
       "      <td>NaN</td>\n",
       "      <td>NaN</td>\n",
       "      <td>2021-10-23</td>\n",
       "      <td>0.0</td>\n",
       "      <td>1</td>\n",
       "    </tr>\n",
       "  </tbody>\n",
       "</table>\n",
       "<p>5 rows × 296 columns</p>\n",
       "</div>"
      ],
      "text/plain": [
       "                                                client_id         dt  \\\n",
       "195746  bbbd5b7d32f770094330dbd61f5d3fefdb15552e317145... 2022-03-31   \n",
       "184237  215eeee375724c45ad9ef3c08702badff4b60f7eb24026... 2021-11-30   \n",
       "51430   ed65e8c71ab59cce8aa537efd7f1aba89638b913858c96... 2021-02-28   \n",
       "55870   6b56198e3e451620ceadae1f6fbaa977506b873eb0c7ea... 2022-07-31   \n",
       "175713  527f4d93c69f2e0ce41a4e0381bc7dbb00c7bc7bf0647e... 2021-09-30   \n",
       "\n",
       "        accountsalary_flag country  profit_income_out_rur_amt_6m  \\\n",
       "195746                 1.0     RUS                    802.500000   \n",
       "184237                 1.0     RUS                  11483.000000   \n",
       "51430                  1.0     RUS                    450.666667   \n",
       "55870                  1.0     RUS                  15910.000000   \n",
       "175713                 NaN     NaN                           NaN   \n",
       "\n",
       "       clientoutflowstatus  curbal_usd_amt_cm_avg      stratsegfactor  \\\n",
       "195746              ACTIVE                    7.0   Остатки на счетах   \n",
       "184237              ACTIVE                 4855.0         Пакет услуг   \n",
       "51430               ACTIVE                  525.0  Предиктивный доход   \n",
       "55870               ACTIVE                    0.0         Пакет услуг   \n",
       "175713                 NaN                    NaN                 NaN   \n",
       "\n",
       "         srvpackage clientsegment  ...  \\\n",
       "195746  Технический          MASS  ...   \n",
       "184237    Максимум+      AFFLUENT  ...   \n",
       "51430   Технический     MAFFLUENT  ...   \n",
       "55870       Премиум      AFFLUENT  ...   \n",
       "175713          NaN           NaN  ...   \n",
       "\n",
       "        transaction_category_sporting_goods_inc_amt_2m  \\\n",
       "195746                                             NaN   \n",
       "184237                                             NaN   \n",
       "51430                                              NaN   \n",
       "55870                                              NaN   \n",
       "175713                                             NaN   \n",
       "\n",
       "       transaction_category_airplane_tickets_percent_amt_2m  \\\n",
       "195746                                                NaN     \n",
       "184237                                                NaN     \n",
       "51430                                                 NaN     \n",
       "55870                                                 NaN     \n",
       "175713                                                NaN     \n",
       "\n",
       "       transaction_category_transport_percent_amt_2m  \\\n",
       "195746                                           NaN   \n",
       "184237                                      0.001462   \n",
       "51430                                       0.051657   \n",
       "55870                                            NaN   \n",
       "175713                                           NaN   \n",
       "\n",
       "        transaction_category_restaurants_percent_amt_2m  \\\n",
       "195746                                         0.030135   \n",
       "184237                                         0.009217   \n",
       "51430                                               NaN   \n",
       "55870                                               NaN   \n",
       "175713                                              NaN   \n",
       "\n",
       "        transaction_category_auto_services_percent_amt_2m  \\\n",
       "195746                                                NaN   \n",
       "184237                                           0.008131   \n",
       "51430                                            0.047599   \n",
       "55870                                                 NaN   \n",
       "175713                                                NaN   \n",
       "\n",
       "        transaction_category_supermarket_sum_cnt_m2  \\\n",
       "195746                                         37.0   \n",
       "184237                                          3.0   \n",
       "51430                                          56.0   \n",
       "55870                                           NaN   \n",
       "175713                                          NaN   \n",
       "\n",
       "        transaction_category_auto_services_sum_cnt_m2  cardapp_date  target  \\\n",
       "195746                                            NaN    2022-04-07     0.0   \n",
       "184237                                            4.0    2021-12-13     1.0   \n",
       "51430                                            10.0    2021-03-11     1.0   \n",
       "55870                                             NaN    2022-08-09     0.0   \n",
       "175713                                            NaN    2021-10-23     0.0   \n",
       "\n",
       "        mask  \n",
       "195746     1  \n",
       "184237     1  \n",
       "51430      1  \n",
       "55870      1  \n",
       "175713     1  \n",
       "\n",
       "[5 rows x 296 columns]"
      ]
     },
     "execution_count": 36,
     "metadata": {},
     "output_type": "execute_result"
    }
   ],
   "source": [
    "data[\"mask\"] = data.apply(\n",
    "    lambda x: 1 if x[\"dt\"] < x[\"cardapp_date\"] else 0, axis=1\n",
    ")\n",
    "data_check = data[(data[\"mask\"] == 1)]\n",
    "data_check.sample(5)"
   ]
  },
  {
   "cell_type": "markdown",
   "id": "c5720869",
   "metadata": {},
   "source": [
    "По столбцу со сроком жизни клиента(в банке) можно понять, что клиент действительно пользуется другими продуктами банка без карты.\n",
    "\n",
    "Посмотрим на пропуски в life_time_days"
   ]
  },
  {
   "cell_type": "code",
   "execution_count": 37,
   "id": "7c7fe3c7",
   "metadata": {},
   "outputs": [
    {
     "name": "stdout",
     "output_type": "stream",
     "text": [
      "<class 'pandas.core.frame.DataFrame'>\n",
      "Int64Index: 69085 entries, 19 to 291847\n",
      "Data columns (total 50 columns):\n",
      " #   Column                         Non-Null Count  Dtype         \n",
      "---  ------                         --------------  -----         \n",
      " 0   client_id                      69085 non-null  object        \n",
      " 1   dt                             69085 non-null  datetime64[ns]\n",
      " 2   accountsalary_flag             0 non-null      float64       \n",
      " 3   country                        0 non-null      object        \n",
      " 4   profit_income_out_rur_amt_6m   0 non-null      float64       \n",
      " 5   clientoutflowstatus            0 non-null      object        \n",
      " 6   curbal_usd_amt_cm_avg          0 non-null      float64       \n",
      " 7   stratsegfactor                 0 non-null      object        \n",
      " 8   srvpackage                     0 non-null      object        \n",
      " 9   clientsegment                  0 non-null      object        \n",
      " 10  age                            0 non-null      float64       \n",
      " 11  gender                         0 non-null      object        \n",
      " 12  addrref                        0 non-null      object        \n",
      " 13  life_time_days                 0 non-null      float64       \n",
      " 14  profit_income_out_rur_amt_3m   0 non-null      float64       \n",
      " 15  profit_income_out_rur_amt_12m  0 non-null      float64       \n",
      " 16  profit_income_out_rur_amt_9m   0 non-null      float64       \n",
      " 17  turn_save_db_sum_v2            53 non-null     float64       \n",
      " 18  avg_invest_inc                 204 non-null    float64       \n",
      " 19  avg_percents_inc               204 non-null    float64       \n",
      " 20  avg_save_db_turn               1199 non-null   float64       \n",
      " 21  card_dda_rur_amt_3m_avg        140 non-null    float64       \n",
      " 22  depos_rur_amt_curr_v2          1305 non-null   float64       \n",
      " 23  total_inc                      204 non-null    float64       \n",
      " 24  dda_rur_amt_3m_avg             140 non-null    float64       \n",
      " 25  accum_rur_amt_3m_avg           140 non-null    float64       \n",
      " 26  dda_rur_amt_cm_avg             48 non-null     float64       \n",
      " 27  card_dda_rur_amt_curr_v2       1305 non-null   float64       \n",
      " 28  sal_rur_amt_curr_v2            1305 non-null   float64       \n",
      " 29  diff_save_cr_db_turn           1199 non-null   float64       \n",
      " 30  avg_zp_inc                     204 non-null    float64       \n",
      " 31  avg_cur_db_turn                1199 non-null   float64       \n",
      " 32  depos_rur_amt_3m_avg           140 non-null    float64       \n",
      " 33  turn_save_db_avg_act_v2        23 non-null     float64       \n",
      " 34  total_rur_amt_cm_avg           48 non-null     float64       \n",
      " 35  avg_credit_turn_rur            1199 non-null   float64       \n",
      " 36  depos_rur_amt_cm_avg           48 non-null     float64       \n",
      " 37  accum_rur_amt_cm_avg           48 non-null     float64       \n",
      " 38  total_rur_amt_curr_v2          1305 non-null   float64       \n",
      " 39  diff_cur_cr_db_turn            1199 non-null   float64       \n",
      " 40  curr_rur_amt_curr_v2           1305 non-null   float64       \n",
      " 41  total_rur_amt_3m_avg           140 non-null    float64       \n",
      " 42  accum_rur_amt_curr_v2          1305 non-null   float64       \n",
      " 43  curr_rur_amt_3m_avg            140 non-null    float64       \n",
      " 44  turn_fdep_cr_avg_act_v2        12 non-null     float64       \n",
      " 45  cred_dda_rur_amt_curr_v2       1305 non-null   float64       \n",
      " 46  avg_save_cr_turn               1199 non-null   float64       \n",
      " 47  tda_rur_amt_3m_avg             140 non-null    float64       \n",
      " 48  curr_rur_amt_cm_avg            48 non-null     float64       \n",
      " 49  avg_cur_cr_turn                1199 non-null   float64       \n",
      "dtypes: datetime64[ns](1), float64(41), object(8)\n",
      "memory usage: 26.9+ MB\n"
     ]
    }
   ],
   "source": [
    "data_check.iloc[:, :50][data_check.iloc[:, :50][\"life_time_days\"].isna()].info()"
   ]
  },
  {
   "cell_type": "markdown",
   "id": "4119f4da",
   "metadata": {},
   "source": [
    "Если есть пропуск в столбце со сроком жизни клиента в банке, то почти везде есть пропуски в других столбцах, следовательно, можно сказать, что это ненужные данные. Посмотрим на строчки, где все значения пропущены.\n",
    "\n",
    "\"\"Имеются строчки, где есть данные в столбце о кредитах есть, но они 0, и в других столбцах пропуски, либо также нули, такие столбцы также будут отсеиваться\"\""
   ]
  },
  {
   "cell_type": "markdown",
   "id": "435bd81d",
   "metadata": {},
   "source": [
    "Заменяем пропуски 0"
   ]
  },
  {
   "cell_type": "code",
   "execution_count": 38,
   "id": "3578885f",
   "metadata": {},
   "outputs": [],
   "source": [
    "data_check = data_check.fillna(0)"
   ]
  },
  {
   "cell_type": "markdown",
   "id": "b4f5bcd1",
   "metadata": {},
   "source": [
    "Напишем функцию для определения нужных пользователей"
   ]
  },
  {
   "cell_type": "code",
   "execution_count": 39,
   "id": "561773bf",
   "metadata": {},
   "outputs": [],
   "source": [
    "def screening(\n",
    "    df: pd.core.frame.DataFrame\n",
    ") -> int:\n",
    "    \"\"\"\n",
    "    Функция для нахождения строк, которые\n",
    "    вместо NaN имеют 0 и не являются информативными\n",
    "    :df: исходный датафрейм\n",
    "    :возвращает: 0 - если вся строка пустая,\n",
    "    1 - в противном случае\n",
    "    \"\"\"\n",
    "    i = 0\n",
    "    for col in df.index[2:-3]:\n",
    "        if df[col] == 0:\n",
    "            i += 1\n",
    "\n",
    "    if i == len(df.index[2:-3]):\n",
    "        return 0\n",
    "    return 1"
   ]
  },
  {
   "cell_type": "code",
   "execution_count": 40,
   "id": "bf0b9810",
   "metadata": {},
   "outputs": [
    {
     "name": "stderr",
     "output_type": "stream",
     "text": [
      "100%|██████████| 218410/218410 [02:18<00:00, 1580.86it/s]\n"
     ]
    }
   ],
   "source": [
    "data_check['mask'] = data_check.progress_apply(screening, axis=1)"
   ]
  },
  {
   "cell_type": "markdown",
   "id": "19353b35",
   "metadata": {},
   "source": [
    "Получаем список уникальных валидых пользователей, у которых отчётная дата меньше, чем дата оформления карты."
   ]
  },
  {
   "cell_type": "code",
   "execution_count": 41,
   "id": "ce920e9d",
   "metadata": {},
   "outputs": [
    {
     "data": {
      "text/html": [
       "<div>\n",
       "<style scoped>\n",
       "    .dataframe tbody tr th:only-of-type {\n",
       "        vertical-align: middle;\n",
       "    }\n",
       "\n",
       "    .dataframe tbody tr th {\n",
       "        vertical-align: top;\n",
       "    }\n",
       "\n",
       "    .dataframe thead th {\n",
       "        text-align: right;\n",
       "    }\n",
       "</style>\n",
       "<table border=\"1\" class=\"dataframe\">\n",
       "  <thead>\n",
       "    <tr style=\"text-align: right;\">\n",
       "      <th></th>\n",
       "      <th>client_id</th>\n",
       "      <th>dt</th>\n",
       "      <th>accountsalary_flag</th>\n",
       "      <th>country</th>\n",
       "      <th>profit_income_out_rur_amt_6m</th>\n",
       "      <th>clientoutflowstatus</th>\n",
       "      <th>curbal_usd_amt_cm_avg</th>\n",
       "      <th>stratsegfactor</th>\n",
       "      <th>srvpackage</th>\n",
       "      <th>clientsegment</th>\n",
       "      <th>...</th>\n",
       "      <th>transaction_category_sporting_goods_inc_amt_2m</th>\n",
       "      <th>transaction_category_airplane_tickets_percent_amt_2m</th>\n",
       "      <th>transaction_category_transport_percent_amt_2m</th>\n",
       "      <th>transaction_category_restaurants_percent_amt_2m</th>\n",
       "      <th>transaction_category_auto_services_percent_amt_2m</th>\n",
       "      <th>transaction_category_supermarket_sum_cnt_m2</th>\n",
       "      <th>transaction_category_auto_services_sum_cnt_m2</th>\n",
       "      <th>cardapp_date</th>\n",
       "      <th>target</th>\n",
       "      <th>mask</th>\n",
       "    </tr>\n",
       "  </thead>\n",
       "  <tbody>\n",
       "    <tr>\n",
       "      <th>127150</th>\n",
       "      <td>e09472cd687b6834865e7c33bbaac425de6fffa8138cee...</td>\n",
       "      <td>2021-07-31</td>\n",
       "      <td>0.0</td>\n",
       "      <td>0</td>\n",
       "      <td>0.0</td>\n",
       "      <td>0</td>\n",
       "      <td>0.0</td>\n",
       "      <td>0</td>\n",
       "      <td>0</td>\n",
       "      <td>0</td>\n",
       "      <td>...</td>\n",
       "      <td>0.0</td>\n",
       "      <td>0.0</td>\n",
       "      <td>0.0</td>\n",
       "      <td>0.0</td>\n",
       "      <td>0.0</td>\n",
       "      <td>0.0</td>\n",
       "      <td>0.0</td>\n",
       "      <td>2021-08-27</td>\n",
       "      <td>0.0</td>\n",
       "      <td>0</td>\n",
       "    </tr>\n",
       "    <tr>\n",
       "      <th>205893</th>\n",
       "      <td>5195f7a52e07bd2f69f42fb80f18023de2e1a95e9b407d...</td>\n",
       "      <td>2021-10-31</td>\n",
       "      <td>0.0</td>\n",
       "      <td>0</td>\n",
       "      <td>0.0</td>\n",
       "      <td>0</td>\n",
       "      <td>0.0</td>\n",
       "      <td>0</td>\n",
       "      <td>0</td>\n",
       "      <td>0</td>\n",
       "      <td>...</td>\n",
       "      <td>0.0</td>\n",
       "      <td>0.0</td>\n",
       "      <td>0.0</td>\n",
       "      <td>0.0</td>\n",
       "      <td>0.0</td>\n",
       "      <td>0.0</td>\n",
       "      <td>0.0</td>\n",
       "      <td>2021-11-02</td>\n",
       "      <td>0.0</td>\n",
       "      <td>0</td>\n",
       "    </tr>\n",
       "    <tr>\n",
       "      <th>46195</th>\n",
       "      <td>70631734deff21c4bd4fa0d66e060e7ae2ebaccfd1a4a5...</td>\n",
       "      <td>2022-02-28</td>\n",
       "      <td>0.0</td>\n",
       "      <td>0</td>\n",
       "      <td>0.0</td>\n",
       "      <td>0</td>\n",
       "      <td>0.0</td>\n",
       "      <td>0</td>\n",
       "      <td>0</td>\n",
       "      <td>0</td>\n",
       "      <td>...</td>\n",
       "      <td>0.0</td>\n",
       "      <td>0.0</td>\n",
       "      <td>0.0</td>\n",
       "      <td>0.0</td>\n",
       "      <td>0.0</td>\n",
       "      <td>0.0</td>\n",
       "      <td>0.0</td>\n",
       "      <td>2022-03-04</td>\n",
       "      <td>0.0</td>\n",
       "      <td>0</td>\n",
       "    </tr>\n",
       "    <tr>\n",
       "      <th>274535</th>\n",
       "      <td>8af0ced8373f01336cca8add71f7db7e085559580f5a3e...</td>\n",
       "      <td>2021-04-30</td>\n",
       "      <td>0.0</td>\n",
       "      <td>0</td>\n",
       "      <td>0.0</td>\n",
       "      <td>0</td>\n",
       "      <td>0.0</td>\n",
       "      <td>0</td>\n",
       "      <td>0</td>\n",
       "      <td>0</td>\n",
       "      <td>...</td>\n",
       "      <td>0.0</td>\n",
       "      <td>0.0</td>\n",
       "      <td>0.0</td>\n",
       "      <td>0.0</td>\n",
       "      <td>0.0</td>\n",
       "      <td>0.0</td>\n",
       "      <td>0.0</td>\n",
       "      <td>2021-05-24</td>\n",
       "      <td>0.0</td>\n",
       "      <td>0</td>\n",
       "    </tr>\n",
       "    <tr>\n",
       "      <th>11515</th>\n",
       "      <td>258fb71cbd6320dd732ba08703fdf982a7884a4988a20a...</td>\n",
       "      <td>2021-02-28</td>\n",
       "      <td>0.0</td>\n",
       "      <td>0</td>\n",
       "      <td>0.0</td>\n",
       "      <td>0</td>\n",
       "      <td>0.0</td>\n",
       "      <td>0</td>\n",
       "      <td>0</td>\n",
       "      <td>0</td>\n",
       "      <td>...</td>\n",
       "      <td>0.0</td>\n",
       "      <td>0.0</td>\n",
       "      <td>0.0</td>\n",
       "      <td>0.0</td>\n",
       "      <td>0.0</td>\n",
       "      <td>0.0</td>\n",
       "      <td>0.0</td>\n",
       "      <td>2021-03-04</td>\n",
       "      <td>0.0</td>\n",
       "      <td>0</td>\n",
       "    </tr>\n",
       "  </tbody>\n",
       "</table>\n",
       "<p>5 rows × 296 columns</p>\n",
       "</div>"
      ],
      "text/plain": [
       "                                                client_id         dt  \\\n",
       "127150  e09472cd687b6834865e7c33bbaac425de6fffa8138cee... 2021-07-31   \n",
       "205893  5195f7a52e07bd2f69f42fb80f18023de2e1a95e9b407d... 2021-10-31   \n",
       "46195   70631734deff21c4bd4fa0d66e060e7ae2ebaccfd1a4a5... 2022-02-28   \n",
       "274535  8af0ced8373f01336cca8add71f7db7e085559580f5a3e... 2021-04-30   \n",
       "11515   258fb71cbd6320dd732ba08703fdf982a7884a4988a20a... 2021-02-28   \n",
       "\n",
       "        accountsalary_flag country  profit_income_out_rur_amt_6m  \\\n",
       "127150                 0.0       0                           0.0   \n",
       "205893                 0.0       0                           0.0   \n",
       "46195                  0.0       0                           0.0   \n",
       "274535                 0.0       0                           0.0   \n",
       "11515                  0.0       0                           0.0   \n",
       "\n",
       "       clientoutflowstatus  curbal_usd_amt_cm_avg stratsegfactor srvpackage  \\\n",
       "127150                   0                    0.0              0          0   \n",
       "205893                   0                    0.0              0          0   \n",
       "46195                    0                    0.0              0          0   \n",
       "274535                   0                    0.0              0          0   \n",
       "11515                    0                    0.0              0          0   \n",
       "\n",
       "       clientsegment  ...  transaction_category_sporting_goods_inc_amt_2m  \\\n",
       "127150             0  ...                                             0.0   \n",
       "205893             0  ...                                             0.0   \n",
       "46195              0  ...                                             0.0   \n",
       "274535             0  ...                                             0.0   \n",
       "11515              0  ...                                             0.0   \n",
       "\n",
       "       transaction_category_airplane_tickets_percent_amt_2m  \\\n",
       "127150                                                0.0     \n",
       "205893                                                0.0     \n",
       "46195                                                 0.0     \n",
       "274535                                                0.0     \n",
       "11515                                                 0.0     \n",
       "\n",
       "       transaction_category_transport_percent_amt_2m  \\\n",
       "127150                                           0.0   \n",
       "205893                                           0.0   \n",
       "46195                                            0.0   \n",
       "274535                                           0.0   \n",
       "11515                                            0.0   \n",
       "\n",
       "        transaction_category_restaurants_percent_amt_2m  \\\n",
       "127150                                              0.0   \n",
       "205893                                              0.0   \n",
       "46195                                               0.0   \n",
       "274535                                              0.0   \n",
       "11515                                               0.0   \n",
       "\n",
       "        transaction_category_auto_services_percent_amt_2m  \\\n",
       "127150                                                0.0   \n",
       "205893                                                0.0   \n",
       "46195                                                 0.0   \n",
       "274535                                                0.0   \n",
       "11515                                                 0.0   \n",
       "\n",
       "        transaction_category_supermarket_sum_cnt_m2  \\\n",
       "127150                                          0.0   \n",
       "205893                                          0.0   \n",
       "46195                                           0.0   \n",
       "274535                                          0.0   \n",
       "11515                                           0.0   \n",
       "\n",
       "        transaction_category_auto_services_sum_cnt_m2  cardapp_date  target  \\\n",
       "127150                                            0.0    2021-08-27     0.0   \n",
       "205893                                            0.0    2021-11-02     0.0   \n",
       "46195                                             0.0    2022-03-04     0.0   \n",
       "274535                                            0.0    2021-05-24     0.0   \n",
       "11515                                             0.0    2021-03-04     0.0   \n",
       "\n",
       "        mask  \n",
       "127150     0  \n",
       "205893     0  \n",
       "46195      0  \n",
       "274535     0  \n",
       "11515      0  \n",
       "\n",
       "[5 rows x 296 columns]"
      ]
     },
     "execution_count": 41,
     "metadata": {},
     "output_type": "execute_result"
    }
   ],
   "source": [
    "data_check[data_check[\"mask\"] == 0].sample(5)"
   ]
  },
  {
   "cell_type": "code",
   "execution_count": 42,
   "id": "84ab9f5c",
   "metadata": {},
   "outputs": [
    {
     "data": {
      "text/plain": [
       "0.0    63603\n",
       "1.0     2505\n",
       "Name: target, dtype: int64"
      ]
     },
     "execution_count": 42,
     "metadata": {},
     "output_type": "execute_result"
    }
   ],
   "source": [
    "data_check[data_check[\"mask\"] == 0].target.value_counts()"
   ]
  },
  {
   "cell_type": "markdown",
   "id": "13800ba9",
   "metadata": {},
   "source": [
    "Все строчки этой выборки имеют 0 значения(пропуски), а целевая переменная может быть положительной, хотя таковой не должна быть, мы не знаем ничего о пользователе. Изменим у таких людей таргет на 0 и будем обучаться также на них. "
   ]
  },
  {
   "cell_type": "code",
   "execution_count": 43,
   "id": "27439b1b",
   "metadata": {},
   "outputs": [],
   "source": [
    "change_target_one = data_check[\n",
    "    (data_check[\"mask\"] == 0) & (data_check[\"target\"] == 1)\n",
    "].index"
   ]
  },
  {
   "cell_type": "code",
   "execution_count": 44,
   "id": "d64b3d42",
   "metadata": {},
   "outputs": [],
   "source": [
    "data.loc[change_target_one][\"target\"] = 0"
   ]
  },
  {
   "cell_type": "code",
   "execution_count": 45,
   "id": "d0142abe",
   "metadata": {
    "scrolled": true
   },
   "outputs": [
    {
     "name": "stdout",
     "output_type": "stream",
     "text": [
      "<class 'pandas.core.frame.DataFrame'>\n",
      "Int64Index: 1217 entries, 668 to 291674\n",
      "Data columns (total 50 columns):\n",
      " #   Column                         Non-Null Count  Dtype         \n",
      "---  ------                         --------------  -----         \n",
      " 0   client_id                      1217 non-null   object        \n",
      " 1   dt                             1217 non-null   datetime64[ns]\n",
      " 2   accountsalary_flag             0 non-null      float64       \n",
      " 3   country                        0 non-null      object        \n",
      " 4   profit_income_out_rur_amt_6m   0 non-null      float64       \n",
      " 5   clientoutflowstatus            0 non-null      object        \n",
      " 6   curbal_usd_amt_cm_avg          0 non-null      float64       \n",
      " 7   stratsegfactor                 0 non-null      object        \n",
      " 8   srvpackage                     0 non-null      object        \n",
      " 9   clientsegment                  0 non-null      object        \n",
      " 10  age                            0 non-null      float64       \n",
      " 11  gender                         0 non-null      object        \n",
      " 12  addrref                        0 non-null      object        \n",
      " 13  life_time_days                 0 non-null      float64       \n",
      " 14  profit_income_out_rur_amt_3m   0 non-null      float64       \n",
      " 15  profit_income_out_rur_amt_12m  0 non-null      float64       \n",
      " 16  profit_income_out_rur_amt_9m   0 non-null      float64       \n",
      " 17  turn_save_db_sum_v2            23 non-null     float64       \n",
      " 18  avg_invest_inc                 85 non-null     float64       \n",
      " 19  avg_percents_inc               85 non-null     float64       \n",
      " 20  avg_save_db_turn               202 non-null    float64       \n",
      " 21  card_dda_rur_amt_3m_avg        21 non-null     float64       \n",
      " 22  depos_rur_amt_curr_v2          229 non-null    float64       \n",
      " 23  total_inc                      85 non-null     float64       \n",
      " 24  dda_rur_amt_3m_avg             21 non-null     float64       \n",
      " 25  accum_rur_amt_3m_avg           21 non-null     float64       \n",
      " 26  dda_rur_amt_cm_avg             10 non-null     float64       \n",
      " 27  card_dda_rur_amt_curr_v2       229 non-null    float64       \n",
      " 28  sal_rur_amt_curr_v2            229 non-null    float64       \n",
      " 29  diff_save_cr_db_turn           202 non-null    float64       \n",
      " 30  avg_zp_inc                     85 non-null     float64       \n",
      " 31  avg_cur_db_turn                202 non-null    float64       \n",
      " 32  depos_rur_amt_3m_avg           21 non-null     float64       \n",
      " 33  turn_save_db_avg_act_v2        7 non-null      float64       \n",
      " 34  total_rur_amt_cm_avg           10 non-null     float64       \n",
      " 35  avg_credit_turn_rur            202 non-null    float64       \n",
      " 36  depos_rur_amt_cm_avg           10 non-null     float64       \n",
      " 37  accum_rur_amt_cm_avg           10 non-null     float64       \n",
      " 38  total_rur_amt_curr_v2          229 non-null    float64       \n",
      " 39  diff_cur_cr_db_turn            202 non-null    float64       \n",
      " 40  curr_rur_amt_curr_v2           229 non-null    float64       \n",
      " 41  total_rur_amt_3m_avg           21 non-null     float64       \n",
      " 42  accum_rur_amt_curr_v2          229 non-null    float64       \n",
      " 43  curr_rur_amt_3m_avg            21 non-null     float64       \n",
      " 44  turn_fdep_cr_avg_act_v2        8 non-null      float64       \n",
      " 45  cred_dda_rur_amt_curr_v2       229 non-null    float64       \n",
      " 46  avg_save_cr_turn               202 non-null    float64       \n",
      " 47  tda_rur_amt_3m_avg             21 non-null     float64       \n",
      " 48  curr_rur_amt_cm_avg            10 non-null     float64       \n",
      " 49  avg_cur_cr_turn                202 non-null    float64       \n",
      "dtypes: datetime64[ns](1), float64(41), object(8)\n",
      "memory usage: 484.9+ KB\n"
     ]
    }
   ],
   "source": [
    "data_null = data[(data[\"mask\"] == 0)]\n",
    "data_null.iloc[:, :50][data_null.iloc[:, :50][\"life_time_days\"].isna()].info()"
   ]
  },
  {
   "cell_type": "markdown",
   "id": "6a26ee39",
   "metadata": {},
   "source": [
    "Таже самая ситуация с жизнью клиента в банке в части датасета, где у нас отчетная дата больше даты выдачи карты"
   ]
  },
  {
   "cell_type": "code",
   "execution_count": 46,
   "id": "a34c7a7a",
   "metadata": {},
   "outputs": [
    {
     "name": "stderr",
     "output_type": "stream",
     "text": [
      "100%|██████████| 73472/73472 [00:45<00:00, 1612.60it/s]\n"
     ]
    }
   ],
   "source": [
    "data_null = data_null.fillna(0)\n",
    "data_null[\"mask\"] = data_null.progress_apply(screening, axis=1)"
   ]
  },
  {
   "cell_type": "code",
   "execution_count": 47,
   "id": "4067f8b8",
   "metadata": {},
   "outputs": [],
   "source": [
    "data.drop(\"mask\", axis=1, inplace=True)"
   ]
  },
  {
   "cell_type": "markdown",
   "id": "ed30bcf1",
   "metadata": {},
   "source": [
    "Полный список уникальных валидных пользователей."
   ]
  },
  {
   "cell_type": "code",
   "execution_count": 48,
   "id": "946721b3",
   "metadata": {},
   "outputs": [
    {
     "data": {
      "text/plain": [
       "0.0    918\n",
       "1.0      2\n",
       "Name: target, dtype: int64"
      ]
     },
     "execution_count": 48,
     "metadata": {},
     "output_type": "execute_result"
    }
   ],
   "source": [
    "data_null[data_null[\"mask\"] == 0].target.value_counts()"
   ]
  },
  {
   "cell_type": "code",
   "execution_count": 49,
   "id": "257e21b5",
   "metadata": {},
   "outputs": [],
   "source": [
    "change_target_two = data_null[(data_null[\"mask\"] == 0) & (data_null[\"target\"] == 1)].index\n",
    "data.loc[change_target_two][\"target\"] = 0"
   ]
  },
  {
   "cell_type": "markdown",
   "id": "1859c995",
   "metadata": {},
   "source": [
    "---"
   ]
  },
  {
   "cell_type": "markdown",
   "id": "9f231194",
   "metadata": {},
   "source": [
    "Для уменьшения расхода по памяти можно:\n",
    "1) использовать фреймворк polars, который хранит данные с помощью apache arrow;\n",
    "2) применить преобразования типов\n",
    "\n",
    "В рамках данной задачи будем использовать второй подход, который будет основан на сравнении максимальных, минимальных значений по столбцам с лимитами типов, представляемых в памяти меньшим кол-вом байт. Так, например, float64 может быть приведён к типу float32, float16, если, конечно, максимальное и минимальное значения некоторого определённого столбца не выходят за лимиты данных типов"
   ]
  },
  {
   "cell_type": "markdown",
   "id": "b68b7962",
   "metadata": {},
   "source": [
    "В данных можно выделить группы признаков, которые по-разному описывают пользователей.  \n",
    "Одной из таких групп является группа, описывающая транзакционные расходы"
   ]
  },
  {
   "cell_type": "code",
   "execution_count": 50,
   "id": "d08d158f",
   "metadata": {},
   "outputs": [
    {
     "data": {
      "text/plain": [
       "199"
      ]
     },
     "execution_count": 50,
     "metadata": {},
     "output_type": "execute_result"
    }
   ],
   "source": [
    "transactions_cols = list(filter(\n",
    "    lambda x: x.startswith(\"amount_by_category\") or x.startswith(\"transaction_category\") or (\"transaction\" in x),\n",
    "    list(data)\n",
    "))\n",
    "transactions_cols.append(\"by_category__amount__SUM__eoperation_type_name__perevod_po_nomeru_telefona\")\n",
    "transactions_cols.append(\"by_category__amount__SUM__eoperation_type_name__vneshnij_perevod_rur\")\n",
    "len(transactions_cols)"
   ]
  },
  {
   "cell_type": "markdown",
   "id": "02a18048",
   "metadata": {},
   "source": [
    "Эта группа включает в себя 199 признаков (сумма транзакций в категории ... за последние два месяца, доля транзакций в категории ... от всего объёма транзакций, кол-во транзакций в категории ..., сумма транзакций за 30/90 дней в категории ... и другие аналогичные), которые определяют один из профилей пользователя.\n",
    "Посмотрим на 5 случайных пользователей по этим признакам"
   ]
  },
  {
   "cell_type": "code",
   "execution_count": 51,
   "id": "0246aac1",
   "metadata": {},
   "outputs": [
    {
     "data": {
      "text/html": [
       "<div>\n",
       "<style scoped>\n",
       "    .dataframe tbody tr th:only-of-type {\n",
       "        vertical-align: middle;\n",
       "    }\n",
       "\n",
       "    .dataframe tbody tr th {\n",
       "        vertical-align: top;\n",
       "    }\n",
       "\n",
       "    .dataframe thead th {\n",
       "        text-align: right;\n",
       "    }\n",
       "</style>\n",
       "<table border=\"1\" class=\"dataframe\">\n",
       "  <thead>\n",
       "    <tr style=\"text-align: right;\">\n",
       "      <th></th>\n",
       "      <th>amount_by_category_30d__summarur_amt__SUM__cashflowcategory_name__perevody_s_karty_na_kartu</th>\n",
       "      <th>amount_by_category_90d__summarur_amt__SUM__cashflowcategory_name__obrazovanie</th>\n",
       "      <th>amount_by_category_30d__summarur_amt__SUM__cashflowcategory_name__parkovki</th>\n",
       "      <th>amount_by_category_90d__summarur_amt__SUM__cashflowcategory_name__odezhda</th>\n",
       "      <th>amount_by_category_90d__summarur_amt__SUM__cashflowcategory_name__kosmetika</th>\n",
       "      <th>amount_by_category_30d__summarur_amt__SUM__cashflowcategory_name__gipermarkety</th>\n",
       "      <th>amount_by_category_90d__summarur_amt__SUM__cashflowcategory_name__tovary_dlja_detej</th>\n",
       "      <th>amount_by_category_90d__summarur_amt__SUM__cashflowcategory_name__zarubezhnye_finansovye_operatsii</th>\n",
       "      <th>amount_by_category_90d__summarur_amt__SUM__cashflowcategory_name__razvlechenija</th>\n",
       "      <th>amount_by_category_30d__summarur_amt__SUM__cashflowcategory_name__fastfud</th>\n",
       "      <th>...</th>\n",
       "      <th>transaction_category_hotels_sum_cnt_m2</th>\n",
       "      <th>transaction_category_sporting_goods_inc_amt_2m</th>\n",
       "      <th>transaction_category_airplane_tickets_percent_amt_2m</th>\n",
       "      <th>transaction_category_transport_percent_amt_2m</th>\n",
       "      <th>transaction_category_restaurants_percent_amt_2m</th>\n",
       "      <th>transaction_category_auto_services_percent_amt_2m</th>\n",
       "      <th>transaction_category_supermarket_sum_cnt_m2</th>\n",
       "      <th>transaction_category_auto_services_sum_cnt_m2</th>\n",
       "      <th>by_category__amount__SUM__eoperation_type_name__perevod_po_nomeru_telefona</th>\n",
       "      <th>by_category__amount__SUM__eoperation_type_name__vneshnij_perevod_rur</th>\n",
       "    </tr>\n",
       "  </thead>\n",
       "  <tbody>\n",
       "    <tr>\n",
       "      <th>31364</th>\n",
       "      <td>NaN</td>\n",
       "      <td>NaN</td>\n",
       "      <td>NaN</td>\n",
       "      <td>NaN</td>\n",
       "      <td>NaN</td>\n",
       "      <td>NaN</td>\n",
       "      <td>NaN</td>\n",
       "      <td>NaN</td>\n",
       "      <td>NaN</td>\n",
       "      <td>NaN</td>\n",
       "      <td>...</td>\n",
       "      <td>NaN</td>\n",
       "      <td>NaN</td>\n",
       "      <td>NaN</td>\n",
       "      <td>NaN</td>\n",
       "      <td>NaN</td>\n",
       "      <td>NaN</td>\n",
       "      <td>NaN</td>\n",
       "      <td>NaN</td>\n",
       "      <td>NaN</td>\n",
       "      <td>NaN</td>\n",
       "    </tr>\n",
       "    <tr>\n",
       "      <th>169152</th>\n",
       "      <td>NaN</td>\n",
       "      <td>NaN</td>\n",
       "      <td>NaN</td>\n",
       "      <td>NaN</td>\n",
       "      <td>NaN</td>\n",
       "      <td>NaN</td>\n",
       "      <td>NaN</td>\n",
       "      <td>NaN</td>\n",
       "      <td>NaN</td>\n",
       "      <td>NaN</td>\n",
       "      <td>...</td>\n",
       "      <td>NaN</td>\n",
       "      <td>NaN</td>\n",
       "      <td>NaN</td>\n",
       "      <td>NaN</td>\n",
       "      <td>NaN</td>\n",
       "      <td>NaN</td>\n",
       "      <td>NaN</td>\n",
       "      <td>NaN</td>\n",
       "      <td>205.561644</td>\n",
       "      <td>NaN</td>\n",
       "    </tr>\n",
       "    <tr>\n",
       "      <th>218788</th>\n",
       "      <td>NaN</td>\n",
       "      <td>NaN</td>\n",
       "      <td>NaN</td>\n",
       "      <td>NaN</td>\n",
       "      <td>NaN</td>\n",
       "      <td>9025.56</td>\n",
       "      <td>NaN</td>\n",
       "      <td>NaN</td>\n",
       "      <td>NaN</td>\n",
       "      <td>175.0</td>\n",
       "      <td>...</td>\n",
       "      <td>NaN</td>\n",
       "      <td>NaN</td>\n",
       "      <td>NaN</td>\n",
       "      <td>NaN</td>\n",
       "      <td>NaN</td>\n",
       "      <td>NaN</td>\n",
       "      <td>14.0</td>\n",
       "      <td>NaN</td>\n",
       "      <td>NaN</td>\n",
       "      <td>NaN</td>\n",
       "    </tr>\n",
       "    <tr>\n",
       "      <th>257239</th>\n",
       "      <td>2000.0</td>\n",
       "      <td>NaN</td>\n",
       "      <td>NaN</td>\n",
       "      <td>NaN</td>\n",
       "      <td>NaN</td>\n",
       "      <td>972.87</td>\n",
       "      <td>NaN</td>\n",
       "      <td>NaN</td>\n",
       "      <td>NaN</td>\n",
       "      <td>NaN</td>\n",
       "      <td>...</td>\n",
       "      <td>NaN</td>\n",
       "      <td>NaN</td>\n",
       "      <td>NaN</td>\n",
       "      <td>NaN</td>\n",
       "      <td>NaN</td>\n",
       "      <td>NaN</td>\n",
       "      <td>4.0</td>\n",
       "      <td>NaN</td>\n",
       "      <td>NaN</td>\n",
       "      <td>NaN</td>\n",
       "    </tr>\n",
       "    <tr>\n",
       "      <th>99429</th>\n",
       "      <td>NaN</td>\n",
       "      <td>NaN</td>\n",
       "      <td>NaN</td>\n",
       "      <td>NaN</td>\n",
       "      <td>313.65</td>\n",
       "      <td>1914.47</td>\n",
       "      <td>NaN</td>\n",
       "      <td>NaN</td>\n",
       "      <td>NaN</td>\n",
       "      <td>NaN</td>\n",
       "      <td>...</td>\n",
       "      <td>NaN</td>\n",
       "      <td>NaN</td>\n",
       "      <td>NaN</td>\n",
       "      <td>0.001557</td>\n",
       "      <td>0.001241</td>\n",
       "      <td>0.000438</td>\n",
       "      <td>23.0</td>\n",
       "      <td>1.0</td>\n",
       "      <td>140521.747397</td>\n",
       "      <td>2098.027397</td>\n",
       "    </tr>\n",
       "  </tbody>\n",
       "</table>\n",
       "<p>5 rows × 199 columns</p>\n",
       "</div>"
      ],
      "text/plain": [
       "        amount_by_category_30d__summarur_amt__SUM__cashflowcategory_name__perevody_s_karty_na_kartu  \\\n",
       "31364                                                 NaN                                             \n",
       "169152                                                NaN                                             \n",
       "218788                                                NaN                                             \n",
       "257239                                             2000.0                                             \n",
       "99429                                                 NaN                                             \n",
       "\n",
       "        amount_by_category_90d__summarur_amt__SUM__cashflowcategory_name__obrazovanie  \\\n",
       "31364                                                 NaN                               \n",
       "169152                                                NaN                               \n",
       "218788                                                NaN                               \n",
       "257239                                                NaN                               \n",
       "99429                                                 NaN                               \n",
       "\n",
       "        amount_by_category_30d__summarur_amt__SUM__cashflowcategory_name__parkovki  \\\n",
       "31364                                                 NaN                            \n",
       "169152                                                NaN                            \n",
       "218788                                                NaN                            \n",
       "257239                                                NaN                            \n",
       "99429                                                 NaN                            \n",
       "\n",
       "        amount_by_category_90d__summarur_amt__SUM__cashflowcategory_name__odezhda  \\\n",
       "31364                                                 NaN                           \n",
       "169152                                                NaN                           \n",
       "218788                                                NaN                           \n",
       "257239                                                NaN                           \n",
       "99429                                                 NaN                           \n",
       "\n",
       "        amount_by_category_90d__summarur_amt__SUM__cashflowcategory_name__kosmetika  \\\n",
       "31364                                                 NaN                             \n",
       "169152                                                NaN                             \n",
       "218788                                                NaN                             \n",
       "257239                                                NaN                             \n",
       "99429                                              313.65                             \n",
       "\n",
       "        amount_by_category_30d__summarur_amt__SUM__cashflowcategory_name__gipermarkety  \\\n",
       "31364                                                 NaN                                \n",
       "169152                                                NaN                                \n",
       "218788                                            9025.56                                \n",
       "257239                                             972.87                                \n",
       "99429                                             1914.47                                \n",
       "\n",
       "        amount_by_category_90d__summarur_amt__SUM__cashflowcategory_name__tovary_dlja_detej  \\\n",
       "31364                                                 NaN                                     \n",
       "169152                                                NaN                                     \n",
       "218788                                                NaN                                     \n",
       "257239                                                NaN                                     \n",
       "99429                                                 NaN                                     \n",
       "\n",
       "        amount_by_category_90d__summarur_amt__SUM__cashflowcategory_name__zarubezhnye_finansovye_operatsii  \\\n",
       "31364                                                 NaN                                                    \n",
       "169152                                                NaN                                                    \n",
       "218788                                                NaN                                                    \n",
       "257239                                                NaN                                                    \n",
       "99429                                                 NaN                                                    \n",
       "\n",
       "        amount_by_category_90d__summarur_amt__SUM__cashflowcategory_name__razvlechenija  \\\n",
       "31364                                                 NaN                                 \n",
       "169152                                                NaN                                 \n",
       "218788                                                NaN                                 \n",
       "257239                                                NaN                                 \n",
       "99429                                                 NaN                                 \n",
       "\n",
       "        amount_by_category_30d__summarur_amt__SUM__cashflowcategory_name__fastfud  \\\n",
       "31364                                                 NaN                           \n",
       "169152                                                NaN                           \n",
       "218788                                              175.0                           \n",
       "257239                                                NaN                           \n",
       "99429                                                 NaN                           \n",
       "\n",
       "        ...  transaction_category_hotels_sum_cnt_m2  \\\n",
       "31364   ...                                     NaN   \n",
       "169152  ...                                     NaN   \n",
       "218788  ...                                     NaN   \n",
       "257239  ...                                     NaN   \n",
       "99429   ...                                     NaN   \n",
       "\n",
       "        transaction_category_sporting_goods_inc_amt_2m  \\\n",
       "31364                                              NaN   \n",
       "169152                                             NaN   \n",
       "218788                                             NaN   \n",
       "257239                                             NaN   \n",
       "99429                                              NaN   \n",
       "\n",
       "        transaction_category_airplane_tickets_percent_amt_2m  \\\n",
       "31364                                                 NaN      \n",
       "169152                                                NaN      \n",
       "218788                                                NaN      \n",
       "257239                                                NaN      \n",
       "99429                                                 NaN      \n",
       "\n",
       "        transaction_category_transport_percent_amt_2m  \\\n",
       "31364                                             NaN   \n",
       "169152                                            NaN   \n",
       "218788                                            NaN   \n",
       "257239                                            NaN   \n",
       "99429                                        0.001557   \n",
       "\n",
       "        transaction_category_restaurants_percent_amt_2m  \\\n",
       "31364                                               NaN   \n",
       "169152                                              NaN   \n",
       "218788                                              NaN   \n",
       "257239                                              NaN   \n",
       "99429                                          0.001241   \n",
       "\n",
       "        transaction_category_auto_services_percent_amt_2m  \\\n",
       "31364                                                 NaN   \n",
       "169152                                                NaN   \n",
       "218788                                                NaN   \n",
       "257239                                                NaN   \n",
       "99429                                            0.000438   \n",
       "\n",
       "        transaction_category_supermarket_sum_cnt_m2  \\\n",
       "31364                                           NaN   \n",
       "169152                                          NaN   \n",
       "218788                                         14.0   \n",
       "257239                                          4.0   \n",
       "99429                                          23.0   \n",
       "\n",
       "        transaction_category_auto_services_sum_cnt_m2  \\\n",
       "31364                                             NaN   \n",
       "169152                                            NaN   \n",
       "218788                                            NaN   \n",
       "257239                                            NaN   \n",
       "99429                                             1.0   \n",
       "\n",
       "        by_category__amount__SUM__eoperation_type_name__perevod_po_nomeru_telefona  \\\n",
       "31364                                                 NaN                            \n",
       "169152                                         205.561644                            \n",
       "218788                                                NaN                            \n",
       "257239                                                NaN                            \n",
       "99429                                       140521.747397                            \n",
       "\n",
       "        by_category__amount__SUM__eoperation_type_name__vneshnij_perevod_rur  \n",
       "31364                                                 NaN                     \n",
       "169152                                                NaN                     \n",
       "218788                                                NaN                     \n",
       "257239                                                NaN                     \n",
       "99429                                         2098.027397                     \n",
       "\n",
       "[5 rows x 199 columns]"
      ]
     },
     "execution_count": 51,
     "metadata": {},
     "output_type": "execute_result"
    }
   ],
   "source": [
    "data[transactions_cols].sample(5)"
   ]
  },
  {
   "cell_type": "markdown",
   "id": "7ec79fa6",
   "metadata": {},
   "source": [
    "Очевидно, что не для каждого пользователя будет полная информация по транзакционному профилю.  \n",
    "Посмотрим, сколько пользователей имеют пустой транзакционный профиль"
   ]
  },
  {
   "cell_type": "code",
   "execution_count": 52,
   "id": "22fe5398",
   "metadata": {},
   "outputs": [
    {
     "data": {
      "text/plain": [
       "30.419"
      ]
     },
     "execution_count": 52,
     "metadata": {},
     "output_type": "execute_result"
    }
   ],
   "source": [
    "round((data[transactions_cols].isna().sum(axis=1) == len(transactions_cols)).sum() / data.shape[0] * 100, 3)"
   ]
  },
  {
   "cell_type": "markdown",
   "id": "e8633cba",
   "metadata": {},
   "source": [
    "Почти 30.5% имеют пустой транзакционный профиль. Здесь можно предположить следующее:\n",
    " - у таких пользователей доминирует другой профиль, или же все профили пользователя пусты, и сам пользователь такой является нерелевантным для нас\n",
    " \n",
    "Очевидно, что все пропущенные значения можно заполнить нулями и оставить их, но насколько это правильно, покажет этап обработки признаков и, конечно, анализ перформанса моделей"
   ]
  },
  {
   "cell_type": "markdown",
   "id": "369a83a1",
   "metadata": {},
   "source": [
    "Следующая группа признаков (кол-во дней с последнего оформленного кредитного продукта ..., кол-во кредитных продуктов ..., максимальный кредитный лимит по любому активному продукту ..., кол-во активных кредитный продуктов ... и другие аналогичные) описывает, назовём, кредитный профиль пользователя. Отберём эти признаки и посмотрим на 5 случайно отобранных пользователей"
   ]
  },
  {
   "cell_type": "code",
   "execution_count": 53,
   "id": "618354de",
   "metadata": {},
   "outputs": [
    {
     "data": {
      "text/plain": [
       "44"
      ]
     },
     "execution_count": 53,
     "metadata": {},
     "output_type": "execute_result"
    }
   ],
   "source": [
    "credit_cols = list(filter(\n",
    "    lambda x: x.startswith(\"hdb\"),\n",
    "    list(data)\n",
    "))\n",
    "len(credit_cols)"
   ]
  },
  {
   "cell_type": "code",
   "execution_count": 54,
   "id": "e9a2cc41",
   "metadata": {},
   "outputs": [
    {
     "data": {
      "text/html": [
       "<div>\n",
       "<style scoped>\n",
       "    .dataframe tbody tr th:only-of-type {\n",
       "        vertical-align: middle;\n",
       "    }\n",
       "\n",
       "    .dataframe tbody tr th {\n",
       "        vertical-align: top;\n",
       "    }\n",
       "\n",
       "    .dataframe thead th {\n",
       "        text-align: right;\n",
       "    }\n",
       "</style>\n",
       "<table border=\"1\" class=\"dataframe\">\n",
       "  <thead>\n",
       "    <tr style=\"text-align: right;\">\n",
       "      <th></th>\n",
       "      <th>hdb_outstand_sum</th>\n",
       "      <th>hdb_bki_last_product_days</th>\n",
       "      <th>hdb_other_active_credits_count</th>\n",
       "      <th>hdb_bki_total_pil_last_days</th>\n",
       "      <th>hdb_bki_total_ip_cnt</th>\n",
       "      <th>hdb_bki_total_auto_last_days</th>\n",
       "      <th>hdb_bki_active_max_limit</th>\n",
       "      <th>hdb_bki_other_active_pil_month_payments_sum</th>\n",
       "      <th>hdb_bki_total_ip_last_days</th>\n",
       "      <th>hdb_bki_total_active_products</th>\n",
       "      <th>...</th>\n",
       "      <th>hdb_bki_total_cnt</th>\n",
       "      <th>hdb_bki_active_oth_cnt</th>\n",
       "      <th>hdb_bki_other_active_cc_month_payments_sum</th>\n",
       "      <th>hdb_bki_total_cc_max_limit</th>\n",
       "      <th>hdb_bki_other_active_ip_month_payments_sum</th>\n",
       "      <th>hdb_bki_active_pil_max_outstand</th>\n",
       "      <th>hdb_relend_client_credits_count_grade</th>\n",
       "      <th>hdb_bki_active_cc_cnt</th>\n",
       "      <th>hdb_bki_total_products</th>\n",
       "      <th>hdb_bki_other_active_cc_outstanding</th>\n",
       "    </tr>\n",
       "  </thead>\n",
       "  <tbody>\n",
       "    <tr>\n",
       "      <th>288566</th>\n",
       "      <td>1.373394e+06</td>\n",
       "      <td>441.0</td>\n",
       "      <td>9.0</td>\n",
       "      <td>441.0</td>\n",
       "      <td>0.0</td>\n",
       "      <td>NaN</td>\n",
       "      <td>620500.0</td>\n",
       "      <td>NaN</td>\n",
       "      <td>NaN</td>\n",
       "      <td>13.0</td>\n",
       "      <td>...</td>\n",
       "      <td>84.0</td>\n",
       "      <td>0.0</td>\n",
       "      <td>0.0</td>\n",
       "      <td>250000.0</td>\n",
       "      <td>NaN</td>\n",
       "      <td>419487.44</td>\n",
       "      <td>NaN</td>\n",
       "      <td>11.0</td>\n",
       "      <td>8.0</td>\n",
       "      <td>838676.800781</td>\n",
       "    </tr>\n",
       "    <tr>\n",
       "      <th>59445</th>\n",
       "      <td>1.672568e+06</td>\n",
       "      <td>94.0</td>\n",
       "      <td>10.0</td>\n",
       "      <td>94.0</td>\n",
       "      <td>0.0</td>\n",
       "      <td>NaN</td>\n",
       "      <td>631447.0</td>\n",
       "      <td>24777.0</td>\n",
       "      <td>NaN</td>\n",
       "      <td>13.0</td>\n",
       "      <td>...</td>\n",
       "      <td>64.0</td>\n",
       "      <td>0.0</td>\n",
       "      <td>NaN</td>\n",
       "      <td>134000.0</td>\n",
       "      <td>NaN</td>\n",
       "      <td>603285.00</td>\n",
       "      <td>NaN</td>\n",
       "      <td>9.0</td>\n",
       "      <td>17.0</td>\n",
       "      <td>37257.419922</td>\n",
       "    </tr>\n",
       "    <tr>\n",
       "      <th>97598</th>\n",
       "      <td>1.651916e+05</td>\n",
       "      <td>159.0</td>\n",
       "      <td>0.0</td>\n",
       "      <td>NaN</td>\n",
       "      <td>0.0</td>\n",
       "      <td>NaN</td>\n",
       "      <td>130000.0</td>\n",
       "      <td>NaN</td>\n",
       "      <td>NaN</td>\n",
       "      <td>4.0</td>\n",
       "      <td>...</td>\n",
       "      <td>11.0</td>\n",
       "      <td>0.0</td>\n",
       "      <td>NaN</td>\n",
       "      <td>130000.0</td>\n",
       "      <td>NaN</td>\n",
       "      <td>NaN</td>\n",
       "      <td>NaN</td>\n",
       "      <td>4.0</td>\n",
       "      <td>2.0</td>\n",
       "      <td>NaN</td>\n",
       "    </tr>\n",
       "    <tr>\n",
       "      <th>87017</th>\n",
       "      <td>5.111051e+05</td>\n",
       "      <td>184.0</td>\n",
       "      <td>7.0</td>\n",
       "      <td>185.0</td>\n",
       "      <td>0.0</td>\n",
       "      <td>NaN</td>\n",
       "      <td>210000.0</td>\n",
       "      <td>1500.0</td>\n",
       "      <td>NaN</td>\n",
       "      <td>10.0</td>\n",
       "      <td>...</td>\n",
       "      <td>65.0</td>\n",
       "      <td>0.0</td>\n",
       "      <td>NaN</td>\n",
       "      <td>100000.0</td>\n",
       "      <td>NaN</td>\n",
       "      <td>190932.34</td>\n",
       "      <td>NaN</td>\n",
       "      <td>7.0</td>\n",
       "      <td>17.0</td>\n",
       "      <td>192785.532227</td>\n",
       "    </tr>\n",
       "    <tr>\n",
       "      <th>271803</th>\n",
       "      <td>NaN</td>\n",
       "      <td>NaN</td>\n",
       "      <td>NaN</td>\n",
       "      <td>NaN</td>\n",
       "      <td>NaN</td>\n",
       "      <td>NaN</td>\n",
       "      <td>NaN</td>\n",
       "      <td>NaN</td>\n",
       "      <td>NaN</td>\n",
       "      <td>NaN</td>\n",
       "      <td>...</td>\n",
       "      <td>NaN</td>\n",
       "      <td>NaN</td>\n",
       "      <td>NaN</td>\n",
       "      <td>NaN</td>\n",
       "      <td>NaN</td>\n",
       "      <td>NaN</td>\n",
       "      <td>NaN</td>\n",
       "      <td>NaN</td>\n",
       "      <td>NaN</td>\n",
       "      <td>NaN</td>\n",
       "    </tr>\n",
       "  </tbody>\n",
       "</table>\n",
       "<p>5 rows × 44 columns</p>\n",
       "</div>"
      ],
      "text/plain": [
       "        hdb_outstand_sum  hdb_bki_last_product_days  \\\n",
       "288566      1.373394e+06                      441.0   \n",
       "59445       1.672568e+06                       94.0   \n",
       "97598       1.651916e+05                      159.0   \n",
       "87017       5.111051e+05                      184.0   \n",
       "271803               NaN                        NaN   \n",
       "\n",
       "        hdb_other_active_credits_count  hdb_bki_total_pil_last_days  \\\n",
       "288566                             9.0                        441.0   \n",
       "59445                             10.0                         94.0   \n",
       "97598                              0.0                          NaN   \n",
       "87017                              7.0                        185.0   \n",
       "271803                             NaN                          NaN   \n",
       "\n",
       "        hdb_bki_total_ip_cnt  hdb_bki_total_auto_last_days  \\\n",
       "288566                   0.0                           NaN   \n",
       "59445                    0.0                           NaN   \n",
       "97598                    0.0                           NaN   \n",
       "87017                    0.0                           NaN   \n",
       "271803                   NaN                           NaN   \n",
       "\n",
       "        hdb_bki_active_max_limit  hdb_bki_other_active_pil_month_payments_sum  \\\n",
       "288566                  620500.0                                          NaN   \n",
       "59445                   631447.0                                      24777.0   \n",
       "97598                   130000.0                                          NaN   \n",
       "87017                   210000.0                                       1500.0   \n",
       "271803                       NaN                                          NaN   \n",
       "\n",
       "        hdb_bki_total_ip_last_days  hdb_bki_total_active_products  ...  \\\n",
       "288566                         NaN                           13.0  ...   \n",
       "59445                          NaN                           13.0  ...   \n",
       "97598                          NaN                            4.0  ...   \n",
       "87017                          NaN                           10.0  ...   \n",
       "271803                         NaN                            NaN  ...   \n",
       "\n",
       "        hdb_bki_total_cnt  hdb_bki_active_oth_cnt  \\\n",
       "288566               84.0                     0.0   \n",
       "59445                64.0                     0.0   \n",
       "97598                11.0                     0.0   \n",
       "87017                65.0                     0.0   \n",
       "271803                NaN                     NaN   \n",
       "\n",
       "        hdb_bki_other_active_cc_month_payments_sum  \\\n",
       "288566                                         0.0   \n",
       "59445                                          NaN   \n",
       "97598                                          NaN   \n",
       "87017                                          NaN   \n",
       "271803                                         NaN   \n",
       "\n",
       "        hdb_bki_total_cc_max_limit  \\\n",
       "288566                    250000.0   \n",
       "59445                     134000.0   \n",
       "97598                     130000.0   \n",
       "87017                     100000.0   \n",
       "271803                         NaN   \n",
       "\n",
       "        hdb_bki_other_active_ip_month_payments_sum  \\\n",
       "288566                                         NaN   \n",
       "59445                                          NaN   \n",
       "97598                                          NaN   \n",
       "87017                                          NaN   \n",
       "271803                                         NaN   \n",
       "\n",
       "        hdb_bki_active_pil_max_outstand  \\\n",
       "288566                        419487.44   \n",
       "59445                         603285.00   \n",
       "97598                               NaN   \n",
       "87017                         190932.34   \n",
       "271803                              NaN   \n",
       "\n",
       "        hdb_relend_client_credits_count_grade  hdb_bki_active_cc_cnt  \\\n",
       "288566                                    NaN                   11.0   \n",
       "59445                                     NaN                    9.0   \n",
       "97598                                     NaN                    4.0   \n",
       "87017                                     NaN                    7.0   \n",
       "271803                                    NaN                    NaN   \n",
       "\n",
       "        hdb_bki_total_products  hdb_bki_other_active_cc_outstanding  \n",
       "288566                     8.0                        838676.800781  \n",
       "59445                     17.0                         37257.419922  \n",
       "97598                      2.0                                  NaN  \n",
       "87017                     17.0                        192785.532227  \n",
       "271803                     NaN                                  NaN  \n",
       "\n",
       "[5 rows x 44 columns]"
      ]
     },
     "execution_count": 54,
     "metadata": {},
     "output_type": "execute_result"
    }
   ],
   "source": [
    "data[credit_cols].sample(5)"
   ]
  },
  {
   "cell_type": "markdown",
   "id": "5ddc4069",
   "metadata": {},
   "source": [
    "Получаем ситуацию, аналогичную транзакционному профилю. В данных имеются полностью пустые кредитные профили.\n",
    "\n",
    "Этот профиль вкючает в себя одну категориальную фичу, которая описывает, сколько у пользователя кредитов, кредитных карт. По этому кол-ву ставит некоторый литеральный грейд пользователю.  \n",
    "Посмотрим на распределение этого признака"
   ]
  },
  {
   "cell_type": "code",
   "execution_count": 55,
   "id": "12920ebb",
   "metadata": {},
   "outputs": [
    {
     "data": {
      "image/png": "[encoded data removed]",
      "text/plain": [
       "<Figure size 432x288 with 1 Axes>"
      ]
     },
     "metadata": {
      "needs_background": "light"
     },
     "output_type": "display_data"
    }
   ],
   "source": [
    "data[\"hdb_relend_client_credits_count_grade\"].value_counts().plot(kind=\"bar\", rot=0)\n",
    "plt.xlabel(\"Грейд\")\n",
    "plt.ylabel(\"Кол-во\")\n",
    "plt.title(\"Распределение грейдов\")\n",
    "plt.show()"
   ]
  },
  {
   "cell_type": "markdown",
   "id": "18783619",
   "metadata": {},
   "source": [
    "Получим, что большинство пользователей попадают под категорию другое - это грейд с литерой d. Дальше идут пользователи, у которых 1 кредит наличными и не более двух кредитных карт (b), за ними - пользователи с одним кредитом (a), выданным наличными. В конце располагются пользователи, которые взяли более одного кредита наличными (c)"
   ]
  },
  {
   "cell_type": "markdown",
   "id": "a74b7502",
   "metadata": {},
   "source": [
    "Здесь пропущенные значения - это основа для создания нового признака, который будет отражать следующее: знаем ли мы грейд пользователя или нет.  \n",
    "Остальные категории кодируются с помощью ohehot encoding с отбрасываем одного из столбцов, с целью исключения полной линейной зависимости между этими индикаторными фичами"
   ]
  },
  {
   "cell_type": "markdown",
   "id": "389a7b14",
   "metadata": {},
   "source": [
    "Объединим два профиля - транзакционный и кредитный и посмотрим, сколько у нас абсолютно пустых профилей"
   ]
  },
  {
   "cell_type": "code",
   "execution_count": 56,
   "id": "2b2c8b5a",
   "metadata": {},
   "outputs": [
    {
     "data": {
      "text/plain": [
       "25.266"
      ]
     },
     "execution_count": 56,
     "metadata": {},
     "output_type": "execute_result"
    }
   ],
   "source": [
    "round(\n",
    "    (\n",
    "        data[transactions_cols + credit_cols].isna().sum(axis=1) == len(transactions_cols + credit_cols)\n",
    "    ).sum() / data.shape[0] * 100, \n",
    "    3\n",
    ")"
   ]
  },
  {
   "cell_type": "markdown",
   "id": "e84e5c48",
   "metadata": {},
   "source": [
    "Получается, что примерно 25% пользователей не обладает никакой информацией о своих кредитных и транзакционных действиях"
   ]
  },
  {
   "cell_type": "markdown",
   "id": "b2465e53",
   "metadata": {},
   "source": [
    "Третий профиль пользователей описывает их активность по различного вида счетам. Назовём это счётный профиль, который включает в себя такие признаки как: среднее за 3 месяца среднемесячных остатков на группе счетов ..., сумма средств клиента на группе счетов ..., разница между средним кредитным и дебетовым оборотом по ... и другие аналогичные.\n",
    "Соберём эти признаки и посмотрим на 5 случайно отобранных пользователей"
   ]
  },
  {
   "cell_type": "code",
   "execution_count": 57,
   "id": "470c0271",
   "metadata": {},
   "outputs": [
    {
     "data": {
      "text/plain": [
       "30"
      ]
     },
     "execution_count": 57,
     "metadata": {},
     "output_type": "execute_result"
    }
   ],
   "source": [
    "account_cols = list(filter(\n",
    "    lambda x: ((\"rur\" in x) and (not x.startswith(\"profit_income\"))) or (x.startswith(\"diff\")),\n",
    "    list(set(data).difference(set(transactions_cols + credit_cols)))\n",
    "))\n",
    "account_cols.append(\"turn_save_db_avg_act_v2\")\n",
    "account_cols.append(\"turn_save_db_sum_v2\")\n",
    "account_cols.append(\"avg_cur_db_turn\")\n",
    "account_cols.append(\"avg_save_db_turn\")\n",
    "account_cols.append(\"turn_fdep_cr_avg_act_v2\")\n",
    "account_cols.append(\"avg_save_cr_turn\")\n",
    "account_cols.append(\"avg_cur_cr_turn\")\n",
    "account_cols.append(\"curbal_usd_amt_cm_avg\")\n",
    "len(account_cols)"
   ]
  },
  {
   "cell_type": "code",
   "execution_count": 58,
   "id": "e9f288b5",
   "metadata": {},
   "outputs": [
    {
     "data": {
      "text/html": [
       "<div>\n",
       "<style scoped>\n",
       "    .dataframe tbody tr th:only-of-type {\n",
       "        vertical-align: middle;\n",
       "    }\n",
       "\n",
       "    .dataframe tbody tr th {\n",
       "        vertical-align: top;\n",
       "    }\n",
       "\n",
       "    .dataframe thead th {\n",
       "        text-align: right;\n",
       "    }\n",
       "</style>\n",
       "<table border=\"1\" class=\"dataframe\">\n",
       "  <thead>\n",
       "    <tr style=\"text-align: right;\">\n",
       "      <th></th>\n",
       "      <th>curr_rur_amt_3m_avg</th>\n",
       "      <th>accum_rur_amt_3m_avg</th>\n",
       "      <th>sal_rur_amt_curr_v2</th>\n",
       "      <th>dda_rur_amt_3m_avg</th>\n",
       "      <th>curr_rur_amt_cm_avg</th>\n",
       "      <th>total_rur_amt_cm_avg</th>\n",
       "      <th>avg_credit_turn_rur</th>\n",
       "      <th>depos_rur_amt_cm_avg</th>\n",
       "      <th>tda_rur_amt_3m_avg</th>\n",
       "      <th>card_dda_rur_amt_curr_v2</th>\n",
       "      <th>...</th>\n",
       "      <th>dda_rur_amt_cm_avg</th>\n",
       "      <th>cred_dda_rur_amt_curr_v2</th>\n",
       "      <th>turn_save_db_avg_act_v2</th>\n",
       "      <th>turn_save_db_sum_v2</th>\n",
       "      <th>avg_cur_db_turn</th>\n",
       "      <th>avg_save_db_turn</th>\n",
       "      <th>turn_fdep_cr_avg_act_v2</th>\n",
       "      <th>avg_save_cr_turn</th>\n",
       "      <th>avg_cur_cr_turn</th>\n",
       "      <th>curbal_usd_amt_cm_avg</th>\n",
       "    </tr>\n",
       "  </thead>\n",
       "  <tbody>\n",
       "    <tr>\n",
       "      <th>130072</th>\n",
       "      <td>NaN</td>\n",
       "      <td>NaN</td>\n",
       "      <td>NaN</td>\n",
       "      <td>NaN</td>\n",
       "      <td>NaN</td>\n",
       "      <td>NaN</td>\n",
       "      <td>NaN</td>\n",
       "      <td>NaN</td>\n",
       "      <td>NaN</td>\n",
       "      <td>NaN</td>\n",
       "      <td>...</td>\n",
       "      <td>NaN</td>\n",
       "      <td>NaN</td>\n",
       "      <td>NaN</td>\n",
       "      <td>NaN</td>\n",
       "      <td>NaN</td>\n",
       "      <td>NaN</td>\n",
       "      <td>NaN</td>\n",
       "      <td>NaN</td>\n",
       "      <td>NaN</td>\n",
       "      <td>NaN</td>\n",
       "    </tr>\n",
       "    <tr>\n",
       "      <th>121134</th>\n",
       "      <td>NaN</td>\n",
       "      <td>NaN</td>\n",
       "      <td>NaN</td>\n",
       "      <td>NaN</td>\n",
       "      <td>NaN</td>\n",
       "      <td>NaN</td>\n",
       "      <td>NaN</td>\n",
       "      <td>NaN</td>\n",
       "      <td>NaN</td>\n",
       "      <td>NaN</td>\n",
       "      <td>...</td>\n",
       "      <td>NaN</td>\n",
       "      <td>NaN</td>\n",
       "      <td>NaN</td>\n",
       "      <td>NaN</td>\n",
       "      <td>NaN</td>\n",
       "      <td>NaN</td>\n",
       "      <td>NaN</td>\n",
       "      <td>NaN</td>\n",
       "      <td>NaN</td>\n",
       "      <td>NaN</td>\n",
       "    </tr>\n",
       "    <tr>\n",
       "      <th>119900</th>\n",
       "      <td>NaN</td>\n",
       "      <td>NaN</td>\n",
       "      <td>NaN</td>\n",
       "      <td>NaN</td>\n",
       "      <td>NaN</td>\n",
       "      <td>NaN</td>\n",
       "      <td>NaN</td>\n",
       "      <td>NaN</td>\n",
       "      <td>NaN</td>\n",
       "      <td>NaN</td>\n",
       "      <td>...</td>\n",
       "      <td>NaN</td>\n",
       "      <td>NaN</td>\n",
       "      <td>NaN</td>\n",
       "      <td>NaN</td>\n",
       "      <td>NaN</td>\n",
       "      <td>NaN</td>\n",
       "      <td>NaN</td>\n",
       "      <td>NaN</td>\n",
       "      <td>NaN</td>\n",
       "      <td>NaN</td>\n",
       "    </tr>\n",
       "    <tr>\n",
       "      <th>168</th>\n",
       "      <td>0.0</td>\n",
       "      <td>0.0</td>\n",
       "      <td>0.0</td>\n",
       "      <td>0.0</td>\n",
       "      <td>NaN</td>\n",
       "      <td>NaN</td>\n",
       "      <td>55891.0</td>\n",
       "      <td>NaN</td>\n",
       "      <td>0.0</td>\n",
       "      <td>0.0</td>\n",
       "      <td>...</td>\n",
       "      <td>NaN</td>\n",
       "      <td>0.0</td>\n",
       "      <td>NaN</td>\n",
       "      <td>NaN</td>\n",
       "      <td>0.0</td>\n",
       "      <td>0.0</td>\n",
       "      <td>NaN</td>\n",
       "      <td>0.0</td>\n",
       "      <td>0.0</td>\n",
       "      <td>0.0</td>\n",
       "    </tr>\n",
       "    <tr>\n",
       "      <th>159091</th>\n",
       "      <td>5925.0</td>\n",
       "      <td>0.0</td>\n",
       "      <td>0.0</td>\n",
       "      <td>5925.0</td>\n",
       "      <td>18648.0</td>\n",
       "      <td>13848.0</td>\n",
       "      <td>69499.0</td>\n",
       "      <td>0.0</td>\n",
       "      <td>0.0</td>\n",
       "      <td>0.0</td>\n",
       "      <td>...</td>\n",
       "      <td>13848.0</td>\n",
       "      <td>0.0</td>\n",
       "      <td>NaN</td>\n",
       "      <td>NaN</td>\n",
       "      <td>17100.0</td>\n",
       "      <td>0.0</td>\n",
       "      <td>NaN</td>\n",
       "      <td>0.0</td>\n",
       "      <td>17000.0</td>\n",
       "      <td>102.0</td>\n",
       "    </tr>\n",
       "  </tbody>\n",
       "</table>\n",
       "<p>5 rows × 30 columns</p>\n",
       "</div>"
      ],
      "text/plain": [
       "        curr_rur_amt_3m_avg  accum_rur_amt_3m_avg  sal_rur_amt_curr_v2  \\\n",
       "130072                  NaN                   NaN                  NaN   \n",
       "121134                  NaN                   NaN                  NaN   \n",
       "119900                  NaN                   NaN                  NaN   \n",
       "168                     0.0                   0.0                  0.0   \n",
       "159091               5925.0                   0.0                  0.0   \n",
       "\n",
       "        dda_rur_amt_3m_avg  curr_rur_amt_cm_avg  total_rur_amt_cm_avg  \\\n",
       "130072                 NaN                  NaN                   NaN   \n",
       "121134                 NaN                  NaN                   NaN   \n",
       "119900                 NaN                  NaN                   NaN   \n",
       "168                    0.0                  NaN                   NaN   \n",
       "159091              5925.0              18648.0               13848.0   \n",
       "\n",
       "        avg_credit_turn_rur  depos_rur_amt_cm_avg  tda_rur_amt_3m_avg  \\\n",
       "130072                  NaN                   NaN                 NaN   \n",
       "121134                  NaN                   NaN                 NaN   \n",
       "119900                  NaN                   NaN                 NaN   \n",
       "168                 55891.0                   NaN                 0.0   \n",
       "159091              69499.0                   0.0                 0.0   \n",
       "\n",
       "        card_dda_rur_amt_curr_v2  ...  dda_rur_amt_cm_avg  \\\n",
       "130072                       NaN  ...                 NaN   \n",
       "121134                       NaN  ...                 NaN   \n",
       "119900                       NaN  ...                 NaN   \n",
       "168                          0.0  ...                 NaN   \n",
       "159091                       0.0  ...             13848.0   \n",
       "\n",
       "        cred_dda_rur_amt_curr_v2  turn_save_db_avg_act_v2  \\\n",
       "130072                       NaN                      NaN   \n",
       "121134                       NaN                      NaN   \n",
       "119900                       NaN                      NaN   \n",
       "168                          0.0                      NaN   \n",
       "159091                       0.0                      NaN   \n",
       "\n",
       "        turn_save_db_sum_v2  avg_cur_db_turn  avg_save_db_turn  \\\n",
       "130072                  NaN              NaN               NaN   \n",
       "121134                  NaN              NaN               NaN   \n",
       "119900                  NaN              NaN               NaN   \n",
       "168                     NaN              0.0               0.0   \n",
       "159091                  NaN          17100.0               0.0   \n",
       "\n",
       "        turn_fdep_cr_avg_act_v2  avg_save_cr_turn  avg_cur_cr_turn  \\\n",
       "130072                      NaN               NaN              NaN   \n",
       "121134                      NaN               NaN              NaN   \n",
       "119900                      NaN               NaN              NaN   \n",
       "168                         NaN               0.0              0.0   \n",
       "159091                      NaN               0.0          17000.0   \n",
       "\n",
       "        curbal_usd_amt_cm_avg  \n",
       "130072                    NaN  \n",
       "121134                    NaN  \n",
       "119900                    NaN  \n",
       "168                       0.0  \n",
       "159091                  102.0  \n",
       "\n",
       "[5 rows x 30 columns]"
      ]
     },
     "execution_count": 58,
     "metadata": {},
     "output_type": "execute_result"
    }
   ],
   "source": [
    "data[account_cols].sample(5)"
   ]
  },
  {
   "cell_type": "markdown",
   "id": "7e62a233",
   "metadata": {},
   "source": [
    "Закрадывается подозрение, что в данных присутствуют пользователи, информация о действиях которых полностью занулена, потому что даже в третьем профиле находятся пользователи с совершенно пустым профилем.  \n",
    "Объединим 3 профиля и посмотрим, сколько у нас пользователей, о которых мы ничего не знаем"
   ]
  },
  {
   "cell_type": "code",
   "execution_count": 59,
   "id": "0ab5772c",
   "metadata": {},
   "outputs": [
    {
     "data": {
      "text/plain": [
       "22.824"
      ]
     },
     "execution_count": 59,
     "metadata": {},
     "output_type": "execute_result"
    }
   ],
   "source": [
    "round(\n",
    "    (\n",
    "        data[\n",
    "            transactions_cols + credit_cols + account_cols\n",
    "        ].isna().sum(axis=1) == len(transactions_cols + credit_cols + account_cols)\n",
    "    ).sum() / data.shape[0] * 100, \n",
    "    3\n",
    ")"
   ]
  },
  {
   "cell_type": "markdown",
   "id": "5efff917",
   "metadata": {},
   "source": [
    "Почти 23% пользователей не обладает абсолютно никакой информацией по своим трём профилям"
   ]
  },
  {
   "cell_type": "markdown",
   "id": "addffac5",
   "metadata": {},
   "source": [
    "Можно выделить ещё один профиль пользователя, который будет отражать его доходы. Данный профиль включается в себя такие признаки: средний операционный доход за 3/6/9/12 месяцев, среднемесячный доход от инвестиций/зарплаты и пособий/выплаты процентов, общий среднемесячный доход"
   ]
  },
  {
   "cell_type": "code",
   "execution_count": 60,
   "id": "3e67cb76",
   "metadata": {},
   "outputs": [
    {
     "data": {
      "text/plain": [
       "8"
      ]
     },
     "execution_count": 60,
     "metadata": {},
     "output_type": "execute_result"
    }
   ],
   "source": [
    "income_cols = list(filter(\n",
    "    lambda x: (\"transaction\" not in x) and ((\"income\" in x) or (\"inc\" in x)),\n",
    "    list(data)\n",
    "))\n",
    "len(income_cols)"
   ]
  },
  {
   "cell_type": "markdown",
   "id": "b6ebaf77",
   "metadata": {},
   "source": [
    "Посмотрим, как обстоят дела с этим профилем у пользователей"
   ]
  },
  {
   "cell_type": "code",
   "execution_count": 61,
   "id": "a3fe1a93",
   "metadata": {},
   "outputs": [
    {
     "data": {
      "text/html": [
       "<div>\n",
       "<style scoped>\n",
       "    .dataframe tbody tr th:only-of-type {\n",
       "        vertical-align: middle;\n",
       "    }\n",
       "\n",
       "    .dataframe tbody tr th {\n",
       "        vertical-align: top;\n",
       "    }\n",
       "\n",
       "    .dataframe thead th {\n",
       "        text-align: right;\n",
       "    }\n",
       "</style>\n",
       "<table border=\"1\" class=\"dataframe\">\n",
       "  <thead>\n",
       "    <tr style=\"text-align: right;\">\n",
       "      <th></th>\n",
       "      <th>profit_income_out_rur_amt_6m</th>\n",
       "      <th>profit_income_out_rur_amt_3m</th>\n",
       "      <th>profit_income_out_rur_amt_12m</th>\n",
       "      <th>profit_income_out_rur_amt_9m</th>\n",
       "      <th>avg_invest_inc</th>\n",
       "      <th>avg_percents_inc</th>\n",
       "      <th>total_inc</th>\n",
       "      <th>avg_zp_inc</th>\n",
       "    </tr>\n",
       "  </thead>\n",
       "  <tbody>\n",
       "    <tr>\n",
       "      <th>225143</th>\n",
       "      <td>-607.666667</td>\n",
       "      <td>-743.333333</td>\n",
       "      <td>-71.333333</td>\n",
       "      <td>-236.444444</td>\n",
       "      <td>0.0</td>\n",
       "      <td>0.0</td>\n",
       "      <td>134254.0</td>\n",
       "      <td>246626.0</td>\n",
       "    </tr>\n",
       "    <tr>\n",
       "      <th>139266</th>\n",
       "      <td>11551.333333</td>\n",
       "      <td>17203.000000</td>\n",
       "      <td>9058.833333</td>\n",
       "      <td>9711.888889</td>\n",
       "      <td>0.0</td>\n",
       "      <td>0.0</td>\n",
       "      <td>86813.0</td>\n",
       "      <td>0.0</td>\n",
       "    </tr>\n",
       "    <tr>\n",
       "      <th>202017</th>\n",
       "      <td>7040.000000</td>\n",
       "      <td>7706.666667</td>\n",
       "      <td>8454.583333</td>\n",
       "      <td>8134.222222</td>\n",
       "      <td>0.0</td>\n",
       "      <td>0.0</td>\n",
       "      <td>191207.0</td>\n",
       "      <td>328970.0</td>\n",
       "    </tr>\n",
       "    <tr>\n",
       "      <th>174649</th>\n",
       "      <td>-183.333333</td>\n",
       "      <td>-281.000000</td>\n",
       "      <td>-87.083333</td>\n",
       "      <td>-115.333333</td>\n",
       "      <td>0.0</td>\n",
       "      <td>0.0</td>\n",
       "      <td>43508.0</td>\n",
       "      <td>0.0</td>\n",
       "    </tr>\n",
       "    <tr>\n",
       "      <th>252999</th>\n",
       "      <td>NaN</td>\n",
       "      <td>NaN</td>\n",
       "      <td>NaN</td>\n",
       "      <td>NaN</td>\n",
       "      <td>NaN</td>\n",
       "      <td>NaN</td>\n",
       "      <td>NaN</td>\n",
       "      <td>NaN</td>\n",
       "    </tr>\n",
       "  </tbody>\n",
       "</table>\n",
       "</div>"
      ],
      "text/plain": [
       "        profit_income_out_rur_amt_6m  profit_income_out_rur_amt_3m  \\\n",
       "225143                   -607.666667                   -743.333333   \n",
       "139266                  11551.333333                  17203.000000   \n",
       "202017                   7040.000000                   7706.666667   \n",
       "174649                   -183.333333                   -281.000000   \n",
       "252999                           NaN                           NaN   \n",
       "\n",
       "        profit_income_out_rur_amt_12m  profit_income_out_rur_amt_9m  \\\n",
       "225143                     -71.333333                   -236.444444   \n",
       "139266                    9058.833333                   9711.888889   \n",
       "202017                    8454.583333                   8134.222222   \n",
       "174649                     -87.083333                   -115.333333   \n",
       "252999                            NaN                           NaN   \n",
       "\n",
       "        avg_invest_inc  avg_percents_inc  total_inc  avg_zp_inc  \n",
       "225143             0.0               0.0   134254.0    246626.0  \n",
       "139266             0.0               0.0    86813.0         0.0  \n",
       "202017             0.0               0.0   191207.0    328970.0  \n",
       "174649             0.0               0.0    43508.0         0.0  \n",
       "252999             NaN               NaN        NaN         NaN  "
      ]
     },
     "execution_count": 61,
     "metadata": {},
     "output_type": "execute_result"
    }
   ],
   "source": [
    "data[income_cols].sample(5)"
   ]
  },
  {
   "cell_type": "code",
   "execution_count": 62,
   "id": "db2f9fcd",
   "metadata": {},
   "outputs": [
    {
     "data": {
      "text/plain": [
       "23.987"
      ]
     },
     "execution_count": 62,
     "metadata": {},
     "output_type": "execute_result"
    }
   ],
   "source": [
    "round(\n",
    "    (\n",
    "        data[income_cols].isna().sum(axis=1) == len(income_cols)\n",
    "    ).sum() / data.shape[0] * 100,\n",
    "    3\n",
    ")"
   ]
  },
  {
   "cell_type": "markdown",
   "id": "53799db0",
   "metadata": {},
   "source": [
    "Наблюдаем всё ту же картину - не по всем пользователям известна информация по доходному профилю (24% профилей доходных пусты).  \n",
    "Посмотрим, как изменится процент пустых профилей при добавлении доходного профиля"
   ]
  },
  {
   "cell_type": "code",
   "execution_count": 63,
   "id": "e28006f6",
   "metadata": {},
   "outputs": [
    {
     "data": {
      "text/plain": [
       "22.824"
      ]
     },
     "execution_count": 63,
     "metadata": {},
     "output_type": "execute_result"
    }
   ],
   "source": [
    "round(\n",
    "    (\n",
    "        data[\n",
    "            transactions_cols + credit_cols + account_cols + income_cols\n",
    "        ].isna().sum(axis=1) == len(transactions_cols + credit_cols + account_cols + income_cols)\n",
    "    ).sum() / data.shape[0] * 100, \n",
    "    3\n",
    ")"
   ]
  },
  {
   "cell_type": "markdown",
   "id": "0665ba2d",
   "metadata": {},
   "source": [
    "Почти 23% пользователей, о действиях которых ничего неизвестно"
   ]
  },
  {
   "cell_type": "markdown",
   "id": "724a79a1",
   "metadata": {},
   "source": [
    "Последний профиль, который можно выделить - это информационный, включащий в себя информацию по пользователю: статус по оттоку, страна, возраст, пол, наличие зп счёта, сегмент, причина попадания в сегмент, пол, пакет услуг, срок жизни в банке"
   ]
  },
  {
   "cell_type": "code",
   "execution_count": 64,
   "id": "1e280461",
   "metadata": {},
   "outputs": [
    {
     "data": {
      "text/html": [
       "<div>\n",
       "<style scoped>\n",
       "    .dataframe tbody tr th:only-of-type {\n",
       "        vertical-align: middle;\n",
       "    }\n",
       "\n",
       "    .dataframe tbody tr th {\n",
       "        vertical-align: top;\n",
       "    }\n",
       "\n",
       "    .dataframe thead th {\n",
       "        text-align: right;\n",
       "    }\n",
       "</style>\n",
       "<table border=\"1\" class=\"dataframe\">\n",
       "  <thead>\n",
       "    <tr style=\"text-align: right;\">\n",
       "      <th></th>\n",
       "      <th>accountsalary_flag</th>\n",
       "      <th>country</th>\n",
       "      <th>clientoutflowstatus</th>\n",
       "      <th>stratsegfactor</th>\n",
       "      <th>srvpackage</th>\n",
       "      <th>clientsegment</th>\n",
       "      <th>age</th>\n",
       "      <th>gender</th>\n",
       "      <th>life_time_days</th>\n",
       "    </tr>\n",
       "  </thead>\n",
       "  <tbody>\n",
       "    <tr>\n",
       "      <th>138130</th>\n",
       "      <td>1.0</td>\n",
       "      <td>RUS</td>\n",
       "      <td>ACTIVE</td>\n",
       "      <td>Реальная зарплата клиента</td>\n",
       "      <td>Технический</td>\n",
       "      <td>MAFFLUENT</td>\n",
       "      <td>29.0</td>\n",
       "      <td>Мужской</td>\n",
       "      <td>3087.0</td>\n",
       "    </tr>\n",
       "    <tr>\n",
       "      <th>38876</th>\n",
       "      <td>0.0</td>\n",
       "      <td>RUS</td>\n",
       "      <td>ACTIVE</td>\n",
       "      <td>Инвестиционные продукты</td>\n",
       "      <td>Технический</td>\n",
       "      <td>AFFLUENT</td>\n",
       "      <td>41.0</td>\n",
       "      <td>Мужской</td>\n",
       "      <td>71.0</td>\n",
       "    </tr>\n",
       "    <tr>\n",
       "      <th>251304</th>\n",
       "      <td>1.0</td>\n",
       "      <td>RUS</td>\n",
       "      <td>ACTIVE</td>\n",
       "      <td>Остатки на счетах</td>\n",
       "      <td>Технический</td>\n",
       "      <td>MASS</td>\n",
       "      <td>31.0</td>\n",
       "      <td>Женский</td>\n",
       "      <td>1496.0</td>\n",
       "    </tr>\n",
       "    <tr>\n",
       "      <th>90282</th>\n",
       "      <td>NaN</td>\n",
       "      <td>NaN</td>\n",
       "      <td>NaN</td>\n",
       "      <td>NaN</td>\n",
       "      <td>NaN</td>\n",
       "      <td>NaN</td>\n",
       "      <td>NaN</td>\n",
       "      <td>NaN</td>\n",
       "      <td>NaN</td>\n",
       "    </tr>\n",
       "    <tr>\n",
       "      <th>78686</th>\n",
       "      <td>NaN</td>\n",
       "      <td>NaN</td>\n",
       "      <td>NaN</td>\n",
       "      <td>NaN</td>\n",
       "      <td>NaN</td>\n",
       "      <td>NaN</td>\n",
       "      <td>NaN</td>\n",
       "      <td>NaN</td>\n",
       "      <td>NaN</td>\n",
       "    </tr>\n",
       "  </tbody>\n",
       "</table>\n",
       "</div>"
      ],
      "text/plain": [
       "        accountsalary_flag country clientoutflowstatus  \\\n",
       "138130                 1.0     RUS              ACTIVE   \n",
       "38876                  0.0     RUS              ACTIVE   \n",
       "251304                 1.0     RUS              ACTIVE   \n",
       "90282                  NaN     NaN                 NaN   \n",
       "78686                  NaN     NaN                 NaN   \n",
       "\n",
       "                   stratsegfactor   srvpackage clientsegment   age   gender  \\\n",
       "138130  Реальная зарплата клиента  Технический     MAFFLUENT  29.0  Мужской   \n",
       "38876     Инвестиционные продукты  Технический      AFFLUENT  41.0  Мужской   \n",
       "251304          Остатки на счетах  Технический          MASS  31.0  Женский   \n",
       "90282                         NaN          NaN           NaN   NaN      NaN   \n",
       "78686                         NaN          NaN           NaN   NaN      NaN   \n",
       "\n",
       "        life_time_days  \n",
       "138130          3087.0  \n",
       "38876             71.0  \n",
       "251304          1496.0  \n",
       "90282              NaN  \n",
       "78686              NaN  "
      ]
     },
     "execution_count": 64,
     "metadata": {},
     "output_type": "execute_result"
    }
   ],
   "source": [
    "info_cols = [\n",
    "    \"accountsalary_flag\", \"country\", \"clientoutflowstatus\",\n",
    "    \"stratsegfactor\", \"srvpackage\", \"clientsegment\", \"age\",\n",
    "    \"gender\", \"life_time_days\"\n",
    "]\n",
    "\n",
    "data[info_cols].sample(5)"
   ]
  },
  {
   "cell_type": "code",
   "execution_count": 65,
   "id": "f755e7cb",
   "metadata": {},
   "outputs": [
    {
     "data": {
      "text/plain": [
       "24.086"
      ]
     },
     "execution_count": 65,
     "metadata": {},
     "output_type": "execute_result"
    }
   ],
   "source": [
    "round(\n",
    "    (\n",
    "        data[info_cols].isna().sum(axis=1) == len(info_cols)\n",
    "    ).sum() / data.shape[0] * 100,\n",
    "    3\n",
    ")"
   ]
  },
  {
   "cell_type": "markdown",
   "id": "7ca46cf0",
   "metadata": {},
   "source": [
    "Интересно получается. Почти 24% пользователей полностью \"обезличены\", т.е. о них мы не знаем абсолютно никакой информации\n",
    "\n",
    "Объединим все 5 профилей и посмотрим, сколько пользователей обладают информацией"
   ]
  },
  {
   "cell_type": "code",
   "execution_count": 66,
   "id": "e8ae1a57",
   "metadata": {},
   "outputs": [
    {
     "data": {
      "text/plain": [
       "22.824"
      ]
     },
     "execution_count": 66,
     "metadata": {},
     "output_type": "execute_result"
    }
   ],
   "source": [
    "profiles = []\n",
    "for lst in [transactions_cols, credit_cols, account_cols, income_cols, info_cols]:\n",
    "    profiles += lst\n",
    "    \n",
    "round(\n",
    "    (\n",
    "        data[profiles].isna().sum(axis=1) == len(profiles)\n",
    "    ).sum() / data.shape[0] * 100, \n",
    "    3\n",
    ")"
   ]
  },
  {
   "cell_type": "markdown",
   "id": "cf08241f",
   "metadata": {},
   "source": [
    "Почти четверть всех профилей абсолютно пустые. Они нам не нужны, потому что по ним мы ничего сказать не можем\n",
    "\n",
    "Построим распределение кол-ва пустых значений по всем пользователям"
   ]
  },
  {
   "cell_type": "code",
   "execution_count": 67,
   "id": "86cdaea9",
   "metadata": {},
   "outputs": [
    {
     "data": {
      "image/png": "[encoded data removed]",
      "text/plain": [
       "<Figure size 432x288 with 1 Axes>"
      ]
     },
     "metadata": {
      "needs_background": "light"
     },
     "output_type": "display_data"
    }
   ],
   "source": [
    "sns.histplot(data[profiles].isna().sum(axis=1).values)\n",
    "plt.title(\"Распределение кол-ва пропусков по всем пользователям\")\n",
    "plt.xlabel(\"Кол-во пропусков\")\n",
    "plt.ylabel(\"Кол-во пользователей\")\n",
    "plt.show()"
   ]
  },
  {
   "cell_type": "markdown",
   "id": "afbe774e",
   "metadata": {},
   "source": [
    "Удалять не будем, т.к. на них будет происходить обучение."
   ]
  },
  {
   "cell_type": "markdown",
   "id": "f7047262",
   "metadata": {},
   "source": [
    "Файл с целевой переменной был загружен ранее, чтобы провести анализ и разметить данные. target_df - переменная, в которой хранится целевая переменная"
   ]
  },
  {
   "cell_type": "markdown",
   "id": "6963a870",
   "metadata": {},
   "source": [
    "Посмотрим на распределение целевой переменной"
   ]
  },
  {
   "cell_type": "code",
   "execution_count": 70,
   "id": "4cb4de8b",
   "metadata": {},
   "outputs": [
    {
     "data": {
      "image/png": "[encoded data removed]",
      "text/plain": [
       "<Figure size 432x288 with 1 Axes>"
      ]
     },
     "metadata": {
      "needs_background": "light"
     },
     "output_type": "display_data"
    }
   ],
   "source": [
    "target_df[\"target\"].value_counts().plot(kind=\"bar\", rot=0)\n",
    "plt.title(\"Распределение целевой переменной\")\n",
    "plt.xlabel(\"Целевая метка\")\n",
    "plt.ylabel(\"Кол-во\")\n",
    "plt.show()"
   ]
  },
  {
   "cell_type": "markdown",
   "id": "550b1e68",
   "metadata": {},
   "source": [
    "Соотношение классов получается приблизительно 8:2. Имеем дело с сильно несбалансированными данными. Для борьбы/работы с такими данными можно использовать:\n",
    " - аргумент class_weight в определённых моделях, например, бустингах;\n",
    " - применить upsampling недостающего класса;\n",
    " - применить downsampling доминантного класса;\n",
    " - работать в таком ключе: представим, что все отобранные данные - это наша псевдо генеральная совокупность. Из неё мы n раз сэмплируем выборки равного объёма, допустим, 100_000, учитывая тот факт, что в каждой выборке соотношение классов должно быть одинаковым"
   ]
  },
  {
   "cell_type": "markdown",
   "id": "628f5529",
   "metadata": {},
   "source": [
    "Посмотрим на распределние таргета по признаку \"наличие зарплатного счета у клиента на отчетную дату\""
   ]
  },
  {
   "cell_type": "code",
   "execution_count": 73,
   "id": "e75d9431",
   "metadata": {},
   "outputs": [
    {
     "data": {
      "text/html": [
       "<style type=\"text/css\">\n",
       "#T_86fe6_row0_col0, #T_86fe6_row0_col1 {\n",
       "  background-color: #a50026;\n",
       "  color: #f1f1f1;\n",
       "}\n",
       "#T_86fe6_row1_col0, #T_86fe6_row1_col1 {\n",
       "  background-color: #006837;\n",
       "  color: #f1f1f1;\n",
       "}\n",
       "</style>\n",
       "<table id=\"T_86fe6\">\n",
       "  <thead>\n",
       "    <tr>\n",
       "      <th class=\"index_name level0\" >target</th>\n",
       "      <th id=\"T_86fe6_level0_col0\" class=\"col_heading level0 col0\" >0.000000</th>\n",
       "      <th id=\"T_86fe6_level0_col1\" class=\"col_heading level0 col1\" >1.000000</th>\n",
       "    </tr>\n",
       "    <tr>\n",
       "      <th class=\"index_name level0\" >accountsalary_flag</th>\n",
       "      <th class=\"blank col0\" >&nbsp;</th>\n",
       "      <th class=\"blank col1\" >&nbsp;</th>\n",
       "    </tr>\n",
       "  </thead>\n",
       "  <tbody>\n",
       "    <tr>\n",
       "      <th id=\"T_86fe6_level0_row0\" class=\"row_heading level0 row0\" >0.000000</th>\n",
       "      <td id=\"T_86fe6_row0_col0\" class=\"data row0 col0\" >42649</td>\n",
       "      <td id=\"T_86fe6_row0_col1\" class=\"data row0 col1\" >938</td>\n",
       "    </tr>\n",
       "    <tr>\n",
       "      <th id=\"T_86fe6_level0_row1\" class=\"row_heading level0 row1\" >1.000000</th>\n",
       "      <td id=\"T_86fe6_row1_col0\" class=\"data row1 col0\" >130247</td>\n",
       "      <td id=\"T_86fe6_row1_col1\" class=\"data row1 col1\" >44840</td>\n",
       "    </tr>\n",
       "  </tbody>\n",
       "</table>\n"
      ],
      "text/plain": [
       "<pandas.io.formats.style.Styler at 0x1f4fd6edc70>"
      ]
     },
     "execution_count": 73,
     "metadata": {},
     "output_type": "execute_result"
    }
   ],
   "source": [
    "pd.crosstab(data[\"accountsalary_flag\"], data[\"target\"]).style.background_gradient(\"RdYlGn\")"
   ]
  },
  {
   "cell_type": "markdown",
   "id": "30a2ffb1",
   "metadata": {},
   "source": [
    "Из таблицы можно предположить, что эти переменные могут быть взаимосвязаны. Проверим эту гипотезу с помощью критерия $\\chi^2$"
   ]
  },
  {
   "cell_type": "code",
   "execution_count": 74,
   "id": "d57dfd10",
   "metadata": {},
   "outputs": [
    {
     "data": {
      "text/plain": [
       "array([0., 0.])"
      ]
     },
     "execution_count": 74,
     "metadata": {},
     "output_type": "execute_result"
    }
   ],
   "source": [
    "scipy.stats.chisquare(\n",
    "    pd.crosstab(data[\"accountsalary_flag\"], data[\"target\"])\n",
    ").pvalue"
   ]
  },
  {
   "cell_type": "markdown",
   "id": "d1bb5ba3",
   "metadata": {},
   "source": [
    "Получается, что переменные всё же взаимосвязаны. Значит, \"accountsalary_flag\" спокойно можно тянуть в модель для обучения"
   ]
  },
  {
   "cell_type": "markdown",
   "id": "7216f0a4",
   "metadata": {},
   "source": [
    "Аналогично проверим признак \"gender\""
   ]
  },
  {
   "cell_type": "code",
   "execution_count": 75,
   "id": "1fd12916",
   "metadata": {},
   "outputs": [
    {
     "data": {
      "text/html": [
       "<style type=\"text/css\">\n",
       "#T_61ac2_row0_col0, #T_61ac2_row0_col1 {\n",
       "  background-color: #a50026;\n",
       "  color: #f1f1f1;\n",
       "}\n",
       "#T_61ac2_row1_col0, #T_61ac2_row1_col1 {\n",
       "  background-color: #006837;\n",
       "  color: #f1f1f1;\n",
       "}\n",
       "</style>\n",
       "<table id=\"T_61ac2\">\n",
       "  <thead>\n",
       "    <tr>\n",
       "      <th class=\"index_name level0\" >target</th>\n",
       "      <th id=\"T_61ac2_level0_col0\" class=\"col_heading level0 col0\" >0.000000</th>\n",
       "      <th id=\"T_61ac2_level0_col1\" class=\"col_heading level0 col1\" >1.000000</th>\n",
       "    </tr>\n",
       "    <tr>\n",
       "      <th class=\"index_name level0\" >gender</th>\n",
       "      <th class=\"blank col0\" >&nbsp;</th>\n",
       "      <th class=\"blank col1\" >&nbsp;</th>\n",
       "    </tr>\n",
       "  </thead>\n",
       "  <tbody>\n",
       "    <tr>\n",
       "      <th id=\"T_61ac2_level0_row0\" class=\"row_heading level0 row0\" >Женский</th>\n",
       "      <td id=\"T_61ac2_row0_col0\" class=\"data row0 col0\" >86330</td>\n",
       "      <td id=\"T_61ac2_row0_col1\" class=\"data row0 col1\" >17541</td>\n",
       "    </tr>\n",
       "    <tr>\n",
       "      <th id=\"T_61ac2_level0_row1\" class=\"row_heading level0 row1\" >Мужской</th>\n",
       "      <td id=\"T_61ac2_row1_col0\" class=\"data row1 col0\" >86566</td>\n",
       "      <td id=\"T_61ac2_row1_col1\" class=\"data row1 col1\" >28237</td>\n",
       "    </tr>\n",
       "  </tbody>\n",
       "</table>\n"
      ],
      "text/plain": [
       "<pandas.io.formats.style.Styler at 0x1f4ff9c37c0>"
      ]
     },
     "execution_count": 75,
     "metadata": {},
     "output_type": "execute_result"
    }
   ],
   "source": [
    "pd.crosstab(data[\"gender\"], data[\"target\"]).style.background_gradient(\"RdYlGn\")"
   ]
  },
  {
   "cell_type": "code",
   "execution_count": 76,
   "id": "e4ce5426",
   "metadata": {},
   "outputs": [
    {
     "data": {
      "text/plain": [
       "array([0.5703269, 0.       ])"
      ]
     },
     "execution_count": 76,
     "metadata": {},
     "output_type": "execute_result"
    }
   ],
   "source": [
    "scipy.stats.chisquare(\n",
    "    pd.crosstab(data[\"gender\"], data[\"target\"]).values\n",
    ").pvalue"
   ]
  },
  {
   "cell_type": "markdown",
   "id": "39c23dac",
   "metadata": {},
   "source": [
    "Получается, что если таргет == 1, то взаимосвязь между таргетом и полом существует, в противном случае - взаимосвязи нет"
   ]
  },
  {
   "cell_type": "markdown",
   "id": "bcc702ae",
   "metadata": {},
   "source": [
    "Следующей на проверку пойдет фича \"hdb_relend_client_credits_count_grade\""
   ]
  },
  {
   "cell_type": "code",
   "execution_count": 77,
   "id": "d1c73bcc",
   "metadata": {},
   "outputs": [
    {
     "data": {
      "text/html": [
       "<style type=\"text/css\">\n",
       "#T_09bff_row0_col0, #T_09bff_row0_col1, #T_09bff_row0_col2, #T_09bff_row0_col3 {\n",
       "  background-color: #006837;\n",
       "  color: #f1f1f1;\n",
       "}\n",
       "#T_09bff_row1_col0, #T_09bff_row1_col1, #T_09bff_row1_col2, #T_09bff_row1_col3 {\n",
       "  background-color: #a50026;\n",
       "  color: #f1f1f1;\n",
       "}\n",
       "</style>\n",
       "<table id=\"T_09bff\">\n",
       "  <thead>\n",
       "    <tr>\n",
       "      <th class=\"index_name level0\" >hdb_relend_client_credits_count_grade</th>\n",
       "      <th id=\"T_09bff_level0_col0\" class=\"col_heading level0 col0\" >a</th>\n",
       "      <th id=\"T_09bff_level0_col1\" class=\"col_heading level0 col1\" >b</th>\n",
       "      <th id=\"T_09bff_level0_col2\" class=\"col_heading level0 col2\" >c</th>\n",
       "      <th id=\"T_09bff_level0_col3\" class=\"col_heading level0 col3\" >d</th>\n",
       "    </tr>\n",
       "    <tr>\n",
       "      <th class=\"index_name level0\" >target</th>\n",
       "      <th class=\"blank col0\" >&nbsp;</th>\n",
       "      <th class=\"blank col1\" >&nbsp;</th>\n",
       "      <th class=\"blank col2\" >&nbsp;</th>\n",
       "      <th class=\"blank col3\" >&nbsp;</th>\n",
       "    </tr>\n",
       "  </thead>\n",
       "  <tbody>\n",
       "    <tr>\n",
       "      <th id=\"T_09bff_level0_row0\" class=\"row_heading level0 row0\" >0.000000</th>\n",
       "      <td id=\"T_09bff_row0_col0\" class=\"data row0 col0\" >1701</td>\n",
       "      <td id=\"T_09bff_row0_col1\" class=\"data row0 col1\" >3526</td>\n",
       "      <td id=\"T_09bff_row0_col2\" class=\"data row0 col2\" >689</td>\n",
       "      <td id=\"T_09bff_row0_col3\" class=\"data row0 col3\" >81899</td>\n",
       "    </tr>\n",
       "    <tr>\n",
       "      <th id=\"T_09bff_level0_row1\" class=\"row_heading level0 row1\" >1.000000</th>\n",
       "      <td id=\"T_09bff_row1_col0\" class=\"data row1 col0\" >309</td>\n",
       "      <td id=\"T_09bff_row1_col1\" class=\"data row1 col1\" >680</td>\n",
       "      <td id=\"T_09bff_row1_col2\" class=\"data row1 col2\" >106</td>\n",
       "      <td id=\"T_09bff_row1_col3\" class=\"data row1 col3\" >25271</td>\n",
       "    </tr>\n",
       "  </tbody>\n",
       "</table>\n"
      ],
      "text/plain": [
       "<pandas.io.formats.style.Styler at 0x1f4cc785730>"
      ]
     },
     "execution_count": 77,
     "metadata": {},
     "output_type": "execute_result"
    }
   ],
   "source": [
    "pd.crosstab(data[\"hdb_relend_client_credits_count_grade\"], data[\"target\"]).T.style.background_gradient(\"RdYlGn\")"
   ]
  },
  {
   "cell_type": "code",
   "execution_count": 78,
   "id": "112658fa",
   "metadata": {},
   "outputs": [
    {
     "data": {
      "text/plain": [
       "array([1.19375837e-211, 0.00000000e+000, 5.59450133e-095, 0.00000000e+000])"
      ]
     },
     "execution_count": 78,
     "metadata": {},
     "output_type": "execute_result"
    }
   ],
   "source": [
    "scipy.stats.chisquare(\n",
    "    pd.crosstab(data[\"hdb_relend_client_credits_count_grade\"], data[\"target\"]).T.values\n",
    ").pvalue"
   ]
  },
  {
   "cell_type": "markdown",
   "id": "90aaeecb",
   "metadata": {},
   "source": [
    "Обращая внимание на полученные порядки p-value, смело можно сделать вывод, что взаимосвязь между этими признаками есть"
   ]
  },
  {
   "cell_type": "markdown",
   "id": "780c2fe6",
   "metadata": {},
   "source": [
    "Теперь рассмотрим взаимосвязь \"clientoutflowstatus\" и таргета"
   ]
  },
  {
   "cell_type": "code",
   "execution_count": 79,
   "id": "ba3187c6",
   "metadata": {},
   "outputs": [
    {
     "data": {
      "text/html": [
       "<style type=\"text/css\">\n",
       "#T_74209_row0_col0, #T_74209_row0_col1, #T_74209_row0_col2, #T_74209_row0_col3, #T_74209_row0_col4, #T_74209_row0_col5, #T_74209_row0_col6, #T_74209_row0_col7, #T_74209_row0_col8 {\n",
       "  background-color: #006837;\n",
       "  color: #f1f1f1;\n",
       "}\n",
       "#T_74209_row1_col0, #T_74209_row1_col1, #T_74209_row1_col2, #T_74209_row1_col3, #T_74209_row1_col4, #T_74209_row1_col5, #T_74209_row1_col6, #T_74209_row1_col7, #T_74209_row1_col8 {\n",
       "  background-color: #a50026;\n",
       "  color: #f1f1f1;\n",
       "}\n",
       "</style>\n",
       "<table id=\"T_74209\">\n",
       "  <thead>\n",
       "    <tr>\n",
       "      <th class=\"index_name level0\" >clientoutflowstatus</th>\n",
       "      <th id=\"T_74209_level0_col0\" class=\"col_heading level0 col0\" >ACTIVE</th>\n",
       "      <th id=\"T_74209_level0_col1\" class=\"col_heading level0 col1\" >LOCAL_WB</th>\n",
       "      <th id=\"T_74209_level0_col2\" class=\"col_heading level0 col2\" >N2BANK_NEW</th>\n",
       "      <th id=\"T_74209_level0_col3\" class=\"col_heading level0 col3\" >N2BANK_POTENTIAL</th>\n",
       "      <th id=\"T_74209_level0_col4\" class=\"col_heading level0 col4\" >OUTFLOW</th>\n",
       "      <th id=\"T_74209_level0_col5\" class=\"col_heading level0 col5\" >POTENTIAL</th>\n",
       "      <th id=\"T_74209_level0_col6\" class=\"col_heading level0 col6\" >PREOUTFLOW</th>\n",
       "      <th id=\"T_74209_level0_col7\" class=\"col_heading level0 col7\" >PREVYEARS_WB</th>\n",
       "      <th id=\"T_74209_level0_col8\" class=\"col_heading level0 col8\" >SLEEP</th>\n",
       "    </tr>\n",
       "    <tr>\n",
       "      <th class=\"index_name level0\" >target</th>\n",
       "      <th class=\"blank col0\" >&nbsp;</th>\n",
       "      <th class=\"blank col1\" >&nbsp;</th>\n",
       "      <th class=\"blank col2\" >&nbsp;</th>\n",
       "      <th class=\"blank col3\" >&nbsp;</th>\n",
       "      <th class=\"blank col4\" >&nbsp;</th>\n",
       "      <th class=\"blank col5\" >&nbsp;</th>\n",
       "      <th class=\"blank col6\" >&nbsp;</th>\n",
       "      <th class=\"blank col7\" >&nbsp;</th>\n",
       "      <th class=\"blank col8\" >&nbsp;</th>\n",
       "    </tr>\n",
       "  </thead>\n",
       "  <tbody>\n",
       "    <tr>\n",
       "      <th id=\"T_74209_level0_row0\" class=\"row_heading level0 row0\" >0.000000</th>\n",
       "      <td id=\"T_74209_row0_col0\" class=\"data row0 col0\" >139198</td>\n",
       "      <td id=\"T_74209_row0_col1\" class=\"data row0 col1\" >822</td>\n",
       "      <td id=\"T_74209_row0_col2\" class=\"data row0 col2\" >1237</td>\n",
       "      <td id=\"T_74209_row0_col3\" class=\"data row0 col3\" >857</td>\n",
       "      <td id=\"T_74209_row0_col4\" class=\"data row0 col4\" >1835</td>\n",
       "      <td id=\"T_74209_row0_col5\" class=\"data row0 col5\" >5572</td>\n",
       "      <td id=\"T_74209_row0_col6\" class=\"data row0 col6\" >2882</td>\n",
       "      <td id=\"T_74209_row0_col7\" class=\"data row0 col7\" >764</td>\n",
       "      <td id=\"T_74209_row0_col8\" class=\"data row0 col8\" >19729</td>\n",
       "    </tr>\n",
       "    <tr>\n",
       "      <th id=\"T_74209_level0_row1\" class=\"row_heading level0 row1\" >1.000000</th>\n",
       "      <td id=\"T_74209_row1_col0\" class=\"data row1 col0\" >42265</td>\n",
       "      <td id=\"T_74209_row1_col1\" class=\"data row1 col1\" >126</td>\n",
       "      <td id=\"T_74209_row1_col2\" class=\"data row1 col2\" >400</td>\n",
       "      <td id=\"T_74209_row1_col3\" class=\"data row1 col3\" >251</td>\n",
       "      <td id=\"T_74209_row1_col4\" class=\"data row1 col4\" >168</td>\n",
       "      <td id=\"T_74209_row1_col5\" class=\"data row1 col5\" >754</td>\n",
       "      <td id=\"T_74209_row1_col6\" class=\"data row1 col6\" >280</td>\n",
       "      <td id=\"T_74209_row1_col7\" class=\"data row1 col7\" >208</td>\n",
       "      <td id=\"T_74209_row1_col8\" class=\"data row1 col8\" >1326</td>\n",
       "    </tr>\n",
       "  </tbody>\n",
       "</table>\n"
      ],
      "text/plain": [
       "<pandas.io.formats.style.Styler at 0x1f4ffb5feb0>"
      ]
     },
     "execution_count": 79,
     "metadata": {},
     "output_type": "execute_result"
    }
   ],
   "source": [
    "pd.crosstab(data[\"clientoutflowstatus\"], data[\"target\"]).T.style.background_gradient(\"RdYlGn\")"
   ]
  },
  {
   "cell_type": "code",
   "execution_count": 80,
   "id": "5c9e4b2a",
   "metadata": {},
   "outputs": [
    {
     "data": {
      "text/plain": [
       "array([0.00000000e+000, 3.86721012e-113, 4.51958324e-095, 4.66725060e-074,\n",
       "       1.17053944e-303, 0.00000000e+000, 0.00000000e+000, 3.86887520e-071,\n",
       "       0.00000000e+000])"
      ]
     },
     "execution_count": 80,
     "metadata": {},
     "output_type": "execute_result"
    }
   ],
   "source": [
    "scipy.stats.chisquare(\n",
    "    pd.crosstab(data[\"clientoutflowstatus\"], data[\"target\"]).T.values\n",
    ").pvalue"
   ]
  },
  {
   "cell_type": "markdown",
   "id": "02902398",
   "metadata": {},
   "source": [
    "Аналогичный описанному выше вывод применим и здесь - взаимосвязь имеет место"
   ]
  },
  {
   "cell_type": "markdown",
   "id": "9e11f6ee",
   "metadata": {},
   "source": [
    "Зададимся вопросом, а существует ли взаимосвязь между \"stratsegfactor\" и таргета"
   ]
  },
  {
   "cell_type": "code",
   "execution_count": 81,
   "id": "35a9f94e",
   "metadata": {},
   "outputs": [
    {
     "data": {
      "text/html": [
       "<style type=\"text/css\">\n",
       "#T_ca576_row0_col0, #T_ca576_row0_col1, #T_ca576_row0_col2, #T_ca576_row0_col4, #T_ca576_row0_col5, #T_ca576_row1_col3 {\n",
       "  background-color: #006837;\n",
       "  color: #f1f1f1;\n",
       "}\n",
       "#T_ca576_row0_col3, #T_ca576_row1_col0, #T_ca576_row1_col1, #T_ca576_row1_col2, #T_ca576_row1_col4, #T_ca576_row1_col5 {\n",
       "  background-color: #a50026;\n",
       "  color: #f1f1f1;\n",
       "}\n",
       "</style>\n",
       "<table id=\"T_ca576\">\n",
       "  <thead>\n",
       "    <tr>\n",
       "      <th class=\"index_name level0\" >stratsegfactor</th>\n",
       "      <th id=\"T_ca576_level0_col0\" class=\"col_heading level0 col0\" >Зарплата из кредитной анкеты</th>\n",
       "      <th id=\"T_ca576_level0_col1\" class=\"col_heading level0 col1\" >Инвестиционные продукты</th>\n",
       "      <th id=\"T_ca576_level0_col2\" class=\"col_heading level0 col2\" >Остатки на счетах</th>\n",
       "      <th id=\"T_ca576_level0_col3\" class=\"col_heading level0 col3\" >Пакет услуг</th>\n",
       "      <th id=\"T_ca576_level0_col4\" class=\"col_heading level0 col4\" >Предиктивный доход</th>\n",
       "      <th id=\"T_ca576_level0_col5\" class=\"col_heading level0 col5\" >Реальная зарплата клиента</th>\n",
       "    </tr>\n",
       "    <tr>\n",
       "      <th class=\"index_name level0\" >target</th>\n",
       "      <th class=\"blank col0\" >&nbsp;</th>\n",
       "      <th class=\"blank col1\" >&nbsp;</th>\n",
       "      <th class=\"blank col2\" >&nbsp;</th>\n",
       "      <th class=\"blank col3\" >&nbsp;</th>\n",
       "      <th class=\"blank col4\" >&nbsp;</th>\n",
       "      <th class=\"blank col5\" >&nbsp;</th>\n",
       "    </tr>\n",
       "  </thead>\n",
       "  <tbody>\n",
       "    <tr>\n",
       "      <th id=\"T_ca576_level0_row0\" class=\"row_heading level0 row0\" >0.000000</th>\n",
       "      <td id=\"T_ca576_row0_col0\" class=\"data row0 col0\" >19030</td>\n",
       "      <td id=\"T_ca576_row0_col1\" class=\"data row0 col1\" >6494</td>\n",
       "      <td id=\"T_ca576_row0_col2\" class=\"data row0 col2\" >85004</td>\n",
       "      <td id=\"T_ca576_row0_col3\" class=\"data row0 col3\" >11189</td>\n",
       "      <td id=\"T_ca576_row0_col4\" class=\"data row0 col4\" >27303</td>\n",
       "      <td id=\"T_ca576_row0_col5\" class=\"data row0 col5\" >7858</td>\n",
       "    </tr>\n",
       "    <tr>\n",
       "      <th id=\"T_ca576_level0_row1\" class=\"row_heading level0 row1\" >1.000000</th>\n",
       "      <td id=\"T_ca576_row1_col0\" class=\"data row1 col0\" >1243</td>\n",
       "      <td id=\"T_ca576_row1_col1\" class=\"data row1 col1\" >1307</td>\n",
       "      <td id=\"T_ca576_row1_col2\" class=\"data row1 col2\" >10956</td>\n",
       "      <td id=\"T_ca576_row1_col3\" class=\"data row1 col3\" >17978</td>\n",
       "      <td id=\"T_ca576_row1_col4\" class=\"data row1 col4\" >9936</td>\n",
       "      <td id=\"T_ca576_row1_col5\" class=\"data row1 col5\" >3242</td>\n",
       "    </tr>\n",
       "  </tbody>\n",
       "</table>\n"
      ],
      "text/plain": [
       "<pandas.io.formats.style.Styler at 0x1f4cc712d30>"
      ]
     },
     "execution_count": 81,
     "metadata": {},
     "output_type": "execute_result"
    }
   ],
   "source": [
    "pd.crosstab(data[\"stratsegfactor\"], data[\"target\"]).T.style.background_gradient(\"RdYlGn\")"
   ]
  },
  {
   "cell_type": "code",
   "execution_count": 82,
   "id": "ff7031a1",
   "metadata": {},
   "outputs": [
    {
     "data": {
      "text/plain": [
       "array([0., 0., 0., 0., 0., 0.])"
      ]
     },
     "execution_count": 82,
     "metadata": {},
     "output_type": "execute_result"
    }
   ],
   "source": [
    "scipy.stats.chisquare(\n",
    "    pd.crosstab(data[\"stratsegfactor\"], data[\"target\"]).T.values\n",
    ").pvalue"
   ]
  },
  {
   "cell_type": "markdown",
   "id": "f51e1a3e",
   "metadata": {},
   "source": [
    "Смело можем ответить на вопрос, что взаимосвязь есть"
   ]
  },
  {
   "cell_type": "markdown",
   "id": "eab82361",
   "metadata": {},
   "source": [
    "А что насчёт связи между \"clientsegment\" и таргетом?"
   ]
  },
  {
   "cell_type": "code",
   "execution_count": 83,
   "id": "9382ba09",
   "metadata": {},
   "outputs": [
    {
     "data": {
      "text/html": [
       "<style type=\"text/css\">\n",
       "#T_19728_row0_col0, #T_19728_row0_col1, #T_19728_row1_col2, #T_19728_row1_col3 {\n",
       "  background-color: #a50026;\n",
       "  color: #f1f1f1;\n",
       "}\n",
       "#T_19728_row0_col2, #T_19728_row0_col3, #T_19728_row1_col0, #T_19728_row1_col1 {\n",
       "  background-color: #006837;\n",
       "  color: #f1f1f1;\n",
       "}\n",
       "</style>\n",
       "<table id=\"T_19728\">\n",
       "  <thead>\n",
       "    <tr>\n",
       "      <th class=\"index_name level0\" >clientsegment</th>\n",
       "      <th id=\"T_19728_level0_col0\" class=\"col_heading level0 col0\" >A-CLUB</th>\n",
       "      <th id=\"T_19728_level0_col1\" class=\"col_heading level0 col1\" >AFFLUENT</th>\n",
       "      <th id=\"T_19728_level0_col2\" class=\"col_heading level0 col2\" >MAFFLUENT</th>\n",
       "      <th id=\"T_19728_level0_col3\" class=\"col_heading level0 col3\" >MASS</th>\n",
       "    </tr>\n",
       "    <tr>\n",
       "      <th class=\"index_name level0\" >target</th>\n",
       "      <th class=\"blank col0\" >&nbsp;</th>\n",
       "      <th class=\"blank col1\" >&nbsp;</th>\n",
       "      <th class=\"blank col2\" >&nbsp;</th>\n",
       "      <th class=\"blank col3\" >&nbsp;</th>\n",
       "    </tr>\n",
       "  </thead>\n",
       "  <tbody>\n",
       "    <tr>\n",
       "      <th id=\"T_19728_level0_row0\" class=\"row_heading level0 row0\" >0.000000</th>\n",
       "      <td id=\"T_19728_row0_col0\" class=\"data row0 col0\" >21</td>\n",
       "      <td id=\"T_19728_row0_col1\" class=\"data row0 col1\" >19632</td>\n",
       "      <td id=\"T_19728_row0_col2\" class=\"data row0 col2\" >43326</td>\n",
       "      <td id=\"T_19728_row0_col3\" class=\"data row0 col3\" >103938</td>\n",
       "    </tr>\n",
       "    <tr>\n",
       "      <th id=\"T_19728_level0_row1\" class=\"row_heading level0 row1\" >1.000000</th>\n",
       "      <td id=\"T_19728_row1_col0\" class=\"data row1 col0\" >2320</td>\n",
       "      <td id=\"T_19728_row1_col1\" class=\"data row1 col1\" >20997</td>\n",
       "      <td id=\"T_19728_row1_col2\" class=\"data row1 col2\" >12746</td>\n",
       "      <td id=\"T_19728_row1_col3\" class=\"data row1 col3\" >9412</td>\n",
       "    </tr>\n",
       "  </tbody>\n",
       "</table>\n"
      ],
      "text/plain": [
       "<pandas.io.formats.style.Styler at 0x1f4cc68c550>"
      ]
     },
     "execution_count": 83,
     "metadata": {},
     "output_type": "execute_result"
    }
   ],
   "source": [
    "pd.crosstab(data[\"clientsegment\"], data[\"target\"]).T.style.background_gradient(\"RdYlGn\")"
   ]
  },
  {
   "cell_type": "code",
   "execution_count": 84,
   "id": "0d582218",
   "metadata": {},
   "outputs": [
    {
     "data": {
      "text/plain": [
       "array([0.00000000e+00, 1.27046523e-11, 0.00000000e+00, 0.00000000e+00])"
      ]
     },
     "execution_count": 84,
     "metadata": {},
     "output_type": "execute_result"
    }
   ],
   "source": [
    "scipy.stats.chisquare(\n",
    "    pd.crosstab(data[\"clientsegment\"], data[\"target\"]).T.values\n",
    ").pvalue"
   ]
  },
  {
   "cell_type": "markdown",
   "id": "5433e35f",
   "metadata": {},
   "source": [
    "Наблюдаем аналогичную картинку о наличии взаимосвязии"
   ]
  },
  {
   "cell_type": "markdown",
   "id": "f11d2541",
   "metadata": {},
   "source": [
    "Посмотрим на распределение таргета по оставшимся категориальным признакам"
   ]
  },
  {
   "cell_type": "code",
   "execution_count": 85,
   "id": "e7e39751",
   "metadata": {},
   "outputs": [
    {
     "data": {
      "text/html": [
       "<style type=\"text/css\">\n",
       "#T_98222_row0_col0, #T_98222_row0_col3, #T_98222_row0_col4, #T_98222_row0_col5, #T_98222_row0_col10, #T_98222_row0_col11, #T_98222_row0_col14, #T_98222_row0_col15, #T_98222_row0_col17, #T_98222_row0_col18, #T_98222_row0_col19, #T_98222_row0_col22, #T_98222_row0_col23, #T_98222_row0_col24, #T_98222_row0_col27, #T_98222_row0_col28, #T_98222_row0_col31, #T_98222_row0_col32, #T_98222_row0_col34, #T_98222_row0_col35, #T_98222_row0_col36, #T_98222_row0_col37, #T_98222_row0_col38, #T_98222_row0_col39, #T_98222_row0_col40, #T_98222_row0_col42, #T_98222_row0_col45, #T_98222_row0_col47, #T_98222_row0_col48, #T_98222_row0_col50, #T_98222_row0_col52, #T_98222_row0_col53, #T_98222_row0_col54, #T_98222_row0_col58, #T_98222_row0_col60, #T_98222_row0_col61, #T_98222_row0_col62, #T_98222_row0_col63, #T_98222_row0_col64, #T_98222_row0_col65, #T_98222_row0_col66, #T_98222_row0_col67, #T_98222_row0_col68, #T_98222_row0_col69, #T_98222_row0_col70, #T_98222_row1_col1, #T_98222_row1_col2, #T_98222_row1_col6, #T_98222_row1_col7, #T_98222_row1_col8, #T_98222_row1_col9, #T_98222_row1_col12, #T_98222_row1_col13, #T_98222_row1_col16, #T_98222_row1_col20, #T_98222_row1_col21, #T_98222_row1_col25, #T_98222_row1_col26, #T_98222_row1_col29, #T_98222_row1_col33, #T_98222_row1_col41, #T_98222_row1_col43, #T_98222_row1_col46, #T_98222_row1_col49, #T_98222_row1_col51, #T_98222_row1_col55, #T_98222_row1_col56, #T_98222_row1_col57, #T_98222_row1_col59, #T_98222_row1_col71 {\n",
       "  background-color: #006837;\n",
       "  color: #f1f1f1;\n",
       "}\n",
       "#T_98222_row0_col1, #T_98222_row0_col2, #T_98222_row0_col6, #T_98222_row0_col7, #T_98222_row0_col8, #T_98222_row0_col9, #T_98222_row0_col12, #T_98222_row0_col13, #T_98222_row0_col16, #T_98222_row0_col20, #T_98222_row0_col21, #T_98222_row0_col25, #T_98222_row0_col26, #T_98222_row0_col29, #T_98222_row0_col30, #T_98222_row0_col33, #T_98222_row0_col41, #T_98222_row0_col43, #T_98222_row0_col44, #T_98222_row0_col46, #T_98222_row0_col49, #T_98222_row0_col51, #T_98222_row0_col55, #T_98222_row0_col56, #T_98222_row0_col57, #T_98222_row0_col59, #T_98222_row0_col71, #T_98222_row1_col0, #T_98222_row1_col3, #T_98222_row1_col4, #T_98222_row1_col5, #T_98222_row1_col10, #T_98222_row1_col11, #T_98222_row1_col14, #T_98222_row1_col15, #T_98222_row1_col17, #T_98222_row1_col18, #T_98222_row1_col19, #T_98222_row1_col22, #T_98222_row1_col23, #T_98222_row1_col24, #T_98222_row1_col27, #T_98222_row1_col28, #T_98222_row1_col30, #T_98222_row1_col31, #T_98222_row1_col32, #T_98222_row1_col34, #T_98222_row1_col35, #T_98222_row1_col36, #T_98222_row1_col37, #T_98222_row1_col38, #T_98222_row1_col39, #T_98222_row1_col40, #T_98222_row1_col42, #T_98222_row1_col44, #T_98222_row1_col45, #T_98222_row1_col47, #T_98222_row1_col48, #T_98222_row1_col50, #T_98222_row1_col52, #T_98222_row1_col53, #T_98222_row1_col54, #T_98222_row1_col58, #T_98222_row1_col60, #T_98222_row1_col61, #T_98222_row1_col62, #T_98222_row1_col63, #T_98222_row1_col64, #T_98222_row1_col65, #T_98222_row1_col66, #T_98222_row1_col67, #T_98222_row1_col68, #T_98222_row1_col69, #T_98222_row1_col70 {\n",
       "  background-color: #a50026;\n",
       "  color: #f1f1f1;\n",
       "}\n",
       "</style>\n",
       "<table id=\"T_98222\">\n",
       "  <thead>\n",
       "    <tr>\n",
       "      <th class=\"index_name level0\" >country</th>\n",
       "      <th id=\"T_98222_level0_col0\" class=\"col_heading level0 col0\" >AGO</th>\n",
       "      <th id=\"T_98222_level0_col1\" class=\"col_heading level0 col1\" >AND</th>\n",
       "      <th id=\"T_98222_level0_col2\" class=\"col_heading level0 col2\" >ARG</th>\n",
       "      <th id=\"T_98222_level0_col3\" class=\"col_heading level0 col3\" >ARM</th>\n",
       "      <th id=\"T_98222_level0_col4\" class=\"col_heading level0 col4\" >AUT</th>\n",
       "      <th id=\"T_98222_level0_col5\" class=\"col_heading level0 col5\" >AZE</th>\n",
       "      <th id=\"T_98222_level0_col6\" class=\"col_heading level0 col6\" >BEL</th>\n",
       "      <th id=\"T_98222_level0_col7\" class=\"col_heading level0 col7\" >BEN</th>\n",
       "      <th id=\"T_98222_level0_col8\" class=\"col_heading level0 col8\" >BGR</th>\n",
       "      <th id=\"T_98222_level0_col9\" class=\"col_heading level0 col9\" >BIH</th>\n",
       "      <th id=\"T_98222_level0_col10\" class=\"col_heading level0 col10\" >BLR</th>\n",
       "      <th id=\"T_98222_level0_col11\" class=\"col_heading level0 col11\" >BRA</th>\n",
       "      <th id=\"T_98222_level0_col12\" class=\"col_heading level0 col12\" >CAN</th>\n",
       "      <th id=\"T_98222_level0_col13\" class=\"col_heading level0 col13\" >CHE</th>\n",
       "      <th id=\"T_98222_level0_col14\" class=\"col_heading level0 col14\" >CHN</th>\n",
       "      <th id=\"T_98222_level0_col15\" class=\"col_heading level0 col15\" >CMR</th>\n",
       "      <th id=\"T_98222_level0_col16\" class=\"col_heading level0 col16\" >DEU</th>\n",
       "      <th id=\"T_98222_level0_col17\" class=\"col_heading level0 col17\" >DNK</th>\n",
       "      <th id=\"T_98222_level0_col18\" class=\"col_heading level0 col18\" >ECU</th>\n",
       "      <th id=\"T_98222_level0_col19\" class=\"col_heading level0 col19\" >EGY</th>\n",
       "      <th id=\"T_98222_level0_col20\" class=\"col_heading level0 col20\" >ESP</th>\n",
       "      <th id=\"T_98222_level0_col21\" class=\"col_heading level0 col21\" >EST</th>\n",
       "      <th id=\"T_98222_level0_col22\" class=\"col_heading level0 col22\" >FIN</th>\n",
       "      <th id=\"T_98222_level0_col23\" class=\"col_heading level0 col23\" >FJI</th>\n",
       "      <th id=\"T_98222_level0_col24\" class=\"col_heading level0 col24\" >FRA</th>\n",
       "      <th id=\"T_98222_level0_col25\" class=\"col_heading level0 col25\" >GBR</th>\n",
       "      <th id=\"T_98222_level0_col26\" class=\"col_heading level0 col26\" >GEO</th>\n",
       "      <th id=\"T_98222_level0_col27\" class=\"col_heading level0 col27\" >GHA</th>\n",
       "      <th id=\"T_98222_level0_col28\" class=\"col_heading level0 col28\" >GRC</th>\n",
       "      <th id=\"T_98222_level0_col29\" class=\"col_heading level0 col29\" >HUN</th>\n",
       "      <th id=\"T_98222_level0_col30\" class=\"col_heading level0 col30\" >IND</th>\n",
       "      <th id=\"T_98222_level0_col31\" class=\"col_heading level0 col31\" >IRL</th>\n",
       "      <th id=\"T_98222_level0_col32\" class=\"col_heading level0 col32\" >IRQ</th>\n",
       "      <th id=\"T_98222_level0_col33\" class=\"col_heading level0 col33\" >ISR</th>\n",
       "      <th id=\"T_98222_level0_col34\" class=\"col_heading level0 col34\" >ITA</th>\n",
       "      <th id=\"T_98222_level0_col35\" class=\"col_heading level0 col35\" >JOR</th>\n",
       "      <th id=\"T_98222_level0_col36\" class=\"col_heading level0 col36\" >JPN</th>\n",
       "      <th id=\"T_98222_level0_col37\" class=\"col_heading level0 col37\" >KAZ</th>\n",
       "      <th id=\"T_98222_level0_col38\" class=\"col_heading level0 col38\" >KGZ</th>\n",
       "      <th id=\"T_98222_level0_col39\" class=\"col_heading level0 col39\" >KOR</th>\n",
       "      <th id=\"T_98222_level0_col40\" class=\"col_heading level0 col40\" >LTU</th>\n",
       "      <th id=\"T_98222_level0_col41\" class=\"col_heading level0 col41\" >LVA</th>\n",
       "      <th id=\"T_98222_level0_col42\" class=\"col_heading level0 col42\" >MDA</th>\n",
       "      <th id=\"T_98222_level0_col43\" class=\"col_heading level0 col43\" >MEX</th>\n",
       "      <th id=\"T_98222_level0_col44\" class=\"col_heading level0 col44\" >MNE</th>\n",
       "      <th id=\"T_98222_level0_col45\" class=\"col_heading level0 col45\" >MWI</th>\n",
       "      <th id=\"T_98222_level0_col46\" class=\"col_heading level0 col46\" >NLD</th>\n",
       "      <th id=\"T_98222_level0_col47\" class=\"col_heading level0 col47\" >NZL</th>\n",
       "      <th id=\"T_98222_level0_col48\" class=\"col_heading level0 col48\" >PAK</th>\n",
       "      <th id=\"T_98222_level0_col49\" class=\"col_heading level0 col49\" >PER</th>\n",
       "      <th id=\"T_98222_level0_col50\" class=\"col_heading level0 col50\" >PHL</th>\n",
       "      <th id=\"T_98222_level0_col51\" class=\"col_heading level0 col51\" >POL</th>\n",
       "      <th id=\"T_98222_level0_col52\" class=\"col_heading level0 col52\" >PSE</th>\n",
       "      <th id=\"T_98222_level0_col53\" class=\"col_heading level0 col53\" >RUS</th>\n",
       "      <th id=\"T_98222_level0_col54\" class=\"col_heading level0 col54\" >SEN</th>\n",
       "      <th id=\"T_98222_level0_col55\" class=\"col_heading level0 col55\" >SGP</th>\n",
       "      <th id=\"T_98222_level0_col56\" class=\"col_heading level0 col56\" >SRB</th>\n",
       "      <th id=\"T_98222_level0_col57\" class=\"col_heading level0 col57\" >SVK</th>\n",
       "      <th id=\"T_98222_level0_col58\" class=\"col_heading level0 col58\" >SVN</th>\n",
       "      <th id=\"T_98222_level0_col59\" class=\"col_heading level0 col59\" >SWE</th>\n",
       "      <th id=\"T_98222_level0_col60\" class=\"col_heading level0 col60\" >THA</th>\n",
       "      <th id=\"T_98222_level0_col61\" class=\"col_heading level0 col61\" >TJK</th>\n",
       "      <th id=\"T_98222_level0_col62\" class=\"col_heading level0 col62\" >TKM</th>\n",
       "      <th id=\"T_98222_level0_col63\" class=\"col_heading level0 col63\" >TUR</th>\n",
       "      <th id=\"T_98222_level0_col64\" class=\"col_heading level0 col64\" >TWN</th>\n",
       "      <th id=\"T_98222_level0_col65\" class=\"col_heading level0 col65\" >UGA</th>\n",
       "      <th id=\"T_98222_level0_col66\" class=\"col_heading level0 col66\" >UKR</th>\n",
       "      <th id=\"T_98222_level0_col67\" class=\"col_heading level0 col67\" >USA</th>\n",
       "      <th id=\"T_98222_level0_col68\" class=\"col_heading level0 col68\" >UZB</th>\n",
       "      <th id=\"T_98222_level0_col69\" class=\"col_heading level0 col69\" >VEN</th>\n",
       "      <th id=\"T_98222_level0_col70\" class=\"col_heading level0 col70\" >VNM</th>\n",
       "      <th id=\"T_98222_level0_col71\" class=\"col_heading level0 col71\" >ZAF</th>\n",
       "    </tr>\n",
       "    <tr>\n",
       "      <th class=\"index_name level0\" >target</th>\n",
       "      <th class=\"blank col0\" >&nbsp;</th>\n",
       "      <th class=\"blank col1\" >&nbsp;</th>\n",
       "      <th class=\"blank col2\" >&nbsp;</th>\n",
       "      <th class=\"blank col3\" >&nbsp;</th>\n",
       "      <th class=\"blank col4\" >&nbsp;</th>\n",
       "      <th class=\"blank col5\" >&nbsp;</th>\n",
       "      <th class=\"blank col6\" >&nbsp;</th>\n",
       "      <th class=\"blank col7\" >&nbsp;</th>\n",
       "      <th class=\"blank col8\" >&nbsp;</th>\n",
       "      <th class=\"blank col9\" >&nbsp;</th>\n",
       "      <th class=\"blank col10\" >&nbsp;</th>\n",
       "      <th class=\"blank col11\" >&nbsp;</th>\n",
       "      <th class=\"blank col12\" >&nbsp;</th>\n",
       "      <th class=\"blank col13\" >&nbsp;</th>\n",
       "      <th class=\"blank col14\" >&nbsp;</th>\n",
       "      <th class=\"blank col15\" >&nbsp;</th>\n",
       "      <th class=\"blank col16\" >&nbsp;</th>\n",
       "      <th class=\"blank col17\" >&nbsp;</th>\n",
       "      <th class=\"blank col18\" >&nbsp;</th>\n",
       "      <th class=\"blank col19\" >&nbsp;</th>\n",
       "      <th class=\"blank col20\" >&nbsp;</th>\n",
       "      <th class=\"blank col21\" >&nbsp;</th>\n",
       "      <th class=\"blank col22\" >&nbsp;</th>\n",
       "      <th class=\"blank col23\" >&nbsp;</th>\n",
       "      <th class=\"blank col24\" >&nbsp;</th>\n",
       "      <th class=\"blank col25\" >&nbsp;</th>\n",
       "      <th class=\"blank col26\" >&nbsp;</th>\n",
       "      <th class=\"blank col27\" >&nbsp;</th>\n",
       "      <th class=\"blank col28\" >&nbsp;</th>\n",
       "      <th class=\"blank col29\" >&nbsp;</th>\n",
       "      <th class=\"blank col30\" >&nbsp;</th>\n",
       "      <th class=\"blank col31\" >&nbsp;</th>\n",
       "      <th class=\"blank col32\" >&nbsp;</th>\n",
       "      <th class=\"blank col33\" >&nbsp;</th>\n",
       "      <th class=\"blank col34\" >&nbsp;</th>\n",
       "      <th class=\"blank col35\" >&nbsp;</th>\n",
       "      <th class=\"blank col36\" >&nbsp;</th>\n",
       "      <th class=\"blank col37\" >&nbsp;</th>\n",
       "      <th class=\"blank col38\" >&nbsp;</th>\n",
       "      <th class=\"blank col39\" >&nbsp;</th>\n",
       "      <th class=\"blank col40\" >&nbsp;</th>\n",
       "      <th class=\"blank col41\" >&nbsp;</th>\n",
       "      <th class=\"blank col42\" >&nbsp;</th>\n",
       "      <th class=\"blank col43\" >&nbsp;</th>\n",
       "      <th class=\"blank col44\" >&nbsp;</th>\n",
       "      <th class=\"blank col45\" >&nbsp;</th>\n",
       "      <th class=\"blank col46\" >&nbsp;</th>\n",
       "      <th class=\"blank col47\" >&nbsp;</th>\n",
       "      <th class=\"blank col48\" >&nbsp;</th>\n",
       "      <th class=\"blank col49\" >&nbsp;</th>\n",
       "      <th class=\"blank col50\" >&nbsp;</th>\n",
       "      <th class=\"blank col51\" >&nbsp;</th>\n",
       "      <th class=\"blank col52\" >&nbsp;</th>\n",
       "      <th class=\"blank col53\" >&nbsp;</th>\n",
       "      <th class=\"blank col54\" >&nbsp;</th>\n",
       "      <th class=\"blank col55\" >&nbsp;</th>\n",
       "      <th class=\"blank col56\" >&nbsp;</th>\n",
       "      <th class=\"blank col57\" >&nbsp;</th>\n",
       "      <th class=\"blank col58\" >&nbsp;</th>\n",
       "      <th class=\"blank col59\" >&nbsp;</th>\n",
       "      <th class=\"blank col60\" >&nbsp;</th>\n",
       "      <th class=\"blank col61\" >&nbsp;</th>\n",
       "      <th class=\"blank col62\" >&nbsp;</th>\n",
       "      <th class=\"blank col63\" >&nbsp;</th>\n",
       "      <th class=\"blank col64\" >&nbsp;</th>\n",
       "      <th class=\"blank col65\" >&nbsp;</th>\n",
       "      <th class=\"blank col66\" >&nbsp;</th>\n",
       "      <th class=\"blank col67\" >&nbsp;</th>\n",
       "      <th class=\"blank col68\" >&nbsp;</th>\n",
       "      <th class=\"blank col69\" >&nbsp;</th>\n",
       "      <th class=\"blank col70\" >&nbsp;</th>\n",
       "      <th class=\"blank col71\" >&nbsp;</th>\n",
       "    </tr>\n",
       "  </thead>\n",
       "  <tbody>\n",
       "    <tr>\n",
       "      <th id=\"T_98222_level0_row0\" class=\"row_heading level0 row0\" >0.000000</th>\n",
       "      <td id=\"T_98222_row0_col0\" class=\"data row0 col0\" >2</td>\n",
       "      <td id=\"T_98222_row0_col1\" class=\"data row0 col1\" >0</td>\n",
       "      <td id=\"T_98222_row0_col2\" class=\"data row0 col2\" >0</td>\n",
       "      <td id=\"T_98222_row0_col3\" class=\"data row0 col3\" >39</td>\n",
       "      <td id=\"T_98222_row0_col4\" class=\"data row0 col4\" >3</td>\n",
       "      <td id=\"T_98222_row0_col5\" class=\"data row0 col5\" >9</td>\n",
       "      <td id=\"T_98222_row0_col6\" class=\"data row0 col6\" >0</td>\n",
       "      <td id=\"T_98222_row0_col7\" class=\"data row0 col7\" >0</td>\n",
       "      <td id=\"T_98222_row0_col8\" class=\"data row0 col8\" >0</td>\n",
       "      <td id=\"T_98222_row0_col9\" class=\"data row0 col9\" >0</td>\n",
       "      <td id=\"T_98222_row0_col10\" class=\"data row0 col10\" >381</td>\n",
       "      <td id=\"T_98222_row0_col11\" class=\"data row0 col11\" >1</td>\n",
       "      <td id=\"T_98222_row0_col12\" class=\"data row0 col12\" >0</td>\n",
       "      <td id=\"T_98222_row0_col13\" class=\"data row0 col13\" >0</td>\n",
       "      <td id=\"T_98222_row0_col14\" class=\"data row0 col14\" >12</td>\n",
       "      <td id=\"T_98222_row0_col15\" class=\"data row0 col15\" >1</td>\n",
       "      <td id=\"T_98222_row0_col16\" class=\"data row0 col16\" >13</td>\n",
       "      <td id=\"T_98222_row0_col17\" class=\"data row0 col17\" >1</td>\n",
       "      <td id=\"T_98222_row0_col18\" class=\"data row0 col18\" >1</td>\n",
       "      <td id=\"T_98222_row0_col19\" class=\"data row0 col19\" >3</td>\n",
       "      <td id=\"T_98222_row0_col20\" class=\"data row0 col20\" >0</td>\n",
       "      <td id=\"T_98222_row0_col21\" class=\"data row0 col21\" >5</td>\n",
       "      <td id=\"T_98222_row0_col22\" class=\"data row0 col22\" >2</td>\n",
       "      <td id=\"T_98222_row0_col23\" class=\"data row0 col23\" >1</td>\n",
       "      <td id=\"T_98222_row0_col24\" class=\"data row0 col24\" >4</td>\n",
       "      <td id=\"T_98222_row0_col25\" class=\"data row0 col25\" >3</td>\n",
       "      <td id=\"T_98222_row0_col26\" class=\"data row0 col26\" >0</td>\n",
       "      <td id=\"T_98222_row0_col27\" class=\"data row0 col27\" >1</td>\n",
       "      <td id=\"T_98222_row0_col28\" class=\"data row0 col28\" >3</td>\n",
       "      <td id=\"T_98222_row0_col29\" class=\"data row0 col29\" >0</td>\n",
       "      <td id=\"T_98222_row0_col30\" class=\"data row0 col30\" >4</td>\n",
       "      <td id=\"T_98222_row0_col31\" class=\"data row0 col31\" >3</td>\n",
       "      <td id=\"T_98222_row0_col32\" class=\"data row0 col32\" >1</td>\n",
       "      <td id=\"T_98222_row0_col33\" class=\"data row0 col33\" >15</td>\n",
       "      <td id=\"T_98222_row0_col34\" class=\"data row0 col34\" >13</td>\n",
       "      <td id=\"T_98222_row0_col35\" class=\"data row0 col35\" >1</td>\n",
       "      <td id=\"T_98222_row0_col36\" class=\"data row0 col36\" >1</td>\n",
       "      <td id=\"T_98222_row0_col37\" class=\"data row0 col37\" >91</td>\n",
       "      <td id=\"T_98222_row0_col38\" class=\"data row0 col38\" >357</td>\n",
       "      <td id=\"T_98222_row0_col39\" class=\"data row0 col39\" >3</td>\n",
       "      <td id=\"T_98222_row0_col40\" class=\"data row0 col40\" >6</td>\n",
       "      <td id=\"T_98222_row0_col41\" class=\"data row0 col41\" >9</td>\n",
       "      <td id=\"T_98222_row0_col42\" class=\"data row0 col42\" >13</td>\n",
       "      <td id=\"T_98222_row0_col43\" class=\"data row0 col43\" >1</td>\n",
       "      <td id=\"T_98222_row0_col44\" class=\"data row0 col44\" >1</td>\n",
       "      <td id=\"T_98222_row0_col45\" class=\"data row0 col45\" >1</td>\n",
       "      <td id=\"T_98222_row0_col46\" class=\"data row0 col46\" >0</td>\n",
       "      <td id=\"T_98222_row0_col47\" class=\"data row0 col47\" >2</td>\n",
       "      <td id=\"T_98222_row0_col48\" class=\"data row0 col48\" >1</td>\n",
       "      <td id=\"T_98222_row0_col49\" class=\"data row0 col49\" >0</td>\n",
       "      <td id=\"T_98222_row0_col50\" class=\"data row0 col50\" >1</td>\n",
       "      <td id=\"T_98222_row0_col51\" class=\"data row0 col51\" >0</td>\n",
       "      <td id=\"T_98222_row0_col52\" class=\"data row0 col52\" >1</td>\n",
       "      <td id=\"T_98222_row0_col53\" class=\"data row0 col53\" >171164</td>\n",
       "      <td id=\"T_98222_row0_col54\" class=\"data row0 col54\" >1</td>\n",
       "      <td id=\"T_98222_row0_col55\" class=\"data row0 col55\" >0</td>\n",
       "      <td id=\"T_98222_row0_col56\" class=\"data row0 col56\" >0</td>\n",
       "      <td id=\"T_98222_row0_col57\" class=\"data row0 col57\" >0</td>\n",
       "      <td id=\"T_98222_row0_col58\" class=\"data row0 col58\" >1</td>\n",
       "      <td id=\"T_98222_row0_col59\" class=\"data row0 col59\" >1</td>\n",
       "      <td id=\"T_98222_row0_col60\" class=\"data row0 col60\" >4</td>\n",
       "      <td id=\"T_98222_row0_col61\" class=\"data row0 col61\" >195</td>\n",
       "      <td id=\"T_98222_row0_col62\" class=\"data row0 col62\" >15</td>\n",
       "      <td id=\"T_98222_row0_col63\" class=\"data row0 col63\" >10</td>\n",
       "      <td id=\"T_98222_row0_col64\" class=\"data row0 col64\" >1</td>\n",
       "      <td id=\"T_98222_row0_col65\" class=\"data row0 col65\" >1</td>\n",
       "      <td id=\"T_98222_row0_col66\" class=\"data row0 col66\" >122</td>\n",
       "      <td id=\"T_98222_row0_col67\" class=\"data row0 col67\" >9</td>\n",
       "      <td id=\"T_98222_row0_col68\" class=\"data row0 col68\" >357</td>\n",
       "      <td id=\"T_98222_row0_col69\" class=\"data row0 col69\" >1</td>\n",
       "      <td id=\"T_98222_row0_col70\" class=\"data row0 col70\" >4</td>\n",
       "      <td id=\"T_98222_row0_col71\" class=\"data row0 col71\" >0</td>\n",
       "    </tr>\n",
       "    <tr>\n",
       "      <th id=\"T_98222_level0_row1\" class=\"row_heading level0 row1\" >1.000000</th>\n",
       "      <td id=\"T_98222_row1_col0\" class=\"data row1 col0\" >0</td>\n",
       "      <td id=\"T_98222_row1_col1\" class=\"data row1 col1\" >2</td>\n",
       "      <td id=\"T_98222_row1_col2\" class=\"data row1 col2\" >2</td>\n",
       "      <td id=\"T_98222_row1_col3\" class=\"data row1 col3\" >10</td>\n",
       "      <td id=\"T_98222_row1_col4\" class=\"data row1 col4\" >2</td>\n",
       "      <td id=\"T_98222_row1_col5\" class=\"data row1 col5\" >4</td>\n",
       "      <td id=\"T_98222_row1_col6\" class=\"data row1 col6\" >1</td>\n",
       "      <td id=\"T_98222_row1_col7\" class=\"data row1 col7\" >1</td>\n",
       "      <td id=\"T_98222_row1_col8\" class=\"data row1 col8\" >1</td>\n",
       "      <td id=\"T_98222_row1_col9\" class=\"data row1 col9\" >2</td>\n",
       "      <td id=\"T_98222_row1_col10\" class=\"data row1 col10\" >83</td>\n",
       "      <td id=\"T_98222_row1_col11\" class=\"data row1 col11\" >0</td>\n",
       "      <td id=\"T_98222_row1_col12\" class=\"data row1 col12\" >1</td>\n",
       "      <td id=\"T_98222_row1_col13\" class=\"data row1 col13\" >2</td>\n",
       "      <td id=\"T_98222_row1_col14\" class=\"data row1 col14\" >1</td>\n",
       "      <td id=\"T_98222_row1_col15\" class=\"data row1 col15\" >0</td>\n",
       "      <td id=\"T_98222_row1_col16\" class=\"data row1 col16\" >18</td>\n",
       "      <td id=\"T_98222_row1_col17\" class=\"data row1 col17\" >0</td>\n",
       "      <td id=\"T_98222_row1_col18\" class=\"data row1 col18\" >0</td>\n",
       "      <td id=\"T_98222_row1_col19\" class=\"data row1 col19\" >0</td>\n",
       "      <td id=\"T_98222_row1_col20\" class=\"data row1 col20\" >2</td>\n",
       "      <td id=\"T_98222_row1_col21\" class=\"data row1 col21\" >7</td>\n",
       "      <td id=\"T_98222_row1_col22\" class=\"data row1 col22\" >1</td>\n",
       "      <td id=\"T_98222_row1_col23\" class=\"data row1 col23\" >0</td>\n",
       "      <td id=\"T_98222_row1_col24\" class=\"data row1 col24\" >3</td>\n",
       "      <td id=\"T_98222_row1_col25\" class=\"data row1 col25\" >8</td>\n",
       "      <td id=\"T_98222_row1_col26\" class=\"data row1 col26\" >1</td>\n",
       "      <td id=\"T_98222_row1_col27\" class=\"data row1 col27\" >0</td>\n",
       "      <td id=\"T_98222_row1_col28\" class=\"data row1 col28\" >0</td>\n",
       "      <td id=\"T_98222_row1_col29\" class=\"data row1 col29\" >1</td>\n",
       "      <td id=\"T_98222_row1_col30\" class=\"data row1 col30\" >4</td>\n",
       "      <td id=\"T_98222_row1_col31\" class=\"data row1 col31\" >0</td>\n",
       "      <td id=\"T_98222_row1_col32\" class=\"data row1 col32\" >0</td>\n",
       "      <td id=\"T_98222_row1_col33\" class=\"data row1 col33\" >19</td>\n",
       "      <td id=\"T_98222_row1_col34\" class=\"data row1 col34\" >6</td>\n",
       "      <td id=\"T_98222_row1_col35\" class=\"data row1 col35\" >0</td>\n",
       "      <td id=\"T_98222_row1_col36\" class=\"data row1 col36\" >0</td>\n",
       "      <td id=\"T_98222_row1_col37\" class=\"data row1 col37\" >43</td>\n",
       "      <td id=\"T_98222_row1_col38\" class=\"data row1 col38\" >6</td>\n",
       "      <td id=\"T_98222_row1_col39\" class=\"data row1 col39\" >0</td>\n",
       "      <td id=\"T_98222_row1_col40\" class=\"data row1 col40\" >4</td>\n",
       "      <td id=\"T_98222_row1_col41\" class=\"data row1 col41\" >13</td>\n",
       "      <td id=\"T_98222_row1_col42\" class=\"data row1 col42\" >7</td>\n",
       "      <td id=\"T_98222_row1_col43\" class=\"data row1 col43\" >2</td>\n",
       "      <td id=\"T_98222_row1_col44\" class=\"data row1 col44\" >1</td>\n",
       "      <td id=\"T_98222_row1_col45\" class=\"data row1 col45\" >0</td>\n",
       "      <td id=\"T_98222_row1_col46\" class=\"data row1 col46\" >2</td>\n",
       "      <td id=\"T_98222_row1_col47\" class=\"data row1 col47\" >0</td>\n",
       "      <td id=\"T_98222_row1_col48\" class=\"data row1 col48\" >0</td>\n",
       "      <td id=\"T_98222_row1_col49\" class=\"data row1 col49\" >1</td>\n",
       "      <td id=\"T_98222_row1_col50\" class=\"data row1 col50\" >0</td>\n",
       "      <td id=\"T_98222_row1_col51\" class=\"data row1 col51\" >1</td>\n",
       "      <td id=\"T_98222_row1_col52\" class=\"data row1 col52\" >0</td>\n",
       "      <td id=\"T_98222_row1_col53\" class=\"data row1 col53\" >45436</td>\n",
       "      <td id=\"T_98222_row1_col54\" class=\"data row1 col54\" >0</td>\n",
       "      <td id=\"T_98222_row1_col55\" class=\"data row1 col55\" >1</td>\n",
       "      <td id=\"T_98222_row1_col56\" class=\"data row1 col56\" >5</td>\n",
       "      <td id=\"T_98222_row1_col57\" class=\"data row1 col57\" >2</td>\n",
       "      <td id=\"T_98222_row1_col58\" class=\"data row1 col58\" >0</td>\n",
       "      <td id=\"T_98222_row1_col59\" class=\"data row1 col59\" >3</td>\n",
       "      <td id=\"T_98222_row1_col60\" class=\"data row1 col60\" >0</td>\n",
       "      <td id=\"T_98222_row1_col61\" class=\"data row1 col61\" >2</td>\n",
       "      <td id=\"T_98222_row1_col62\" class=\"data row1 col62\" >4</td>\n",
       "      <td id=\"T_98222_row1_col63\" class=\"data row1 col63\" >3</td>\n",
       "      <td id=\"T_98222_row1_col64\" class=\"data row1 col64\" >0</td>\n",
       "      <td id=\"T_98222_row1_col65\" class=\"data row1 col65\" >0</td>\n",
       "      <td id=\"T_98222_row1_col66\" class=\"data row1 col66\" >44</td>\n",
       "      <td id=\"T_98222_row1_col67\" class=\"data row1 col67\" >5</td>\n",
       "      <td id=\"T_98222_row1_col68\" class=\"data row1 col68\" >7</td>\n",
       "      <td id=\"T_98222_row1_col69\" class=\"data row1 col69\" >0</td>\n",
       "      <td id=\"T_98222_row1_col70\" class=\"data row1 col70\" >2</td>\n",
       "      <td id=\"T_98222_row1_col71\" class=\"data row1 col71\" >2</td>\n",
       "    </tr>\n",
       "  </tbody>\n",
       "</table>\n"
      ],
      "text/plain": [
       "<pandas.io.formats.style.Styler at 0x1f4cd8542b0>"
      ]
     },
     "execution_count": 85,
     "metadata": {},
     "output_type": "execute_result"
    }
   ],
   "source": [
    "pd.crosstab(data[\"country\"], data[\"target\"]).T.style.background_gradient(\"RdYlGn\")"
   ]
  },
  {
   "cell_type": "code",
   "execution_count": 86,
   "id": "78037b37",
   "metadata": {},
   "outputs": [
    {
     "data": {
      "text/html": [
       "<style type=\"text/css\">\n",
       "#T_2cc7d_row0_col0, #T_2cc7d_row0_col4, #T_2cc7d_row0_col5, #T_2cc7d_row0_col6, #T_2cc7d_row0_col7, #T_2cc7d_row0_col8, #T_2cc7d_row0_col9, #T_2cc7d_row0_col14, #T_2cc7d_row0_col15, #T_2cc7d_row0_col16, #T_2cc7d_row0_col18, #T_2cc7d_row0_col19, #T_2cc7d_row0_col20, #T_2cc7d_row0_col21, #T_2cc7d_row1_col1, #T_2cc7d_row1_col2, #T_2cc7d_row1_col10, #T_2cc7d_row1_col11, #T_2cc7d_row1_col12, #T_2cc7d_row1_col13, #T_2cc7d_row1_col17 {\n",
       "  background-color: #006837;\n",
       "  color: #f1f1f1;\n",
       "}\n",
       "#T_2cc7d_row0_col1, #T_2cc7d_row0_col2, #T_2cc7d_row0_col3, #T_2cc7d_row0_col10, #T_2cc7d_row0_col11, #T_2cc7d_row0_col12, #T_2cc7d_row0_col13, #T_2cc7d_row0_col17, #T_2cc7d_row1_col0, #T_2cc7d_row1_col3, #T_2cc7d_row1_col4, #T_2cc7d_row1_col5, #T_2cc7d_row1_col6, #T_2cc7d_row1_col7, #T_2cc7d_row1_col8, #T_2cc7d_row1_col9, #T_2cc7d_row1_col14, #T_2cc7d_row1_col15, #T_2cc7d_row1_col16, #T_2cc7d_row1_col18, #T_2cc7d_row1_col19, #T_2cc7d_row1_col20, #T_2cc7d_row1_col21 {\n",
       "  background-color: #a50026;\n",
       "  color: #f1f1f1;\n",
       "}\n",
       "</style>\n",
       "<table id=\"T_2cc7d\">\n",
       "  <thead>\n",
       "    <tr>\n",
       "      <th class=\"index_name level0\" >srvpackage</th>\n",
       "      <th id=\"T_2cc7d_level0_col0\" class=\"col_heading level0 col0\" >X5Банк</th>\n",
       "      <th id=\"T_2cc7d_level0_col1\" class=\"col_heading level0 col1\" >А-Клуб</th>\n",
       "      <th id=\"T_2cc7d_level0_col2\" class=\"col_heading level0 col2\" >Альфа-Подписка</th>\n",
       "      <th id=\"T_2cc7d_level0_col3\" class=\"col_heading level0 col3\" >АльфаPriority</th>\n",
       "      <th id=\"T_2cc7d_level0_col4\" class=\"col_heading level0 col4\" >Класс</th>\n",
       "      <th id=\"T_2cc7d_level0_col5\" class=\"col_heading level0 col5\" >Комфорт</th>\n",
       "      <th id=\"T_2cc7d_level0_col6\" class=\"col_heading level0 col6\" >КомфортUltra</th>\n",
       "      <th id=\"T_2cc7d_level0_col7\" class=\"col_heading level0 col7\" >КомфортUltrafree</th>\n",
       "      <th id=\"T_2cc7d_level0_col8\" class=\"col_heading level0 col8\" >Комфортfree</th>\n",
       "      <th id=\"T_2cc7d_level0_col9\" class=\"col_heading level0 col9\" >Корпоративный</th>\n",
       "      <th id=\"T_2cc7d_level0_col10\" class=\"col_heading level0 col10\" >Максимум+</th>\n",
       "      <th id=\"T_2cc7d_level0_col11\" class=\"col_heading level0 col11\" >Максимум+free</th>\n",
       "      <th id=\"T_2cc7d_level0_col12\" class=\"col_heading level0 col12\" >МаксимумUltra</th>\n",
       "      <th id=\"T_2cc7d_level0_col13\" class=\"col_heading level0 col13\" >МаксимумUltrafree</th>\n",
       "      <th id=\"T_2cc7d_level0_col14\" class=\"col_heading level0 col14\" >Он-Лайф</th>\n",
       "      <th id=\"T_2cc7d_level0_col15\" class=\"col_heading level0 col15\" >Оптимум</th>\n",
       "      <th id=\"T_2cc7d_level0_col16\" class=\"col_heading level0 col16\" >ОптимумUltra</th>\n",
       "      <th id=\"T_2cc7d_level0_col17\" class=\"col_heading level0 col17\" >Премиум</th>\n",
       "      <th id=\"T_2cc7d_level0_col18\" class=\"col_heading level0 col18\" >Технический</th>\n",
       "      <th id=\"T_2cc7d_level0_col19\" class=\"col_heading level0 col19\" >Эконом</th>\n",
       "      <th id=\"T_2cc7d_level0_col20\" class=\"col_heading level0 col20\" >ЭкономUltra</th>\n",
       "      <th id=\"T_2cc7d_level0_col21\" class=\"col_heading level0 col21\" >длякредитовидепозитов</th>\n",
       "    </tr>\n",
       "    <tr>\n",
       "      <th class=\"index_name level0\" >target</th>\n",
       "      <th class=\"blank col0\" >&nbsp;</th>\n",
       "      <th class=\"blank col1\" >&nbsp;</th>\n",
       "      <th class=\"blank col2\" >&nbsp;</th>\n",
       "      <th class=\"blank col3\" >&nbsp;</th>\n",
       "      <th class=\"blank col4\" >&nbsp;</th>\n",
       "      <th class=\"blank col5\" >&nbsp;</th>\n",
       "      <th class=\"blank col6\" >&nbsp;</th>\n",
       "      <th class=\"blank col7\" >&nbsp;</th>\n",
       "      <th class=\"blank col8\" >&nbsp;</th>\n",
       "      <th class=\"blank col9\" >&nbsp;</th>\n",
       "      <th class=\"blank col10\" >&nbsp;</th>\n",
       "      <th class=\"blank col11\" >&nbsp;</th>\n",
       "      <th class=\"blank col12\" >&nbsp;</th>\n",
       "      <th class=\"blank col13\" >&nbsp;</th>\n",
       "      <th class=\"blank col14\" >&nbsp;</th>\n",
       "      <th class=\"blank col15\" >&nbsp;</th>\n",
       "      <th class=\"blank col16\" >&nbsp;</th>\n",
       "      <th class=\"blank col17\" >&nbsp;</th>\n",
       "      <th class=\"blank col18\" >&nbsp;</th>\n",
       "      <th class=\"blank col19\" >&nbsp;</th>\n",
       "      <th class=\"blank col20\" >&nbsp;</th>\n",
       "      <th class=\"blank col21\" >&nbsp;</th>\n",
       "    </tr>\n",
       "  </thead>\n",
       "  <tbody>\n",
       "    <tr>\n",
       "      <th id=\"T_2cc7d_level0_row0\" class=\"row_heading level0 row0\" >0.000000</th>\n",
       "      <td id=\"T_2cc7d_row0_col0\" class=\"data row0 col0\" >15</td>\n",
       "      <td id=\"T_2cc7d_row0_col1\" class=\"data row0 col1\" >21</td>\n",
       "      <td id=\"T_2cc7d_row0_col2\" class=\"data row0 col2\" >8</td>\n",
       "      <td id=\"T_2cc7d_row0_col3\" class=\"data row0 col3\" >4</td>\n",
       "      <td id=\"T_2cc7d_row0_col4\" class=\"data row0 col4\" >2209</td>\n",
       "      <td id=\"T_2cc7d_row0_col5\" class=\"data row0 col5\" >4342</td>\n",
       "      <td id=\"T_2cc7d_row0_col6\" class=\"data row0 col6\" >231</td>\n",
       "      <td id=\"T_2cc7d_row0_col7\" class=\"data row0 col7\" >133</td>\n",
       "      <td id=\"T_2cc7d_row0_col8\" class=\"data row0 col8\" >38</td>\n",
       "      <td id=\"T_2cc7d_row0_col9\" class=\"data row0 col9\" >8337</td>\n",
       "      <td id=\"T_2cc7d_row0_col10\" class=\"data row0 col10\" >1913</td>\n",
       "      <td id=\"T_2cc7d_row0_col11\" class=\"data row0 col11\" >179</td>\n",
       "      <td id=\"T_2cc7d_row0_col12\" class=\"data row0 col12\" >91</td>\n",
       "      <td id=\"T_2cc7d_row0_col13\" class=\"data row0 col13\" >522</td>\n",
       "      <td id=\"T_2cc7d_row0_col14\" class=\"data row0 col14\" >343</td>\n",
       "      <td id=\"T_2cc7d_row0_col15\" class=\"data row0 col15\" >22670</td>\n",
       "      <td id=\"T_2cc7d_row0_col16\" class=\"data row0 col16\" >6687</td>\n",
       "      <td id=\"T_2cc7d_row0_col17\" class=\"data row0 col17\" >5700</td>\n",
       "      <td id=\"T_2cc7d_row0_col18\" class=\"data row0 col18\" >81670</td>\n",
       "      <td id=\"T_2cc7d_row0_col19\" class=\"data row0 col19\" >19003</td>\n",
       "      <td id=\"T_2cc7d_row0_col20\" class=\"data row0 col20\" >1256</td>\n",
       "      <td id=\"T_2cc7d_row0_col21\" class=\"data row0 col21\" >17486</td>\n",
       "    </tr>\n",
       "    <tr>\n",
       "      <th id=\"T_2cc7d_level0_row1\" class=\"row_heading level0 row1\" >1.000000</th>\n",
       "      <td id=\"T_2cc7d_row1_col0\" class=\"data row1 col0\" >2</td>\n",
       "      <td id=\"T_2cc7d_row1_col1\" class=\"data row1 col1\" >2320</td>\n",
       "      <td id=\"T_2cc7d_row1_col2\" class=\"data row1 col2\" >14</td>\n",
       "      <td id=\"T_2cc7d_row1_col3\" class=\"data row1 col3\" >4</td>\n",
       "      <td id=\"T_2cc7d_row1_col4\" class=\"data row1 col4\" >167</td>\n",
       "      <td id=\"T_2cc7d_row1_col5\" class=\"data row1 col5\" >2436</td>\n",
       "      <td id=\"T_2cc7d_row1_col6\" class=\"data row1 col6\" >129</td>\n",
       "      <td id=\"T_2cc7d_row1_col7\" class=\"data row1 col7\" >81</td>\n",
       "      <td id=\"T_2cc7d_row1_col8\" class=\"data row1 col8\" >11</td>\n",
       "      <td id=\"T_2cc7d_row1_col9\" class=\"data row1 col9\" >1081</td>\n",
       "      <td id=\"T_2cc7d_row1_col10\" class=\"data row1 col10\" >4431</td>\n",
       "      <td id=\"T_2cc7d_row1_col11\" class=\"data row1 col11\" >307</td>\n",
       "      <td id=\"T_2cc7d_row1_col12\" class=\"data row1 col12\" >201</td>\n",
       "      <td id=\"T_2cc7d_row1_col13\" class=\"data row1 col13\" >779</td>\n",
       "      <td id=\"T_2cc7d_row1_col14\" class=\"data row1 col14\" >43</td>\n",
       "      <td id=\"T_2cc7d_row1_col15\" class=\"data row1 col15\" >3239</td>\n",
       "      <td id=\"T_2cc7d_row1_col16\" class=\"data row1 col16\" >990</td>\n",
       "      <td id=\"T_2cc7d_row1_col17\" class=\"data row1 col17\" >8647</td>\n",
       "      <td id=\"T_2cc7d_row1_col18\" class=\"data row1 col18\" >19987</td>\n",
       "      <td id=\"T_2cc7d_row1_col19\" class=\"data row1 col19\" >582</td>\n",
       "      <td id=\"T_2cc7d_row1_col20\" class=\"data row1 col20\" >79</td>\n",
       "      <td id=\"T_2cc7d_row1_col21\" class=\"data row1 col21\" >242</td>\n",
       "    </tr>\n",
       "  </tbody>\n",
       "</table>\n"
      ],
      "text/plain": [
       "<pandas.io.formats.style.Styler at 0x1f4de66d250>"
      ]
     },
     "execution_count": 86,
     "metadata": {},
     "output_type": "execute_result"
    }
   ],
   "source": [
    "pd.crosstab(data[\"srvpackage\"], data[\"target\"]).T.style.background_gradient(\"RdYlGn\")"
   ]
  },
  {
   "cell_type": "code",
   "execution_count": 87,
   "id": "1710dac0",
   "metadata": {},
   "outputs": [
    {
     "data": {
      "text/html": [
       "<style type=\"text/css\">\n",
       "#T_2f0c2_row0_col0, #T_2f0c2_row0_col1, #T_2f0c2_row0_col2, #T_2f0c2_row0_col3, #T_2f0c2_row0_col4, #T_2f0c2_row0_col5, #T_2f0c2_row0_col6, #T_2f0c2_row0_col7, #T_2f0c2_row0_col8, #T_2f0c2_row0_col9, #T_2f0c2_row0_col10, #T_2f0c2_row0_col11, #T_2f0c2_row0_col12, #T_2f0c2_row0_col13, #T_2f0c2_row0_col14, #T_2f0c2_row0_col15, #T_2f0c2_row0_col16, #T_2f0c2_row0_col17, #T_2f0c2_row0_col18, #T_2f0c2_row0_col19, #T_2f0c2_row0_col20, #T_2f0c2_row0_col21, #T_2f0c2_row0_col22, #T_2f0c2_row0_col23, #T_2f0c2_row0_col24, #T_2f0c2_row0_col25, #T_2f0c2_row0_col26, #T_2f0c2_row0_col27, #T_2f0c2_row0_col28, #T_2f0c2_row0_col29, #T_2f0c2_row0_col30, #T_2f0c2_row0_col31, #T_2f0c2_row0_col32, #T_2f0c2_row0_col33, #T_2f0c2_row0_col34, #T_2f0c2_row0_col35, #T_2f0c2_row0_col36, #T_2f0c2_row0_col37, #T_2f0c2_row0_col38, #T_2f0c2_row0_col39, #T_2f0c2_row0_col40, #T_2f0c2_row0_col41, #T_2f0c2_row0_col42, #T_2f0c2_row0_col43, #T_2f0c2_row0_col44, #T_2f0c2_row0_col45, #T_2f0c2_row0_col46, #T_2f0c2_row0_col47, #T_2f0c2_row0_col48, #T_2f0c2_row0_col49, #T_2f0c2_row0_col50, #T_2f0c2_row0_col51, #T_2f0c2_row0_col52, #T_2f0c2_row0_col53, #T_2f0c2_row0_col54, #T_2f0c2_row0_col55, #T_2f0c2_row0_col56, #T_2f0c2_row0_col57, #T_2f0c2_row0_col58 {\n",
       "  background-color: #006837;\n",
       "  color: #f1f1f1;\n",
       "}\n",
       "#T_2f0c2_row1_col0, #T_2f0c2_row1_col1, #T_2f0c2_row1_col2, #T_2f0c2_row1_col3, #T_2f0c2_row1_col4, #T_2f0c2_row1_col5, #T_2f0c2_row1_col6, #T_2f0c2_row1_col7, #T_2f0c2_row1_col8, #T_2f0c2_row1_col9, #T_2f0c2_row1_col10, #T_2f0c2_row1_col11, #T_2f0c2_row1_col12, #T_2f0c2_row1_col13, #T_2f0c2_row1_col14, #T_2f0c2_row1_col15, #T_2f0c2_row1_col16, #T_2f0c2_row1_col17, #T_2f0c2_row1_col18, #T_2f0c2_row1_col19, #T_2f0c2_row1_col20, #T_2f0c2_row1_col21, #T_2f0c2_row1_col22, #T_2f0c2_row1_col23, #T_2f0c2_row1_col24, #T_2f0c2_row1_col25, #T_2f0c2_row1_col26, #T_2f0c2_row1_col27, #T_2f0c2_row1_col28, #T_2f0c2_row1_col29, #T_2f0c2_row1_col30, #T_2f0c2_row1_col31, #T_2f0c2_row1_col32, #T_2f0c2_row1_col33, #T_2f0c2_row1_col34, #T_2f0c2_row1_col35, #T_2f0c2_row1_col36, #T_2f0c2_row1_col37, #T_2f0c2_row1_col38, #T_2f0c2_row1_col39, #T_2f0c2_row1_col40, #T_2f0c2_row1_col41, #T_2f0c2_row1_col42, #T_2f0c2_row1_col43, #T_2f0c2_row1_col44, #T_2f0c2_row1_col45, #T_2f0c2_row1_col46, #T_2f0c2_row1_col47, #T_2f0c2_row1_col48, #T_2f0c2_row1_col49, #T_2f0c2_row1_col50, #T_2f0c2_row1_col51, #T_2f0c2_row1_col52, #T_2f0c2_row1_col53, #T_2f0c2_row1_col54, #T_2f0c2_row1_col55, #T_2f0c2_row1_col56, #T_2f0c2_row1_col57, #T_2f0c2_row1_col58 {\n",
       "  background-color: #a50026;\n",
       "  color: #f1f1f1;\n",
       "}\n",
       "</style>\n",
       "<table id=\"T_2f0c2\">\n",
       "  <thead>\n",
       "    <tr>\n",
       "      <th class=\"index_name level0\" >addrref</th>\n",
       "      <th id=\"T_2f0c2_level0_col0\" class=\"col_heading level0 col0\" >Алтайский край</th>\n",
       "      <th id=\"T_2f0c2_level0_col1\" class=\"col_heading level0 col1\" >Архангельская область</th>\n",
       "      <th id=\"T_2f0c2_level0_col2\" class=\"col_heading level0 col2\" >Белгородская область</th>\n",
       "      <th id=\"T_2f0c2_level0_col3\" class=\"col_heading level0 col3\" >Владимирская область</th>\n",
       "      <th id=\"T_2f0c2_level0_col4\" class=\"col_heading level0 col4\" >Волгоградская область</th>\n",
       "      <th id=\"T_2f0c2_level0_col5\" class=\"col_heading level0 col5\" >Вологодская область</th>\n",
       "      <th id=\"T_2f0c2_level0_col6\" class=\"col_heading level0 col6\" >Воронежская область</th>\n",
       "      <th id=\"T_2f0c2_level0_col7\" class=\"col_heading level0 col7\" >Ивановская область</th>\n",
       "      <th id=\"T_2f0c2_level0_col8\" class=\"col_heading level0 col8\" >Иркутская область</th>\n",
       "      <th id=\"T_2f0c2_level0_col9\" class=\"col_heading level0 col9\" >Калининградская область</th>\n",
       "      <th id=\"T_2f0c2_level0_col10\" class=\"col_heading level0 col10\" >Калужская область</th>\n",
       "      <th id=\"T_2f0c2_level0_col11\" class=\"col_heading level0 col11\" >Кемеровская область - Кузбасс</th>\n",
       "      <th id=\"T_2f0c2_level0_col12\" class=\"col_heading level0 col12\" >Кировская область</th>\n",
       "      <th id=\"T_2f0c2_level0_col13\" class=\"col_heading level0 col13\" >Краснодарский край</th>\n",
       "      <th id=\"T_2f0c2_level0_col14\" class=\"col_heading level0 col14\" >Красноярский край</th>\n",
       "      <th id=\"T_2f0c2_level0_col15\" class=\"col_heading level0 col15\" >Курганская область</th>\n",
       "      <th id=\"T_2f0c2_level0_col16\" class=\"col_heading level0 col16\" >Курская область</th>\n",
       "      <th id=\"T_2f0c2_level0_col17\" class=\"col_heading level0 col17\" >Липецкая область</th>\n",
       "      <th id=\"T_2f0c2_level0_col18\" class=\"col_heading level0 col18\" >Московская область</th>\n",
       "      <th id=\"T_2f0c2_level0_col19\" class=\"col_heading level0 col19\" >Мурманская область</th>\n",
       "      <th id=\"T_2f0c2_level0_col20\" class=\"col_heading level0 col20\" >Нижегородская область</th>\n",
       "      <th id=\"T_2f0c2_level0_col21\" class=\"col_heading level0 col21\" >Новосибирская область</th>\n",
       "      <th id=\"T_2f0c2_level0_col22\" class=\"col_heading level0 col22\" >Омская область</th>\n",
       "      <th id=\"T_2f0c2_level0_col23\" class=\"col_heading level0 col23\" >Оренбургская область</th>\n",
       "      <th id=\"T_2f0c2_level0_col24\" class=\"col_heading level0 col24\" >Орловская область</th>\n",
       "      <th id=\"T_2f0c2_level0_col25\" class=\"col_heading level0 col25\" >Пензенская область</th>\n",
       "      <th id=\"T_2f0c2_level0_col26\" class=\"col_heading level0 col26\" >Пермский край</th>\n",
       "      <th id=\"T_2f0c2_level0_col27\" class=\"col_heading level0 col27\" >Приморский край</th>\n",
       "      <th id=\"T_2f0c2_level0_col28\" class=\"col_heading level0 col28\" >Псковская область</th>\n",
       "      <th id=\"T_2f0c2_level0_col29\" class=\"col_heading level0 col29\" >Республика Башкортостан</th>\n",
       "      <th id=\"T_2f0c2_level0_col30\" class=\"col_heading level0 col30\" >Республика Бурятия</th>\n",
       "      <th id=\"T_2f0c2_level0_col31\" class=\"col_heading level0 col31\" >Республика Карелия</th>\n",
       "      <th id=\"T_2f0c2_level0_col32\" class=\"col_heading level0 col32\" >Республика Коми</th>\n",
       "      <th id=\"T_2f0c2_level0_col33\" class=\"col_heading level0 col33\" >Республика Марий Эл</th>\n",
       "      <th id=\"T_2f0c2_level0_col34\" class=\"col_heading level0 col34\" >Республика Мордовия</th>\n",
       "      <th id=\"T_2f0c2_level0_col35\" class=\"col_heading level0 col35\" >Республика Саха (Якутия)</th>\n",
       "      <th id=\"T_2f0c2_level0_col36\" class=\"col_heading level0 col36\" >Республика Татарстан (Татарстан)</th>\n",
       "      <th id=\"T_2f0c2_level0_col37\" class=\"col_heading level0 col37\" >Республика Хакасия</th>\n",
       "      <th id=\"T_2f0c2_level0_col38\" class=\"col_heading level0 col38\" >Ростовская область</th>\n",
       "      <th id=\"T_2f0c2_level0_col39\" class=\"col_heading level0 col39\" >Рязанская область</th>\n",
       "      <th id=\"T_2f0c2_level0_col40\" class=\"col_heading level0 col40\" >Самарская область</th>\n",
       "      <th id=\"T_2f0c2_level0_col41\" class=\"col_heading level0 col41\" >Саратовская область</th>\n",
       "      <th id=\"T_2f0c2_level0_col42\" class=\"col_heading level0 col42\" >Сахалинская область</th>\n",
       "      <th id=\"T_2f0c2_level0_col43\" class=\"col_heading level0 col43\" >Свердловская область</th>\n",
       "      <th id=\"T_2f0c2_level0_col44\" class=\"col_heading level0 col44\" >Ставропольский край</th>\n",
       "      <th id=\"T_2f0c2_level0_col45\" class=\"col_heading level0 col45\" >Тверская область</th>\n",
       "      <th id=\"T_2f0c2_level0_col46\" class=\"col_heading level0 col46\" >Томская область</th>\n",
       "      <th id=\"T_2f0c2_level0_col47\" class=\"col_heading level0 col47\" >Тульская область</th>\n",
       "      <th id=\"T_2f0c2_level0_col48\" class=\"col_heading level0 col48\" >Тюменская область</th>\n",
       "      <th id=\"T_2f0c2_level0_col49\" class=\"col_heading level0 col49\" >Удмуртская Республика</th>\n",
       "      <th id=\"T_2f0c2_level0_col50\" class=\"col_heading level0 col50\" >Ульяновская область</th>\n",
       "      <th id=\"T_2f0c2_level0_col51\" class=\"col_heading level0 col51\" >Хабаровский край</th>\n",
       "      <th id=\"T_2f0c2_level0_col52\" class=\"col_heading level0 col52\" >Ханты-Мансийский автономный окр.</th>\n",
       "      <th id=\"T_2f0c2_level0_col53\" class=\"col_heading level0 col53\" >Челябинская область</th>\n",
       "      <th id=\"T_2f0c2_level0_col54\" class=\"col_heading level0 col54\" >Чувашская Респуб. - Чаваш Респуб.</th>\n",
       "      <th id=\"T_2f0c2_level0_col55\" class=\"col_heading level0 col55\" >Чувашская Республика - Чувашия</th>\n",
       "      <th id=\"T_2f0c2_level0_col56\" class=\"col_heading level0 col56\" >Ярославская область</th>\n",
       "      <th id=\"T_2f0c2_level0_col57\" class=\"col_heading level0 col57\" >г. Москва</th>\n",
       "      <th id=\"T_2f0c2_level0_col58\" class=\"col_heading level0 col58\" >г. Санкт - Петербург</th>\n",
       "    </tr>\n",
       "    <tr>\n",
       "      <th class=\"index_name level0\" >target</th>\n",
       "      <th class=\"blank col0\" >&nbsp;</th>\n",
       "      <th class=\"blank col1\" >&nbsp;</th>\n",
       "      <th class=\"blank col2\" >&nbsp;</th>\n",
       "      <th class=\"blank col3\" >&nbsp;</th>\n",
       "      <th class=\"blank col4\" >&nbsp;</th>\n",
       "      <th class=\"blank col5\" >&nbsp;</th>\n",
       "      <th class=\"blank col6\" >&nbsp;</th>\n",
       "      <th class=\"blank col7\" >&nbsp;</th>\n",
       "      <th class=\"blank col8\" >&nbsp;</th>\n",
       "      <th class=\"blank col9\" >&nbsp;</th>\n",
       "      <th class=\"blank col10\" >&nbsp;</th>\n",
       "      <th class=\"blank col11\" >&nbsp;</th>\n",
       "      <th class=\"blank col12\" >&nbsp;</th>\n",
       "      <th class=\"blank col13\" >&nbsp;</th>\n",
       "      <th class=\"blank col14\" >&nbsp;</th>\n",
       "      <th class=\"blank col15\" >&nbsp;</th>\n",
       "      <th class=\"blank col16\" >&nbsp;</th>\n",
       "      <th class=\"blank col17\" >&nbsp;</th>\n",
       "      <th class=\"blank col18\" >&nbsp;</th>\n",
       "      <th class=\"blank col19\" >&nbsp;</th>\n",
       "      <th class=\"blank col20\" >&nbsp;</th>\n",
       "      <th class=\"blank col21\" >&nbsp;</th>\n",
       "      <th class=\"blank col22\" >&nbsp;</th>\n",
       "      <th class=\"blank col23\" >&nbsp;</th>\n",
       "      <th class=\"blank col24\" >&nbsp;</th>\n",
       "      <th class=\"blank col25\" >&nbsp;</th>\n",
       "      <th class=\"blank col26\" >&nbsp;</th>\n",
       "      <th class=\"blank col27\" >&nbsp;</th>\n",
       "      <th class=\"blank col28\" >&nbsp;</th>\n",
       "      <th class=\"blank col29\" >&nbsp;</th>\n",
       "      <th class=\"blank col30\" >&nbsp;</th>\n",
       "      <th class=\"blank col31\" >&nbsp;</th>\n",
       "      <th class=\"blank col32\" >&nbsp;</th>\n",
       "      <th class=\"blank col33\" >&nbsp;</th>\n",
       "      <th class=\"blank col34\" >&nbsp;</th>\n",
       "      <th class=\"blank col35\" >&nbsp;</th>\n",
       "      <th class=\"blank col36\" >&nbsp;</th>\n",
       "      <th class=\"blank col37\" >&nbsp;</th>\n",
       "      <th class=\"blank col38\" >&nbsp;</th>\n",
       "      <th class=\"blank col39\" >&nbsp;</th>\n",
       "      <th class=\"blank col40\" >&nbsp;</th>\n",
       "      <th class=\"blank col41\" >&nbsp;</th>\n",
       "      <th class=\"blank col42\" >&nbsp;</th>\n",
       "      <th class=\"blank col43\" >&nbsp;</th>\n",
       "      <th class=\"blank col44\" >&nbsp;</th>\n",
       "      <th class=\"blank col45\" >&nbsp;</th>\n",
       "      <th class=\"blank col46\" >&nbsp;</th>\n",
       "      <th class=\"blank col47\" >&nbsp;</th>\n",
       "      <th class=\"blank col48\" >&nbsp;</th>\n",
       "      <th class=\"blank col49\" >&nbsp;</th>\n",
       "      <th class=\"blank col50\" >&nbsp;</th>\n",
       "      <th class=\"blank col51\" >&nbsp;</th>\n",
       "      <th class=\"blank col52\" >&nbsp;</th>\n",
       "      <th class=\"blank col53\" >&nbsp;</th>\n",
       "      <th class=\"blank col54\" >&nbsp;</th>\n",
       "      <th class=\"blank col55\" >&nbsp;</th>\n",
       "      <th class=\"blank col56\" >&nbsp;</th>\n",
       "      <th class=\"blank col57\" >&nbsp;</th>\n",
       "      <th class=\"blank col58\" >&nbsp;</th>\n",
       "    </tr>\n",
       "  </thead>\n",
       "  <tbody>\n",
       "    <tr>\n",
       "      <th id=\"T_2f0c2_level0_row0\" class=\"row_heading level0 row0\" >0.000000</th>\n",
       "      <td id=\"T_2f0c2_row0_col0\" class=\"data row0 col0\" >2118</td>\n",
       "      <td id=\"T_2f0c2_row0_col1\" class=\"data row0 col1\" >709</td>\n",
       "      <td id=\"T_2f0c2_row0_col2\" class=\"data row0 col2\" >653</td>\n",
       "      <td id=\"T_2f0c2_row0_col3\" class=\"data row0 col3\" >231</td>\n",
       "      <td id=\"T_2f0c2_row0_col4\" class=\"data row0 col4\" >2195</td>\n",
       "      <td id=\"T_2f0c2_row0_col5\" class=\"data row0 col5\" >1</td>\n",
       "      <td id=\"T_2f0c2_row0_col6\" class=\"data row0 col6\" >2024</td>\n",
       "      <td id=\"T_2f0c2_row0_col7\" class=\"data row0 col7\" >122</td>\n",
       "      <td id=\"T_2f0c2_row0_col8\" class=\"data row0 col8\" >1835</td>\n",
       "      <td id=\"T_2f0c2_row0_col9\" class=\"data row0 col9\" >1408</td>\n",
       "      <td id=\"T_2f0c2_row0_col10\" class=\"data row0 col10\" >785</td>\n",
       "      <td id=\"T_2f0c2_row0_col11\" class=\"data row0 col11\" >3235</td>\n",
       "      <td id=\"T_2f0c2_row0_col12\" class=\"data row0 col12\" >13</td>\n",
       "      <td id=\"T_2f0c2_row0_col13\" class=\"data row0 col13\" >7064</td>\n",
       "      <td id=\"T_2f0c2_row0_col14\" class=\"data row0 col14\" >3294</td>\n",
       "      <td id=\"T_2f0c2_row0_col15\" class=\"data row0 col15\" >496</td>\n",
       "      <td id=\"T_2f0c2_row0_col16\" class=\"data row0 col16\" >306</td>\n",
       "      <td id=\"T_2f0c2_row0_col17\" class=\"data row0 col17\" >1163</td>\n",
       "      <td id=\"T_2f0c2_row0_col18\" class=\"data row0 col18\" >28</td>\n",
       "      <td id=\"T_2f0c2_row0_col19\" class=\"data row0 col19\" >1037</td>\n",
       "      <td id=\"T_2f0c2_row0_col20\" class=\"data row0 col20\" >3076</td>\n",
       "      <td id=\"T_2f0c2_row0_col21\" class=\"data row0 col21\" >5071</td>\n",
       "      <td id=\"T_2f0c2_row0_col22\" class=\"data row0 col22\" >3108</td>\n",
       "      <td id=\"T_2f0c2_row0_col23\" class=\"data row0 col23\" >2941</td>\n",
       "      <td id=\"T_2f0c2_row0_col24\" class=\"data row0 col24\" >1</td>\n",
       "      <td id=\"T_2f0c2_row0_col25\" class=\"data row0 col25\" >781</td>\n",
       "      <td id=\"T_2f0c2_row0_col26\" class=\"data row0 col26\" >2349</td>\n",
       "      <td id=\"T_2f0c2_row0_col27\" class=\"data row0 col27\" >2009</td>\n",
       "      <td id=\"T_2f0c2_row0_col28\" class=\"data row0 col28\" >527</td>\n",
       "      <td id=\"T_2f0c2_row0_col29\" class=\"data row0 col29\" >3148</td>\n",
       "      <td id=\"T_2f0c2_row0_col30\" class=\"data row0 col30\" >1</td>\n",
       "      <td id=\"T_2f0c2_row0_col31\" class=\"data row0 col31\" >419</td>\n",
       "      <td id=\"T_2f0c2_row0_col32\" class=\"data row0 col32\" >4</td>\n",
       "      <td id=\"T_2f0c2_row0_col33\" class=\"data row0 col33\" >307</td>\n",
       "      <td id=\"T_2f0c2_row0_col34\" class=\"data row0 col34\" >433</td>\n",
       "      <td id=\"T_2f0c2_row0_col35\" class=\"data row0 col35\" >438</td>\n",
       "      <td id=\"T_2f0c2_row0_col36\" class=\"data row0 col36\" >4385</td>\n",
       "      <td id=\"T_2f0c2_row0_col37\" class=\"data row0 col37\" >395</td>\n",
       "      <td id=\"T_2f0c2_row0_col38\" class=\"data row0 col38\" >4401</td>\n",
       "      <td id=\"T_2f0c2_row0_col39\" class=\"data row0 col39\" >572</td>\n",
       "      <td id=\"T_2f0c2_row0_col40\" class=\"data row0 col40\" >4259</td>\n",
       "      <td id=\"T_2f0c2_row0_col41\" class=\"data row0 col41\" >1701</td>\n",
       "      <td id=\"T_2f0c2_row0_col42\" class=\"data row0 col42\" >284</td>\n",
       "      <td id=\"T_2f0c2_row0_col43\" class=\"data row0 col43\" >6738</td>\n",
       "      <td id=\"T_2f0c2_row0_col44\" class=\"data row0 col44\" >711</td>\n",
       "      <td id=\"T_2f0c2_row0_col45\" class=\"data row0 col45\" >877</td>\n",
       "      <td id=\"T_2f0c2_row0_col46\" class=\"data row0 col46\" >1160</td>\n",
       "      <td id=\"T_2f0c2_row0_col47\" class=\"data row0 col47\" >493</td>\n",
       "      <td id=\"T_2f0c2_row0_col48\" class=\"data row0 col48\" >2381</td>\n",
       "      <td id=\"T_2f0c2_row0_col49\" class=\"data row0 col49\" >1768</td>\n",
       "      <td id=\"T_2f0c2_row0_col50\" class=\"data row0 col50\" >917</td>\n",
       "      <td id=\"T_2f0c2_row0_col51\" class=\"data row0 col51\" >1270</td>\n",
       "      <td id=\"T_2f0c2_row0_col52\" class=\"data row0 col52\" >2128</td>\n",
       "      <td id=\"T_2f0c2_row0_col53\" class=\"data row0 col53\" >4613</td>\n",
       "      <td id=\"T_2f0c2_row0_col54\" class=\"data row0 col54\" >265</td>\n",
       "      <td id=\"T_2f0c2_row0_col55\" class=\"data row0 col55\" >671</td>\n",
       "      <td id=\"T_2f0c2_row0_col56\" class=\"data row0 col56\" >1197</td>\n",
       "      <td id=\"T_2f0c2_row0_col57\" class=\"data row0 col57\" >56663</td>\n",
       "      <td id=\"T_2f0c2_row0_col58\" class=\"data row0 col58\" >14061</td>\n",
       "    </tr>\n",
       "    <tr>\n",
       "      <th id=\"T_2f0c2_level0_row1\" class=\"row_heading level0 row1\" >1.000000</th>\n",
       "      <td id=\"T_2f0c2_row1_col0\" class=\"data row1 col0\" >372</td>\n",
       "      <td id=\"T_2f0c2_row1_col1\" class=\"data row1 col1\" >314</td>\n",
       "      <td id=\"T_2f0c2_row1_col2\" class=\"data row1 col2\" >123</td>\n",
       "      <td id=\"T_2f0c2_row1_col3\" class=\"data row1 col3\" >17</td>\n",
       "      <td id=\"T_2f0c2_row1_col4\" class=\"data row1 col4\" >423</td>\n",
       "      <td id=\"T_2f0c2_row1_col5\" class=\"data row1 col5\" >0</td>\n",
       "      <td id=\"T_2f0c2_row1_col6\" class=\"data row1 col6\" >377</td>\n",
       "      <td id=\"T_2f0c2_row1_col7\" class=\"data row1 col7\" >19</td>\n",
       "      <td id=\"T_2f0c2_row1_col8\" class=\"data row1 col8\" >397</td>\n",
       "      <td id=\"T_2f0c2_row1_col9\" class=\"data row1 col9\" >730</td>\n",
       "      <td id=\"T_2f0c2_row1_col10\" class=\"data row1 col10\" >91</td>\n",
       "      <td id=\"T_2f0c2_row1_col11\" class=\"data row1 col11\" >615</td>\n",
       "      <td id=\"T_2f0c2_row1_col12\" class=\"data row1 col12\" >2</td>\n",
       "      <td id=\"T_2f0c2_row1_col13\" class=\"data row1 col13\" >1777</td>\n",
       "      <td id=\"T_2f0c2_row1_col14\" class=\"data row1 col14\" >927</td>\n",
       "      <td id=\"T_2f0c2_row1_col15\" class=\"data row1 col15\" >70</td>\n",
       "      <td id=\"T_2f0c2_row1_col16\" class=\"data row1 col16\" >19</td>\n",
       "      <td id=\"T_2f0c2_row1_col17\" class=\"data row1 col17\" >279</td>\n",
       "      <td id=\"T_2f0c2_row1_col18\" class=\"data row1 col18\" >0</td>\n",
       "      <td id=\"T_2f0c2_row1_col19\" class=\"data row1 col19\" >502</td>\n",
       "      <td id=\"T_2f0c2_row1_col20\" class=\"data row1 col20\" >758</td>\n",
       "      <td id=\"T_2f0c2_row1_col21\" class=\"data row1 col21\" >1411</td>\n",
       "      <td id=\"T_2f0c2_row1_col22\" class=\"data row1 col22\" >660</td>\n",
       "      <td id=\"T_2f0c2_row1_col23\" class=\"data row1 col23\" >454</td>\n",
       "      <td id=\"T_2f0c2_row1_col24\" class=\"data row1 col24\" >0</td>\n",
       "      <td id=\"T_2f0c2_row1_col25\" class=\"data row1 col25\" >96</td>\n",
       "      <td id=\"T_2f0c2_row1_col26\" class=\"data row1 col26\" >580</td>\n",
       "      <td id=\"T_2f0c2_row1_col27\" class=\"data row1 col27\" >885</td>\n",
       "      <td id=\"T_2f0c2_row1_col28\" class=\"data row1 col28\" >98</td>\n",
       "      <td id=\"T_2f0c2_row1_col29\" class=\"data row1 col29\" >430</td>\n",
       "      <td id=\"T_2f0c2_row1_col30\" class=\"data row1 col30\" >0</td>\n",
       "      <td id=\"T_2f0c2_row1_col31\" class=\"data row1 col31\" >110</td>\n",
       "      <td id=\"T_2f0c2_row1_col32\" class=\"data row1 col32\" >0</td>\n",
       "      <td id=\"T_2f0c2_row1_col33\" class=\"data row1 col33\" >36</td>\n",
       "      <td id=\"T_2f0c2_row1_col34\" class=\"data row1 col34\" >34</td>\n",
       "      <td id=\"T_2f0c2_row1_col35\" class=\"data row1 col35\" >58</td>\n",
       "      <td id=\"T_2f0c2_row1_col36\" class=\"data row1 col36\" >523</td>\n",
       "      <td id=\"T_2f0c2_row1_col37\" class=\"data row1 col37\" >58</td>\n",
       "      <td id=\"T_2f0c2_row1_col38\" class=\"data row1 col38\" >822</td>\n",
       "      <td id=\"T_2f0c2_row1_col39\" class=\"data row1 col39\" >52</td>\n",
       "      <td id=\"T_2f0c2_row1_col40\" class=\"data row1 col40\" >737</td>\n",
       "      <td id=\"T_2f0c2_row1_col41\" class=\"data row1 col41\" >193</td>\n",
       "      <td id=\"T_2f0c2_row1_col42\" class=\"data row1 col42\" >146</td>\n",
       "      <td id=\"T_2f0c2_row1_col43\" class=\"data row1 col43\" >1883</td>\n",
       "      <td id=\"T_2f0c2_row1_col44\" class=\"data row1 col44\" >74</td>\n",
       "      <td id=\"T_2f0c2_row1_col45\" class=\"data row1 col45\" >158</td>\n",
       "      <td id=\"T_2f0c2_row1_col46\" class=\"data row1 col46\" >307</td>\n",
       "      <td id=\"T_2f0c2_row1_col47\" class=\"data row1 col47\" >46</td>\n",
       "      <td id=\"T_2f0c2_row1_col48\" class=\"data row1 col48\" >690</td>\n",
       "      <td id=\"T_2f0c2_row1_col49\" class=\"data row1 col49\" >441</td>\n",
       "      <td id=\"T_2f0c2_row1_col50\" class=\"data row1 col50\" >89</td>\n",
       "      <td id=\"T_2f0c2_row1_col51\" class=\"data row1 col51\" >313</td>\n",
       "      <td id=\"T_2f0c2_row1_col52\" class=\"data row1 col52\" >472</td>\n",
       "      <td id=\"T_2f0c2_row1_col53\" class=\"data row1 col53\" >1138</td>\n",
       "      <td id=\"T_2f0c2_row1_col54\" class=\"data row1 col54\" >36</td>\n",
       "      <td id=\"T_2f0c2_row1_col55\" class=\"data row1 col55\" >96</td>\n",
       "      <td id=\"T_2f0c2_row1_col56\" class=\"data row1 col56\" >239</td>\n",
       "      <td id=\"T_2f0c2_row1_col57\" class=\"data row1 col57\" >19676</td>\n",
       "      <td id=\"T_2f0c2_row1_col58\" class=\"data row1 col58\" >4090</td>\n",
       "    </tr>\n",
       "  </tbody>\n",
       "</table>\n"
      ],
      "text/plain": [
       "<pandas.io.formats.style.Styler at 0x1f4ceb1deb0>"
      ]
     },
     "execution_count": 87,
     "metadata": {},
     "output_type": "execute_result"
    }
   ],
   "source": [
    "pd.crosstab(data[\"addrref\"], data[\"target\"]).T.style.background_gradient(\"RdYlGn\")"
   ]
  },
  {
   "cell_type": "markdown",
   "id": "3454aee2",
   "metadata": {},
   "source": [
    "Оценить здесь статистическую взаимосвязь между переменными можно с помощью критерия Фримана-Халтона, однако, реализации в питоне нет.  \n",
    "Здесь можно предположить, что также получим взаимосвязь между переменными\n",
    "\n",
    "Вывод после анализа перекрёстных таблиц такой:\n",
    " - все рассмотренные признаки можно брать в модель, т.к. они взаимосвязаны с таргетом, однако здесь не учитывается взаимосвязь между рассмотренными переменными\n",
    " \n",
    "Отбор признаков можно будет потом произвести с помощью того же метода $\\chi^2$"
   ]
  },
  {
   "cell_type": "markdown",
   "id": "1d0399a5",
   "metadata": {},
   "source": [
    "Отберём все количественные признаки"
   ]
  },
  {
   "cell_type": "code",
   "execution_count": 88,
   "id": "3f7d0927",
   "metadata": {},
   "outputs": [
    {
     "data": {
      "text/plain": [
       "282"
      ]
     },
     "execution_count": 88,
     "metadata": {},
     "output_type": "execute_result"
    }
   ],
   "source": [
    "continious_cols = [\n",
    "    col\n",
    "    for col in list(data)\n",
    "    if str(data[col].dtype).startswith(\"float\") and (data[col].nunique() > 2)\n",
    "]\n",
    "len(continious_cols)"
   ]
  },
  {
   "cell_type": "markdown",
   "id": "67199d3d",
   "metadata": {},
   "source": [
    "Выполним автоматическую проверку на нормальность распределения количественных данных"
   ]
  },
  {
   "cell_type": "code",
   "execution_count": 89,
   "id": "27ad8820",
   "metadata": {},
   "outputs": [
    {
     "data": {
      "application/vnd.jupyter.widget-view+json": {
       "model_id": "4b3439721c014e90aca63f5aa57bfa8d",
       "version_major": 2,
       "version_minor": 0
      },
      "text/plain": [
       "  0%|          | 0/282 [00:00<?, ?it/s]"
      ]
     },
     "metadata": {},
     "output_type": "display_data"
    },
    {
     "data": {
      "text/plain": [
       "[(1.0, 282)]"
      ]
     },
     "execution_count": 89,
     "metadata": {},
     "output_type": "execute_result"
    }
   ],
   "source": [
    "dist_check_res = [\n",
    "    utils.check_distribution(data[col].fillna(0).values)\n",
    "    for col in notebook.tqdm(continious_cols)\n",
    "]\n",
    "\n",
    "Counter(dist_check_res).most_common()"
   ]
  },
  {
   "cell_type": "markdown",
   "id": "0d70be67",
   "metadata": {},
   "source": [
    "Получается, что все количественные признаки распределены ненормально"
   ]
  },
  {
   "cell_type": "markdown",
   "id": "c96be9e1",
   "metadata": {},
   "source": [
    "Для того, чтобы сравнить одну из мер центральной тенденции (среднее/медиана) по количественным признакам и таким образом сказать, имеет ли смысл брать этот признак в модель или нет, также необходимо провести проверку на гомогенность дисперсий рассматриваемых групп. Будем использовать критерий Левена, т.к. имеем дело со случаем сильного отклонения от нормального распределения исходных данных"
   ]
  },
  {
   "cell_type": "code",
   "execution_count": 90,
   "id": "defb264c",
   "metadata": {},
   "outputs": [
    {
     "data": {
      "application/vnd.jupyter.widget-view+json": {
       "model_id": "5b0384a40db044939a44d6ad16fbf7b6",
       "version_major": 2,
       "version_minor": 0
      },
      "text/plain": [
       "  0%|          | 0/282 [00:00<?, ?it/s]"
      ]
     },
     "metadata": {},
     "output_type": "display_data"
    },
    {
     "data": {
      "text/plain": [
       "[(1, 277), (0, 5)]"
      ]
     },
     "execution_count": 90,
     "metadata": {},
     "output_type": "execute_result"
    }
   ],
   "source": [
    "levene_results = [\n",
    "    utils.check_homogenity(\n",
    "        data[data[\"target\"] == 0][col].fillna(0).values,\n",
    "        data[data[\"target\"] == 1][col].fillna(0).values\n",
    "    )\n",
    "    for col in notebook.tqdm(continious_cols)\n",
    "]\n",
    "\n",
    "Counter(levene_results).most_common()"
   ]
  },
  {
   "cell_type": "markdown",
   "id": "2129b963",
   "metadata": {},
   "source": [
    "Посмотрим, что это за переменная, у которой дисперсии равны"
   ]
  },
  {
   "cell_type": "code",
   "execution_count": 91,
   "id": "27ae3f7c",
   "metadata": {},
   "outputs": [
    {
     "data": {
      "text/plain": [
       "'hdb_other_active_min_psk'"
      ]
     },
     "execution_count": 91,
     "metadata": {},
     "output_type": "execute_result"
    }
   ],
   "source": [
    "continious_cols[np.asarray(levene_results).argmin()]"
   ]
  },
  {
   "cell_type": "code",
   "execution_count": 92,
   "id": "51ddadcd",
   "metadata": {},
   "outputs": [
    {
     "name": "stdout",
     "output_type": "stream",
     "text": [
      "65549.11654358164\n",
      "573588.7958223381\n"
     ]
    }
   ],
   "source": [
    "print(data[data[\"target\"] == 0][\"hdb_bki_other_active_pil_month_payments_sum\"].fillna(0).values.std())\n",
    "print(data[data[\"target\"] == 1][\"hdb_bki_other_active_pil_month_payments_sum\"].fillna(0).values.std())"
   ]
  },
  {
   "cell_type": "markdown",
   "id": "da0ef0e3",
   "metadata": {},
   "source": [
    "В этом случае мы, действительно, получили, что дисперсии групп \"hdb_bki_other_active_pil_month_payments_sum\" однородны"
   ]
  },
  {
   "cell_type": "markdown",
   "id": "74cca47c",
   "metadata": {},
   "source": [
    "Результаты проверки на гомогенность данных говорят о том, что дисперсии в двух группах (сплит по таргету) негомогенны. Учитывая этот факт, используем непараметрический тест Манна-Уитни для того, чтобы проверить, а есть ли статистически значимые различия в распределении этих двух группах. Если да, то такой признак хороший и его смело можно брать в модель, а если нет, то велика вероятность ошибочной классификации, т.к. функции распределения или значительно будут перекрывать друг друга или полностью будут наложены друг на друга"
   ]
  },
  {
   "cell_type": "code",
   "execution_count": 93,
   "id": "1bc2c435",
   "metadata": {},
   "outputs": [
    {
     "data": {
      "application/vnd.jupyter.widget-view+json": {
       "model_id": "3aa7954ea1d941549d7e59b5ef1a51c3",
       "version_major": 2,
       "version_minor": 0
      },
      "text/plain": [
       "  0%|          | 0/282 [00:00<?, ?it/s]"
      ]
     },
     "metadata": {},
     "output_type": "display_data"
    },
    {
     "data": {
      "text/plain": [
       "[(1, 280), (0, 2)]"
      ]
     },
     "execution_count": 93,
     "metadata": {},
     "output_type": "execute_result"
    }
   ],
   "source": [
    "mann_whitneyu_res = [\n",
    "    utils.mannwhitneyu_test(\n",
    "        data[data[\"target\"] == 0][col].fillna(0).values,\n",
    "        data[data[\"target\"] == 1][col].fillna(0).values\n",
    "    )\n",
    "    for col in notebook.tqdm(continious_cols)\n",
    "]\n",
    "\n",
    "Counter(mann_whitneyu_res).most_common()"
   ]
  },
  {
   "cell_type": "markdown",
   "id": "91c0b8db",
   "metadata": {},
   "source": [
    "По результатам теста оказалось, что для четырёх переменных имеются различия в кривых распределения. Отберём эти признаки и посмотрим на их кривые"
   ]
  },
  {
   "cell_type": "code",
   "execution_count": 94,
   "id": "953f2166",
   "metadata": {},
   "outputs": [
    {
     "data": {
      "application/vnd.jupyter.widget-view+json": {
       "model_id": "b9d0d25d3f6d4c75b2ec2203e4051c2c",
       "version_major": 2,
       "version_minor": 0
      },
      "text/plain": [
       "  0%|          | 0/282 [00:00<?, ?it/s]"
      ]
     },
     "metadata": {},
     "output_type": "display_data"
    },
    {
     "data": {
      "text/plain": [
       "['hdb_other_active_mean_psk', 'hdb_bki_active_oth_cnt']"
      ]
     },
     "execution_count": 94,
     "metadata": {},
     "output_type": "execute_result"
    }
   ],
   "source": [
    "mann_whitneyu_cols_check = [\n",
    "    col\n",
    "    for col in notebook.tqdm(continious_cols)\n",
    "    if utils.mannwhitneyu_test(\n",
    "        data[data[\"target\"] == 0][col].fillna(0).values,\n",
    "        data[data[\"target\"] == 1][col].fillna(0).values\n",
    "    ) != 1\n",
    "]\n",
    "\n",
    "mann_whitneyu_cols_check"
   ]
  },
  {
   "cell_type": "code",
   "execution_count": 95,
   "id": "873e106d",
   "metadata": {},
   "outputs": [
    {
     "data": {
      "image/png": "[encoded data removed]",
      "text/plain": [
       "<Figure size 432x288 with 1 Axes>"
      ]
     },
     "metadata": {
      "needs_background": "light"
     },
     "output_type": "display_data"
    }
   ],
   "source": [
    "arr1 = data[\n",
    "    data[\"target\"] == 0\n",
    "][\"amount_by_category_30d__summarur_amt__SUM__cashflowcategory_name__perevody_s_karty_na_kartu\"].fillna(0)\n",
    "arr1 = arr1[arr1 != 0]\n",
    "\n",
    "arr2 = data[\n",
    "    data[\"target\"] == 1\n",
    "][\"amount_by_category_30d__summarur_amt__SUM__cashflowcategory_name__perevody_s_karty_na_kartu\"].fillna(0)\n",
    "arr2 = arr2[arr2 != 0]\n",
    "\n",
    "sns.histplot(arr1, color=\"blue\", label='0')\n",
    "sns.histplot(arr2, color=\"orange\", label='1')\n",
    "plt.ylim([0, 500])\n",
    "plt.ylim([0, 0.5])\n",
    "plt.legend(loc=\"upper right\")\n",
    "plt.xlabel(\"Значение переменной\")\n",
    "plt.ylabel(\"Кол-во\")\n",
    "plt.show()"
   ]
  },
  {
   "cell_type": "code",
   "execution_count": 96,
   "id": "a70883e0",
   "metadata": {},
   "outputs": [
    {
     "data": {
      "image/png": "[encoded data removed]",
      "text/plain": [
       "<Figure size 432x288 with 1 Axes>"
      ]
     },
     "metadata": {
      "needs_background": "light"
     },
     "output_type": "display_data"
    }
   ],
   "source": [
    "arr1 = data[\n",
    "    data[\"target\"] == 0\n",
    "][\"hdb_outstand_sum\"].fillna(0)\n",
    "arr1 = arr1[arr1 != 0]\n",
    "\n",
    "arr2 = data[\n",
    "    data[\"target\"] == 1\n",
    "][\"hdb_outstand_sum\"].fillna(0)\n",
    "arr2 = arr2[arr2 != 0]\n",
    "\n",
    "sns.histplot(arr1, color=\"blue\", label='0')\n",
    "sns.histplot(arr2, color=\"orange\", label='1')\n",
    "plt.ylim([0, 500])\n",
    "plt.ylim([0, 0.5])\n",
    "plt.legend(loc=\"upper right\")\n",
    "plt.xlabel(\"Значение переменной\")\n",
    "plt.ylabel(\"Кол-во\")\n",
    "plt.show()"
   ]
  },
  {
   "cell_type": "code",
   "execution_count": 97,
   "id": "9c00111b",
   "metadata": {},
   "outputs": [
    {
     "data": {
      "image/png": "[encoded data removed]",
      "text/plain": [
       "<Figure size 432x288 with 1 Axes>"
      ]
     },
     "metadata": {
      "needs_background": "light"
     },
     "output_type": "display_data"
    }
   ],
   "source": [
    "arr1 = data[\n",
    "    data[\"target\"] == 0\n",
    "][\"hdb_other_active_min_psk\"].fillna(0)\n",
    "arr1 = arr1[arr1 != 0]\n",
    "\n",
    "arr2 = data[\n",
    "    data[\"target\"] == 1\n",
    "][\"hdb_other_active_min_psk\"].fillna(0)\n",
    "arr2 = arr2[arr2 != 0]\n",
    "\n",
    "sns.histplot(arr1, color=\"blue\", label='0')\n",
    "sns.histplot(arr2, color=\"orange\", label='1')\n",
    "plt.ylim([0, 500])\n",
    "plt.ylim([0, 0.5])\n",
    "plt.legend(loc=\"upper right\")\n",
    "plt.xlabel(\"Значение переменной\")\n",
    "plt.ylabel(\"Кол-во\")\n",
    "plt.show()"
   ]
  },
  {
   "cell_type": "code",
   "execution_count": 98,
   "id": "66de51bc",
   "metadata": {},
   "outputs": [
    {
     "data": {
      "image/png": "[encoded data removed]",
      "text/plain": [
       "<Figure size 432x288 with 1 Axes>"
      ]
     },
     "metadata": {
      "needs_background": "light"
     },
     "output_type": "display_data"
    }
   ],
   "source": [
    "arr1 = data[\n",
    "    data[\"target\"] == 0\n",
    "][\"hdb_bki_other_active_ip_month_payments_sum\"].fillna(0)\n",
    "arr1 = arr1[arr1 != 0]\n",
    "\n",
    "arr2 = data[\n",
    "    data[\"target\"] == 1\n",
    "][\"hdb_bki_other_active_ip_month_payments_sum\"].fillna(0)\n",
    "arr2 = arr2[arr2 != 0]\n",
    "\n",
    "sns.histplot(arr1, color=\"blue\", label='0')\n",
    "sns.histplot(arr2, color=\"orange\", label='1')\n",
    "plt.ylim([0, 500])\n",
    "plt.ylim([0, 0.5])\n",
    "plt.legend(loc=\"upper right\")\n",
    "plt.xlabel(\"Значение переменной\")\n",
    "plt.ylabel(\"Кол-во\")\n",
    "plt.show()"
   ]
  },
  {
   "cell_type": "markdown",
   "id": "e07a486c",
   "metadata": {},
   "source": [
    "Оказалось, что в этих случаях тест Манна-Уитни ошибся и никаких статистически значимых различий в распределениях нет"
   ]
  },
  {
   "cell_type": "markdown",
   "id": "2b7fb96f",
   "metadata": {},
   "source": [
    "Т.к. тест Манна-Уитни не сравнивает средние значения, то сказать о статистической значимости различий в средних не представляется возможным. В нашем случае критерий Стьюдента применять тоже нельзя, как минимум, из-за нарушения предположения о гомогенности дисперсий рассматриваемых групп.  \n",
    "Таким образом, сказать, значимы ли признаки или нет, можно будет, например, по важности признаков для модели или с помощью шап значений. В любом случае в модель берём все признаки, а дальше их обрабатываем так, чтобы повысить точность модели, уменьшить её пространственную сложность, а также уменьшить потребность в памяти для хранения обучаемых весов"
   ]
  },
  {
   "cell_type": "markdown",
   "id": "94eed06e",
   "metadata": {},
   "source": [
    "Проверим количество оттока у разных групп"
   ]
  },
  {
   "cell_type": "code",
   "execution_count": 142,
   "id": "a4f33a19",
   "metadata": {},
   "outputs": [],
   "source": [
    "check_outflow = data.groupby(\n",
    "    [\"clientoutflowstatus\", \"target\"],\n",
    "    as_index=False\n",
    ")[\"client_id\"].count()"
   ]
  },
  {
   "cell_type": "code",
   "execution_count": 143,
   "id": "c3529cbb",
   "metadata": {},
   "outputs": [
    {
     "data": {
      "text/html": [
       "<div>\n",
       "<style scoped>\n",
       "    .dataframe tbody tr th:only-of-type {\n",
       "        vertical-align: middle;\n",
       "    }\n",
       "\n",
       "    .dataframe tbody tr th {\n",
       "        vertical-align: top;\n",
       "    }\n",
       "\n",
       "    .dataframe thead th {\n",
       "        text-align: right;\n",
       "    }\n",
       "</style>\n",
       "<table border=\"1\" class=\"dataframe\">\n",
       "  <thead>\n",
       "    <tr style=\"text-align: right;\">\n",
       "      <th></th>\n",
       "      <th>clientoutflowstatus</th>\n",
       "      <th>target</th>\n",
       "      <th>client_id</th>\n",
       "    </tr>\n",
       "  </thead>\n",
       "  <tbody>\n",
       "    <tr>\n",
       "      <th>0</th>\n",
       "      <td>ACTIVE</td>\n",
       "      <td>0.0</td>\n",
       "      <td>139195</td>\n",
       "    </tr>\n",
       "    <tr>\n",
       "      <th>1</th>\n",
       "      <td>ACTIVE</td>\n",
       "      <td>1.0</td>\n",
       "      <td>42265</td>\n",
       "    </tr>\n",
       "    <tr>\n",
       "      <th>2</th>\n",
       "      <td>LOCAL_WB</td>\n",
       "      <td>0.0</td>\n",
       "      <td>822</td>\n",
       "    </tr>\n",
       "    <tr>\n",
       "      <th>3</th>\n",
       "      <td>LOCAL_WB</td>\n",
       "      <td>1.0</td>\n",
       "      <td>126</td>\n",
       "    </tr>\n",
       "    <tr>\n",
       "      <th>4</th>\n",
       "      <td>N2BANK_NEW</td>\n",
       "      <td>0.0</td>\n",
       "      <td>1237</td>\n",
       "    </tr>\n",
       "    <tr>\n",
       "      <th>5</th>\n",
       "      <td>N2BANK_NEW</td>\n",
       "      <td>1.0</td>\n",
       "      <td>400</td>\n",
       "    </tr>\n",
       "    <tr>\n",
       "      <th>6</th>\n",
       "      <td>N2BANK_POTENTIAL</td>\n",
       "      <td>0.0</td>\n",
       "      <td>857</td>\n",
       "    </tr>\n",
       "    <tr>\n",
       "      <th>7</th>\n",
       "      <td>N2BANK_POTENTIAL</td>\n",
       "      <td>1.0</td>\n",
       "      <td>251</td>\n",
       "    </tr>\n",
       "    <tr>\n",
       "      <th>8</th>\n",
       "      <td>OUTFLOW</td>\n",
       "      <td>0.0</td>\n",
       "      <td>1835</td>\n",
       "    </tr>\n",
       "    <tr>\n",
       "      <th>9</th>\n",
       "      <td>OUTFLOW</td>\n",
       "      <td>1.0</td>\n",
       "      <td>168</td>\n",
       "    </tr>\n",
       "    <tr>\n",
       "      <th>10</th>\n",
       "      <td>POTENTIAL</td>\n",
       "      <td>0.0</td>\n",
       "      <td>5572</td>\n",
       "    </tr>\n",
       "    <tr>\n",
       "      <th>11</th>\n",
       "      <td>POTENTIAL</td>\n",
       "      <td>1.0</td>\n",
       "      <td>754</td>\n",
       "    </tr>\n",
       "    <tr>\n",
       "      <th>12</th>\n",
       "      <td>PREOUTFLOW</td>\n",
       "      <td>0.0</td>\n",
       "      <td>2882</td>\n",
       "    </tr>\n",
       "    <tr>\n",
       "      <th>13</th>\n",
       "      <td>PREOUTFLOW</td>\n",
       "      <td>1.0</td>\n",
       "      <td>280</td>\n",
       "    </tr>\n",
       "    <tr>\n",
       "      <th>14</th>\n",
       "      <td>PREVYEARS_WB</td>\n",
       "      <td>0.0</td>\n",
       "      <td>764</td>\n",
       "    </tr>\n",
       "    <tr>\n",
       "      <th>15</th>\n",
       "      <td>PREVYEARS_WB</td>\n",
       "      <td>1.0</td>\n",
       "      <td>208</td>\n",
       "    </tr>\n",
       "    <tr>\n",
       "      <th>16</th>\n",
       "      <td>SLEEP</td>\n",
       "      <td>0.0</td>\n",
       "      <td>19729</td>\n",
       "    </tr>\n",
       "    <tr>\n",
       "      <th>17</th>\n",
       "      <td>SLEEP</td>\n",
       "      <td>1.0</td>\n",
       "      <td>1326</td>\n",
       "    </tr>\n",
       "  </tbody>\n",
       "</table>\n",
       "</div>"
      ],
      "text/plain": [
       "   clientoutflowstatus  target  client_id\n",
       "0               ACTIVE     0.0     139195\n",
       "1               ACTIVE     1.0      42265\n",
       "2             LOCAL_WB     0.0        822\n",
       "3             LOCAL_WB     1.0        126\n",
       "4           N2BANK_NEW     0.0       1237\n",
       "5           N2BANK_NEW     1.0        400\n",
       "6     N2BANK_POTENTIAL     0.0        857\n",
       "7     N2BANK_POTENTIAL     1.0        251\n",
       "8              OUTFLOW     0.0       1835\n",
       "9              OUTFLOW     1.0        168\n",
       "10           POTENTIAL     0.0       5572\n",
       "11           POTENTIAL     1.0        754\n",
       "12          PREOUTFLOW     0.0       2882\n",
       "13          PREOUTFLOW     1.0        280\n",
       "14        PREVYEARS_WB     0.0        764\n",
       "15        PREVYEARS_WB     1.0        208\n",
       "16               SLEEP     0.0      19729\n",
       "17               SLEEP     1.0       1326"
      ]
     },
     "execution_count": 143,
     "metadata": {},
     "output_type": "execute_result"
    }
   ],
   "source": [
    "check_outflow"
   ]
  },
  {
   "cell_type": "markdown",
   "id": "c7dbb181",
   "metadata": {},
   "source": [
    "Рассчитаем, какой процент отточных, предотточных клиентов занимает среди всех остальных пользователей"
   ]
  },
  {
   "cell_type": "code",
   "execution_count": 144,
   "id": "50db38b4",
   "metadata": {},
   "outputs": [
    {
     "data": {
      "text/plain": [
       "218671"
      ]
     },
     "execution_count": 144,
     "metadata": {},
     "output_type": "execute_result"
    }
   ],
   "source": [
    "check_outflow[\"client_id\"].sum()"
   ]
  },
  {
   "cell_type": "markdown",
   "id": "3b0e63b6",
   "metadata": {},
   "source": [
    "Всего людей у нас 218.671 тысяч, нужно расчитать, сколько всего клиентов, которые находятся в потенциальном оттоке, либо предотточны."
   ]
  },
  {
   "cell_type": "code",
   "execution_count": 145,
   "id": "64a51edf",
   "metadata": {},
   "outputs": [],
   "source": [
    "outflow = [\"OUTFLOW\", \"POTENTIAL\"]"
   ]
  },
  {
   "cell_type": "code",
   "execution_count": 146,
   "id": "d1b1a6c5",
   "metadata": {},
   "outputs": [
    {
     "data": {
      "text/plain": [
       "8329"
      ]
     },
     "execution_count": 146,
     "metadata": {},
     "output_type": "execute_result"
    }
   ],
   "source": [
    "check_outflow.query(\"clientoutflowstatus in @outflow\")[\"client_id\"].sum() "
   ]
  },
  {
   "cell_type": "markdown",
   "id": "17978af8",
   "metadata": {},
   "source": [
    "Таких людей 8.300, т.е. 3.8%.\n",
    "\n",
    "Мы хотим знать, а какой процент от всех клиентов занимают люди, которым мы можем предложить семейный счёт и предотвратить отток. Т.е. посчитать процент предотточной целевой аудитории от всех клиентов."
   ]
  },
  {
   "cell_type": "code",
   "execution_count": 147,
   "id": "1d674ec4",
   "metadata": {},
   "outputs": [
    {
     "data": {
      "text/plain": [
       "922"
      ]
     },
     "execution_count": 147,
     "metadata": {},
     "output_type": "execute_result"
    }
   ],
   "source": [
    "check_outflow.query(\"clientoutflowstatus in @outflow and target == 1\")[\"client_id\"].sum()"
   ]
  },
  {
   "cell_type": "markdown",
   "id": "b1c9bd48",
   "metadata": {},
   "source": [
    "922 клиента целевой аудитории являются предотточными, а это 0.42% всех клиентов, которые теряет банк."
   ]
  },
  {
   "cell_type": "markdown",
   "id": "5a66189b",
   "metadata": {},
   "source": [
    "Также мы хотим узнать, а какой процент от всей целевой аудитории занимает та, которая собирается уйти. Они составляют 11% от всей целевой аудитории."
   ]
  },
  {
   "cell_type": "markdown",
   "id": "c92ffd6f",
   "metadata": {},
   "source": [
    "Существуют пользователи, по которым есть дубликаты. Эти пользователи имеют разную информацию, считаю, что их нужно оставить."
   ]
  },
  {
   "cell_type": "code",
   "execution_count": 99,
   "id": "e7f6cebb",
   "metadata": {},
   "outputs": [
    {
     "data": {
      "text/plain": [
       "'3b81e94ef29c045fb2bdbe118764d0d07c95d7baaaebf800e87a05d066a91de2'"
      ]
     },
     "execution_count": 99,
     "metadata": {},
     "output_type": "execute_result"
    }
   ],
   "source": [
    "dupl = data[data[\"client_id\"].duplicated()][\"client_id\"].unique()\n",
    "data.query(\"client_id in @dupl\").loc[7, \"client_id\"]"
   ]
  },
  {
   "cell_type": "code",
   "execution_count": 100,
   "id": "fd27df39",
   "metadata": {},
   "outputs": [
    {
     "data": {
      "text/html": [
       "<div>\n",
       "<style scoped>\n",
       "    .dataframe tbody tr th:only-of-type {\n",
       "        vertical-align: middle;\n",
       "    }\n",
       "\n",
       "    .dataframe tbody tr th {\n",
       "        vertical-align: top;\n",
       "    }\n",
       "\n",
       "    .dataframe thead th {\n",
       "        text-align: right;\n",
       "    }\n",
       "</style>\n",
       "<table border=\"1\" class=\"dataframe\">\n",
       "  <thead>\n",
       "    <tr style=\"text-align: right;\">\n",
       "      <th></th>\n",
       "      <th>client_id</th>\n",
       "      <th>dt</th>\n",
       "      <th>accountsalary_flag</th>\n",
       "      <th>country</th>\n",
       "      <th>profit_income_out_rur_amt_6m</th>\n",
       "      <th>clientoutflowstatus</th>\n",
       "      <th>curbal_usd_amt_cm_avg</th>\n",
       "      <th>stratsegfactor</th>\n",
       "      <th>srvpackage</th>\n",
       "      <th>clientsegment</th>\n",
       "      <th>...</th>\n",
       "      <th>transaction_category_hotels_sum_cnt_m2</th>\n",
       "      <th>transaction_category_sporting_goods_inc_amt_2m</th>\n",
       "      <th>transaction_category_airplane_tickets_percent_amt_2m</th>\n",
       "      <th>transaction_category_transport_percent_amt_2m</th>\n",
       "      <th>transaction_category_restaurants_percent_amt_2m</th>\n",
       "      <th>transaction_category_auto_services_percent_amt_2m</th>\n",
       "      <th>transaction_category_supermarket_sum_cnt_m2</th>\n",
       "      <th>transaction_category_auto_services_sum_cnt_m2</th>\n",
       "      <th>cardapp_date</th>\n",
       "      <th>target</th>\n",
       "    </tr>\n",
       "  </thead>\n",
       "  <tbody>\n",
       "    <tr>\n",
       "      <th>7</th>\n",
       "      <td>3b81e94ef29c045fb2bdbe118764d0d07c95d7baaaebf8...</td>\n",
       "      <td>2022-09-30</td>\n",
       "      <td>1.0</td>\n",
       "      <td>RUS</td>\n",
       "      <td>-712.666667</td>\n",
       "      <td>ACTIVE</td>\n",
       "      <td>190.0</td>\n",
       "      <td>Предиктивный доход</td>\n",
       "      <td>Технический</td>\n",
       "      <td>MAFFLUENT</td>\n",
       "      <td>...</td>\n",
       "      <td>1.0</td>\n",
       "      <td>NaN</td>\n",
       "      <td>NaN</td>\n",
       "      <td>0.000800</td>\n",
       "      <td>0.018205</td>\n",
       "      <td>0.007467</td>\n",
       "      <td>126.0</td>\n",
       "      <td>3.0</td>\n",
       "      <td>2021-05-24</td>\n",
       "      <td>0.0</td>\n",
       "    </tr>\n",
       "    <tr>\n",
       "      <th>233585</th>\n",
       "      <td>3b81e94ef29c045fb2bdbe118764d0d07c95d7baaaebf8...</td>\n",
       "      <td>2021-04-30</td>\n",
       "      <td>1.0</td>\n",
       "      <td>RUS</td>\n",
       "      <td>1213.166667</td>\n",
       "      <td>ACTIVE</td>\n",
       "      <td>146.0</td>\n",
       "      <td>Остатки на счетах</td>\n",
       "      <td>Технический</td>\n",
       "      <td>MASS</td>\n",
       "      <td>...</td>\n",
       "      <td>1.0</td>\n",
       "      <td>1.738095</td>\n",
       "      <td>NaN</td>\n",
       "      <td>0.001055</td>\n",
       "      <td>0.009932</td>\n",
       "      <td>0.002071</td>\n",
       "      <td>45.0</td>\n",
       "      <td>1.0</td>\n",
       "      <td>2021-05-24</td>\n",
       "      <td>0.0</td>\n",
       "    </tr>\n",
       "  </tbody>\n",
       "</table>\n",
       "<p>2 rows × 295 columns</p>\n",
       "</div>"
      ],
      "text/plain": [
       "                                                client_id         dt  \\\n",
       "7       3b81e94ef29c045fb2bdbe118764d0d07c95d7baaaebf8... 2022-09-30   \n",
       "233585  3b81e94ef29c045fb2bdbe118764d0d07c95d7baaaebf8... 2021-04-30   \n",
       "\n",
       "        accountsalary_flag country  profit_income_out_rur_amt_6m  \\\n",
       "7                      1.0     RUS                   -712.666667   \n",
       "233585                 1.0     RUS                   1213.166667   \n",
       "\n",
       "       clientoutflowstatus  curbal_usd_amt_cm_avg      stratsegfactor  \\\n",
       "7                   ACTIVE                  190.0  Предиктивный доход   \n",
       "233585              ACTIVE                  146.0   Остатки на счетах   \n",
       "\n",
       "         srvpackage clientsegment  ...  \\\n",
       "7       Технический     MAFFLUENT  ...   \n",
       "233585  Технический          MASS  ...   \n",
       "\n",
       "        transaction_category_hotels_sum_cnt_m2  \\\n",
       "7                                          1.0   \n",
       "233585                                     1.0   \n",
       "\n",
       "       transaction_category_sporting_goods_inc_amt_2m  \\\n",
       "7                                                 NaN   \n",
       "233585                                       1.738095   \n",
       "\n",
       "       transaction_category_airplane_tickets_percent_amt_2m  \\\n",
       "7                                                     NaN     \n",
       "233585                                                NaN     \n",
       "\n",
       "        transaction_category_transport_percent_amt_2m  \\\n",
       "7                                            0.000800   \n",
       "233585                                       0.001055   \n",
       "\n",
       "        transaction_category_restaurants_percent_amt_2m  \\\n",
       "7                                              0.018205   \n",
       "233585                                         0.009932   \n",
       "\n",
       "        transaction_category_auto_services_percent_amt_2m  \\\n",
       "7                                                0.007467   \n",
       "233585                                           0.002071   \n",
       "\n",
       "        transaction_category_supermarket_sum_cnt_m2  \\\n",
       "7                                             126.0   \n",
       "233585                                         45.0   \n",
       "\n",
       "        transaction_category_auto_services_sum_cnt_m2  cardapp_date  target  \n",
       "7                                                 3.0    2021-05-24     0.0  \n",
       "233585                                            1.0    2021-05-24     0.0  \n",
       "\n",
       "[2 rows x 295 columns]"
      ]
     },
     "execution_count": 100,
     "metadata": {},
     "output_type": "execute_result"
    }
   ],
   "source": [
    "data[\n",
    "    data[\"client_id\"] == \"3b81e94ef29c045fb2bdbe118764d0d07c95d7baaaebf800e87a05d066a91de2\"\n",
    "]"
   ]
  },
  {
   "cell_type": "markdown",
   "id": "4de3fedd",
   "metadata": {},
   "source": [
    "Категории, которых мало, будем переводить в отдельную категорию - \"Другое\". Очень много пакетов услуг Технический, будто бы это карты для сотрудников, хотя есть Корпоративный пакет услуг."
   ]
  },
  {
   "cell_type": "code",
   "execution_count": 101,
   "id": "92b4868b",
   "metadata": {
    "scrolled": false
   },
   "outputs": [],
   "source": [
    "package_other = data[\"srvpackage\"].value_counts().tail(9).index"
   ]
  },
  {
   "cell_type": "code",
   "execution_count": 401,
   "id": "11378379",
   "metadata": {},
   "outputs": [
    {
     "name": "stderr",
     "output_type": "stream",
     "text": [
      "100%|██████████| 291882/291882 [00:00<00:00, 1215851.25it/s]\n"
     ]
    }
   ],
   "source": [
    "data[\"srvpackage\"] = data[\"srvpackage\"].progress_apply(\n",
    "    lambda x: \"Другое \" if x in package_other else x\n",
    ")"
   ]
  },
  {
   "cell_type": "markdown",
   "id": "41258538",
   "metadata": {},
   "source": [
    "В таких признаках, как регион отделения и страна имеются категории, которые встречаются не очень часто, такие категории будут заменены на \"Other\", чтобы увеличить частоту встречаемости."
   ]
  },
  {
   "cell_type": "code",
   "execution_count": 102,
   "id": "291f7227",
   "metadata": {},
   "outputs": [],
   "source": [
    "ref_other = data[\"addrref\"].value_counts()[\n",
    "    data[\"addrref\"].value_counts() < 500\n",
    "].index\n",
    "country_other = data[\"country\"].value_counts().head(1).index "
   ]
  },
  {
   "cell_type": "code",
   "execution_count": 103,
   "id": "348e4eff",
   "metadata": {},
   "outputs": [
    {
     "name": "stderr",
     "output_type": "stream",
     "text": [
      "100%|██████████| 291882/291882 [00:00<00:00, 1257715.95it/s]\n",
      "100%|██████████| 291882/291882 [00:00<00:00, 1285528.11it/s]\n"
     ]
    }
   ],
   "source": [
    "data[\"country\"] = data[\"country\"].progress_apply(\n",
    "    lambda x: \"OTHER \" if x not in country_other else x\n",
    ")\n",
    "data[\"addrref\"] = data[\"addrref\"].progress_apply(\n",
    "    lambda x: \"OTH \" if x in ref_other else x\n",
    ")"
   ]
  },
  {
   "cell_type": "markdown",
   "id": "e804b8e9",
   "metadata": {},
   "source": [
    "Имеются клиенты банка, которым 14 лет, но они уже являются клиентами банка больше года, хотя клиентом можно стать с 14 лет, таких пользоватлей будем удалять."
   ]
  },
  {
   "cell_type": "code",
   "execution_count": 408,
   "id": "6b83b26e",
   "metadata": {
    "scrolled": true
   },
   "outputs": [
    {
     "data": {
      "text/html": [
       "<div>\n",
       "<style scoped>\n",
       "    .dataframe tbody tr th:only-of-type {\n",
       "        vertical-align: middle;\n",
       "    }\n",
       "\n",
       "    .dataframe tbody tr th {\n",
       "        vertical-align: top;\n",
       "    }\n",
       "\n",
       "    .dataframe thead th {\n",
       "        text-align: right;\n",
       "    }\n",
       "</style>\n",
       "<table border=\"1\" class=\"dataframe\">\n",
       "  <thead>\n",
       "    <tr style=\"text-align: right;\">\n",
       "      <th></th>\n",
       "      <th>client_id</th>\n",
       "      <th>dt</th>\n",
       "      <th>accountsalary_flag</th>\n",
       "      <th>country</th>\n",
       "      <th>profit_income_out_rur_amt_6m</th>\n",
       "      <th>clientoutflowstatus</th>\n",
       "      <th>curbal_usd_amt_cm_avg</th>\n",
       "      <th>stratsegfactor</th>\n",
       "      <th>srvpackage</th>\n",
       "      <th>clientsegment</th>\n",
       "      <th>...</th>\n",
       "      <th>transaction_category_hotels_sum_cnt_m2</th>\n",
       "      <th>transaction_category_sporting_goods_inc_amt_2m</th>\n",
       "      <th>transaction_category_airplane_tickets_percent_amt_2m</th>\n",
       "      <th>transaction_category_transport_percent_amt_2m</th>\n",
       "      <th>transaction_category_restaurants_percent_amt_2m</th>\n",
       "      <th>transaction_category_auto_services_percent_amt_2m</th>\n",
       "      <th>transaction_category_supermarket_sum_cnt_m2</th>\n",
       "      <th>transaction_category_auto_services_sum_cnt_m2</th>\n",
       "      <th>cardapp_date</th>\n",
       "      <th>target</th>\n",
       "    </tr>\n",
       "  </thead>\n",
       "  <tbody>\n",
       "    <tr>\n",
       "      <th>13109</th>\n",
       "      <td>ad1dc3fbb61b6a8760c3ab172f5579400aa27b71d6a04b...</td>\n",
       "      <td>2022-01-31</td>\n",
       "      <td>1.0</td>\n",
       "      <td>RUS</td>\n",
       "      <td>217.000000</td>\n",
       "      <td>ACTIVE</td>\n",
       "      <td>0.0</td>\n",
       "      <td>Предиктивный доход</td>\n",
       "      <td>Технический</td>\n",
       "      <td>MAFFLUENT</td>\n",
       "      <td>...</td>\n",
       "      <td>NaN</td>\n",
       "      <td>NaN</td>\n",
       "      <td>NaN</td>\n",
       "      <td>NaN</td>\n",
       "      <td>NaN</td>\n",
       "      <td>NaN</td>\n",
       "      <td>NaN</td>\n",
       "      <td>NaN</td>\n",
       "      <td>2022-02-24</td>\n",
       "      <td>0.0</td>\n",
       "    </tr>\n",
       "    <tr>\n",
       "      <th>97784</th>\n",
       "      <td>d43931d12a529684ca5fce0e053af69ba53a96a1d9d34f...</td>\n",
       "      <td>2022-11-30</td>\n",
       "      <td>0.0</td>\n",
       "      <td>RUS</td>\n",
       "      <td>2298.333333</td>\n",
       "      <td>ACTIVE</td>\n",
       "      <td>0.0</td>\n",
       "      <td>Предиктивный доход</td>\n",
       "      <td>длякредитовидепозитов</td>\n",
       "      <td>MAFFLUENT</td>\n",
       "      <td>...</td>\n",
       "      <td>NaN</td>\n",
       "      <td>NaN</td>\n",
       "      <td>NaN</td>\n",
       "      <td>NaN</td>\n",
       "      <td>NaN</td>\n",
       "      <td>NaN</td>\n",
       "      <td>NaN</td>\n",
       "      <td>NaN</td>\n",
       "      <td>2022-12-08</td>\n",
       "      <td>0.0</td>\n",
       "    </tr>\n",
       "    <tr>\n",
       "      <th>118074</th>\n",
       "      <td>bc978475e9403b27ddf3a7f1ca56c090f752f9f6dd7bc3...</td>\n",
       "      <td>2022-07-31</td>\n",
       "      <td>1.0</td>\n",
       "      <td>RUS</td>\n",
       "      <td>1276.333333</td>\n",
       "      <td>ACTIVE</td>\n",
       "      <td>3977.0</td>\n",
       "      <td>Остатки на счетах</td>\n",
       "      <td>Технический</td>\n",
       "      <td>MASS</td>\n",
       "      <td>...</td>\n",
       "      <td>NaN</td>\n",
       "      <td>NaN</td>\n",
       "      <td>NaN</td>\n",
       "      <td>NaN</td>\n",
       "      <td>NaN</td>\n",
       "      <td>NaN</td>\n",
       "      <td>NaN</td>\n",
       "      <td>NaN</td>\n",
       "      <td>2022-08-08</td>\n",
       "      <td>0.0</td>\n",
       "    </tr>\n",
       "  </tbody>\n",
       "</table>\n",
       "<p>3 rows × 295 columns</p>\n",
       "</div>"
      ],
      "text/plain": [
       "                                                client_id         dt  \\\n",
       "13109   ad1dc3fbb61b6a8760c3ab172f5579400aa27b71d6a04b... 2022-01-31   \n",
       "97784   d43931d12a529684ca5fce0e053af69ba53a96a1d9d34f... 2022-11-30   \n",
       "118074  bc978475e9403b27ddf3a7f1ca56c090f752f9f6dd7bc3... 2022-07-31   \n",
       "\n",
       "        accountsalary_flag country  profit_income_out_rur_amt_6m  \\\n",
       "13109                  1.0     RUS                    217.000000   \n",
       "97784                  0.0     RUS                   2298.333333   \n",
       "118074                 1.0     RUS                   1276.333333   \n",
       "\n",
       "       clientoutflowstatus  curbal_usd_amt_cm_avg      stratsegfactor  \\\n",
       "13109               ACTIVE                    0.0  Предиктивный доход   \n",
       "97784               ACTIVE                    0.0  Предиктивный доход   \n",
       "118074              ACTIVE                 3977.0   Остатки на счетах   \n",
       "\n",
       "                   srvpackage clientsegment  ...  \\\n",
       "13109             Технический     MAFFLUENT  ...   \n",
       "97784   длякредитовидепозитов     MAFFLUENT  ...   \n",
       "118074            Технический          MASS  ...   \n",
       "\n",
       "        transaction_category_hotels_sum_cnt_m2  \\\n",
       "13109                                      NaN   \n",
       "97784                                      NaN   \n",
       "118074                                     NaN   \n",
       "\n",
       "       transaction_category_sporting_goods_inc_amt_2m  \\\n",
       "13109                                             NaN   \n",
       "97784                                             NaN   \n",
       "118074                                            NaN   \n",
       "\n",
       "       transaction_category_airplane_tickets_percent_amt_2m  \\\n",
       "13109                                                 NaN     \n",
       "97784                                                 NaN     \n",
       "118074                                                NaN     \n",
       "\n",
       "        transaction_category_transport_percent_amt_2m  \\\n",
       "13109                                             NaN   \n",
       "97784                                             NaN   \n",
       "118074                                            NaN   \n",
       "\n",
       "        transaction_category_restaurants_percent_amt_2m  \\\n",
       "13109                                               NaN   \n",
       "97784                                               NaN   \n",
       "118074                                              NaN   \n",
       "\n",
       "        transaction_category_auto_services_percent_amt_2m  \\\n",
       "13109                                                 NaN   \n",
       "97784                                                 NaN   \n",
       "118074                                                NaN   \n",
       "\n",
       "        transaction_category_supermarket_sum_cnt_m2  \\\n",
       "13109                                           NaN   \n",
       "97784                                           NaN   \n",
       "118074                                          NaN   \n",
       "\n",
       "        transaction_category_auto_services_sum_cnt_m2  cardapp_date  target  \n",
       "13109                                             NaN    2022-02-24     0.0  \n",
       "97784                                             NaN    2022-12-08     0.0  \n",
       "118074                                            NaN    2022-08-08     0.0  \n",
       "\n",
       "[3 rows x 295 columns]"
      ]
     },
     "execution_count": 408,
     "metadata": {},
     "output_type": "execute_result"
    }
   ],
   "source": [
    "data[(data[\"age\"] == data[\"age\"].min()) & (data[\"life_time_days\"] > 360)]"
   ]
  },
  {
   "cell_type": "markdown",
   "id": "8ca75a4f",
   "metadata": {},
   "source": [
    "Удаляю ненужные строчки"
   ]
  },
  {
   "cell_type": "code",
   "execution_count": 104,
   "id": "d80820f1",
   "metadata": {},
   "outputs": [],
   "source": [
    "data = data.drop(\n",
    "    data[(data[\"age\"] == data[\"age\"].min()) & (data[\"life_time_days\"] > 360)].index\n",
    ").reset_index(drop=True)"
   ]
  },
  {
   "cell_type": "code",
   "execution_count": 106,
   "id": "943bc0da",
   "metadata": {},
   "outputs": [
    {
     "data": {
      "image/png": "[encoded data removed]",
      "text/plain": [
       "<Figure size 1008x720 with 2 Axes>"
      ]
     },
     "metadata": {
      "needs_background": "light"
     },
     "output_type": "display_data"
    }
   ],
   "source": [
    "plt.figure(figsize=(14, 10))\n",
    "plt.subplot(2, 2, 1)\n",
    "plt.suptitle(\"Наличие зарплатного счета у клиента на отчетную дату по двум аудиториям\")\n",
    "sns.barplot(\n",
    "    x=data[data[\"target\"] == 0][\"accountsalary_flag\"].value_counts(normalize=True).index, \n",
    "    y=data[data[\"target\"] == 0][\"accountsalary_flag\"].value_counts(normalize=True).values\n",
    ");\n",
    "plt.title(\"Нецелевая аудитория\");\n",
    "plt.xlabel(\"Категория клиента\");\n",
    "plt.ylabel(\"Количество клиентов\");\n",
    "plt.subplot(2, 2, 2)\n",
    "plt.title(\"Целевая аудитория\");\n",
    "sns.barplot(\n",
    "    x=data[data[\"target\"] == 1][\"accountsalary_flag\"].value_counts(normalize=True).index, \n",
    "    y=data[data[\"target\"] == 1][\"accountsalary_flag\"].value_counts(normalize=True).values\n",
    ");         \n",
    "plt.xlabel(\"Категория клиента\");\n",
    "plt.ylabel(\"Количество клиентов\");"
   ]
  },
  {
   "cell_type": "markdown",
   "id": "d7cabf80",
   "metadata": {},
   "source": [
    "Из графика четко видно, что целевая аудитория почти не имеет людей, которые не имеют зарплатного счета на отчетную дату, в отличие от нецелевой аудитории."
   ]
  },
  {
   "cell_type": "markdown",
   "id": "438fefd3",
   "metadata": {},
   "source": [
    "Проверим отрицательные значения в столбцах"
   ]
  },
  {
   "cell_type": "code",
   "execution_count": 107,
   "id": "d5f74c08",
   "metadata": {},
   "outputs": [],
   "source": [
    "cat_feature = [i for i in data.columns if data[i].dtypes == 'O']"
   ]
  },
  {
   "cell_type": "code",
   "execution_count": 108,
   "id": "ddd42a72",
   "metadata": {},
   "outputs": [],
   "source": [
    "data_num = data.drop(cat_feature, axis=1).copy()\n",
    "data_num = data_num.drop([\"cardapp_date\", \"dt\"], axis=1)"
   ]
  },
  {
   "cell_type": "code",
   "execution_count": 109,
   "id": "e6fb6ba9",
   "metadata": {
    "scrolled": true
   },
   "outputs": [
    {
     "name": "stdout",
     "output_type": "stream",
     "text": [
      "profit_income_out_rur_amt_6m - 33498 значений\n",
      "profit_income_out_rur_amt_3m - 38407 значений\n",
      "profit_income_out_rur_amt_12m - 28239 значений\n",
      "profit_income_out_rur_amt_9m - 30371 значений\n",
      "diff_save_cr_db_turn - 22420 значений\n",
      "diff_cur_cr_db_turn - 69386 значений\n",
      "hdb_other_active_min_psk - 11 значений\n",
      "hdb_other_active_mean_psk - 4 значений\n"
     ]
    }
   ],
   "source": [
    "for column in data_num.columns:\n",
    "    if data_num[data_num[column] < 0].shape[0] > 0:\n",
    "        print(f\"{column} - {data_num[data_num[column] < 0].shape[0]} значений\")"
   ]
  },
  {
   "cell_type": "markdown",
   "id": "563756be",
   "metadata": {},
   "source": [
    "Есть отрицательные значения в в столбцах, но важны 2 последних столбца - они связаны с ПСК(полная стоимость кредита), которая не может быть отрицательной, заменим эти значения на 0."
   ]
  },
  {
   "cell_type": "code",
   "execution_count": 110,
   "id": "e9b4cca4",
   "metadata": {},
   "outputs": [],
   "source": [
    "data[data[\"hdb_other_active_min_psk\"] < 0][\"hdb_other_active_min_psk\"] = 0\n",
    "data[data[\"hdb_other_active_mean_psk\"] < 0][\"hdb_other_active_mean_psk\"] = 0"
   ]
  },
  {
   "cell_type": "code",
   "execution_count": 111,
   "id": "6dcfd280",
   "metadata": {},
   "outputs": [
    {
     "data": {
      "text/html": [
       "<div>\n",
       "<style scoped>\n",
       "    .dataframe tbody tr th:only-of-type {\n",
       "        vertical-align: middle;\n",
       "    }\n",
       "\n",
       "    .dataframe tbody tr th {\n",
       "        vertical-align: top;\n",
       "    }\n",
       "\n",
       "    .dataframe thead th {\n",
       "        text-align: right;\n",
       "    }\n",
       "</style>\n",
       "<table border=\"1\" class=\"dataframe\">\n",
       "  <thead>\n",
       "    <tr style=\"text-align: right;\">\n",
       "      <th></th>\n",
       "      <th>client_id</th>\n",
       "      <th>dt</th>\n",
       "      <th>accountsalary_flag</th>\n",
       "      <th>country</th>\n",
       "      <th>profit_income_out_rur_amt_6m</th>\n",
       "      <th>clientoutflowstatus</th>\n",
       "      <th>curbal_usd_amt_cm_avg</th>\n",
       "      <th>stratsegfactor</th>\n",
       "      <th>srvpackage</th>\n",
       "      <th>clientsegment</th>\n",
       "      <th>...</th>\n",
       "      <th>transaction_category_hotels_sum_cnt_m2</th>\n",
       "      <th>transaction_category_sporting_goods_inc_amt_2m</th>\n",
       "      <th>transaction_category_airplane_tickets_percent_amt_2m</th>\n",
       "      <th>transaction_category_transport_percent_amt_2m</th>\n",
       "      <th>transaction_category_restaurants_percent_amt_2m</th>\n",
       "      <th>transaction_category_auto_services_percent_amt_2m</th>\n",
       "      <th>transaction_category_supermarket_sum_cnt_m2</th>\n",
       "      <th>transaction_category_auto_services_sum_cnt_m2</th>\n",
       "      <th>cardapp_date</th>\n",
       "      <th>target</th>\n",
       "    </tr>\n",
       "  </thead>\n",
       "  <tbody>\n",
       "    <tr>\n",
       "      <th>141248</th>\n",
       "      <td>df28966e04536d565032ed3f8f6ebd30d02a0c4d03af1e...</td>\n",
       "      <td>2021-02-28</td>\n",
       "      <td>1.0</td>\n",
       "      <td>RUS</td>\n",
       "      <td>57.666667</td>\n",
       "      <td>SLEEP</td>\n",
       "      <td>0.0</td>\n",
       "      <td>NaN</td>\n",
       "      <td>Корпоративный</td>\n",
       "      <td>MASS</td>\n",
       "      <td>...</td>\n",
       "      <td>NaN</td>\n",
       "      <td>NaN</td>\n",
       "      <td>NaN</td>\n",
       "      <td>NaN</td>\n",
       "      <td>NaN</td>\n",
       "      <td>NaN</td>\n",
       "      <td>NaN</td>\n",
       "      <td>NaN</td>\n",
       "      <td>2018-09-28</td>\n",
       "      <td>0.0</td>\n",
       "    </tr>\n",
       "    <tr>\n",
       "      <th>114142</th>\n",
       "      <td>aa730bee600b316de1af67295e76f3833eb9f60f6ea3d8...</td>\n",
       "      <td>2022-12-31</td>\n",
       "      <td>1.0</td>\n",
       "      <td>RUS</td>\n",
       "      <td>480.666667</td>\n",
       "      <td>ACTIVE</td>\n",
       "      <td>80.0</td>\n",
       "      <td>Остатки на счетах</td>\n",
       "      <td>Оптимум</td>\n",
       "      <td>MASS</td>\n",
       "      <td>...</td>\n",
       "      <td>NaN</td>\n",
       "      <td>NaN</td>\n",
       "      <td>NaN</td>\n",
       "      <td>NaN</td>\n",
       "      <td>0.000527</td>\n",
       "      <td>NaN</td>\n",
       "      <td>3.0</td>\n",
       "      <td>NaN</td>\n",
       "      <td>2017-10-09</td>\n",
       "      <td>0.0</td>\n",
       "    </tr>\n",
       "    <tr>\n",
       "      <th>104155</th>\n",
       "      <td>0ab48752502475e8024c28c89878b176b9b47ec353dc33...</td>\n",
       "      <td>2021-10-31</td>\n",
       "      <td>0.0</td>\n",
       "      <td>RUS</td>\n",
       "      <td>905.000000</td>\n",
       "      <td>SLEEP</td>\n",
       "      <td>0.0</td>\n",
       "      <td>NaN</td>\n",
       "      <td>Эконом</td>\n",
       "      <td>NaN</td>\n",
       "      <td>...</td>\n",
       "      <td>NaN</td>\n",
       "      <td>NaN</td>\n",
       "      <td>NaN</td>\n",
       "      <td>NaN</td>\n",
       "      <td>NaN</td>\n",
       "      <td>NaN</td>\n",
       "      <td>NaN</td>\n",
       "      <td>NaN</td>\n",
       "      <td>2021-11-11</td>\n",
       "      <td>0.0</td>\n",
       "    </tr>\n",
       "    <tr>\n",
       "      <th>145137</th>\n",
       "      <td>457636a6e1b51f8a337f75d60cc97051567f217237d59a...</td>\n",
       "      <td>2021-04-30</td>\n",
       "      <td>1.0</td>\n",
       "      <td>RUS</td>\n",
       "      <td>31326.000000</td>\n",
       "      <td>ACTIVE</td>\n",
       "      <td>12034.0</td>\n",
       "      <td>Пакет услуг</td>\n",
       "      <td>Максимум+</td>\n",
       "      <td>AFFLUENT</td>\n",
       "      <td>...</td>\n",
       "      <td>NaN</td>\n",
       "      <td>NaN</td>\n",
       "      <td>NaN</td>\n",
       "      <td>0.012921</td>\n",
       "      <td>0.002361</td>\n",
       "      <td>0.058925</td>\n",
       "      <td>93.0</td>\n",
       "      <td>3.0</td>\n",
       "      <td>2019-07-08</td>\n",
       "      <td>1.0</td>\n",
       "    </tr>\n",
       "    <tr>\n",
       "      <th>224016</th>\n",
       "      <td>61464201f04e6df86ebcbc901b0521c53f2b58b275ff59...</td>\n",
       "      <td>2022-08-31</td>\n",
       "      <td>1.0</td>\n",
       "      <td>RUS</td>\n",
       "      <td>661.666667</td>\n",
       "      <td>ACTIVE</td>\n",
       "      <td>31.0</td>\n",
       "      <td>Остатки на счетах</td>\n",
       "      <td>Технический</td>\n",
       "      <td>MASS</td>\n",
       "      <td>...</td>\n",
       "      <td>NaN</td>\n",
       "      <td>NaN</td>\n",
       "      <td>NaN</td>\n",
       "      <td>0.007539</td>\n",
       "      <td>NaN</td>\n",
       "      <td>NaN</td>\n",
       "      <td>NaN</td>\n",
       "      <td>NaN</td>\n",
       "      <td>2022-09-28</td>\n",
       "      <td>0.0</td>\n",
       "    </tr>\n",
       "  </tbody>\n",
       "</table>\n",
       "<p>5 rows × 295 columns</p>\n",
       "</div>"
      ],
      "text/plain": [
       "                                                client_id         dt  \\\n",
       "141248  df28966e04536d565032ed3f8f6ebd30d02a0c4d03af1e... 2021-02-28   \n",
       "114142  aa730bee600b316de1af67295e76f3833eb9f60f6ea3d8... 2022-12-31   \n",
       "104155  0ab48752502475e8024c28c89878b176b9b47ec353dc33... 2021-10-31   \n",
       "145137  457636a6e1b51f8a337f75d60cc97051567f217237d59a... 2021-04-30   \n",
       "224016  61464201f04e6df86ebcbc901b0521c53f2b58b275ff59... 2022-08-31   \n",
       "\n",
       "        accountsalary_flag country  profit_income_out_rur_amt_6m  \\\n",
       "141248                 1.0     RUS                     57.666667   \n",
       "114142                 1.0     RUS                    480.666667   \n",
       "104155                 0.0     RUS                    905.000000   \n",
       "145137                 1.0     RUS                  31326.000000   \n",
       "224016                 1.0     RUS                    661.666667   \n",
       "\n",
       "       clientoutflowstatus  curbal_usd_amt_cm_avg     stratsegfactor  \\\n",
       "141248               SLEEP                    0.0                NaN   \n",
       "114142              ACTIVE                   80.0  Остатки на счетах   \n",
       "104155               SLEEP                    0.0                NaN   \n",
       "145137              ACTIVE                12034.0        Пакет услуг   \n",
       "224016              ACTIVE                   31.0  Остатки на счетах   \n",
       "\n",
       "           srvpackage clientsegment  ...  \\\n",
       "141248  Корпоративный          MASS  ...   \n",
       "114142        Оптимум          MASS  ...   \n",
       "104155         Эконом           NaN  ...   \n",
       "145137      Максимум+      AFFLUENT  ...   \n",
       "224016    Технический          MASS  ...   \n",
       "\n",
       "        transaction_category_hotels_sum_cnt_m2  \\\n",
       "141248                                     NaN   \n",
       "114142                                     NaN   \n",
       "104155                                     NaN   \n",
       "145137                                     NaN   \n",
       "224016                                     NaN   \n",
       "\n",
       "       transaction_category_sporting_goods_inc_amt_2m  \\\n",
       "141248                                            NaN   \n",
       "114142                                            NaN   \n",
       "104155                                            NaN   \n",
       "145137                                            NaN   \n",
       "224016                                            NaN   \n",
       "\n",
       "       transaction_category_airplane_tickets_percent_amt_2m  \\\n",
       "141248                                                NaN     \n",
       "114142                                                NaN     \n",
       "104155                                                NaN     \n",
       "145137                                                NaN     \n",
       "224016                                                NaN     \n",
       "\n",
       "        transaction_category_transport_percent_amt_2m  \\\n",
       "141248                                            NaN   \n",
       "114142                                            NaN   \n",
       "104155                                            NaN   \n",
       "145137                                       0.012921   \n",
       "224016                                       0.007539   \n",
       "\n",
       "        transaction_category_restaurants_percent_amt_2m  \\\n",
       "141248                                              NaN   \n",
       "114142                                         0.000527   \n",
       "104155                                              NaN   \n",
       "145137                                         0.002361   \n",
       "224016                                              NaN   \n",
       "\n",
       "        transaction_category_auto_services_percent_amt_2m  \\\n",
       "141248                                                NaN   \n",
       "114142                                                NaN   \n",
       "104155                                                NaN   \n",
       "145137                                           0.058925   \n",
       "224016                                                NaN   \n",
       "\n",
       "        transaction_category_supermarket_sum_cnt_m2  \\\n",
       "141248                                          NaN   \n",
       "114142                                          3.0   \n",
       "104155                                          NaN   \n",
       "145137                                         93.0   \n",
       "224016                                          NaN   \n",
       "\n",
       "        transaction_category_auto_services_sum_cnt_m2  cardapp_date  target  \n",
       "141248                                            NaN    2018-09-28     0.0  \n",
       "114142                                            NaN    2017-10-09     0.0  \n",
       "104155                                            NaN    2021-11-11     0.0  \n",
       "145137                                            3.0    2019-07-08     1.0  \n",
       "224016                                            NaN    2022-09-28     0.0  \n",
       "\n",
       "[5 rows x 295 columns]"
      ]
     },
     "execution_count": 111,
     "metadata": {},
     "output_type": "execute_result"
    }
   ],
   "source": [
    "data.sample(5)"
   ]
  },
  {
   "cell_type": "markdown",
   "id": "208d9494",
   "metadata": {},
   "source": [
    "<h1 align=\"center\">Предсказание на отложенной выборке</h1><h1 align=\"center\"></h1>"
   ]
  },
  {
   "cell_type": "code",
   "execution_count": 150,
   "id": "79691487",
   "metadata": {},
   "outputs": [],
   "source": [
    "model = joblib.load(\"models/fin_lgb.pkl\")"
   ]
  },
  {
   "cell_type": "code",
   "execution_count": 151,
   "id": "925521e9",
   "metadata": {},
   "outputs": [],
   "source": [
    "valid = pd.read_csv(\"test_set/feat_cup_val_alfa.csv\")\n",
    "score_df = pd.read_csv(\"test_set/score_file.csv\")"
   ]
  },
  {
   "cell_type": "code",
   "execution_count": 152,
   "id": "cc02a86b",
   "metadata": {},
   "outputs": [],
   "source": [
    "valid_pre = valid.drop([\"client_id\", \"dt\", \"clientoutflowstatus\"], axis=1)"
   ]
  },
  {
   "cell_type": "code",
   "execution_count": 153,
   "id": "b14674ab",
   "metadata": {},
   "outputs": [
    {
     "name": "stderr",
     "output_type": "stream",
     "text": [
      "100%|██████████| 28919/28919 [00:00<00:00, 1111901.19it/s]\n",
      "100%|██████████| 28919/28919 [00:00<00:00, 1111901.19it/s]\n",
      "100%|██████████| 28919/28919 [00:00<00:00, 1156314.49it/s]\n"
     ]
    }
   ],
   "source": [
    "valid_pre[\"srvpackage\"] = valid_pre[\"srvpackage\"].progress_apply(\n",
    "    lambda x: \"Другое \" if x in package_other else x\n",
    ")\n",
    "valid_pre[\"country\"] = valid_pre[\"country\"].progress_apply(\n",
    "    lambda x: \"OTHER \" if x not in country_other else x\n",
    ")\n",
    "valid_pre[\"addrref\"] = valid_pre[\"addrref\"].progress_apply(\n",
    "    lambda x: \"OTH \" if x in ref_other else x\n",
    ")"
   ]
  },
  {
   "cell_type": "code",
   "execution_count": 154,
   "id": "355f2b38",
   "metadata": {},
   "outputs": [],
   "source": [
    "cat_col = [i for i in valid_pre.columns if valid_pre[i].dtypes == 'O']"
   ]
  },
  {
   "cell_type": "code",
   "execution_count": 155,
   "id": "5ebce349",
   "metadata": {},
   "outputs": [
    {
     "data": {
      "text/plain": [
       "0"
      ]
     },
     "execution_count": 155,
     "metadata": {},
     "output_type": "execute_result"
    }
   ],
   "source": [
    "for col in cat_col:\n",
    "    valid_pre[col].fillna(valid_pre[col].mode()[0], inplace=True)\n",
    "    \n",
    "valid_pre[cat_col].isna().sum().sum()"
   ]
  },
  {
   "cell_type": "code",
   "execution_count": 156,
   "id": "48fa5491",
   "metadata": {},
   "outputs": [],
   "source": [
    "valid_pre = pd.get_dummies(data=valid_pre, columns=cat_col, drop_first=True, dtype=np.uint8)\n",
    "valid_pre = valid_pre.fillna(0)"
   ]
  },
  {
   "cell_type": "code",
   "execution_count": 157,
   "id": "36df158f",
   "metadata": {},
   "outputs": [
    {
     "data": {
      "text/plain": [
       "(28919, 354)"
      ]
     },
     "execution_count": 157,
     "metadata": {},
     "output_type": "execute_result"
    }
   ],
   "source": [
    "valid_pre.shape"
   ]
  },
  {
   "cell_type": "code",
   "execution_count": 164,
   "id": "1412da19",
   "metadata": {},
   "outputs": [],
   "source": [
    "predict = model.predict_proba(valid_pre)[:, 1]"
   ]
  },
  {
   "cell_type": "code",
   "execution_count": 170,
   "id": "ee2422c8",
   "metadata": {},
   "outputs": [],
   "source": [
    "score_df[\"score\"] = predict"
   ]
  },
  {
   "cell_type": "code",
   "execution_count": 172,
   "id": "e51805ee",
   "metadata": {},
   "outputs": [],
   "source": [
    "score_df.to_csv(\"predict.csv\", index=False)"
   ]
  },
  {
   "cell_type": "markdown",
   "id": "696c2f0a",
   "metadata": {},
   "source": []
  }
 ],
 "metadata": {
  "kernelspec": {
   "display_name": "Python 3 (ipykernel)",
   "language": "python",
   "name": "python3"
  },
  "language_info": {
   "codemirror_mode": {
    "name": "ipython",
    "version": 3
   },
   "file_extension": ".py",
   "mimetype": "text/x-python",
   "name": "python",
   "nbconvert_exporter": "python",
   "pygments_lexer": "ipython3",
   "version": "3.9.13"
  },
  "varInspector": {
   "cols": {
    "lenName": 16,
    "lenType": 16,
    "lenVar": 40
   },
   "kernels_config": {
    "python": {
     "delete_cmd_postfix": "",
     "delete_cmd_prefix": "del ",
     "library": "var_list.py",
     "varRefreshCmd": "print(var_dic_list())"
    },
    "r": {
     "delete_cmd_postfix": ") ",
     "delete_cmd_prefix": "rm(",
     "library": "var_list.r",
     "varRefreshCmd": "cat(var_dic_list()) "
    }
   },
   "types_to_exclude": [
    "module",
    "function",
    "builtin_function_or_method",
    "instance",
    "_Feature"
   ],
   "window_display": false
  }
 },
 "nbformat": 4,
 "nbformat_minor": 5
}
